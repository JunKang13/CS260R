{
 "cells": [
  {
   "cell_type": "markdown",
   "id": "455f8adf",
   "metadata": {
    "id": "455f8adf"
   },
   "source": [
    "# Assignment 2: Deep Q Learning and Policy Gradient\n",
    "\n",
    "-----\n",
    "\n",
    "*CS260R 2023Fall: Reinforcement Learning. Department of Computer Science at University of California, Los Angeles.\n",
    "Course Instructor: Professor Bolei ZHOU. Assignment author: Zhenghao PENG, Yiran WANG.*\n",
    "\n",
    "\n"
   ]
  },
  {
   "cell_type": "markdown",
   "id": "5ecc5685",
   "metadata": {
    "id": "5ecc5685"
   },
   "source": [
    "| Student Name | Student ID |\n",
    "| :----: | :----: |\n",
    "| Jun Kang | 406182577 |\n",
    "\n",
    "------"
   ]
  },
  {
   "cell_type": "markdown",
   "id": "b55e080e",
   "metadata": {
    "id": "b55e080e"
   },
   "source": [
    "Welecome to the assignment 2 of our RL course. This assignment consisits of three parts:\n",
    "\n",
    "* Section 2: Implement Q learning in tabular setting (20 points)\n",
    "* Section 3: Implement Deep Q Network with pytorch (30 points)\n",
    "* Section 4: Implement policy gradient method REINFORCE with pytorch (30 points)\n",
    "* Section 5: Implement policy gradient method with baseline (20 points) (+20 points bonus)\n",
    "\n",
    "Section 0 and Section 1 set up the dependencies and prepare some useful functions.\n",
    "\n",
    "The experiments we'll conduct and their expected goals:\n",
    "\n",
    "1. Naive Q learning in FrozenLake &emsp; (should solve)\n",
    "2. DQN in CartPole &emsp; (should solve)\n",
    "3. DQN in MetaDrive-Easy &emsp; (should solve)\n",
    "4. Policy Gradient w/o baseline in CartPole (w/ and w/o advantage normalization) &emsp; (should solve)\n",
    "5. Policy Gradient w/o baseline in MetaDrive-Easy &emsp; (should solve)\n",
    "6. Policy Gradient w/ baseline in CartPole (w/ advantage normalization) &emsp; (should solve)\n",
    "7. Policy Gradient w/ baseline in MetaDrive-Easy &emsp; (should solve)\n",
    "8. Policy Gradient w/ baseline in MetaDrive-Hard &emsp; (>20 return) (Optional, +20 points bonus can be earned)"
   ]
  },
  {
   "cell_type": "markdown",
   "id": "afe0171e",
   "metadata": {},
   "source": [
    "> NOTE: MetaDrive does not support python=3.12. If you are in python=3.12, we suggest to recreate a new conda environment:\n",
    "\n",
    "```bash\n",
    "conda env remove -n cs260r\n",
    "conda create -n cs260r python=3.11 -y\n",
    "pip install notebook  # Install jupyter notebook\n",
    "jupyter notebook  # Run jupyter notebook\n",
    "```\n"
   ]
  },
  {
   "cell_type": "markdown",
   "id": "3feea3d2",
   "metadata": {
    "id": "3feea3d2"
   },
   "source": [
    "## Section 0: Dependencies\n",
    "\n",
    "Please install the following dependencies.\n",
    "\n",
    "\n",
    "### Notes on MetaDrive\n",
    "\n",
    "MetaDrive is a lightweight driving simulator which we will use for DQN and Policy Gradient methods. It can not be run on M1-chip Mac. We suggest using Colab or Linux for running MetaDrive.\n",
    "\n",
    "Please ignore this warning from MetaDrive: `WARNING:root:BaseEngine is not launched, fail to sync seed to engine!`\n",
    "\n",
    "### Notes on Colab\n",
    "\n",
    "We have several cells used for installing dependencies for Colab only. Please make sure they are run properly.\n",
    "\n",
    "You don't need to install python packages again and again after **restarting the runtime**, since the Colab instance still remembers the python envionment after you installing packages for the first time. But you do need to rerun those packages installation script after you **reconnecting to the runtime** (which means Google assigns a new machine to you and thus the python environment is new)."
   ]
  },
  {
   "cell_type": "code",
   "execution_count": 1,
   "id": "9b170cda",
   "metadata": {},
   "outputs": [],
   "source": [
    "RUNNING_IN_COLAB = 'google.colab' in str(get_ipython())  # Detect if it is running in Colab"
   ]
  },
  {
   "cell_type": "code",
   "execution_count": 2,
   "id": "9098b4a3-1f4e-4ffd-b6cb-dbec4ede65f4",
   "metadata": {
    "scrolled": true
   },
   "outputs": [
    {
     "name": "stdout",
     "output_type": "stream",
     "text": [
      "Looking in indexes: http://mirrors.aliyun.com/pypi/simple/\n",
      "Requirement already satisfied: pip in c:\\users\\18646\\anaconda3\\envs\\cs260r1\\lib\\site-packages (23.3.1)\n",
      "Looking in indexes: http://mirrors.aliyun.com/pypi/simple/\n",
      "Requirement already satisfied: numpy in c:\\users\\18646\\anaconda3\\envs\\cs260r1\\lib\\site-packages (1.24.2)\n",
      "Requirement already satisfied: scipy in c:\\users\\18646\\anaconda3\\envs\\cs260r1\\lib\\site-packages (1.10.1)\n",
      "Requirement already satisfied: gymnasium<0.29 in c:\\users\\18646\\anaconda3\\envs\\cs260r1\\lib\\site-packages (0.28.1)\n",
      "Requirement already satisfied: jax-jumpy>=1.0.0 in c:\\users\\18646\\anaconda3\\envs\\cs260r1\\lib\\site-packages (from gymnasium<0.29) (1.0.0)\n",
      "Requirement already satisfied: cloudpickle>=1.2.0 in c:\\users\\18646\\anaconda3\\envs\\cs260r1\\lib\\site-packages (from gymnasium<0.29) (2.2.1)\n",
      "Requirement already satisfied: typing-extensions>=4.3.0 in c:\\users\\18646\\anaconda3\\envs\\cs260r1\\lib\\site-packages (from gymnasium<0.29) (4.7.1)\n",
      "Requirement already satisfied: farama-notifications>=0.0.1 in c:\\users\\18646\\anaconda3\\envs\\cs260r1\\lib\\site-packages (from gymnasium<0.29) (0.0.4)\n",
      "Requirement already satisfied: importlib-metadata>=4.8.0 in c:\\users\\18646\\anaconda3\\envs\\cs260r1\\lib\\site-packages (from gymnasium<0.29) (6.8.0)\n",
      "Requirement already satisfied: zipp>=0.5 in c:\\users\\18646\\anaconda3\\envs\\cs260r1\\lib\\site-packages (from importlib-metadata>=4.8.0->gymnasium<0.29) (3.11.0)\n",
      "Looking in indexes: http://mirrors.aliyun.com/pypi/simple/\n",
      "Requirement already satisfied: torch in c:\\users\\18646\\anaconda3\\envs\\cs260r1\\lib\\site-packages (2.1.0)\n",
      "Requirement already satisfied: torchvision in c:\\users\\18646\\anaconda3\\envs\\cs260r1\\lib\\site-packages (0.16.0)\n",
      "Requirement already satisfied: filelock in c:\\users\\18646\\anaconda3\\envs\\cs260r1\\lib\\site-packages (from torch) (3.9.0)\n",
      "Requirement already satisfied: typing-extensions in c:\\users\\18646\\anaconda3\\envs\\cs260r1\\lib\\site-packages (from torch) (4.7.1)\n",
      "Requirement already satisfied: sympy in c:\\users\\18646\\anaconda3\\envs\\cs260r1\\lib\\site-packages (from torch) (1.11.1)\n",
      "Requirement already satisfied: networkx in c:\\users\\18646\\anaconda3\\envs\\cs260r1\\lib\\site-packages (from torch) (3.1)\n",
      "Requirement already satisfied: jinja2 in c:\\users\\18646\\anaconda3\\envs\\cs260r1\\lib\\site-packages (from torch) (3.1.2)\n",
      "Requirement already satisfied: fsspec in c:\\users\\18646\\anaconda3\\envs\\cs260r1\\lib\\site-packages (from torch) (2023.9.2)\n",
      "Requirement already satisfied: numpy in c:\\users\\18646\\anaconda3\\envs\\cs260r1\\lib\\site-packages (from torchvision) (1.24.2)\n",
      "Requirement already satisfied: requests in c:\\users\\18646\\anaconda3\\envs\\cs260r1\\lib\\site-packages (from torchvision) (2.31.0)\n",
      "Requirement already satisfied: pillow!=8.3.*,>=5.3.0 in c:\\users\\18646\\anaconda3\\envs\\cs260r1\\lib\\site-packages (from torchvision) (10.0.1)\n",
      "Requirement already satisfied: MarkupSafe>=2.0 in c:\\users\\18646\\anaconda3\\envs\\cs260r1\\lib\\site-packages (from jinja2->torch) (2.1.1)\n",
      "Requirement already satisfied: charset-normalizer<4,>=2 in c:\\users\\18646\\anaconda3\\envs\\cs260r1\\lib\\site-packages (from requests->torchvision) (2.0.4)\n",
      "Requirement already satisfied: idna<4,>=2.5 in c:\\users\\18646\\anaconda3\\envs\\cs260r1\\lib\\site-packages (from requests->torchvision) (3.4)\n",
      "Requirement already satisfied: urllib3<3,>=1.21.1 in c:\\users\\18646\\anaconda3\\envs\\cs260r1\\lib\\site-packages (from requests->torchvision) (1.26.16)\n",
      "Requirement already satisfied: certifi>=2017.4.17 in c:\\users\\18646\\anaconda3\\envs\\cs260r1\\lib\\site-packages (from requests->torchvision) (2023.7.22)\n",
      "Requirement already satisfied: mpmath>=0.19 in c:\\users\\18646\\anaconda3\\envs\\cs260r1\\lib\\site-packages (from sympy->torch) (1.3.0)\n",
      "Looking in indexes: http://mirrors.aliyun.com/pypi/simple/\n",
      "Requirement already satisfied: mediapy in c:\\users\\18646\\anaconda3\\envs\\cs260r1\\lib\\site-packages (1.1.9)\n",
      "Requirement already satisfied: ipython in c:\\users\\18646\\anaconda3\\envs\\cs260r1\\lib\\site-packages (from mediapy) (8.12.2)\n",
      "Requirement already satisfied: matplotlib in c:\\users\\18646\\anaconda3\\envs\\cs260r1\\lib\\site-packages (from mediapy) (3.7.3)\n",
      "Requirement already satisfied: numpy in c:\\users\\18646\\anaconda3\\envs\\cs260r1\\lib\\site-packages (from mediapy) (1.24.2)\n",
      "Requirement already satisfied: Pillow in c:\\users\\18646\\anaconda3\\envs\\cs260r1\\lib\\site-packages (from mediapy) (10.0.1)\n",
      "Requirement already satisfied: backcall in c:\\users\\18646\\anaconda3\\envs\\cs260r1\\lib\\site-packages (from ipython->mediapy) (0.2.0)\n",
      "Requirement already satisfied: decorator in c:\\users\\18646\\anaconda3\\envs\\cs260r1\\lib\\site-packages (from ipython->mediapy) (4.4.2)\n",
      "Requirement already satisfied: jedi>=0.16 in c:\\users\\18646\\anaconda3\\envs\\cs260r1\\lib\\site-packages (from ipython->mediapy) (0.18.1)\n",
      "Requirement already satisfied: matplotlib-inline in c:\\users\\18646\\anaconda3\\envs\\cs260r1\\lib\\site-packages (from ipython->mediapy) (0.1.6)\n",
      "Requirement already satisfied: pickleshare in c:\\users\\18646\\anaconda3\\envs\\cs260r1\\lib\\site-packages (from ipython->mediapy) (0.7.5)\n",
      "Requirement already satisfied: prompt-toolkit!=3.0.37,<3.1.0,>=3.0.30 in c:\\users\\18646\\anaconda3\\envs\\cs260r1\\lib\\site-packages (from ipython->mediapy) (3.0.36)\n",
      "Requirement already satisfied: pygments>=2.4.0 in c:\\users\\18646\\anaconda3\\envs\\cs260r1\\lib\\site-packages (from ipython->mediapy) (2.15.1)\n",
      "Requirement already satisfied: stack-data in c:\\users\\18646\\anaconda3\\envs\\cs260r1\\lib\\site-packages (from ipython->mediapy) (0.2.0)\n",
      "Requirement already satisfied: traitlets>=5 in c:\\users\\18646\\anaconda3\\envs\\cs260r1\\lib\\site-packages (from ipython->mediapy) (5.11.2)\n",
      "Requirement already satisfied: typing-extensions in c:\\users\\18646\\anaconda3\\envs\\cs260r1\\lib\\site-packages (from ipython->mediapy) (4.7.1)\n",
      "Requirement already satisfied: colorama in c:\\users\\18646\\anaconda3\\envs\\cs260r1\\lib\\site-packages (from ipython->mediapy) (0.4.6)\n",
      "Requirement already satisfied: contourpy>=1.0.1 in c:\\users\\18646\\anaconda3\\envs\\cs260r1\\lib\\site-packages (from matplotlib->mediapy) (1.1.1)\n",
      "Requirement already satisfied: cycler>=0.10 in c:\\users\\18646\\anaconda3\\envs\\cs260r1\\lib\\site-packages (from matplotlib->mediapy) (0.12.1)\n",
      "Requirement already satisfied: fonttools>=4.22.0 in c:\\users\\18646\\anaconda3\\envs\\cs260r1\\lib\\site-packages (from matplotlib->mediapy) (4.43.1)\n",
      "Requirement already satisfied: kiwisolver>=1.0.1 in c:\\users\\18646\\anaconda3\\envs\\cs260r1\\lib\\site-packages (from matplotlib->mediapy) (1.4.5)\n",
      "Requirement already satisfied: packaging>=20.0 in c:\\users\\18646\\anaconda3\\envs\\cs260r1\\lib\\site-packages (from matplotlib->mediapy) (23.1)\n",
      "Requirement already satisfied: pyparsing>=2.3.1 in c:\\users\\18646\\anaconda3\\envs\\cs260r1\\lib\\site-packages (from matplotlib->mediapy) (3.1.1)\n",
      "Requirement already satisfied: python-dateutil>=2.7 in c:\\users\\18646\\anaconda3\\envs\\cs260r1\\lib\\site-packages (from matplotlib->mediapy) (2.8.2)\n",
      "Requirement already satisfied: importlib-resources>=3.2.0 in c:\\users\\18646\\anaconda3\\envs\\cs260r1\\lib\\site-packages (from matplotlib->mediapy) (5.2.0)\n",
      "Requirement already satisfied: zipp>=3.1.0 in c:\\users\\18646\\anaconda3\\envs\\cs260r1\\lib\\site-packages (from importlib-resources>=3.2.0->matplotlib->mediapy) (3.11.0)\n",
      "Requirement already satisfied: parso<0.9.0,>=0.8.0 in c:\\users\\18646\\anaconda3\\envs\\cs260r1\\lib\\site-packages (from jedi>=0.16->ipython->mediapy) (0.8.3)\n",
      "Requirement already satisfied: wcwidth in c:\\users\\18646\\anaconda3\\envs\\cs260r1\\lib\\site-packages (from prompt-toolkit!=3.0.37,<3.1.0,>=3.0.30->ipython->mediapy) (0.2.5)\n",
      "Requirement already satisfied: six>=1.5 in c:\\users\\18646\\anaconda3\\envs\\cs260r1\\lib\\site-packages (from python-dateutil>=2.7->matplotlib->mediapy) (1.16.0)\n",
      "Requirement already satisfied: executing in c:\\users\\18646\\anaconda3\\envs\\cs260r1\\lib\\site-packages (from stack-data->ipython->mediapy) (0.8.3)\n",
      "Requirement already satisfied: asttokens in c:\\users\\18646\\anaconda3\\envs\\cs260r1\\lib\\site-packages (from stack-data->ipython->mediapy) (2.0.5)\n",
      "Requirement already satisfied: pure-eval in c:\\users\\18646\\anaconda3\\envs\\cs260r1\\lib\\site-packages (from stack-data->ipython->mediapy) (0.2.2)\n"
     ]
    }
   ],
   "source": [
    "# Similar to AS1\n",
    "\n",
    "!pip install -U pip\n",
    "!pip install numpy scipy \"gymnasium<0.29\"\n",
    "!pip install torch torchvision\n",
    "!pip install mediapy"
   ]
  },
  {
   "cell_type": "code",
   "execution_count": 3,
   "id": "5b05b5d4",
   "metadata": {
    "colab": {
     "base_uri": "https://localhost:8080/"
    },
    "id": "5b05b5d4",
    "outputId": "07c15710-629c-419b-e3b0-1330420bfea8",
    "scrolled": true
   },
   "outputs": [
    {
     "name": "stdout",
     "output_type": "stream",
     "text": [
      "Looking in indexes: http://mirrors.aliyun.com/pypi/simple/\n",
      "Collecting git+https://github.com/metadriverse/metadrive\n",
      "  Cloning https://github.com/metadriverse/metadrive to c:\\users\\18646\\appdata\\local\\temp\\pip-req-build-o12hpl7i\n",
      "  Resolved https://github.com/metadriverse/metadrive to commit 41f60f9b7a053b9d4f4686e53a2cf88a57aad77a\n",
      "  Preparing metadata (setup.py): started\n",
      "  Preparing metadata (setup.py): finished with status 'done'\n",
      "Requirement already satisfied: requests in c:\\users\\18646\\anaconda3\\envs\\cs260r1\\lib\\site-packages (from metadrive-simulator==0.4.1.2) (2.31.0)\n",
      "Requirement already satisfied: gymnasium<0.29,>=0.28 in c:\\users\\18646\\anaconda3\\envs\\cs260r1\\lib\\site-packages (from metadrive-simulator==0.4.1.2) (0.28.1)\n",
      "Requirement already satisfied: numpy<=1.24.2,>=1.21.6 in c:\\users\\18646\\anaconda3\\envs\\cs260r1\\lib\\site-packages (from metadrive-simulator==0.4.1.2) (1.24.2)\n",
      "Requirement already satisfied: matplotlib in c:\\users\\18646\\anaconda3\\envs\\cs260r1\\lib\\site-packages (from metadrive-simulator==0.4.1.2) (3.7.3)\n",
      "Requirement already satisfied: pandas in c:\\users\\18646\\anaconda3\\envs\\cs260r1\\lib\\site-packages (from metadrive-simulator==0.4.1.2) (2.0.3)\n",
      "Requirement already satisfied: pygame in c:\\users\\18646\\anaconda3\\envs\\cs260r1\\lib\\site-packages (from metadrive-simulator==0.4.1.2) (2.5.2)\n",
      "Requirement already satisfied: tqdm in c:\\users\\18646\\anaconda3\\envs\\cs260r1\\lib\\site-packages (from metadrive-simulator==0.4.1.2) (4.66.1)\n",
      "Requirement already satisfied: yapf in c:\\users\\18646\\anaconda3\\envs\\cs260r1\\lib\\site-packages (from metadrive-simulator==0.4.1.2) (0.40.2)\n",
      "Requirement already satisfied: seaborn in c:\\users\\18646\\anaconda3\\envs\\cs260r1\\lib\\site-packages (from metadrive-simulator==0.4.1.2) (0.13.0)\n",
      "Requirement already satisfied: progressbar in c:\\users\\18646\\anaconda3\\envs\\cs260r1\\lib\\site-packages (from metadrive-simulator==0.4.1.2) (2.5)\n",
      "Requirement already satisfied: panda3d==1.10.13 in c:\\users\\18646\\anaconda3\\envs\\cs260r1\\lib\\site-packages (from metadrive-simulator==0.4.1.2) (1.10.13)\n",
      "Requirement already satisfied: panda3d-gltf==0.13 in c:\\users\\18646\\anaconda3\\envs\\cs260r1\\lib\\site-packages (from metadrive-simulator==0.4.1.2) (0.13)\n",
      "Requirement already satisfied: panda3d-simplepbr in c:\\users\\18646\\anaconda3\\envs\\cs260r1\\lib\\site-packages (from metadrive-simulator==0.4.1.2) (0.10)\n",
      "Requirement already satisfied: pillow in c:\\users\\18646\\anaconda3\\envs\\cs260r1\\lib\\site-packages (from metadrive-simulator==0.4.1.2) (10.0.1)\n",
      "Requirement already satisfied: pytest in c:\\users\\18646\\anaconda3\\envs\\cs260r1\\lib\\site-packages (from metadrive-simulator==0.4.1.2) (7.0.1)\n",
      "Requirement already satisfied: opencv-python in c:\\users\\18646\\anaconda3\\envs\\cs260r1\\lib\\site-packages (from metadrive-simulator==0.4.1.2) (4.8.1.78)\n",
      "Requirement already satisfied: lxml in c:\\users\\18646\\anaconda3\\envs\\cs260r1\\lib\\site-packages (from metadrive-simulator==0.4.1.2) (4.9.3)\n",
      "Requirement already satisfied: scipy in c:\\users\\18646\\anaconda3\\envs\\cs260r1\\lib\\site-packages (from metadrive-simulator==0.4.1.2) (1.10.1)\n",
      "Requirement already satisfied: psutil in c:\\users\\18646\\anaconda3\\envs\\cs260r1\\lib\\site-packages (from metadrive-simulator==0.4.1.2) (5.9.0)\n",
      "Requirement already satisfied: geopandas in c:\\users\\18646\\anaconda3\\envs\\cs260r1\\lib\\site-packages (from metadrive-simulator==0.4.1.2) (0.13.2)\n",
      "Requirement already satisfied: shapely in c:\\users\\18646\\anaconda3\\envs\\cs260r1\\lib\\site-packages (from metadrive-simulator==0.4.1.2) (2.0.2)\n",
      "Requirement already satisfied: filelock in c:\\users\\18646\\anaconda3\\envs\\cs260r1\\lib\\site-packages (from metadrive-simulator==0.4.1.2) (3.9.0)\n",
      "Requirement already satisfied: jax-jumpy>=1.0.0 in c:\\users\\18646\\anaconda3\\envs\\cs260r1\\lib\\site-packages (from gymnasium<0.29,>=0.28->metadrive-simulator==0.4.1.2) (1.0.0)\n",
      "Requirement already satisfied: cloudpickle>=1.2.0 in c:\\users\\18646\\anaconda3\\envs\\cs260r1\\lib\\site-packages (from gymnasium<0.29,>=0.28->metadrive-simulator==0.4.1.2) (2.2.1)\n",
      "Requirement already satisfied: typing-extensions>=4.3.0 in c:\\users\\18646\\anaconda3\\envs\\cs260r1\\lib\\site-packages (from gymnasium<0.29,>=0.28->metadrive-simulator==0.4.1.2) (4.7.1)\n",
      "Requirement already satisfied: farama-notifications>=0.0.1 in c:\\users\\18646\\anaconda3\\envs\\cs260r1\\lib\\site-packages (from gymnasium<0.29,>=0.28->metadrive-simulator==0.4.1.2) (0.0.4)\n",
      "Requirement already satisfied: importlib-metadata>=4.8.0 in c:\\users\\18646\\anaconda3\\envs\\cs260r1\\lib\\site-packages (from gymnasium<0.29,>=0.28->metadrive-simulator==0.4.1.2) (6.8.0)\n",
      "Requirement already satisfied: fiona>=1.8.19 in c:\\users\\18646\\anaconda3\\envs\\cs260r1\\lib\\site-packages (from geopandas->metadrive-simulator==0.4.1.2) (1.9.5)\n",
      "Requirement already satisfied: packaging in c:\\users\\18646\\anaconda3\\envs\\cs260r1\\lib\\site-packages (from geopandas->metadrive-simulator==0.4.1.2) (23.1)\n",
      "Requirement already satisfied: pyproj>=3.0.1 in c:\\users\\18646\\anaconda3\\envs\\cs260r1\\lib\\site-packages (from geopandas->metadrive-simulator==0.4.1.2) (3.5.0)\n",
      "Requirement already satisfied: python-dateutil>=2.8.2 in c:\\users\\18646\\anaconda3\\envs\\cs260r1\\lib\\site-packages (from pandas->metadrive-simulator==0.4.1.2) (2.8.2)\n",
      "Requirement already satisfied: pytz>=2020.1 in c:\\users\\18646\\anaconda3\\envs\\cs260r1\\lib\\site-packages (from pandas->metadrive-simulator==0.4.1.2) (2023.3.post1)\n",
      "Requirement already satisfied: tzdata>=2022.1 in c:\\users\\18646\\anaconda3\\envs\\cs260r1\\lib\\site-packages (from pandas->metadrive-simulator==0.4.1.2) (2023.3)\n",
      "Requirement already satisfied: contourpy>=1.0.1 in c:\\users\\18646\\anaconda3\\envs\\cs260r1\\lib\\site-packages (from matplotlib->metadrive-simulator==0.4.1.2) (1.1.1)\n",
      "Requirement already satisfied: cycler>=0.10 in c:\\users\\18646\\anaconda3\\envs\\cs260r1\\lib\\site-packages (from matplotlib->metadrive-simulator==0.4.1.2) (0.12.1)\n",
      "Requirement already satisfied: fonttools>=4.22.0 in c:\\users\\18646\\anaconda3\\envs\\cs260r1\\lib\\site-packages (from matplotlib->metadrive-simulator==0.4.1.2) (4.43.1)\n",
      "Requirement already satisfied: kiwisolver>=1.0.1 in c:\\users\\18646\\anaconda3\\envs\\cs260r1\\lib\\site-packages (from matplotlib->metadrive-simulator==0.4.1.2) (1.4.5)\n",
      "Requirement already satisfied: pyparsing>=2.3.1 in c:\\users\\18646\\anaconda3\\envs\\cs260r1\\lib\\site-packages (from matplotlib->metadrive-simulator==0.4.1.2) (3.1.1)\n",
      "Requirement already satisfied: importlib-resources>=3.2.0 in c:\\users\\18646\\anaconda3\\envs\\cs260r1\\lib\\site-packages (from matplotlib->metadrive-simulator==0.4.1.2) (5.2.0)\n",
      "Requirement already satisfied: attrs>=19.2.0 in c:\\users\\18646\\anaconda3\\envs\\cs260r1\\lib\\site-packages (from pytest->metadrive-simulator==0.4.1.2) (23.1.0)\n",
      "Requirement already satisfied: iniconfig in c:\\users\\18646\\anaconda3\\envs\\cs260r1\\lib\\site-packages (from pytest->metadrive-simulator==0.4.1.2) (2.0.0)\n",
      "Requirement already satisfied: pluggy<2.0,>=0.12 in c:\\users\\18646\\anaconda3\\envs\\cs260r1\\lib\\site-packages (from pytest->metadrive-simulator==0.4.1.2) (1.3.0)\n",
      "Requirement already satisfied: py>=1.8.2 in c:\\users\\18646\\anaconda3\\envs\\cs260r1\\lib\\site-packages (from pytest->metadrive-simulator==0.4.1.2) (1.11.0)\n",
      "Requirement already satisfied: tomli>=1.0.0 in c:\\users\\18646\\anaconda3\\envs\\cs260r1\\lib\\site-packages (from pytest->metadrive-simulator==0.4.1.2) (2.0.1)\n",
      "Requirement already satisfied: atomicwrites>=1.0 in c:\\users\\18646\\anaconda3\\envs\\cs260r1\\lib\\site-packages (from pytest->metadrive-simulator==0.4.1.2) (1.4.1)\n",
      "Requirement already satisfied: colorama in c:\\users\\18646\\anaconda3\\envs\\cs260r1\\lib\\site-packages (from pytest->metadrive-simulator==0.4.1.2) (0.4.6)\n",
      "Requirement already satisfied: charset-normalizer<4,>=2 in c:\\users\\18646\\anaconda3\\envs\\cs260r1\\lib\\site-packages (from requests->metadrive-simulator==0.4.1.2) (2.0.4)\n",
      "Requirement already satisfied: idna<4,>=2.5 in c:\\users\\18646\\anaconda3\\envs\\cs260r1\\lib\\site-packages (from requests->metadrive-simulator==0.4.1.2) (3.4)\n",
      "Requirement already satisfied: urllib3<3,>=1.21.1 in c:\\users\\18646\\anaconda3\\envs\\cs260r1\\lib\\site-packages (from requests->metadrive-simulator==0.4.1.2) (1.26.16)\n",
      "Requirement already satisfied: certifi>=2017.4.17 in c:\\users\\18646\\anaconda3\\envs\\cs260r1\\lib\\site-packages (from requests->metadrive-simulator==0.4.1.2) (2023.7.22)\n",
      "Requirement already satisfied: platformdirs>=3.5.1 in c:\\users\\18646\\anaconda3\\envs\\cs260r1\\lib\\site-packages (from yapf->metadrive-simulator==0.4.1.2) (3.10.0)\n",
      "Requirement already satisfied: click~=8.0 in c:\\users\\18646\\anaconda3\\envs\\cs260r1\\lib\\site-packages (from fiona>=1.8.19->geopandas->metadrive-simulator==0.4.1.2) (8.1.7)\n",
      "Requirement already satisfied: click-plugins>=1.0 in c:\\users\\18646\\anaconda3\\envs\\cs260r1\\lib\\site-packages (from fiona>=1.8.19->geopandas->metadrive-simulator==0.4.1.2) (1.1.1)\n",
      "Requirement already satisfied: cligj>=0.5 in c:\\users\\18646\\anaconda3\\envs\\cs260r1\\lib\\site-packages (from fiona>=1.8.19->geopandas->metadrive-simulator==0.4.1.2) (0.7.2)\n",
      "Requirement already satisfied: six in c:\\users\\18646\\anaconda3\\envs\\cs260r1\\lib\\site-packages (from fiona>=1.8.19->geopandas->metadrive-simulator==0.4.1.2) (1.16.0)\n",
      "Requirement already satisfied: setuptools in c:\\users\\18646\\anaconda3\\envs\\cs260r1\\lib\\site-packages (from fiona>=1.8.19->geopandas->metadrive-simulator==0.4.1.2) (68.0.0)\n",
      "Requirement already satisfied: zipp>=0.5 in c:\\users\\18646\\anaconda3\\envs\\cs260r1\\lib\\site-packages (from importlib-metadata>=4.8.0->gymnasium<0.29,>=0.28->metadrive-simulator==0.4.1.2) (3.11.0)\n"
     ]
    },
    {
     "name": "stderr",
     "output_type": "stream",
     "text": [
      "  Running command git clone --filter=blob:none --quiet https://github.com/metadriverse/metadrive 'C:\\Users\\18646\\AppData\\Local\\Temp\\pip-req-build-o12hpl7i'\n"
     ]
    }
   ],
   "source": [
    "# Install MetaDrive, a lightweight driving simulator\n",
    "\n",
    "import sys\n",
    "\n",
    "if sys.version_info.minor >= 12:\n",
    "    raise ValueError(\"MetaDrive only supports python<3.12.0.\")\n",
    "\n",
    "!pip install \"git+https://github.com/metadriverse/metadrive\""
   ]
  },
  {
   "cell_type": "code",
   "execution_count": 4,
   "id": "IlCJY9seS7RB",
   "metadata": {
    "colab": {
     "base_uri": "https://localhost:8080/"
    },
    "id": "IlCJY9seS7RB",
    "outputId": "3504c227-56ea-4db5-8abe-cea176aefcc2",
    "scrolled": true
   },
   "outputs": [
    {
     "name": "stdout",
     "output_type": "stream",
     "text": [
      "Start to profile the efficiency of MetaDrive with 1000 maps and ~4 vehicles!\n",
      "Finish 100/100 simulation steps. Time elapse: 0.3202. Average FPS: 640.2364, Average number of vehicles: 4.5000\n",
      "Total Time Elapse: 0.320, average FPS: 640.236, average number of vehicles: 4.500.\n"
     ]
    },
    {
     "name": "stderr",
     "output_type": "stream",
     "text": [
      "\u001b[38;20m[INFO] MetaDrive version: 0.4.1.2\u001b[0m\n",
      "\u001b[38;20m[INFO] Sensors: [lidar: Lidar(50,), side_detector: SideDetector(), lane_line_detector: LaneLineDetector()]\u001b[0m\n",
      "\u001b[38;20m[INFO] Render Mode: none\u001b[0m\n",
      "\u001b[38;20m[INFO] Assets version: 0.4.1.2\u001b[0m\n",
      "\u001b[38;20m[INFO] Episode ended! Scenario Index: 1730 Reason: out_of_road.\u001b[0m\n"
     ]
    }
   ],
   "source": [
    "# Test whether MetaDrive is properly installed. No error means the test is passed.\n",
    "!python -m metadrive.examples.profile_metadrive --num-steps 100"
   ]
  },
  {
   "cell_type": "markdown",
   "id": "9612bfe5",
   "metadata": {
    "id": "9612bfe5"
   },
   "source": [
    "## Section 1: Building abstract class and helper functions"
   ]
  },
  {
   "cell_type": "code",
   "execution_count": 5,
   "id": "9064ac72",
   "metadata": {
    "colab": {
     "base_uri": "https://localhost:8080/"
    },
    "id": "9064ac72",
    "outputId": "4eed79d8-0126-4a00-ff90-869135e2d144"
   },
   "outputs": [],
   "source": [
    "# Run this cell without modification\n",
    "\n",
    "# Import some packages that we need to use\n",
    "import mediapy as media\n",
    "import gymnasium as gym\n",
    "import numpy as np\n",
    "import pandas as pd\n",
    "import seaborn as sns\n",
    "from gymnasium.error import Error\n",
    "from gymnasium import logger\n",
    "import torch\n",
    "import torch.nn as nn\n",
    "from IPython.display import clear_output\n",
    "import copy\n",
    "import time\n",
    "import pygame\n",
    "import logging\n",
    "\n",
    "logging.basicConfig(format='[%(levelname)s] %(message)s')\n",
    "logger = logging.getLogger()\n",
    "logger.setLevel(logging.INFO)\n",
    "\n",
    "\n",
    "def wait(sleep=0.2):\n",
    "    clear_output(wait=True)\n",
    "    time.sleep(sleep)\n",
    "\n",
    "\n",
    "def merge_config(new_config, old_config):\n",
    "    \"\"\"Merge the user-defined config with default config\"\"\"\n",
    "    config = copy.deepcopy(old_config)\n",
    "    if new_config is not None:\n",
    "        config.update(new_config)\n",
    "    return config\n",
    "\n",
    "\n",
    "def test_random_policy(policy, env):\n",
    "    _acts = set()\n",
    "    for i in range(1000):\n",
    "        act = policy(0)\n",
    "        _acts.add(act)\n",
    "        assert env.action_space.contains(act), \"Out of the bound!\"\n",
    "    if len(_acts) != 1:\n",
    "        print(\n",
    "            \"[HINT] Though we call self.policy 'random policy', \" \\\n",
    "            \"we find that generating action randomly at the beginning \" \\\n",
    "            \"and then fixing it during updating values period lead to better \" \\\n",
    "            \"performance. Using purely random policy is not even work! \" \\\n",
    "            \"We encourage you to investigate this issue.\"\n",
    "        )\n",
    "\n",
    "\n",
    "# We register a non-slippery version of FrozenLake environment.\n",
    "try:\n",
    "    gym.register(\n",
    "        id='FrozenLakeNotSlippery-v1',\n",
    "        entry_point='gymnasium.envs.toy_text:FrozenLakeEnv',\n",
    "        kwargs={'map_name': '4x4', 'is_slippery': False},\n",
    "        max_episode_steps=200,\n",
    "        reward_threshold=0.78,  # optimum = .8196\n",
    "    )\n",
    "except Error:\n",
    "    print(\"The environment is registered already.\")\n",
    "\n",
    "\n",
    "def _render_helper(env, sleep=0.1):\n",
    "    ret = env.render()\n",
    "    if sleep:\n",
    "        wait(sleep=sleep)\n",
    "    return ret\n",
    "\n",
    "\n",
    "def animate(img_array, fps=None):\n",
    "    \"\"\"A function that can generate GIF file and show in Notebook.\"\"\"\n",
    "    media.show_video(img_array, fps=fps)\n",
    "\n",
    "\n",
    "def evaluate(policy, num_episodes=1, seed=0, env_name='FrozenLake8x8-v1',\n",
    "             render=None, existing_env=None, max_episode_length=1000,\n",
    "             sleep=0.0, verbose=False):\n",
    "    \"\"\"This function evaluate the given policy and return the mean episode \n",
    "    reward.\n",
    "    :param policy: a function whose input is the observation\n",
    "    :param num_episodes: number of episodes you wish to run\n",
    "    :param seed: the random seed\n",
    "    :param env_name: the name of the environment\n",
    "    :param render: a boolean flag indicating whether to render policy\n",
    "    :return: the averaged episode reward of the given policy.\n",
    "    \"\"\"\n",
    "    if existing_env is None:\n",
    "        render_mode = render if render else None\n",
    "        env = gym.make(env_name, render_mode=render)\n",
    "    else:\n",
    "        env = existing_env\n",
    "    try:\n",
    "        rewards = []\n",
    "        frames = []\n",
    "        succ_rate = []\n",
    "        if render:\n",
    "            num_episodes = 1\n",
    "        for i in range(num_episodes):\n",
    "            obs, info = env.reset(seed=seed + i)\n",
    "            act = policy(obs)\n",
    "            ep_reward = 0\n",
    "            for step_count in range(max_episode_length):\n",
    "                obs, reward, terminated, truncated, info = env.step(act)\n",
    "                done = terminated or truncated\n",
    "\n",
    "                act = policy(obs)\n",
    "                ep_reward += reward\n",
    "\n",
    "                if verbose and step_count % 50 == 0:\n",
    "                    print(\"Evaluating {}/{} episodes. We are in {}/{} steps. Current episode reward: {:.3f}\".format(\n",
    "                        i + 1, num_episodes, step_count + 1, max_episode_length, ep_reward\n",
    "                    ))\n",
    "\n",
    "                if render == \"ansi\":\n",
    "                    print(_render_helper(env, sleep))\n",
    "                elif render:\n",
    "                    frames.append(_render_helper(env, sleep))\n",
    "                if done:\n",
    "                    break\n",
    "            rewards.append(ep_reward)\n",
    "            if \"arrive_dest\" in info:\n",
    "                succ_rate.append(float(info[\"arrive_dest\"]))\n",
    "        if render:\n",
    "            env.close()\n",
    "    except Exception as e:\n",
    "        env.close()\n",
    "        raise e\n",
    "    finally:\n",
    "        env.close()\n",
    "    eval_dict = {\"frames\": frames}\n",
    "    if succ_rate:\n",
    "        eval_dict[\"success_rate\"] = sum(succ_rate) / len(succ_rate)\n",
    "    return np.mean(rewards), eval_dict\n"
   ]
  },
  {
   "cell_type": "code",
   "execution_count": 6,
   "id": "d21c8c84",
   "metadata": {
    "id": "d21c8c84"
   },
   "outputs": [],
   "source": [
    "# Run this cell without modification\n",
    "\n",
    "DEFAULT_CONFIG = dict(\n",
    "    seed=0,\n",
    "    max_iteration=20000,\n",
    "    max_episode_length=200,\n",
    "    evaluate_interval=10,\n",
    "    evaluate_num_episodes=10,\n",
    "    learning_rate=0.001,\n",
    "    gamma=0.8,\n",
    "    eps=0.3,\n",
    "    env_name='FrozenLakeNotSlippery-v1'\n",
    ")\n",
    "\n",
    "\n",
    "class AbstractTrainer:\n",
    "    \"\"\"This is the abstract class for value-based RL trainer. We will inherent\n",
    "    the specify algorithm's trainer from this abstract class, so that we can\n",
    "    reuse the codes.\n",
    "    \"\"\"\n",
    "\n",
    "    def __init__(self, config):\n",
    "        self.config = merge_config(config, DEFAULT_CONFIG)\n",
    "\n",
    "        # Create the environment\n",
    "        self.env_name = self.config['env_name']\n",
    "        self.env = gym.make(self.env_name)\n",
    "\n",
    "        # Apply the random seed\n",
    "        self.seed = self.config[\"seed\"]\n",
    "        np.random.seed(self.seed)\n",
    "        self.env.reset(seed=self.seed)\n",
    "\n",
    "        # We set self.obs_dim to the number of possible observation\n",
    "        # if observation space is discrete, otherwise the number\n",
    "        # of observation's dimensions. The same to self.act_dim.\n",
    "        if isinstance(self.env.observation_space, gym.spaces.box.Box):\n",
    "            assert len(self.env.observation_space.shape) == 1\n",
    "            self.obs_dim = self.env.observation_space.shape[0]\n",
    "            self.discrete_obs = False\n",
    "        elif isinstance(self.env.observation_space,\n",
    "                        gym.spaces.discrete.Discrete):\n",
    "            self.obs_dim = self.env.observation_space.n\n",
    "            self.discrete_obs = True\n",
    "        else:\n",
    "            raise ValueError(\"Wrong observation space!\")\n",
    "\n",
    "        if isinstance(self.env.action_space, gym.spaces.box.Box):\n",
    "            assert len(self.env.action_space.shape) == 1\n",
    "            self.act_dim = self.env.action_space.shape[0]\n",
    "        elif isinstance(self.env.action_space, gym.spaces.discrete.Discrete):\n",
    "            self.act_dim = self.env.action_space.n\n",
    "        else:\n",
    "            raise ValueError(\"Wrong action space! {}\".format(self.env.action_space))\n",
    "\n",
    "        self.eps = self.config['eps']\n",
    "\n",
    "    def process_state(self, state):\n",
    "        \"\"\"\n",
    "        Process the raw observation. For example, we can use this function to\n",
    "        convert the input state (integer) to a one-hot vector.\n",
    "        \"\"\"\n",
    "        return state\n",
    "\n",
    "    def compute_action(self, processed_state, eps=None):\n",
    "        \"\"\"Compute the action given the processed state.\"\"\"\n",
    "        raise NotImplementedError(\n",
    "            \"You need to override the Trainer.compute_action() function.\")\n",
    "\n",
    "    def evaluate(self, num_episodes=50, *args, **kwargs):\n",
    "        \"\"\"Use the function you write to evaluate current policy.\n",
    "        Return the mean episode reward of 50 episodes.\"\"\"\n",
    "        if \"MetaDrive\" in self.env_name:\n",
    "            kwargs[\"existing_env\"] = self.env\n",
    "        result, eval_infos = evaluate(self.policy, num_episodes, seed=self.seed,\n",
    "                                      env_name=self.env_name, *args, **kwargs)\n",
    "        return result, eval_infos\n",
    "\n",
    "    def policy(self, raw_state, eps=0.0):\n",
    "        \"\"\"A wrapper function takes raw_state as input and output action.\"\"\"\n",
    "        return self.compute_action(self.process_state(raw_state), eps=eps)\n",
    "\n",
    "    def train(self, iteration=None):\n",
    "        \"\"\"Conduct one iteration of learning.\"\"\"\n",
    "        raise NotImplementedError(\"You need to override the \"\n",
    "                                  \"Trainer.train() function.\")\n"
   ]
  },
  {
   "cell_type": "code",
   "execution_count": 7,
   "id": "cf324d71",
   "metadata": {
    "id": "cf324d71"
   },
   "outputs": [],
   "source": [
    "# Run this cell without modification\n",
    "\n",
    "def run(trainer_cls, config=None, reward_threshold=None):\n",
    "    \"\"\"Run the trainer and report progress, agnostic to the class of trainer\n",
    "    :param trainer_cls: A trainer class \n",
    "    :param config: A dict\n",
    "    :param reward_threshold: the reward threshold to break the training\n",
    "    :return: The trained trainer and a dataframe containing learning progress\n",
    "    \"\"\"\n",
    "    if config is None:\n",
    "        config = {}\n",
    "    trainer = trainer_cls(config)\n",
    "    config = trainer.config\n",
    "    start = now = time.time()\n",
    "    stats = []\n",
    "    total_steps = 0\n",
    "\n",
    "    try:\n",
    "        for i in range(config['max_iteration'] + 1):\n",
    "            stat = trainer.train(iteration=i)\n",
    "            stat = stat or {}\n",
    "            stats.append(stat)\n",
    "            if \"episode_len\" in stat:\n",
    "                total_steps += stat[\"episode_len\"]\n",
    "            if i % config['evaluate_interval'] == 0 or \\\n",
    "                    i == config[\"max_iteration\"]:\n",
    "                reward, _ = trainer.evaluate(\n",
    "                    config.get(\"evaluate_num_episodes\", 50),\n",
    "                    max_episode_length=config.get(\"max_episode_length\", 1000)\n",
    "                )\n",
    "                logger.info(\"Iter {}, {}episodic return is {:.2f}. {}\".format(\n",
    "                    i,\n",
    "                    \"\" if total_steps == 0 else \"Step {}, \".format(total_steps),\n",
    "                    reward,\n",
    "                    {k: round(np.mean(v), 4) for k, v in stat.items()\n",
    "                     if not np.isnan(v) and k != \"frames\"\n",
    "                     }\n",
    "                    if stat else \"\"\n",
    "                ))\n",
    "                now = time.time()\n",
    "            if reward_threshold is not None and reward > reward_threshold:\n",
    "                logger.info(\"Iter {}, episodic return {:.3f} is \"\n",
    "                            \"greater than reward threshold {}. Congratulation! Now we \"\n",
    "                            \"exit the training process.\".format(i, reward, reward_threshold))\n",
    "                break\n",
    "    except Exception as e:\n",
    "        print(\"Error happens during training: \")\n",
    "        raise e\n",
    "    finally:\n",
    "        if hasattr(trainer.env, \"close\"):\n",
    "            trainer.env.close()\n",
    "            print(\"Environment is closed.\")\n",
    "\n",
    "    return trainer, stats\n"
   ]
  },
  {
   "cell_type": "markdown",
   "id": "64a565ab",
   "metadata": {
    "id": "64a565ab"
   },
   "source": [
    "## Section 2: Q-Learning\n",
    "(20/100 points)\n",
    "\n",
    "Q-learning is an off-policy algorithm who differs from SARSA in the computing of TD error. \n",
    "\n",
    "Unlike getting the TD error by running policy to get `next_act` $a'$ and compute:\n",
    "\n",
    "$r + \\gamma Q(s', a') - Q(s, a)$\n",
    "\n",
    "as in SARSA, in Q-learning we compute the TD error via:\n",
    "\n",
    "$r + \\gamma \\max_{a'} Q(s', a') - Q(s, a)$. \n",
    "\n",
    "The reason we call it \"off-policy\" is that the next-Q value is not computed for the \"behavior policy\", instead, it is a \"virtural policy\" that always takes the best action given current Q values."
   ]
  },
  {
   "cell_type": "markdown",
   "id": "188997dd",
   "metadata": {},
   "source": [
    "### Section 2.1: Building Q Learning Trainer"
   ]
  },
  {
   "cell_type": "code",
   "execution_count": 8,
   "id": "6a2ec18b",
   "metadata": {
    "id": "6a2ec18b"
   },
   "outputs": [],
   "source": [
    "# Solve the TODOs and remove `pass`\n",
    "\n",
    "# Managing configurations of your experiments is important for your research.\n",
    "Q_LEARNING_TRAINER_CONFIG = merge_config(dict(\n",
    "    eps=0.3,\n",
    "), DEFAULT_CONFIG)\n",
    "\n",
    "\n",
    "class QLearningTrainer(AbstractTrainer):\n",
    "    def __init__(self, config=None):\n",
    "        config = merge_config(config, Q_LEARNING_TRAINER_CONFIG)\n",
    "        super(QLearningTrainer, self).__init__(config=config)\n",
    "        self.gamma = self.config[\"gamma\"]\n",
    "        self.eps = self.config[\"eps\"]\n",
    "        self.max_episode_length = self.config[\"max_episode_length\"]\n",
    "        self.learning_rate = self.config[\"learning_rate\"]\n",
    "\n",
    "        # build the Q table\n",
    "        self.table = np.zeros((self.obs_dim, self.act_dim))\n",
    "\n",
    "    def compute_action(self, obs, eps=None):\n",
    "        \"\"\"Implement epsilon-greedy policy\n",
    "\n",
    "        It is a function that take an integer (state / observation)\n",
    "        as input and return an interger (action).\n",
    "        \"\"\"\n",
    "        if eps is None:\n",
    "            eps = self.eps\n",
    "\n",
    "        # TODO: You need to implement the epsilon-greedy policy here.\n",
    "        if np.random.rand() < eps:\n",
    "            action = np.random.randint(self.act_dim)\n",
    "        else:\n",
    "            action = np.argmax(self.table[obs, :])\n",
    "\n",
    "        return action\n",
    "\n",
    "    def train(self, iteration=None):\n",
    "        \"\"\"Conduct one iteration of learning.\"\"\"\n",
    "        obs, info = self.env.reset()\n",
    "        for t in range(self.max_episode_length):\n",
    "            act = self.compute_action(obs)\n",
    "\n",
    "            next_obs, reward, terminated, truncated, info = self.env.step(act)\n",
    "            done = terminated or truncated\n",
    "\n",
    "            # TODO: compute the TD error, based on the next observation\n",
    "            td_error = reward + self.gamma * np.max(self.table[next_obs, :]) - self.table[obs][act]\n",
    "            \n",
    "\n",
    "            # TODO: compute the new Q value\n",
    "            # hint: use TD error, self.learning_rate and old Q value\n",
    "            new_value = self.table[obs][act] + self.learning_rate * td_error\n",
    "            \n",
    "\n",
    "            self.table[obs][act] = new_value\n",
    "            obs = next_obs\n",
    "            if done:\n",
    "                break\n"
   ]
  },
  {
   "cell_type": "markdown",
   "id": "b2f6c0f2",
   "metadata": {},
   "source": [
    "### Section 2.2: Use Q Learning to train agent in FrozenLake"
   ]
  },
  {
   "cell_type": "code",
   "execution_count": 9,
   "id": "61586e08",
   "metadata": {
    "colab": {
     "base_uri": "https://localhost:8080/"
    },
    "id": "61586e08",
    "outputId": "05ad92b5-a19b-4812-ee1a-a3c775799b3d",
    "scrolled": true
   },
   "outputs": [
    {
     "name": "stderr",
     "output_type": "stream",
     "text": [
      "[INFO] Iter 0, episodic return is 0.00. \n",
      "[INFO] Iter 50, episodic return is 0.00. \n",
      "[INFO] Iter 100, episodic return is 0.00. \n",
      "[INFO] Iter 150, episodic return is 0.00. \n",
      "[INFO] Iter 200, episodic return is 0.00. \n",
      "[INFO] Iter 250, episodic return is 0.00. \n",
      "[INFO] Iter 300, episodic return is 0.00. \n",
      "[INFO] Iter 350, episodic return is 0.00. \n",
      "[INFO] Iter 400, episodic return is 0.00. \n",
      "[INFO] Iter 450, episodic return is 0.00. \n",
      "[INFO] Iter 500, episodic return is 0.00. \n",
      "[INFO] Iter 550, episodic return is 0.00. \n",
      "[INFO] Iter 600, episodic return is 0.00. \n",
      "[INFO] Iter 650, episodic return is 0.00. \n",
      "[INFO] Iter 700, episodic return is 0.00. \n",
      "[INFO] Iter 750, episodic return is 0.00. \n",
      "[INFO] Iter 800, episodic return is 0.00. \n",
      "[INFO] Iter 850, episodic return is 0.00. \n",
      "[INFO] Iter 900, episodic return is 0.00. \n",
      "[INFO] Iter 950, episodic return is 0.00. \n",
      "[INFO] Iter 1000, episodic return is 0.00. \n",
      "[INFO] Iter 1050, episodic return is 0.00. \n",
      "[INFO] Iter 1100, episodic return is 0.00. \n",
      "[INFO] Iter 1150, episodic return is 0.00. \n",
      "[INFO] Iter 1200, episodic return is 0.00. \n",
      "[INFO] Iter 1250, episodic return is 0.00. \n",
      "[INFO] Iter 1300, episodic return is 0.00. \n",
      "[INFO] Iter 1350, episodic return is 0.00. \n",
      "[INFO] Iter 1400, episodic return is 0.00. \n",
      "[INFO] Iter 1450, episodic return is 0.00. \n",
      "[INFO] Iter 1500, episodic return is 0.00. \n",
      "[INFO] Iter 1550, episodic return is 0.00. \n",
      "[INFO] Iter 1600, episodic return is 0.00. \n",
      "[INFO] Iter 1650, episodic return is 0.00. \n",
      "[INFO] Iter 1700, episodic return is 0.00. \n",
      "[INFO] Iter 1750, episodic return is 0.00. \n",
      "[INFO] Iter 1800, episodic return is 0.00. \n",
      "[INFO] Iter 1850, episodic return is 0.00. \n",
      "[INFO] Iter 1900, episodic return is 0.00. \n",
      "[INFO] Iter 1950, episodic return is 0.00. \n",
      "[INFO] Iter 2000, episodic return is 0.00. \n",
      "[INFO] Iter 2050, episodic return is 0.00. \n",
      "[INFO] Iter 2100, episodic return is 0.00. \n",
      "[INFO] Iter 2150, episodic return is 1.00. \n",
      "[INFO] Iter 2150, episodic return 1.000 is greater than reward threshold 0.99. Congratulation! Now we exit the training process.\n"
     ]
    },
    {
     "name": "stdout",
     "output_type": "stream",
     "text": [
      "Environment is closed.\n"
     ]
    }
   ],
   "source": [
    "# Run this cell without modification\n",
    "\n",
    "q_learning_trainer, _ = run(\n",
    "    trainer_cls=QLearningTrainer,\n",
    "    config=dict(\n",
    "        max_iteration=5000,\n",
    "        evaluate_interval=50,\n",
    "        evaluate_num_episodes=50,\n",
    "        env_name='FrozenLakeNotSlippery-v1'\n",
    "    ),\n",
    "    reward_threshold=0.99\n",
    ")\n"
   ]
  },
  {
   "cell_type": "code",
   "execution_count": 10,
   "id": "9fe03c52",
   "metadata": {
    "colab": {
     "base_uri": "https://localhost:8080/"
    },
    "id": "9fe03c52",
    "outputId": "57d058af-741d-422b-d84c-26f5bbc61820"
   },
   "outputs": [
    {
     "data": {
      "text/html": [
       "<table class=\"show_videos\" style=\"border-spacing:0px;\"><tr><td style=\"padding:1px;\"><video controls width=\"256\" height=\"256\" style=\"object-fit:cover;\" loop autoplay muted>\n",
       "      <source src=\"data:video/mp4;base64,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\" type=\"video/mp4\"/>\n",
       "      This browser does not support the video tag.\n",
       "      </video></td></tr></table>"
      ],
      "text/plain": [
       "<IPython.core.display.HTML object>"
      ]
     },
     "metadata": {},
     "output_type": "display_data"
    }
   ],
   "source": [
    "# Run this cell without modification\n",
    "\n",
    "# Render the learned behavior\n",
    "_, eval_info = evaluate(\n",
    "    policy=q_learning_trainer.policy,\n",
    "    num_episodes=1,\n",
    "    env_name=q_learning_trainer.env_name,\n",
    "    render=\"rgb_array\",  # Visualize the behavior here in the cell \n",
    "    sleep=0.2  # The time interval between two rendering frames\n",
    ")\n",
    "animate(eval_info[\"frames\"], fps=2)"
   ]
  },
  {
   "cell_type": "markdown",
   "id": "e198cc0a",
   "metadata": {
    "id": "e198cc0a"
   },
   "source": [
    "## Section 3: Implement Deep Q Learning in Pytorch\n",
    "\n",
    "(30 / 100 points)\n",
    "\n",
    "In this section, we will implement a neural network and train it with Deep Q Learning with Pytorch, a powerful deep learning framework. \n",
    "\n",
    "If you are not familiar with Pytorch, we suggest you to go through pytorch official quickstart tutorials:\n",
    "1. [quickstart](https://pytorch.org/tutorials/beginner/deep_learning_60min_blitz.html)\n",
    "2. [tutorial on RL](https://pytorch.org/tutorials/intermediate/reinforcement_q_learning.html)\n",
    "\n",
    "Different from the Q learning in Section 2, we will implement Deep Q Network (DQN) in this section. The main differences are summarized as follows:\n",
    "\n",
    "**DQN requires an experience replay memory to store the transitions.** A replay memory is implemented in the following `ExperienceReplayMemory` class. It contains a certain amount of transitions: `(s_t, a_t, r_t, s_t+1, done_t)`. When the memory is full, the earliest transition is discarded and the latest one is stored.\n",
    "\n",
    "The replay memory increases the sample efficiency (since each transition might be used multiple times) when solving complex task. However, you may find it learn slowly in this assignment since the CartPole-v1 is a relatively easy environment.\n",
    "\n",
    "\n",
    "**DQN has a delayed-updating target network.** DQN maintains another neural network called the target network that has identical structure of the Q network. After a certain amount of steps has been taken, the target network copies the parameters of the Q network to itself. The update of the target network will be much less frequent than the update of the Q network, since the Q network is updated in each step.\n",
    "\n",
    "The target network is used to stabilize the estimation of the TD error. In DQN, the TD error is estimated as:\n",
    "\n",
    "$$(r_t + \\gamma \\max_{a_{t+1}} Q^{target}(s_{t+1}, a_{t+1}) - Q(s_t, a_t))$$\n",
    "\n",
    "The Q value of the next state is estimated by the target network, not the Q network that is being updated. This mechanism can reduce the variance of gradient because the next Q values is not influenced by the update of current Q network.\n"
   ]
  },
  {
   "cell_type": "markdown",
   "id": "aa025029",
   "metadata": {},
   "source": [
    "### Section 3.1: Build DQN trainer"
   ]
  },
  {
   "cell_type": "code",
   "execution_count": 11,
   "id": "6a87cab7",
   "metadata": {
    "id": "6a87cab7"
   },
   "outputs": [],
   "source": [
    "# Solve the TODOs and remove `pass`\n",
    "\n",
    "from collections import deque\n",
    "import random\n",
    "\n",
    "\n",
    "class ExperienceReplayMemory:\n",
    "    \"\"\"Store and sample the transitions\"\"\"\n",
    "\n",
    "    def __init__(self, capacity):\n",
    "        # deque is a useful class which acts like a list but only contain\n",
    "        # finite elements. When adding new element into the deque will make deque full with \n",
    "        # `maxlen` elements, the oldest element (the index 0 element) will be removed.\n",
    "\n",
    "        # TODO: uncomment next line. \n",
    "        self.memory = deque(maxlen=capacity)\n",
    "        \n",
    "\n",
    "    def push(self, transition):\n",
    "        self.memory.append(transition)\n",
    "\n",
    "    def sample(self, batch_size):\n",
    "        return random.sample(self.memory, batch_size)\n",
    "\n",
    "    def __len__(self):\n",
    "        return len(self.memory)"
   ]
  },
  {
   "cell_type": "code",
   "execution_count": 12,
   "id": "1a72ec0f",
   "metadata": {
    "colab": {
     "base_uri": "https://localhost:8080/"
    },
    "id": "1a72ec0f",
    "outputId": "20a2f35b-6a96-48f1-8626-707411112d68"
   },
   "outputs": [
    {
     "name": "stdout",
     "output_type": "stream",
     "text": [
      "Name of each parameter vectors:  odict_keys(['action_value.0.weight', 'action_value.0.bias', 'action_value.2.weight', 'action_value.2.bias', 'action_value.4.weight', 'action_value.4.bias'])\n",
      "Test passed!\n"
     ]
    }
   ],
   "source": [
    "# Solve the TODOs and remove `pass`\n",
    "\n",
    "class PytorchModel(nn.Module):\n",
    "    def __init__(self, num_inputs, num_outputs, hidden_units=100):\n",
    "        super(PytorchModel, self).__init__()\n",
    "\n",
    "        # TODO: Build a nn.Sequential object as the neural network with two hidden layers and one output layer.\n",
    "        #\n",
    "        # The first hidden layer takes `num_inputs`-dim vector as input and has `hidden_units` hidden units,\n",
    "        # followed by a ReLU activation function.\n",
    "        # \n",
    "        # The second hidden layer takes `hidden_units`-dim vector as input and has `hidden_units` hidden units,\n",
    "        # followed by a ReLU activation function.\n",
    "        # \n",
    "        # The output layer takes `hidden_units`-dim vector as input and return `num_outputs`-dim vctor as output.\n",
    "        self.action_value = nn.Sequential(\n",
    "            nn.Linear(num_inputs, hidden_units),\n",
    "            nn.ReLU(),\n",
    "            nn.Linear(hidden_units, hidden_units),\n",
    "            nn.ReLU(),\n",
    "            nn.Linear(hidden_units, num_outputs),\n",
    "        )\n",
    "\n",
    "    def forward(self, obs):\n",
    "        return self.action_value(obs)\n",
    "\n",
    "\n",
    "# Test\n",
    "test_pytorch_model = PytorchModel(num_inputs=3, num_outputs=7, hidden_units=123)\n",
    "assert isinstance(test_pytorch_model.action_value, nn.Module)\n",
    "assert len(test_pytorch_model.state_dict()) == 6\n",
    "assert test_pytorch_model.state_dict()[\"action_value.0.weight\"].shape == (123, 3)\n",
    "print(\"Name of each parameter vectors: \", test_pytorch_model.state_dict().keys())\n",
    "\n",
    "print(\"Test passed!\")"
   ]
  },
  {
   "cell_type": "code",
   "execution_count": 13,
   "id": "dddbd300",
   "metadata": {
    "id": "dddbd300"
   },
   "outputs": [],
   "source": [
    "# Solve the TODOs and remove `pass`\n",
    "\n",
    "DQN_CONFIG = merge_config(dict(\n",
    "    parameter_std=0.01,\n",
    "    learning_rate=0.001,\n",
    "    hidden_dim=100,\n",
    "    clip_norm=1.0,\n",
    "    clip_gradient=True,\n",
    "    max_iteration=1000,\n",
    "    max_episode_length=1000,\n",
    "    evaluate_interval=100,\n",
    "    gamma=0.99,\n",
    "    eps=0.3,\n",
    "    memory_size=50000,\n",
    "    learn_start=5000,\n",
    "    batch_size=32,\n",
    "    target_update_freq=500,  # in steps\n",
    "    learn_freq=1,  # in steps\n",
    "    n=1,\n",
    "    env_name=\"CartPole-v1\",\n",
    "), Q_LEARNING_TRAINER_CONFIG)\n",
    "\n",
    "\n",
    "def to_tensor(x):\n",
    "    \"\"\"A helper function to transform a numpy array to a Pytorch Tensor\"\"\"\n",
    "    if isinstance(x, np.ndarray):\n",
    "        x = torch.from_numpy(x).type(torch.float32)\n",
    "    assert isinstance(x, torch.Tensor)\n",
    "    if x.dim() == 3 or x.dim() == 1:\n",
    "        x = x.unsqueeze(0)\n",
    "    assert x.dim() == 2 or x.dim() == 4, x.shape\n",
    "    return x\n",
    "\n",
    "\n",
    "class DQNTrainer(AbstractTrainer):\n",
    "    def __init__(self, config):\n",
    "        config = merge_config(config, DQN_CONFIG)\n",
    "        self.learning_rate = config[\"learning_rate\"]\n",
    "        super().__init__(config)\n",
    "\n",
    "        self.memory = ExperienceReplayMemory(config[\"memory_size\"])\n",
    "\n",
    "        self.learn_start = config[\"learn_start\"]\n",
    "        self.batch_size = config[\"batch_size\"]\n",
    "        self.target_update_freq = config[\"target_update_freq\"]\n",
    "        self.clip_norm = config[\"clip_norm\"]\n",
    "        self.hidden_dim = config[\"hidden_dim\"]\n",
    "        self.max_episode_length = self.config[\"max_episode_length\"]\n",
    "        self.learning_rate = self.config[\"learning_rate\"]\n",
    "        self.gamma = self.config[\"gamma\"]\n",
    "        self.n = self.config[\"n\"]\n",
    "\n",
    "        self.step_since_update = 0\n",
    "        self.total_step = 0\n",
    "\n",
    "        # You need to setup the parameter for your function approximator.\n",
    "        self.initialize_parameters()\n",
    "\n",
    "    def initialize_parameters(self):\n",
    "        # TODO: Initialize the Q network and the target network using PytorchModel class.\n",
    "        self.network = PytorchModel(self.obs_dim, self.act_dim, self.hidden_dim)\n",
    "        print(\"Setting up self.network with obs dim: {} and action dim: {}\".format(self.obs_dim, self.act_dim))\n",
    "\n",
    "        self.network.eval()\n",
    "        self.network.share_memory()\n",
    "\n",
    "        # Initialize target network to be identical to self.network. \n",
    "        # You should put the weights of self.network into self.target_network.\n",
    "        # TODO: Uncomment next few lines\n",
    "        self.target_network = PytorchModel(self.obs_dim, self.act_dim)\n",
    "        self.target_network.load_state_dict(self.network.state_dict())\n",
    "\n",
    "        self.target_network.eval()\n",
    "\n",
    "        # Build Adam optimizer and MSE Loss.\n",
    "        # TODO: Uncomment next few lines\n",
    "        self.optimizer = torch.optim.Adam(\n",
    "            self.network.parameters(), lr=self.learning_rate\n",
    "        )\n",
    "        self.loss = nn.MSELoss()\n",
    "        \n",
    "\n",
    "    def process_state(self, state):\n",
    "        \"\"\"Preprocess the state (observation).\n",
    "\n",
    "        If the environment provides discrete observation (state), transform\n",
    "        it to one-hot form. For example, the environment FrozenLake-v0\n",
    "        provides an integer in [0, ..., 15] denotes the 16 possible states.\n",
    "        We transform it to one-hot style:\n",
    "\n",
    "        original state 0 -> one-hot vector [1, 0, 0, 0, 0, 0, 0, 0, ...]\n",
    "        original state 1 -> one-hot vector [0, 1, 0, 0, 0, 0, 0, 0, ...]\n",
    "        original state 15 -> one-hot vector [0, ..., 0, 0, 0, 0, 0, 1]\n",
    "\n",
    "        If the observation space is continuous, then you should do nothing.\n",
    "        \"\"\"\n",
    "        if not self.discrete_obs:\n",
    "            return state\n",
    "        else:\n",
    "            new_state = np.zeros((self.obs_dim,))\n",
    "            new_state[state] = 1\n",
    "        return new_state\n",
    "\n",
    "    def compute_values(self, processed_state):\n",
    "        \"\"\"Compute the value for each potential action. Note that you\n",
    "        should NOT preprocess the state here.\"\"\"\n",
    "        values = self.network(processed_state).detach().numpy()\n",
    "        return values\n",
    "\n",
    "    def compute_action(self, processed_state, eps=None):\n",
    "        \"\"\"Compute the action given the state. Note that the input\n",
    "        is the processed state.\"\"\"\n",
    "        values = self.compute_values(processed_state)\n",
    "        assert values.ndim == 1, values.shape\n",
    "\n",
    "        if eps is None:\n",
    "            eps = self.eps\n",
    "\n",
    "        if np.random.uniform(0, 1) < eps:\n",
    "            action = self.env.action_space.sample()\n",
    "        else:\n",
    "            action = np.argmax(values)\n",
    "        return action\n",
    "\n",
    "    def train(self, iteration=None):\n",
    "        iteration_string = \"\" if iteration is None else f\"Iter {iteration}: \"\n",
    "        obs, info = self.env.reset()\n",
    "        processed_obs = self.process_state(obs)\n",
    "        act = self.compute_action(processed_obs)\n",
    "\n",
    "        stat = {\"loss\": [], \"success_rate\": np.nan}\n",
    "\n",
    "        for t in range(self.max_episode_length):\n",
    "            next_obs, reward, terminated, truncated, info = self.env.step(act)\n",
    "            done = terminated or truncated\n",
    "\n",
    "            next_processed_obs = self.process_state(next_obs)\n",
    "\n",
    "            # Push the transition into memory.\n",
    "            self.memory.push(\n",
    "                (processed_obs, act, reward, next_processed_obs, done)\n",
    "            )\n",
    "\n",
    "            processed_obs = next_processed_obs\n",
    "            act = self.compute_action(next_processed_obs)\n",
    "            self.step_since_update += 1\n",
    "            self.total_step += 1\n",
    "\n",
    "            if done:\n",
    "                if \"arrive_dest\" in info:\n",
    "                    stat[\"success_rate\"] = info[\"arrive_dest\"]\n",
    "                break\n",
    "\n",
    "            if t % self.config[\"learn_freq\"] != 0:\n",
    "                # It's not necessary to update policy in each environmental interaction.\n",
    "                continue\n",
    "\n",
    "            if len(self.memory) < self.learn_start:\n",
    "                continue\n",
    "            elif len(self.memory) == self.learn_start:\n",
    "                logging.info(\n",
    "                    \"{}Current memory contains {} transitions, \"\n",
    "                    \"start learning!\".format(iteration_string, self.learn_start)\n",
    "                )\n",
    "\n",
    "            batch = self.memory.sample(self.batch_size)\n",
    "\n",
    "            # Transform a batch of elements in transitions into tensors.\n",
    "            state_batch = to_tensor(\n",
    "                np.stack([transition[0] for transition in batch])\n",
    "            )\n",
    "            action_batch = to_tensor(\n",
    "                np.stack([transition[1] for transition in batch])\n",
    "            )\n",
    "            reward_batch = to_tensor(\n",
    "                np.stack([transition[2] for transition in batch])\n",
    "            )\n",
    "            next_state_batch = torch.stack(\n",
    "                [transition[3] for transition in batch]\n",
    "            )\n",
    "            done_batch = to_tensor(\n",
    "                np.stack([transition[4] for transition in batch])\n",
    "            )\n",
    "\n",
    "            with torch.no_grad():\n",
    "                # TODO: Compute the Q values for the next states.\n",
    "                Q_t_plus_one: torch.Tensor = self.target_network(next_state_batch).max(dim=1)[0]\n",
    "\n",
    "                assert isinstance(Q_t_plus_one, torch.Tensor)\n",
    "                assert Q_t_plus_one.dim() == 1\n",
    "\n",
    "                # TODO: Compute the target value of Q.\n",
    "                Q_target = (reward_batch + (1 - done_batch) * (self.gamma ** self.n) * Q_t_plus_one).squeeze()\n",
    "                assert Q_target.shape == (self.batch_size,)\n",
    "\n",
    "            self.network.train()  # Set the network to \"train\" mode.()\n",
    "\n",
    "            # TODO: Collect the Q values in batch.\n",
    "            # Hint: The network will return the Q values for all actions at a given state.\n",
    "            #  So we need to \"extract\" the Q value for the action we've taken.\n",
    "            #  You need to use torch.gather to manipuate the 2nd dimension of the return\n",
    "            #  tensor from the network and extract the desired Q values.\n",
    "            Q_t: torch.Tensor = self.network(state_batch).gather(1, action_batch.view(-1, 1).long()).squeeze(1).type_as(action_batch)\n",
    "            \n",
    "            assert Q_t.shape == Q_target.shape\n",
    "\n",
    "            # Update the network\n",
    "            self.optimizer.zero_grad()\n",
    "            loss = self.loss(input=Q_t, target=Q_target)\n",
    "            stat['loss'].append(loss.item())\n",
    "            loss.backward()\n",
    "\n",
    "            # TODO: Apply gradient clipping with pytorch utility. Uncomment next line.\n",
    "            nn.utils.clip_grad_norm_(self.network.parameters(), self.clip_norm)\n",
    "            \n",
    "\n",
    "            self.optimizer.step()\n",
    "            self.network.eval()\n",
    "\n",
    "        if len(self.memory) >= self.learn_start and \\\n",
    "                self.step_since_update > self.target_update_freq:\n",
    "            self.step_since_update = 0\n",
    "\n",
    "            # TODO: Copy the weights of self.network to self.target_network.\n",
    "            self.target_network.load_state_dict(self.network.state_dict())\n",
    "\n",
    "            self.target_network.eval()\n",
    "\n",
    "        ret = {\"loss\": np.mean(stat[\"loss\"]), \"episode_len\": t}\n",
    "        if \"success_rate\" in stat:\n",
    "            ret[\"success_rate\"] = stat[\"success_rate\"]\n",
    "        return ret\n",
    "\n",
    "    def process_state(self, state):\n",
    "        return torch.from_numpy(state).type(torch.float32)\n",
    "\n",
    "    def save(self, loc=\"model.pt\"):\n",
    "        torch.save(self.network.state_dict(), loc)\n",
    "\n",
    "    def load(self, loc=\"model.pt\"):\n",
    "        self.network.load_state_dict(torch.load(loc))\n"
   ]
  },
  {
   "cell_type": "markdown",
   "id": "45f6fabd",
   "metadata": {},
   "source": [
    "### Section 3.2: Test DQN trainer"
   ]
  },
  {
   "cell_type": "code",
   "execution_count": 14,
   "id": "30d4a27d",
   "metadata": {
    "colab": {
     "base_uri": "https://localhost:8080/"
    },
    "id": "30d4a27d",
    "outputId": "7a3c068c-a580-498a-953e-275da6def868"
   },
   "outputs": [
    {
     "name": "stdout",
     "output_type": "stream",
     "text": [
      "Setting up self.network with obs dim: 4 and action dim: 2\n"
     ]
    },
    {
     "name": "stderr",
     "output_type": "stream",
     "text": [
      "C:\\Users\\18646\\anaconda3\\envs\\cs260r1\\lib\\site-packages\\numpy\\core\\fromnumeric.py:3464: RuntimeWarning: Mean of empty slice.\n",
      "  return _methods._mean(a, axis=axis, dtype=dtype,\n",
      "C:\\Users\\18646\\anaconda3\\envs\\cs260r1\\lib\\site-packages\\numpy\\core\\_methods.py:192: RuntimeWarning: invalid value encountered in scalar divide\n",
      "  ret = ret.dtype.type(ret / rcount)\n",
      "[INFO] Iter 0, Step 9, episodic return is 9.40. {'episode_len': 9.0}\n",
      "[INFO] Iter 8: Current memory contains 100 transitions, start learning!\n"
     ]
    },
    {
     "name": "stdout",
     "output_type": "stream",
     "text": [
      "Now your codes should be bug-free.\n",
      "Setting up self.network with obs dim: 4 and action dim: 2\n"
     ]
    },
    {
     "name": "stderr",
     "output_type": "stream",
     "text": [
      "[INFO] Iter 10, Step 114, episodic return is 9.40. {'loss': 0.1194, 'episode_len': 9.0}\n",
      "[INFO] Iter 20, Step 227, episodic return is 9.40. {'loss': 0.0008, 'episode_len': 8.0}\n"
     ]
    },
    {
     "name": "stdout",
     "output_type": "stream",
     "text": [
      "Environment is closed.\n",
      "Test passed!\n"
     ]
    }
   ],
   "source": [
    "# Run this cell without modification\n",
    "\n",
    "# Build the test trainer.\n",
    "test_trainer = DQNTrainer({})\n",
    "\n",
    "# Test compute_values\n",
    "fake_state = test_trainer.env.observation_space.sample()\n",
    "processed_state = test_trainer.process_state(fake_state)\n",
    "assert processed_state.shape == (test_trainer.obs_dim,), processed_state.shape\n",
    "values = test_trainer.compute_values(processed_state)\n",
    "assert values.shape == (test_trainer.act_dim,), values.shape\n",
    "\n",
    "test_trainer.train()\n",
    "print(\"Now your codes should be bug-free.\")\n",
    "\n",
    "_ = run(DQNTrainer, dict(\n",
    "    max_iteration=20,\n",
    "    evaluate_interval=10,\n",
    "    learn_start=100,\n",
    "    env_name=\"CartPole-v1\",\n",
    "))\n",
    "\n",
    "test_trainer.save(\"test_trainer.pt\")\n",
    "test_trainer.load(\"test_trainer.pt\")\n",
    "\n",
    "print(\"Test passed!\")"
   ]
  },
  {
   "cell_type": "markdown",
   "id": "ff767ce5",
   "metadata": {},
   "source": [
    "### Section 3.3: Train DQN agents in CartPole"
   ]
  },
  {
   "cell_type": "markdown",
   "id": "a53bf178",
   "metadata": {},
   "source": [
    "First, we visualize a random agent in CartPole environment."
   ]
  },
  {
   "cell_type": "code",
   "execution_count": 15,
   "id": "0221e34d",
   "metadata": {},
   "outputs": [
    {
     "data": {
      "text/html": [
       "<table class=\"show_videos\" style=\"border-spacing:0px;\"><tr><td style=\"padding:1px;\"><video controls width=\"600\" height=\"400\" style=\"object-fit:cover;\" loop autoplay muted>\n",
       "      <source src=\"data:video/mp4;base64,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\" type=\"video/mp4\"/>\n",
       "      This browser does not support the video tag.\n",
       "      </video></td></tr></table>"
      ],
      "text/plain": [
       "<IPython.core.display.HTML object>"
      ]
     },
     "metadata": {},
     "output_type": "display_data"
    },
    {
     "name": "stdout",
     "output_type": "stream",
     "text": [
      "A random agent achieves 29.0 return.\n"
     ]
    }
   ],
   "source": [
    "# Run this cell without modification\n",
    "\n",
    "eval_reward, eval_info = evaluate(\n",
    "    policy=lambda x: np.random.randint(2),\n",
    "    num_episodes=1,\n",
    "    env_name=\"CartPole-v1\",\n",
    "    render=\"rgb_array\",  # Visualize the behavior here in the cell \n",
    ")\n",
    "\n",
    "animate(eval_info[\"frames\"])\n",
    "\n",
    "print(\"A random agent achieves {} return.\".format(eval_reward))"
   ]
  },
  {
   "cell_type": "code",
   "execution_count": 16,
   "id": "957a5dbc",
   "metadata": {
    "colab": {
     "base_uri": "https://localhost:8080/"
    },
    "id": "957a5dbc",
    "outputId": "71a980c5-2bad-4727-f703-a4562af7028a",
    "scrolled": false
   },
   "outputs": [
    {
     "name": "stderr",
     "output_type": "stream",
     "text": [
      "[INFO] Iter 0, Step 9, episodic return is 9.40. {'episode_len': 9.0}\n"
     ]
    },
    {
     "name": "stdout",
     "output_type": "stream",
     "text": [
      "Setting up self.network with obs dim: 4 and action dim: 2\n"
     ]
    },
    {
     "name": "stderr",
     "output_type": "stream",
     "text": [
      "[INFO] Iter 100, Step 908, episodic return is 9.40. {'loss': 0.9946, 'episode_len': 8.0}\n",
      "[INFO] Iter 200, Step 1842, episodic return is 9.40. {'loss': 0.5442, 'episode_len': 10.0}\n",
      "[INFO] Iter 300, Step 2798, episodic return is 13.40. {'loss': 0.0509, 'episode_len': 11.0}\n",
      "[INFO] Iter 400, Step 3701, episodic return is 9.90. {'loss': 0.4603, 'episode_len': 8.0}\n",
      "[INFO] Iter 500, Step 4629, episodic return is 9.40. {'loss': 0.2514, 'episode_len': 7.0}\n",
      "[INFO] Iter 600, Step 5537, episodic return is 9.80. {'loss': 0.1388, 'episode_len': 9.0}\n",
      "[INFO] Iter 700, Step 6864, episodic return is 15.20. {'loss': 0.1813, 'episode_len': 13.0}\n",
      "[INFO] Iter 800, Step 8584, episodic return is 17.80. {'loss': 0.1999, 'episode_len': 18.0}\n",
      "[INFO] Iter 900, Step 11440, episodic return is 33.90. {'loss': 0.2225, 'episode_len': 39.0}\n",
      "[INFO] Iter 1000, Step 26614, episodic return is 183.90. {'loss': 0.3977, 'episode_len': 167.0}\n",
      "[INFO] Iter 1100, Step 47397, episodic return is 246.80. {'loss': 0.5519, 'episode_len': 193.0}\n",
      "[INFO] Iter 1200, Step 70376, episodic return is 214.20. {'loss': 0.5522, 'episode_len': 219.0}\n",
      "[INFO] Iter 1300, Step 90755, episodic return is 226.00. {'loss': 0.0988, 'episode_len': 204.0}\n",
      "[INFO] Iter 1400, Step 112506, episodic return is 210.70. {'loss': 0.052, 'episode_len': 210.0}\n",
      "[INFO] Iter 1500, Step 132882, episodic return is 203.90. {'loss': 0.0269, 'episode_len': 220.0}\n",
      "[INFO] Iter 1600, Step 153925, episodic return is 204.10. {'loss': 0.0293, 'episode_len': 228.0}\n",
      "[INFO] Iter 1700, Step 174891, episodic return is 205.20. {'loss': 0.0318, 'episode_len': 313.0}\n",
      "[INFO] Iter 1800, Step 195277, episodic return is 219.60. {'loss': 0.105, 'episode_len': 175.0}\n",
      "[INFO] Iter 1900, Step 216011, episodic return is 212.20. {'loss': 0.0558, 'episode_len': 175.0}\n",
      "[INFO] Iter 2000, Step 235681, episodic return is 197.00. {'loss': 1.244, 'episode_len': 181.0}\n",
      "[INFO] Iter 2100, Step 256756, episodic return is 222.10. {'loss': 0.0176, 'episode_len': 225.0}\n",
      "[INFO] Iter 2200, Step 277846, episodic return is 224.70. {'loss': 0.0215, 'episode_len': 171.0}\n",
      "[INFO] Iter 2300, Step 299303, episodic return is 227.10. {'loss': 0.0281, 'episode_len': 211.0}\n",
      "[INFO] Iter 2400, Step 322655, episodic return is 266.80. {'loss': 0.0249, 'episode_len': 355.0}\n",
      "[INFO] Iter 2500, Step 348099, episodic return is 285.50. {'loss': 0.0315, 'episode_len': 274.0}\n",
      "[INFO] Iter 2600, Step 377969, episodic return is 302.40. {'loss': 0.0222, 'episode_len': 252.0}\n",
      "[INFO] Iter 2700, Step 413171, episodic return is 268.00. {'loss': 5.0973, 'episode_len': 326.0}\n",
      "[INFO] Iter 2800, Step 446858, episodic return is 212.60. {'loss': 9.5363, 'episode_len': 192.0}\n",
      "[INFO] Iter 2900, Step 485462, episodic return is 415.90. {'loss': 0.0313, 'episode_len': 352.0}\n",
      "[INFO] Iter 3000, Step 525419, episodic return is 500.00. {'loss': 0.0937, 'episode_len': 298.0}\n",
      "[INFO] Iter 3000, episodic return 500.000 is greater than reward threshold 450.0. Congratulation! Now we exit the training process.\n"
     ]
    },
    {
     "name": "stdout",
     "output_type": "stream",
     "text": [
      "Environment is closed.\n"
     ]
    }
   ],
   "source": [
    "# Run this cell without modification\n",
    "\n",
    "pytorch_trainer, pytorch_stat = run(DQNTrainer, dict(\n",
    "    max_iteration=5000,\n",
    "    evaluate_interval=100,\n",
    "    learning_rate=0.001,\n",
    "    clip_norm=10.0,\n",
    "    memory_size=50000,\n",
    "    learn_start=1000,\n",
    "    eps=0.1,\n",
    "    target_update_freq=2000,\n",
    "    batch_size=128,\n",
    "    learn_freq=32,\n",
    "    env_name=\"CartPole-v1\",\n",
    "), reward_threshold=450.0)\n",
    "\n",
    "reward, _ = pytorch_trainer.evaluate()\n",
    "assert reward > 400.0, \"Check your codes. \" \\\n",
    "                       \"Your agent should achieve {} reward in 5000 iterations.\" \\\n",
    "                       \"But it achieve {} reward in evaluation.\".format(400.0, reward)\n",
    "\n",
    "pytorch_trainer.save(\"dqn_trainer_cartpole.pt\")\n",
    "\n",
    "# Should solve the task in 10 minutes"
   ]
  },
  {
   "cell_type": "code",
   "execution_count": 17,
   "id": "66a4cf9a",
   "metadata": {
    "colab": {
     "base_uri": "https://localhost:8080/",
     "height": 434
    },
    "id": "66a4cf9a",
    "outputId": "ac906699-4cd4-40ad-eaea-d41b975d6a14"
   },
   "outputs": [
    {
     "data": {
      "text/html": [
       "<table class=\"show_videos\" style=\"border-spacing:0px;\"><tr><td style=\"padding:1px;\"><video controls width=\"600\" height=\"400\" style=\"object-fit:cover;\" loop autoplay muted>\n",
       "      <source src=\"data:video/mp4;base64,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\" type=\"video/mp4\"/>\n",
       "      This browser does not support the video tag.\n",
       "      </video></td></tr></table>"
      ],
      "text/plain": [
       "<IPython.core.display.HTML object>"
      ]
     },
     "metadata": {},
     "output_type": "display_data"
    },
    {
     "name": "stdout",
     "output_type": "stream",
     "text": [
      "DQN agent achieves 500.0 return.\n"
     ]
    }
   ],
   "source": [
    "# Run this cell without modification\n",
    "\n",
    "# Render the learned behavior\n",
    "eval_reward, eval_info = evaluate(\n",
    "    policy=pytorch_trainer.policy,\n",
    "    num_episodes=1,\n",
    "    env_name=pytorch_trainer.env_name,\n",
    "    render=\"rgb_array\",  # Visualize the behavior here in the cell \n",
    ")\n",
    "\n",
    "animate(eval_info[\"frames\"])\n",
    "\n",
    "print(\"DQN agent achieves {} return.\".format(eval_reward))"
   ]
  },
  {
   "cell_type": "markdown",
   "id": "98b60f6c",
   "metadata": {},
   "source": [
    "### Section 3.4: Train DQN agents in MetaDrive"
   ]
  },
  {
   "cell_type": "code",
   "execution_count": 18,
   "id": "e93c9cea",
   "metadata": {
    "id": "e93c9cea"
   },
   "outputs": [],
   "source": [
    "# Run this cell without modification\n",
    "\n",
    "def register_metadrive():\n",
    "    try:\n",
    "        from metadrive.envs import MetaDriveEnv\n",
    "        from metadrive.utils.config import merge_config_with_unknown_keys\n",
    "    except ImportError as e:\n",
    "        print(\"Please install MetaDrive through: pip install git+https://github.com/decisionforce/metadrive\")\n",
    "        raise e\n",
    "\n",
    "    env_names = []\n",
    "    try:\n",
    "        class MetaDriveEnvTut(gym.Wrapper):\n",
    "            def __init__(self, config, *args, render_mode=None, **kwargs):\n",
    "                # Ignore render_mode\n",
    "                self._render_mode = render_mode\n",
    "                super().__init__(MetaDriveEnv(config))\n",
    "                self.action_space = gym.spaces.Discrete(int(np.prod(self.env.action_space.n)))\n",
    "\n",
    "            def reset(self, *args, seed=None, render_mode=None, options=None, **kwargs):\n",
    "                # Ignore seed and render_mode\n",
    "                return self.env.reset(*args, **kwargs)\n",
    "\n",
    "            def render(self):\n",
    "                return self.env.render(mode=self._render_mode)\n",
    "\n",
    "        def _make_env(*args, **kwargs):\n",
    "            return MetaDriveEnvTut(*args, **kwargs)\n",
    "\n",
    "        env_name = \"MetaDrive-Tut-Easy-v0\"\n",
    "        gym.register(id=env_name, entry_point=_make_env, kwargs={\"config\": dict(\n",
    "            map=\"S\",\n",
    "            start_seed=0,\n",
    "            num_scenarios=1,\n",
    "            horizon=200,\n",
    "            discrete_action=True,\n",
    "            discrete_steering_dim=3,\n",
    "            discrete_throttle_dim=3\n",
    "        )})\n",
    "        env_names.append(env_name)\n",
    "\n",
    "        env_name = \"MetaDrive-Tut-Hard-v0\"\n",
    "        gym.register(id=env_name, entry_point=_make_env, kwargs={\"config\": dict(\n",
    "            map=\"CCC\",\n",
    "            start_seed=0,\n",
    "            num_scenarios=10,\n",
    "            discrete_action=True,\n",
    "            discrete_steering_dim=5,\n",
    "            discrete_throttle_dim=5\n",
    "        )})\n",
    "        env_names.append(env_name)\n",
    "    except gym.error.Error as e:\n",
    "        print(\"Information when registering MetaDrive: \", e)\n",
    "    else:\n",
    "        print(\"Successfully registered MetaDrive environments: \", env_names)\n"
   ]
  },
  {
   "cell_type": "code",
   "execution_count": 19,
   "id": "89fb5d1e",
   "metadata": {
    "colab": {
     "base_uri": "https://localhost:8080/"
    },
    "id": "89fb5d1e",
    "outputId": "2eb2cf53-138d-4143-b36c-eadbcfa11be7"
   },
   "outputs": [
    {
     "name": "stderr",
     "output_type": "stream",
     "text": [
      "[INFO] No OpenGL_accelerate module loaded: No module named 'OpenGL_accelerate'\n"
     ]
    },
    {
     "name": "stdout",
     "output_type": "stream",
     "text": [
      "Successfully registered MetaDrive environments:  ['MetaDrive-Tut-Easy-v0', 'MetaDrive-Tut-Hard-v0']\n"
     ]
    }
   ],
   "source": [
    "# Run this cell without modification\n",
    "\n",
    "register_metadrive()"
   ]
  },
  {
   "cell_type": "code",
   "execution_count": 20,
   "id": "b580ec99",
   "metadata": {
    "colab": {
     "base_uri": "https://localhost:8080/"
    },
    "id": "b580ec99",
    "outputId": "08cd25dc-2ed5-46b5-e2ed-3ecf86e61942"
   },
   "outputs": [
    {
     "name": "stderr",
     "output_type": "stream",
     "text": [
      "\u001b[38;20m[INFO] MetaDrive version: 0.4.1.2\u001b[0m\n",
      "\u001b[38;20m[INFO] Sensors: [lidar: Lidar(50,), side_detector: SideDetector(), lane_line_detector: LaneLineDetector()]\u001b[0m\n",
      "\u001b[38;20m[INFO] Render Mode: none\u001b[0m\n",
      "\u001b[38;20m[INFO] Assets version: 0.4.1.2\u001b[0m\n",
      "\u001b[38;20m[INFO] Episode ended! Scenario Index: 0 Reason: out_of_road.\u001b[0m\n",
      "\u001b[38;20m[INFO] Episode ended! Scenario Index: 0 Reason: out_of_road.\u001b[0m\n",
      "\u001b[38;20m[INFO] Episode ended! Scenario Index: 0 Reason: out_of_road.\u001b[0m\n",
      "\u001b[38;20m[INFO] Episode ended! Scenario Index: 0 Reason: out_of_road.\u001b[0m\n",
      "\u001b[38;20m[INFO] Episode ended! Scenario Index: 0 Reason: out_of_road.\u001b[0m\n",
      "\u001b[38;20m[INFO] Episode ended! Scenario Index: 0 Reason: out_of_road.\u001b[0m\n"
     ]
    },
    {
     "name": "stdout",
     "output_type": "stream",
     "text": [
      "Setting up self.network with obs dim: 259 and action dim: 9\n"
     ]
    },
    {
     "name": "stderr",
     "output_type": "stream",
     "text": [
      "\u001b[38;20m[INFO] Episode ended! Scenario Index: 0 Reason: out_of_road.\u001b[0m\n",
      "\u001b[38;20m[INFO] Episode ended! Scenario Index: 0 Reason: out_of_road.\u001b[0m\n",
      "\u001b[38;20m[INFO] Episode ended! Scenario Index: 0 Reason: out_of_road.\u001b[0m\n",
      "\u001b[38;20m[INFO] Episode ended! Scenario Index: 0 Reason: out_of_road.\u001b[0m\n"
     ]
    },
    {
     "name": "stdout",
     "output_type": "stream",
     "text": [
      "Now your codes should be bug-free.\n"
     ]
    }
   ],
   "source": [
    "# Run this cell without modification\n",
    "\n",
    "# Build the test trainer.\n",
    "test_trainer = DQNTrainer(dict(env_name=\"MetaDrive-Tut-Easy-v0\"))\n",
    "\n",
    "# Test compute_values\n",
    "for _ in range(10):\n",
    "    fake_state = test_trainer.env.observation_space.sample()\n",
    "    processed_state = test_trainer.process_state(fake_state)\n",
    "    assert processed_state.shape == (test_trainer.obs_dim,), processed_state.shape\n",
    "    values = test_trainer.compute_values(processed_state)\n",
    "    assert values.shape == (test_trainer.act_dim,), values.shape\n",
    "\n",
    "    test_trainer.train()\n",
    "\n",
    "print(\"Now your codes should be bug-free.\")\n",
    "test_trainer.env.close()\n",
    "del test_trainer"
   ]
  },
  {
   "cell_type": "code",
   "execution_count": 21,
   "id": "675c9809",
   "metadata": {
    "colab": {
     "base_uri": "https://localhost:8080/"
    },
    "id": "675c9809",
    "outputId": "a45d5773-fc88-464b-ad5c-10dcf94b599f",
    "scrolled": true
   },
   "outputs": [
    {
     "name": "stdout",
     "output_type": "stream",
     "text": [
      "Setting up self.network with obs dim: 259 and action dim: 9\n"
     ]
    },
    {
     "name": "stderr",
     "output_type": "stream",
     "text": [
      "[INFO] Iter 0, Step 199, episodic return is 0.01. {'episode_len': 199.0}\n",
      "[INFO] Iter 10, Step 2189, episodic return is -0.81. {'loss': 0.0006, 'episode_len': 199.0}\n",
      "[INFO] Iter 20, Step 3039, episodic return is -2.94. {'loss': 0.102, 'episode_len': 28.0, 'success_rate': 0.0}\n",
      "[INFO] Iter 30, Step 4262, episodic return is 125.54. {'loss': 0.166, 'episode_len': 71.0, 'success_rate': 0.0}\n",
      "[INFO] Iter 30, episodic return 125.539 is greater than reward threshold 120. Congratulation! Now we exit the training process.\n"
     ]
    },
    {
     "name": "stdout",
     "output_type": "stream",
     "text": [
      "Environment is closed.\n",
      "Evaluating 1/1 episodes. We are in 1/1000 steps. Current episode reward: 0.000\n",
      "Evaluating 1/1 episodes. We are in 51/1000 steps. Current episode reward: 35.980\n"
     ]
    },
    {
     "data": {
      "text/html": [
       "<table class=\"show_videos\" style=\"border-spacing:0px;\"><tr><td style=\"padding:1px;\"><video controls width=\"1000\" height=\"1000\" style=\"object-fit:cover;\" loop autoplay muted>\n",
       "      <source src=\"data:video/mp4;base64,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\" type=\"video/mp4\"/>\n",
       "      This browser does not support the video tag.\n",
       "      </video></td></tr></table>"
      ],
      "text/plain": [
       "<IPython.core.display.HTML object>"
      ]
     },
     "metadata": {},
     "output_type": "display_data"
    },
    {
     "name": "stdout",
     "output_type": "stream",
     "text": [
      "DQN agent achieves 125.53851204681443 return in MetaDrive easy environment.\n"
     ]
    }
   ],
   "source": [
    "# Run this cell without modification\n",
    "\n",
    "env_name = \"MetaDrive-Tut-Easy-v0\"\n",
    "\n",
    "pytorch_trainer2, _ = run(DQNTrainer, dict(\n",
    "    max_episode_length=200,\n",
    "    max_iteration=5000,\n",
    "    evaluate_interval=10,\n",
    "    evaluate_num_episodes=10,\n",
    "    learning_rate=0.0001,\n",
    "    clip_norm=10.0,\n",
    "    memory_size=1000000,\n",
    "    learn_start=2000,\n",
    "    eps=0.1,\n",
    "    target_update_freq=5000,\n",
    "    learn_freq=16,\n",
    "    batch_size=256,\n",
    "    env_name=env_name\n",
    "), reward_threshold=120)\n",
    "\n",
    "pytorch_trainer2.save(\"dqn_trainer_metadrive_easy.pt\")\n",
    "\n",
    "# Run this cell without modification\n",
    "\n",
    "# Render the learned behavior\n",
    "# NOTE: The learned agent is marked by green color.\n",
    "eval_reward, eval_info = evaluate(\n",
    "    policy=pytorch_trainer2.policy,\n",
    "    num_episodes=1,\n",
    "    env_name=pytorch_trainer2.env_name,\n",
    "    render=\"topdown\",  # Visualize the behaviors in top-down view\n",
    "    verbose=True\n",
    ")\n",
    "\n",
    "frames = [pygame.surfarray.array3d(f).swapaxes(0, 1) for f in eval_info[\"frames\"]]\n",
    "\n",
    "animate(frames)\n",
    "\n",
    "print(\"DQN agent achieves {} return in MetaDrive easy environment.\".format(eval_reward))"
   ]
  },
  {
   "cell_type": "markdown",
   "id": "2c86871e",
   "metadata": {},
   "source": [
    "## Section 4: Policy gradient methods - REINFORCE\n",
    "\n",
    "(30 / 100 points)\n",
    "\n",
    "Unlike the supervised learning, in RL the optimization objective, the episodic return, is not differentiable w.r.t. the neural network parameters. This can be solved via ***Policy Gradient***. It can be proved that policy gradient is an unbiased estimator of the gradient of the objective.\n",
    "\n",
    "Concretely, let's consider such optimization objective:\n",
    "\n",
    "$$Q = \\mathbb E_{\\text{possible trajectories}} \\sum_t r(a_t, s_t) = \\sum_{s_0, a_0,..} p(s_0, a_0, ..., s_t, a_t) r(s_0, a_0, ..., s_t, a_t) = \\sum_{\\tau} p(\\tau)r(\\tau)$$ \n",
    "\n",
    "wherein $\\sum_t r(a_t, s_t) = r(\\tau)$ is the return of trajectory $\\tau = (s_0, a_0, ...)$. We remove the discount factor for simplicity.\n",
    "Since we want to maximize Q, we can simply compute the gradient of Q w.r.t. parameter $\\theta$ (which is implictly included in $p(\\tau)$):\n",
    "\n",
    "$$\\nabla_\\theta Q = \\nabla_\\theta \\sum_{\\tau} p(\\tau)r(\\tau) = \\sum_{\\tau} r(\\tau) \\nabla_\\theta p(\\tau)$$\n",
    "\n",
    "wherein we've applied a famous trick: $\\nabla_\\theta p(\\tau) = p(\\tau)\\cfrac{\\nabla_\\theta p(\\tau)}{p(\\tau)} = p(\\tau)\\nabla_\\theta \\log p(\\tau)$. Here the $r(\\tau)$ will be determined when $\\tau$ is determined. So it has nothing to do with the policy. We can move it out from the gradient.\n",
    "\n",
    "Introducing a log term can change the product of probabilities to sum of log probabilities. Now we can expand the log of product above to sum of log:\n",
    "\n",
    "$$p_\\theta(\\tau) = p(s_0, a_0, ...) = p(s_0) \\prod_t \\pi_\\theta (a_t|s_t) p(s_{t+1}|s_t, a_t)$$\n",
    "\n",
    "$$\\log p_\\theta (\\tau) = \\log p(s_0) + \\sum_t \\log \\pi_\\theta(a_t|s_t) + \\sum_t \\log p(s_{t+1}|s_t, a_t)$$\n",
    "\n",
    "You can find that the first and third term are not correlated to the parameter of policy $\\pi_\\theta(\\cdot)$. So when we compute $\\nabla_\\theta Q$, we find \n",
    "\n",
    "$$\\nabla_\\theta Q =\n",
    "\\sum_{\\tau} r(\\tau) \\nabla_\\theta p(\\tau) =  \n",
    "\\sum_{\\tau} r(\\tau) p(\\tau)\\nabla_\\theta \\log p(\\tau) =\n",
    "\\sum p_\\theta(\\tau) ( \\sum_t  \\nabla_\\theta \\log \\pi_\\theta(a_t|s_t) ) r(\\tau) d\\tau$$\n",
    "\n",
    "When we sample sufficient amount of data from the environment, the above equation can be estimated via:\n",
    "\n",
    "$$\\nabla_\\theta Q =\\cfrac{1}{N}\\sum_{i=1}^N [( \\sum_t  \\nabla_\\theta \\log \\pi_\\theta(a_{i,t}|s_{i,t}) (\\sum_{t'=t} \\gamma^{t'-t} r(s_{i,t'}, a_{i,t'}) )]$$\n",
    "\n",
    "This algorithm is called REINFORCE algorithm, which is a Monte Carlo Policy Gradient algorithm with long history. In this section, we will implement the it using pytorch."
   ]
  },
  {
   "cell_type": "markdown",
   "id": "3f3f6bf3",
   "metadata": {},
   "source": [
    "The policy network is composed by two parts: \n",
    "\n",
    "1. A basic neural network serves as the function approximator. It output raw values parameterizing the action distribution given current observation. We will reuse PytorchModel here.\n",
    "2. A distribution layer builds upon the neural network to wrap the raw logits output from neural network to a distribution and provides API for sampling action and computing log probability."
   ]
  },
  {
   "cell_type": "markdown",
   "id": "20b067b5",
   "metadata": {},
   "source": [
    "### Section 4.1: Build REINFORCE"
   ]
  },
  {
   "cell_type": "code",
   "execution_count": 39,
   "id": "b49f2b98",
   "metadata": {},
   "outputs": [],
   "source": [
    "# Solve the TODOs and remove `pass`\n",
    "\n",
    "class PGNetwork(nn.Module):\n",
    "    def __init__(self, obs_dim, act_dim, hidden_units=128):\n",
    "        super(PGNetwork, self).__init__()\n",
    "        self.network = PytorchModel(obs_dim, act_dim, hidden_units)\n",
    "\n",
    "    def forward(self, obs):\n",
    "        logit = self.network(obs)\n",
    "\n",
    "        # TODO: Create an object of the class \"torch.distributions.Categorical\" \n",
    "        # Then sample an action from it.\n",
    "        probs = torch.softmax(logit, dim=-1)\n",
    "        action = torch.distributions.Categorical(probs).sample()\n",
    "\n",
    "        return action\n",
    "\n",
    "    def log_prob(self, obs, act):\n",
    "        logits = self.network(obs)\n",
    "        \n",
    "        # TODO: Create an object of the class \"torch.distributions.Categorical\" \n",
    "        # Then get the log probability of the action `act` in this distribution.\n",
    "        probs = torch.softmax(logits, dim=-1)\n",
    "        log_prob = torch.distributions.Categorical(probs).log_prob(act)\n",
    "\n",
    "        return log_prob\n",
    "\n",
    "# Note that we do not implement GaussianPolicy here. So we can't\n",
    "# apply our algorithm to the environment with continous action.\n"
   ]
  },
  {
   "cell_type": "code",
   "execution_count": 40,
   "id": "3d772f93",
   "metadata": {},
   "outputs": [],
   "source": [
    "# Solve the TODOs and remove `pass`\n",
    "\n",
    "PG_DEFAULT_CONFIG = merge_config(dict(\n",
    "    normalize_advantage=True,\n",
    "\n",
    "    clip_norm=10.0,\n",
    "    clip_gradient=True,\n",
    "\n",
    "    hidden_units=100,\n",
    "\n",
    "    max_iteration=1000,\n",
    "\n",
    "    train_batch_size=1000,\n",
    "    gamma=0.99,\n",
    "    learning_rate=0.001,\n",
    "\n",
    "    env_name=\"CartPole-v1\",\n",
    "\n",
    "), DEFAULT_CONFIG)\n",
    "\n",
    "\n",
    "class PGTrainer(AbstractTrainer):\n",
    "    def __init__(self, config=None):\n",
    "        config = merge_config(config, PG_DEFAULT_CONFIG)\n",
    "        super().__init__(config)\n",
    "\n",
    "        self.iteration = 0\n",
    "        self.start_time = time.time()\n",
    "        self.iteration_time = self.start_time\n",
    "        self.total_timesteps = 0\n",
    "        self.total_episodes = 0\n",
    "\n",
    "        # build the model\n",
    "        self.initialize_parameters()\n",
    "\n",
    "    def initialize_parameters(self):\n",
    "        \"\"\"Build the policy network and related optimizer\"\"\"\n",
    "        # Detect whether you have GPU or not. Remember to call X.to(self.device)\n",
    "        # if necessary.\n",
    "        self.device = torch.device(\n",
    "            \"cuda\" if torch.cuda.is_available() else \"cpu\"\n",
    "        )\n",
    "\n",
    "        # TODO Build the policy network using CategoricalPolicy\n",
    "        # Hint: Remember to pass config[\"hidden_units\"], and set policy network\n",
    "        #  to the device you are using.\n",
    "#         self.network = PGNetwork(self.obs_dim, self.act_dim, PG_DEFAULT_CONFIG['hidden_units'])\n",
    "#         pass\n",
    "        self.network = PGNetwork(\n",
    "            self.obs_dim, self.act_dim,\n",
    "            hidden_units=self.config[\"hidden_units\"]\n",
    "        ).to(self.device)\n",
    "\n",
    "        # Build the Adam optimizer.\n",
    "        self.optimizer = torch.optim.Adam(\n",
    "            self.network.parameters(),\n",
    "            lr=self.config[\"learning_rate\"]\n",
    "        )\n",
    "\n",
    "    def to_tensor(self, array):\n",
    "        \"\"\"Transform a numpy array to a pytorch tensor\"\"\"\n",
    "        return torch.from_numpy(array).type(torch.float32).to(self.device)\n",
    "\n",
    "    def to_array(self, tensor):\n",
    "        \"\"\"Transform a pytorch tensor to a numpy array\"\"\"\n",
    "        ret = tensor.cpu().detach().numpy()\n",
    "        if ret.size == 1:\n",
    "            ret = ret.item()\n",
    "        return ret\n",
    "\n",
    "    def save(self, loc=\"model.pt\"):\n",
    "        torch.save(self.network.state_dict(), loc)\n",
    "\n",
    "    def load(self, loc=\"model.pt\"):\n",
    "        self.network.load_state_dict(torch.load(loc))\n",
    "\n",
    "    def compute_action(self, observation, eps=None):\n",
    "        \"\"\"Compute the action for single observation. eps is useless here.\"\"\"\n",
    "        assert observation.ndim == 1\n",
    "        # TODO: Sample an action from the action distribution given by the policy.\n",
    "        # Hint: The input of policy network is a tensor with the first dimension to the \n",
    "        #  batch dimension. Therefore you need to expand the first dimension of the observation\n",
    "        #  and converte it to a tensor before feeding it to the policy network.\n",
    "        obs = self.to_tensor(observation)\n",
    "        action = self.network(obs).item()\n",
    "        return action\n",
    "\n",
    "    def compute_log_probs(self, observation, action):\n",
    "        \"\"\"Compute the log probabilities of a batch of state-action pair\"\"\"\n",
    "        # TODO: Use the function of the policy network to get log probs.\n",
    "        # Hint: Remember to transform the data into tensor before feeding it into the network.\n",
    "        obs = self.to_tensor(observation)\n",
    "        act = self.to_tensor(action)\n",
    "        log_probs = self.network.log_prob(obs, act)\n",
    "        return log_probs\n",
    "\n",
    "    def update_network(self, processed_samples):\n",
    "        \"\"\"Update the policy network\"\"\"\n",
    "        advantages = self.to_tensor(processed_samples[\"advantages\"])\n",
    "        flat_obs = np.concatenate(processed_samples[\"obs\"])\n",
    "        flat_act = np.concatenate(processed_samples[\"act\"])\n",
    "\n",
    "        self.network.train()\n",
    "        self.optimizer.zero_grad()\n",
    "\n",
    "        log_probs = self.compute_log_probs(flat_obs, flat_act)\n",
    "\n",
    "        assert log_probs.shape == advantages.shape, \"log_probs shape {} is not \" \\\n",
    "                                                    \"compatible with advantages {}\".format(log_probs.shape,\n",
    "                                                                                           advantages.shape)\n",
    "\n",
    "        # TODO: Compute the policy gradient loss.\n",
    "        loss = -torch.mean(log_probs * advantages)\n",
    "\n",
    "        loss.backward()\n",
    "\n",
    "        # Clip the gradient\n",
    "        torch.nn.utils.clip_grad_norm_(\n",
    "            self.network.parameters(), self.config[\"clip_gradient\"]\n",
    "        )\n",
    "\n",
    "        self.optimizer.step()\n",
    "        self.network.eval()\n",
    "\n",
    "        update_info = {\n",
    "            \"policy_loss\": loss.item(),\n",
    "            \"mean_log_prob\": torch.mean(log_probs).item(),\n",
    "            \"mean_advantage\": torch.mean(advantages).item()\n",
    "        }\n",
    "        return update_info\n",
    "\n",
    "    # ===== Training-related functions =====\n",
    "    def collect_samples(self):\n",
    "        \"\"\"Here we define the pipeline to collect sample even though\n",
    "        any specify functions are not implemented yet.\n",
    "        \"\"\"\n",
    "        iter_timesteps = 0\n",
    "        iter_episodes = 0\n",
    "        episode_lens = []\n",
    "        episode_rewards = []\n",
    "        episode_obs_list = []\n",
    "        episode_act_list = []\n",
    "        episode_reward_list = []\n",
    "        success_list = []\n",
    "        while iter_timesteps <= self.config[\"train_batch_size\"]:\n",
    "            obs_list, act_list, reward_list = [], [], []\n",
    "            obs, info = self.env.reset()\n",
    "            steps = 0\n",
    "            episode_reward = 0\n",
    "            while True:\n",
    "                act = self.compute_action(obs)\n",
    "\n",
    "                next_obs, reward, terminated, truncated, step_info = self.env.step(act)\n",
    "                done = terminated or truncated\n",
    "\n",
    "                obs_list.append(obs)\n",
    "                act_list.append(act)\n",
    "                reward_list.append(reward)\n",
    "\n",
    "                obs = next_obs.copy()\n",
    "                steps += 1\n",
    "                episode_reward += reward\n",
    "                if done or steps > self.config[\"max_episode_length\"]:\n",
    "                    if \"arrive_dest\" in step_info:\n",
    "                        success_list.append(step_info[\"arrive_dest\"])\n",
    "                    break\n",
    "            iter_timesteps += steps\n",
    "            iter_episodes += 1\n",
    "            episode_rewards.append(episode_reward)\n",
    "            episode_lens.append(steps)\n",
    "            episode_obs_list.append(np.array(obs_list, dtype=np.float32))\n",
    "            episode_act_list.append(np.array(act_list, dtype=np.float32))\n",
    "            episode_reward_list.append(np.array(reward_list, dtype=np.float32))\n",
    "\n",
    "        # The return `samples` is a dict that contains several key-value pair.\n",
    "        # The value of each key-value pair is a list storing the data in one episode.\n",
    "        samples = {\n",
    "            \"obs\": episode_obs_list,\n",
    "            \"act\": episode_act_list,\n",
    "            \"reward\": episode_reward_list\n",
    "        }\n",
    "\n",
    "        sample_info = {\n",
    "            \"iter_timesteps\": iter_timesteps,\n",
    "            \"iter_episodes\": iter_episodes,\n",
    "            \"performance\": np.mean(episode_rewards),  # help drawing figures\n",
    "            \"ep_len\": float(np.mean(episode_lens)),\n",
    "            \"ep_ret\": float(np.mean(episode_rewards)),\n",
    "            \"episode_len\": sum(episode_lens),\n",
    "            \"success_rate\": np.mean(success_list)\n",
    "        }\n",
    "        return samples, sample_info\n",
    "\n",
    "    def process_samples(self, samples):\n",
    "        \"\"\"Process samples and add advantages in it\"\"\"\n",
    "        values = []\n",
    "        for reward_list in samples[\"reward\"]:\n",
    "            # reward_list contains rewards in one episode\n",
    "            returns = np.zeros_like(reward_list, dtype=np.float32)\n",
    "            Q = 0\n",
    "\n",
    "            # TODO: Scan the reward_list in a reverse order and compute the\n",
    "            # discounted return at each time step. Fill the array `returns`\n",
    "            for i in reversed(range(len(reward_list))):\n",
    "                Q = reward_list[i] + self.config[\"gamma\"] * Q\n",
    "                returns[i] = Q\n",
    "                \n",
    "\n",
    "            values.append(returns)\n",
    "\n",
    "        # We call the values advantage here.\n",
    "        advantages = np.concatenate(values)\n",
    "\n",
    "        if self.config[\"normalize_advantage\"]:\n",
    "            # TODO: normalize the advantage so that it's mean is\n",
    "            # almost 0 and the its standard deviation is almost 1.\n",
    "            advantages = (advantages - np.mean(advantages)) / (np.std(advantages) + 1e-8)\n",
    "\n",
    "        samples[\"advantages\"] = advantages\n",
    "        return samples, {}\n",
    "\n",
    "    # ===== Training iteration =====\n",
    "    def train(self, iteration=None):\n",
    "        \"\"\"Here we defined the training pipeline using the abstract\n",
    "        functions.\"\"\"\n",
    "        info = dict(iteration=iteration)\n",
    "\n",
    "        # Collect samples\n",
    "        samples, sample_info = self.collect_samples()\n",
    "        info.update(sample_info)\n",
    "\n",
    "        # Process samples\n",
    "        processed_samples, processed_info = self.process_samples(samples)\n",
    "        info.update(processed_info)\n",
    "\n",
    "        # Update the model\n",
    "        update_info = self.update_network(processed_samples)\n",
    "        info.update(update_info)\n",
    "\n",
    "        now = time.time()\n",
    "        self.iteration += 1\n",
    "        self.total_timesteps += info.pop(\"iter_timesteps\")\n",
    "        self.total_episodes += info.pop(\"iter_episodes\")\n",
    "\n",
    "        # info[\"iter_time\"] = now - self.iteration_time\n",
    "        # info[\"total_time\"] = now - self.start_time\n",
    "        info[\"total_episodes\"] = self.total_episodes\n",
    "        info[\"total_timesteps\"] = self.total_timesteps\n",
    "        self.iteration_time = now\n",
    "\n",
    "        # print(\"INFO: \", info)\n",
    "\n",
    "        return info\n"
   ]
  },
  {
   "cell_type": "markdown",
   "id": "1009bfc7",
   "metadata": {},
   "source": [
    "### Section 4.2: Test REINFORCE"
   ]
  },
  {
   "cell_type": "code",
   "execution_count": 41,
   "id": "4fe25068",
   "metadata": {
    "scrolled": false
   },
   "outputs": [
    {
     "name": "stdout",
     "output_type": "stream",
     "text": [
      "Test Passed!\n"
     ]
    }
   ],
   "source": [
    "# Run this cell without modification\n",
    "\n",
    "# Test advantage computing\n",
    "test_trainer = PGTrainer({\"normalize_advantage\": False})\n",
    "test_trainer.train()\n",
    "fake_sample = {\"reward\": [[2, 2, 2, 2, 2]]}\n",
    "np.testing.assert_almost_equal(\n",
    "    test_trainer.process_samples(fake_sample)[0][\"reward\"][0],\n",
    "    fake_sample[\"reward\"][0]\n",
    ")\n",
    "np.testing.assert_almost_equal(\n",
    "    test_trainer.process_samples(fake_sample)[0][\"advantages\"],\n",
    "    np.array([9.80199, 7.880798, 5.9402, 3.98, 2.], dtype=np.float32)\n",
    ")\n",
    "\n",
    "# Test advantage normalization\n",
    "test_trainer = PGTrainer(\n",
    "    {\"normalize_advantage\": True, \"env_name\": \"CartPole-v1\"})\n",
    "test_adv = test_trainer.process_samples(fake_sample)[0][\"advantages\"]\n",
    "np.testing.assert_almost_equal(test_adv.mean(), 0.0)\n",
    "np.testing.assert_almost_equal(test_adv.std(), 1.0)\n",
    "\n",
    "# Test the shape of functions' returns\n",
    "fake_observation = np.array([\n",
    "    test_trainer.env.observation_space.sample() for i in range(10)\n",
    "])\n",
    "fake_action = np.array([\n",
    "    test_trainer.env.action_space.sample() for i in range(10)\n",
    "])\n",
    "assert test_trainer.to_tensor(fake_observation).shape == torch.Size([10, 4])\n",
    "assert np.array(test_trainer.compute_action(fake_observation[0])).shape == ()\n",
    "assert test_trainer.compute_log_probs(fake_observation, fake_action).shape == \\\n",
    "       torch.Size([10])\n",
    "\n",
    "print(\"Test Passed!\")\n"
   ]
  },
  {
   "cell_type": "markdown",
   "id": "18bee50d",
   "metadata": {},
   "source": [
    "### Section 4.3: Train REINFORCE in CartPole and see the impact of advantage normalization"
   ]
  },
  {
   "cell_type": "code",
   "execution_count": 43,
   "id": "17b6095d",
   "metadata": {
    "scrolled": false
   },
   "outputs": [
    {
     "name": "stderr",
     "output_type": "stream",
     "text": [
      "[INFO] Iter 0, Step 211, episodic return is 28.70. {'iteration': 0.0, 'performance': 23.4444, 'ep_len': 23.4444, 'ep_ret': 23.4444, 'episode_len': 211.0, 'policy_loss': 10.0138, 'mean_log_prob': -0.6888, 'mean_advantage': 14.5292, 'total_episodes': 9.0, 'total_timesteps': 211.0}\n",
      "[INFO] Iter 10, Step 2355, episodic return is 20.20. {'iteration': 10.0, 'performance': 29.0, 'ep_len': 29.0, 'ep_ret': 29.0, 'episode_len': 203.0, 'policy_loss': 9.8134, 'mean_log_prob': -0.6792, 'mean_advantage': 14.6762, 'total_episodes': 93.0, 'total_timesteps': 2355.0}\n",
      "[INFO] Iter 20, Step 4536, episodic return is 40.90. {'iteration': 20.0, 'performance': 52.0, 'ep_len': 52.0, 'ep_ret': 52.0, 'episode_len': 208.0, 'policy_loss': 18.6725, 'mean_log_prob': -0.6524, 'mean_advantage': 29.042, 'total_episodes': 152.0, 'total_timesteps': 4536.0}\n",
      "[INFO] Iter 30, Step 6718, episodic return is 61.30. {'iteration': 30.0, 'performance': 44.2, 'ep_len': 44.2, 'ep_ret': 44.2, 'episode_len': 221.0, 'policy_loss': 13.1141, 'mean_log_prob': -0.6185, 'mean_advantage': 21.5296, 'total_episodes': 206.0, 'total_timesteps': 6718.0}\n",
      "[INFO] Iter 40, Step 9006, episodic return is 55.30. {'iteration': 40.0, 'performance': 51.5, 'ep_len': 51.5, 'ep_ret': 51.5, 'episode_len': 206.0, 'policy_loss': 14.9876, 'mean_log_prob': -0.6232, 'mean_advantage': 24.8151, 'total_episodes': 248.0, 'total_timesteps': 9006.0}\n",
      "[INFO] Iter 50, Step 11264, episodic return is 45.80. {'iteration': 50.0, 'performance': 51.75, 'ep_len': 51.75, 'ep_ret': 51.75, 'episode_len': 207.0, 'policy_loss': 13.7966, 'mean_log_prob': -0.5999, 'mean_advantage': 23.577, 'total_episodes': 293.0, 'total_timesteps': 11264.0}\n",
      "[INFO] Iter 60, Step 13529, episodic return is 45.30. {'iteration': 60.0, 'performance': 45.8, 'ep_len': 45.8, 'ep_ret': 45.8, 'episode_len': 229.0, 'policy_loss': 13.8141, 'mean_log_prob': -0.6393, 'mean_advantage': 23.0393, 'total_episodes': 344.0, 'total_timesteps': 13529.0}\n",
      "[INFO] Iter 70, Step 15909, episodic return is 76.60. {'iteration': 70.0, 'performance': 72.0, 'ep_len': 72.0, 'ep_ret': 72.0, 'episode_len': 216.0, 'policy_loss': 19.0677, 'mean_log_prob': -0.6042, 'mean_advantage': 31.9971, 'total_episodes': 385.0, 'total_timesteps': 15909.0}\n",
      "[INFO] Iter 80, Step 18535, episodic return is 97.00. {'iteration': 80.0, 'performance': 111.0, 'ep_len': 111.0, 'ep_ret': 111.0, 'episode_len': 333.0, 'policy_loss': 23.3833, 'mean_log_prob': -0.5861, 'mean_advantage': 40.8443, 'total_episodes': 411.0, 'total_timesteps': 18535.0}\n",
      "[INFO] Iter 90, Step 21144, episodic return is 153.30. {'iteration': 90.0, 'performance': 167.5, 'ep_len': 167.5, 'ep_ret': 167.5, 'episode_len': 335.0, 'policy_loss': 30.2046, 'mean_log_prob': -0.5822, 'mean_advantage': 51.8901, 'total_episodes': 429.0, 'total_timesteps': 21144.0}\n",
      "[INFO] Iter 100, Step 23407, episodic return is 140.90. {'iteration': 100.0, 'performance': 144.5, 'ep_len': 144.5, 'ep_ret': 144.5, 'episode_len': 289.0, 'policy_loss': 28.8959, 'mean_log_prob': -0.5753, 'mean_advantage': 50.1776, 'total_episodes': 443.0, 'total_timesteps': 23407.0}\n",
      "[INFO] Iter 110, Step 26505, episodic return is 172.30. {'iteration': 110.0, 'performance': 183.0, 'ep_len': 183.0, 'ep_ret': 183.0, 'episode_len': 366.0, 'policy_loss': 30.8816, 'mean_log_prob': -0.5646, 'mean_advantage': 54.6413, 'total_episodes': 461.0, 'total_timesteps': 26505.0}\n",
      "[INFO] Iter 120, Step 29183, episodic return is 194.90. {'iteration': 120.0, 'performance': 201.0, 'ep_len': 201.0, 'ep_ret': 201.0, 'episode_len': 201.0, 'policy_loss': 31.1902, 'mean_log_prob': -0.5391, 'mean_advantage': 57.2793, 'total_episodes': 476.0, 'total_timesteps': 29183.0}\n",
      "[INFO] Iter 130, Step 31920, episodic return is 183.20. {'iteration': 130.0, 'performance': 191.0, 'ep_len': 191.0, 'ep_ret': 191.0, 'episode_len': 382.0, 'policy_loss': 30.0051, 'mean_log_prob': -0.5484, 'mean_advantage': 55.8079, 'total_episodes': 491.0, 'total_timesteps': 31920.0}\n",
      "[INFO] Iter 140, Step 34949, episodic return is 164.50. {'iteration': 140.0, 'performance': 156.0, 'ep_len': 156.0, 'ep_ret': 156.0, 'episode_len': 312.0, 'policy_loss': 26.8494, 'mean_log_prob': -0.5325, 'mean_advantage': 51.1461, 'total_episodes': 508.0, 'total_timesteps': 34949.0}\n",
      "[INFO] Iter 150, Step 37739, episodic return is 82.30. {'iteration': 150.0, 'performance': 75.3333, 'ep_len': 75.3333, 'ep_ret': 75.3333, 'episode_len': 226.0, 'policy_loss': 19.2765, 'mean_log_prob': -0.5396, 'mean_advantage': 35.2337, 'total_episodes': 534.0, 'total_timesteps': 37739.0}\n",
      "[INFO] Iter 160, Step 40358, episodic return is 103.00. {'iteration': 160.0, 'performance': 129.0, 'ep_len': 129.0, 'ep_ret': 129.0, 'episode_len': 258.0, 'policy_loss': 24.084, 'mean_log_prob': -0.5424, 'mean_advantage': 44.5516, 'total_episodes': 558.0, 'total_timesteps': 40358.0}\n",
      "[INFO] Iter 170, Step 42969, episodic return is 145.20. {'iteration': 170.0, 'performance': 152.5, 'ep_len': 152.5, 'ep_ret': 152.5, 'episode_len': 305.0, 'policy_loss': 24.3078, 'mean_log_prob': -0.4932, 'mean_advantage': 50.7296, 'total_episodes': 579.0, 'total_timesteps': 42969.0}\n",
      "[INFO] Iter 180, Step 45657, episodic return is 177.30. {'iteration': 180.0, 'performance': 137.5, 'ep_len': 137.5, 'ep_ret': 137.5, 'episode_len': 275.0, 'policy_loss': 23.8389, 'mean_log_prob': -0.5045, 'mean_advantage': 46.2987, 'total_episodes': 598.0, 'total_timesteps': 45657.0}\n",
      "[INFO] Iter 190, Step 48571, episodic return is 178.40. {'iteration': 190.0, 'performance': 162.5, 'ep_len': 162.5, 'ep_ret': 162.5, 'episode_len': 325.0, 'policy_loss': 27.1604, 'mean_log_prob': -0.5313, 'mean_advantage': 51.8776, 'total_episodes': 614.0, 'total_timesteps': 48571.0}\n",
      "[INFO] Iter 200, Step 51119, episodic return is 185.60. {'iteration': 200.0, 'performance': 201.0, 'ep_len': 201.0, 'ep_ret': 201.0, 'episode_len': 201.0, 'policy_loss': 30.1209, 'mean_log_prob': -0.5362, 'mean_advantage': 57.2793, 'total_episodes': 628.0, 'total_timesteps': 51119.0}\n",
      "[INFO] Iter 210, Step 54142, episodic return is 133.90. {'iteration': 210.0, 'performance': 131.5, 'ep_len': 131.5, 'ep_ret': 131.5, 'episode_len': 263.0, 'policy_loss': 21.0775, 'mean_log_prob': -0.4911, 'mean_advantage': 44.8852, 'total_episodes': 648.0, 'total_timesteps': 54142.0}\n",
      "[INFO] Iter 220, Step 56934, episodic return is 85.80. {'iteration': 220.0, 'performance': 110.0, 'ep_len': 110.0, 'ep_ret': 110.0, 'episode_len': 220.0, 'policy_loss': 21.2541, 'mean_log_prob': -0.5333, 'mean_advantage': 39.8065, 'total_episodes': 675.0, 'total_timesteps': 56934.0}\n",
      "[INFO] Iter 230, Step 59495, episodic return is 92.00. {'iteration': 230.0, 'performance': 67.25, 'ep_len': 67.25, 'ep_ret': 67.25, 'episode_len': 269.0, 'policy_loss': 15.2584, 'mean_log_prob': -0.511, 'mean_advantage': 31.0426, 'total_episodes': 706.0, 'total_timesteps': 59495.0}\n",
      "[INFO] Iter 240, Step 62138, episodic return is 130.90. {'iteration': 240.0, 'performance': 145.5, 'ep_len': 145.5, 'ep_ret': 145.5, 'episode_len': 291.0, 'policy_loss': 23.9079, 'mean_log_prob': -0.5003, 'mean_advantage': 47.8691, 'total_episodes': 726.0, 'total_timesteps': 62138.0}\n",
      "[INFO] Iter 250, Step 64866, episodic return is 140.00. {'iteration': 250.0, 'performance': 121.5, 'ep_len': 121.5, 'ep_ret': 121.5, 'episode_len': 243.0, 'policy_loss': 20.3706, 'mean_log_prob': -0.4815, 'mean_advantage': 42.8396, 'total_episodes': 747.0, 'total_timesteps': 64866.0}\n",
      "[INFO] Iter 260, Step 67424, episodic return is 145.50. {'iteration': 260.0, 'performance': 143.0, 'ep_len': 143.0, 'ep_ret': 143.0, 'episode_len': 286.0, 'policy_loss': 22.8497, 'mean_log_prob': -0.4956, 'mean_advantage': 47.6988, 'total_episodes': 767.0, 'total_timesteps': 67424.0}\n",
      "[INFO] Iter 270, Step 70312, episodic return is 159.40. {'iteration': 270.0, 'performance': 127.0, 'ep_len': 127.0, 'ep_ret': 127.0, 'episode_len': 254.0, 'policy_loss': 22.8077, 'mean_log_prob': -0.526, 'mean_advantage': 43.9093, 'total_episodes': 787.0, 'total_timesteps': 70312.0}\n",
      "[INFO] Iter 280, Step 73230, episodic return is 168.10. {'iteration': 280.0, 'performance': 201.0, 'ep_len': 201.0, 'ep_ret': 201.0, 'episode_len': 201.0, 'policy_loss': 30.0237, 'mean_log_prob': -0.5209, 'mean_advantage': 57.2793, 'total_episodes': 805.0, 'total_timesteps': 73230.0}\n"
     ]
    },
    {
     "name": "stderr",
     "output_type": "stream",
     "text": [
      "[INFO] Iter 290, Step 75952, episodic return is 195.30. {'iteration': 290.0, 'performance': 163.0, 'ep_len': 163.0, 'ep_ret': 163.0, 'episode_len': 326.0, 'policy_loss': 25.4802, 'mean_log_prob': -0.4898, 'mean_advantage': 51.1048, 'total_episodes': 820.0, 'total_timesteps': 75952.0}\n",
      "[INFO] Iter 290, episodic return 195.300 is greater than reward threshold 195.0. Congratulation! Now we exit the training process.\n"
     ]
    },
    {
     "name": "stdout",
     "output_type": "stream",
     "text": [
      "Environment is closed.\n"
     ]
    }
   ],
   "source": [
    "# Run this cell without modification\n",
    "\n",
    "pg_trainer_no_na, pg_result_no_na = run(PGTrainer, dict(\n",
    "    learning_rate=0.001,\n",
    "    max_episode_length=200,\n",
    "    train_batch_size=200,\n",
    "    env_name=\"CartPole-v1\",\n",
    "    normalize_advantage=False,  # <<== Here!\n",
    "\n",
    "    evaluate_interval=10,\n",
    "    evaluate_num_episodes=10,\n",
    "), 195.0)\n"
   ]
  },
  {
   "cell_type": "code",
   "execution_count": 44,
   "id": "5f75805b",
   "metadata": {
    "scrolled": false
   },
   "outputs": [
    {
     "name": "stderr",
     "output_type": "stream",
     "text": [
      "[INFO] Iter 0, Step 202, episodic return is 17.90. {'iteration': 0.0, 'performance': 20.2, 'ep_len': 20.2, 'ep_ret': 20.2, 'episode_len': 202.0, 'policy_loss': 0.0039, 'mean_log_prob': -0.6866, 'mean_advantage': 0.0, 'total_episodes': 10.0, 'total_timesteps': 202.0}\n",
      "[INFO] Iter 10, Step 2428, episodic return is 26.50. {'iteration': 10.0, 'performance': 46.8, 'ep_len': 46.8, 'ep_ret': 46.8, 'episode_len': 234.0, 'policy_loss': -0.015, 'mean_log_prob': -0.6661, 'mean_advantage': 0.0, 'total_episodes': 83.0, 'total_timesteps': 2428.0}\n",
      "[INFO] Iter 20, Step 4672, episodic return is 51.80. {'iteration': 20.0, 'performance': 44.4, 'ep_len': 44.4, 'ep_ret': 44.4, 'episode_len': 222.0, 'policy_loss': -0.0202, 'mean_log_prob': -0.651, 'mean_advantage': -0.0, 'total_episodes': 148.0, 'total_timesteps': 4672.0}\n",
      "[INFO] Iter 30, Step 6911, episodic return is 56.00. {'iteration': 30.0, 'performance': 44.0, 'ep_len': 44.0, 'ep_ret': 44.0, 'episode_len': 220.0, 'policy_loss': -0.0041, 'mean_log_prob': -0.6135, 'mean_advantage': 0.0, 'total_episodes': 195.0, 'total_timesteps': 6911.0}\n",
      "[INFO] Iter 40, Step 9256, episodic return is 72.20. {'iteration': 40.0, 'performance': 73.6667, 'ep_len': 73.6667, 'ep_ret': 73.6667, 'episode_len': 221.0, 'policy_loss': -0.0024, 'mean_log_prob': -0.6235, 'mean_advantage': -0.0, 'total_episodes': 235.0, 'total_timesteps': 9256.0}\n",
      "[INFO] Iter 50, Step 11596, episodic return is 100.30. {'iteration': 50.0, 'performance': 85.3333, 'ep_len': 85.3333, 'ep_ret': 85.3333, 'episode_len': 256.0, 'policy_loss': -0.0259, 'mean_log_prob': -0.5813, 'mean_advantage': 0.0, 'total_episodes': 268.0, 'total_timesteps': 11596.0}\n",
      "[INFO] Iter 60, Step 13984, episodic return is 85.70. {'iteration': 60.0, 'performance': 147.0, 'ep_len': 147.0, 'ep_ret': 147.0, 'episode_len': 294.0, 'policy_loss': -0.0185, 'mean_log_prob': -0.6001, 'mean_advantage': -0.0, 'total_episodes': 295.0, 'total_timesteps': 13984.0}\n",
      "[INFO] Iter 70, Step 16581, episodic return is 121.40. {'iteration': 70.0, 'performance': 201.0, 'ep_len': 201.0, 'ep_ret': 201.0, 'episode_len': 201.0, 'policy_loss': 0.0173, 'mean_log_prob': -0.5634, 'mean_advantage': -0.0, 'total_episodes': 320.0, 'total_timesteps': 16581.0}\n",
      "[INFO] Iter 80, Step 19315, episodic return is 188.30. {'iteration': 80.0, 'performance': 110.0, 'ep_len': 110.0, 'ep_ret': 110.0, 'episode_len': 220.0, 'policy_loss': 0.0024, 'mean_log_prob': -0.5877, 'mean_advantage': 0.0, 'total_episodes': 338.0, 'total_timesteps': 19315.0}\n",
      "[INFO] Iter 90, Step 21982, episodic return is 153.10. {'iteration': 90.0, 'performance': 149.5, 'ep_len': 149.5, 'ep_ret': 149.5, 'episode_len': 299.0, 'policy_loss': -0.0334, 'mean_log_prob': -0.5765, 'mean_advantage': 0.0, 'total_episodes': 355.0, 'total_timesteps': 21982.0}\n",
      "[INFO] Iter 100, Step 24407, episodic return is 190.20. {'iteration': 100.0, 'performance': 201.0, 'ep_len': 201.0, 'ep_ret': 201.0, 'episode_len': 201.0, 'policy_loss': 0.0044, 'mean_log_prob': -0.5181, 'mean_advantage': -0.0, 'total_episodes': 374.0, 'total_timesteps': 24407.0}\n",
      "[INFO] Iter 110, Step 27173, episodic return is 155.40. {'iteration': 110.0, 'performance': 201.0, 'ep_len': 201.0, 'ep_ret': 201.0, 'episode_len': 201.0, 'policy_loss': -0.0206, 'mean_log_prob': -0.5438, 'mean_advantage': -0.0, 'total_episodes': 391.0, 'total_timesteps': 27173.0}\n",
      "[INFO] Iter 120, Step 29656, episodic return is 180.30. {'iteration': 120.0, 'performance': 201.0, 'ep_len': 201.0, 'ep_ret': 201.0, 'episode_len': 201.0, 'policy_loss': 0.0227, 'mean_log_prob': -0.5601, 'mean_advantage': -0.0, 'total_episodes': 407.0, 'total_timesteps': 29656.0}\n",
      "[INFO] Iter 130, Step 31968, episodic return is 161.80. {'iteration': 130.0, 'performance': 201.0, 'ep_len': 201.0, 'ep_ret': 201.0, 'episode_len': 201.0, 'policy_loss': 0.0185, 'mean_log_prob': -0.549, 'mean_advantage': -0.0, 'total_episodes': 420.0, 'total_timesteps': 31968.0}\n",
      "[INFO] Iter 140, Step 34455, episodic return is 186.90. {'iteration': 140.0, 'performance': 201.0, 'ep_len': 201.0, 'ep_ret': 201.0, 'episode_len': 201.0, 'policy_loss': -0.0172, 'mean_log_prob': -0.5454, 'mean_advantage': -0.0, 'total_episodes': 435.0, 'total_timesteps': 34455.0}\n",
      "[INFO] Iter 150, Step 36956, episodic return is 199.10. {'iteration': 150.0, 'performance': 201.0, 'ep_len': 201.0, 'ep_ret': 201.0, 'episode_len': 201.0, 'policy_loss': 0.0079, 'mean_log_prob': -0.5192, 'mean_advantage': -0.0, 'total_episodes': 448.0, 'total_timesteps': 36956.0}\n",
      "[INFO] Iter 150, episodic return 199.100 is greater than reward threshold 195.0. Congratulation! Now we exit the training process.\n"
     ]
    },
    {
     "name": "stdout",
     "output_type": "stream",
     "text": [
      "Environment is closed.\n"
     ]
    }
   ],
   "source": [
    "# Run this cell without modification\n",
    "\n",
    "pg_trainer_with_na, pg_result_with_na = run(PGTrainer, dict(\n",
    "    learning_rate=0.001,\n",
    "    max_episode_length=200,\n",
    "    train_batch_size=200,\n",
    "    env_name=\"CartPole-v1\",\n",
    "    normalize_advantage=True,  # <<== Here!\n",
    "\n",
    "    evaluate_interval=10,\n",
    "    evaluate_num_episodes=10,\n",
    "), 195.0)\n"
   ]
  },
  {
   "cell_type": "code",
   "execution_count": 45,
   "id": "10fb3d38",
   "metadata": {},
   "outputs": [
    {
     "data": {
      "text/plain": [
       "Text(0.5, 1.0, 'Policy Gradient: Advantage normalization matters!')"
      ]
     },
     "execution_count": 45,
     "metadata": {},
     "output_type": "execute_result"
    },
    {
     "data": {
      "image/png": "[encoded data removed]",
      "text/plain": [
       "<Figure size 640x480 with 1 Axes>"
      ]
     },
     "metadata": {},
     "output_type": "display_data"
    }
   ],
   "source": [
    "# Run this cell without modification\n",
    "\n",
    "pg_result_no_na_df = pd.DataFrame(pg_result_no_na)\n",
    "pg_result_with_na_df = pd.DataFrame(pg_result_with_na)\n",
    "pg_result_no_na_df[\"normalize_advantage\"] = False\n",
    "pg_result_with_na_df[\"normalize_advantage\"] = True\n",
    "\n",
    "ax = sns.lineplot(\n",
    "    x=\"total_timesteps\",\n",
    "    y=\"performance\",\n",
    "    data=pd.concat([pg_result_no_na_df, pg_result_with_na_df]).reset_index(), hue=\"normalize_advantage\",\n",
    ")\n",
    "ax.set_title(\"Policy Gradient: Advantage normalization matters!\")"
   ]
  },
  {
   "cell_type": "markdown",
   "id": "95a0d7cc",
   "metadata": {},
   "source": [
    "### Section 4.4: Train REINFORCE in MetaDrive-Easy"
   ]
  },
  {
   "cell_type": "code",
   "execution_count": 46,
   "id": "1d06a73d",
   "metadata": {
    "scrolled": true
   },
   "outputs": [
    {
     "name": "stderr",
     "output_type": "stream",
     "text": [
      "[INFO] Iter 0, Step 2008, episodic return is 2.74. {'iteration': 0.0, 'performance': 1.9131, 'ep_len': 200.8, 'ep_ret': 1.9131, 'episode_len': 2008.0, 'success_rate': 0.0, 'policy_loss': 0.0001, 'mean_log_prob': -2.1915, 'mean_advantage': 0.0, 'total_episodes': 10.0, 'total_timesteps': 2008.0}\n",
      "[INFO] Iter 10, Step 22730, episodic return is 9.75. {'iteration': 10.0, 'performance': 7.9295, 'ep_len': 194.4545, 'ep_ret': 7.9295, 'episode_len': 2139.0, 'success_rate': 0.0, 'policy_loss': 0.0097, 'mean_log_prob': -1.9387, 'mean_advantage': -0.0, 'total_episodes': 116.0, 'total_timesteps': 22730.0}\n",
      "[INFO] Iter 20, Step 43665, episodic return is 34.24. {'iteration': 20.0, 'performance': 22.1367, 'ep_len': 106.5789, 'ep_ret': 22.1367, 'episode_len': 2025.0, 'success_rate': 0.0, 'policy_loss': -0.0607, 'mean_log_prob': -1.5291, 'mean_advantage': 0.0, 'total_episodes': 252.0, 'total_timesteps': 43665.0}\n",
      "[INFO] Iter 30, Step 64004, episodic return is 107.51. {'iteration': 30.0, 'performance': 86.0178, 'ep_len': 80.68, 'ep_ret': 86.0178, 'episode_len': 2017.0, 'success_rate': 0.4, 'policy_loss': -0.051, 'mean_log_prob': -0.2633, 'mean_advantage': -0.0, 'total_episodes': 500.0, 'total_timesteps': 64004.0}\n",
      "[INFO] Iter 40, Step 84283, episodic return is 119.21. {'iteration': 40.0, 'performance': 125.4952, 'ep_len': 92.0, 'ep_ret': 125.4952, 'episode_len': 2024.0, 'success_rate': 1.0, 'policy_loss': -0.0086, 'mean_log_prob': -0.0084, 'mean_advantage': 0.0, 'total_episodes': 734.0, 'total_timesteps': 84283.0}\n",
      "[INFO] Iter 50, Step 104519, episodic return is 125.54. {'iteration': 50.0, 'performance': 125.5385, 'ep_len': 92.0, 'ep_ret': 125.5385, 'episode_len': 2024.0, 'success_rate': 1.0, 'policy_loss': -0.0, 'mean_log_prob': -0.0, 'mean_advantage': 0.0, 'total_episodes': 954.0, 'total_timesteps': 104519.0}\n",
      "[INFO] Iter 50, episodic return 125.539 is greater than reward threshold 120. Congratulation! Now we exit the training process.\n"
     ]
    },
    {
     "name": "stdout",
     "output_type": "stream",
     "text": [
      "Environment is closed.\n"
     ]
    }
   ],
   "source": [
    "# Run this cell without modification\n",
    "\n",
    "env_name = \"MetaDrive-Tut-Easy-v0\"\n",
    "\n",
    "pg_trainer_metadrive_easy, pg_trainer_metadrive_easy_result = run(PGTrainer, dict(\n",
    "    train_batch_size=2000,\n",
    "    normalize_advantage=True,\n",
    "    max_episode_length=200,\n",
    "    max_iteration=5000,\n",
    "    evaluate_interval=10,\n",
    "    evaluate_num_episodes=10,\n",
    "    learning_rate=0.001,\n",
    "    clip_norm=10.0,\n",
    "    env_name=env_name\n",
    "), reward_threshold=120)\n",
    "\n",
    "pg_trainer_metadrive_easy.save(\"pg_trainer_metadrive_easy.pt\")"
   ]
  },
  {
   "cell_type": "code",
   "execution_count": 47,
   "id": "5b650945",
   "metadata": {},
   "outputs": [
    {
     "name": "stdout",
     "output_type": "stream",
     "text": [
      "Evaluating 1/1 episodes. We are in 1/1000 steps. Current episode reward: 0.000\n",
      "Evaluating 1/1 episodes. We are in 51/1000 steps. Current episode reward: 35.980\n"
     ]
    },
    {
     "data": {
      "text/html": [
       "<table class=\"show_videos\" style=\"border-spacing:0px;\"><tr><td style=\"padding:1px;\"><video controls width=\"1000\" height=\"1000\" style=\"object-fit:cover;\" loop autoplay muted>\n",
       "      <source src=\"data:video/mp4;base64,AAAAIGZ0eXBpc29tAAACAGlzb21pc28yYXZjMW1wNDEAAAAIZnJlZQAAfJ9tZGF0AAACgAYF//983EXpvebZSLeWLNgg2SPu73gyNjQgLSBjb3JlIDEzNSByMjM0NSBmMGMxYzUzIC0gSC4yNjQvTVBFRy00IEFWQyBjb2RlYyAtIENvcHlsZWZ0IDIwMDMtMjAxMyAtIGh0dHA6Ly93d3cudmlkZW9sYW4ub3JnL3gyNjQuaHRtbCAtIG9wdGlvbnM6IGNhYmFjPTEgcmVmPTMgZGVibG9jaz0xOjA6MCBhbmFseXNlPTB4MzoweDExMyBtZT1oZXggc3VibWU9NyBwc3k9MSBwc3lfcmQ9MS4wMDowLjAwIG1peGVkX3JlZj0xIG1lX3JhbmdlPTE2IGNocm9tYV9tZT0xIHRyZWxsaXM9MSA4eDhkY3Q9MSBjcW09MCBkZWFkem9uZT0yMSwxMSBmYXN0X3Bza2lwPTEgY2hyb21hX3FwX29mZnNldD0tMiB0aHJlYWRzPTI0IGxvb2thaGVhZF90aHJlYWRzPTQgc2xpY2VkX3RocmVhZHM9MCBucj0wIGRlY2ltYXRlPTEgaW50ZXJsYWNlZD0wIGJsdXJheV9jb21wYXQ9MCBjb25zdHJhaW5lZF9pbnRyYT0wIGJmcmFtZXM9MyBiX3B5cmFtaWQ9MiBiX2FkYXB0PTEgYl9iaWFzPTAgZGlyZWN0PTEgd2VpZ2h0Yj0xIG9wZW5fZ29wPTAgd2VpZ2h0cD0yIGtleWludD0yNTAga2V5aW50X21pbj0yNSBzY2VuZWN1dD00MCBpbnRyYV9yZWZyZXNoPTAgcmM9Y3FwIG1idHJlZT0wIHFwPTI4IGlwX3JhdGlvPTEuNDAgcGJfcmF0aW89MS4zMCBhcT0wAIAAAAa1ZYiEAP/+yk+BS4nRcKlkWAf0mOgGDRLzYAAAAwAAAwAAAwACKnLIeLDNJf5AAAADAAQsAF/AECADGADuAE6AH8AM0AUQAtABeAC8AAADAAADAAADAAADAAADAAADAAADAAADAAADAAADAAADAAADAAASfAIqbcJTR78ZWWWCY2Qj1ZqzVtAEiDtugJ0B5345GtGwxP/0Jq6sNgJ/oLDvvSk2FIcjdjvURrQyVXyuagwLr8y3Rbs4WR4p7sPU43ysalGVyZgfMiS2U94BFFsdtdKCbTkmFiF6/NpCMv38gsFa5nHZ0CYJgzK45mPO9Tum2bib8MGwEW/IYWsQxaSCebpzZluK7m5aQxKp1bxscwhRtud7n1+M9BVoK6NHkK74gYg3kffU1TZCP0gBxdAyhO0WSrkmDnO32+uX6IDj5v+yO1Bu+46O88o5zTm5SYFN2egzEJzRvUm+T4EA8vHsF1w0K7uwIA2xJpMLBUmDCaxkrlY/qLpehl52H2TSfFRI0BaNNCRjx/r+YM9TXh3uFiZwcF32jmIeUWvGwdkIkT0L0nJLQPcFJD33fXNPjyf/2Az2tst8l5stiaO0xz10SdwexbvHyj5u5KEr9A+i9mNtyBtabrzaLBt/H+R6J/2KUzWuE0BWtonyQUA8Hr37U35o/JqC5DcEe6VS4aJ39gAAAwFwLGSXmEtHCGdABHSzGikPDC+FoFaVbkqJ570OBmxa1B5e2azaoGxEZbTWFkQiFlphKh9GHfIzMdXYwWvDShPkUjAtPqJmxF9XpY2h4Rb166Xzr1XuOSm5qvebKYkYX/NN7o/WPL2g/rTbMxBnjGBeiVzfeKM+Ad9zNsK1krHH0z3TU5x9ra12ouyBMIls9hak+5cVtAatgvUQ9+BXVGgYzX9EjZI+hHJAZdAOBSQXinTILrmGPfYT5oVzS4seTn6NMC0kYWqGfsDcDDtHNgBrnQZh0M1b4KMHi1DKJ4UTXt1sQngWZoTb7XSTRSoYrGjfJQckWcNlDqqhBkZMVhrSKCS9Kecy8NZV98b8cGFcxKuKCLgBVTZhg+QByKJA6q2CHjm8oAAAAwCIxXbb446SZaLQuqMnz28QaRFQ57ZIlp9Qbi82nhn8+oUFz762wnbnc6TirXp4YcQsLcEmu9XwMfMt1W4csWAAABJqVmP44xeNE2dG/lfF7PcUAzvXDFdPOx6ar0Uo9/FsDnl+QvxYl4umrBVMKt4bngAAdsmTWAozUMecPc7cP7bGW9ECUc4pSAEPL3b18f/lK7OJvxUMkE98W+4qPXLhUbNF1aCYtnxbAVU8I8O+Skg7cqd0mTUgo9Dgh/BW2PCSPif5cuP6n6jnyIrzmaYxlhTUsMIRZs2whnVD5wiSMe9/BwGN9RvNzEezgVhM5wlq4lOFxLNzuZnE5ieagol3aKB8vAS2HCLNJbvd+4RcLnVeJDnuPqvcxlM+eTEe/g/5qJFfEjda7wM7V1fpEuaYAABPjwvIVVj9e+H20Gf6CT/X+nf1JdkgQyUwALqunHI+gybrYAY9D9Ecl+cTVglJvmy3Jz5n24Cu+Xrk9Kn+GaVZ+kWooVefN2tkHgzf1laykyRSxL/5PnrrNqvvdVDT46hMfBin4GYMPmL1cFu2iIiR5Kgkac9ioS1vg5Wg6IfYHDjrmdXMswCajZaghH6Dh7AKfrC5Tg1/nKi9UoqGVeo4QU9K3Sk+4I9vdLNgAACPj312HuJSAeqUQlIQqvXIc9Oyoijnrczmf5SJf1aLvTa+z3midOz2/03cKJS+WdX1qOGo2o/JWSc/Q5/f3dazyYgUPIkzFzo1XtGVNJnVc+boA1z0u2Ul0qW9Hz1u8oGu8nAy+Di7bO4D5AP+40XPajVj7/4Ujj0I/GDMBiaikZ6VFtBAp60MGc/1gHDkRk6VK1rtw9wJ7PBMGv6gT8ab5g/GGL0b6YnoAMynZlxYMvNrXfASbPw1jsJsUEy0103sS3CK2fKgE4RcaYbzjJl0QSgx6uOMi+7b87/oF6HSv6R674qKMciSWEZOU86YNnHR5yt7/W1V5M3fpCYalg8fZ4uaOfWvKp7fwjmNkjLiaYN6kqlJ34bFzQnxStK0g9UVvPmYJU9ppYkOxeXCt45eStPUw4AD64V2DaIAZTL6KBE3ufdnWm9W042zHuFaveWt0qUG+S7Neh4ASUTZFAAAAwAAAwAAAwAAAwAAAwAAAwAAAwAAAwAAAwAAAwAAAwAAAwAAAwAAAwAAAwAAAwAAAwAAAwAAAwAAAwAAAwAAAwAAAwAAAwAFvQAAAIVBmiRsfwAAAwAAAwAAAwAABpwAxGF3aZH0Vio5k+xBo3RZ0EAC9LjhyhIQHEdgl+EQ0SN+znRVb4t4HsoofQs541vSQ7ZSqgU0xWp1gqvx53HuwK2Rmob7/QQd5GeEnhMo+oLIQG8ZUfdfr4uW9EQYkgmJMQFWkA4bGFbahzzLCdK2vjc0AAAAVEGeQnivAAADAAADAAADAAHubV24Vt/lC6YwecVd9ANkdL97AwvAEps0L4V5k46+YYrAbBrRwE6zKc35XuNzBamybGjYtPuK5jvgAAADAAADAAAG3QAAACMBnmF0Sf8AAAMAAAMAAAMAAAMAKLxXgAAAAwAAAwAAAwC7gAAAAFwBnmNqSf8AAAMAAAMAAAMAAgiOXdnv0yypQmMEMhs4RumvvKxYuN1AEqXFFKCoLimJXDY00oQYGeazXlnMjCGmX1sPEUQrme3gyYjw6L41B8hgAAADAAADAAAG9QAAAOpBmmhJqEFomUwP/wAAAwAAAwAAAwAABoaVWzrNLgNbw0lIpwVMD51MQIeIQrelLklEUqq/1kfiBTgCzpABy8sjHAWcIX/LA4D6PBQqdXdJJ5qaJotfaFv1RLPrbk7uGydfOq9ADIhQDZ1EoVSuFmolqsRmJKariSthNACHyN8ImLCI92X5QyqwdCWJ0z7SRksq/AasE4c6sVeAx6rKASe3V1sCHKod6oPE04ICY+hItFSSnjnvUSXysbtZx+L9AD4SO5lRWAaLLl1XX4QPOXOcstyoRLoGSwntRc3AKtAkZcQmPQ36BRKQ7kEAAACoQZ6GRREtfwAAAwAAAwAAAwAB7zTPqKepWYswQ+MQlmDkHUEj5fTigBMFU7thpaWznx6Lzn5zh9DgiysD81+PCA8NxIfcCQqd4FrjOo5ipgk+cGI/zfsxEHXxgFI+AFIJqnmQX9UIB7dYgQd/qREuzxWsWbcSfa3VzjmtpgLi7IAqpCQTXVzOgLZEhy8LS8wm1HmRhPV8TcJCMXwNyNwAAAMAAAMAAAa1AAAAgAGepXRJ/wAAAwAAAwAAAwACBNgqix6mojzbQqELudm1mnjJDHk7B2pKIRxEbsInclTXwBEhQOhq27uGGmvPbIiQygkas91HW9i6Ek80aSBhAYD0gLPiaYeX7F81G2F8dloQTzXAngJCEm7GU531fCPc25QLdQoAAAMAAAMAAAq5AAAAqQGep2pJ/wAAAwAAAwAAAwACBZYsAhdMolTdLIdynRrwRsi8YqSpwu8e3fqxVPDqcB3Hf7zQQi3dP71yzjLAbjaYv+fizBHAccjs/C9wwf6SvYPX3Uv6Le9q+9iertDy1V8LM7wDKagzvX0TiCzm0TanWnddzaRQnMCZBSJIRoN5AKAVH5bSx6THfN3WH2k+Mm/R91ypaM2BvjTu5kDesAAAAwAAAwAABSQAAADHQZqsSahBbJlMD/8AAAMAAAMAAAMAAAaus8UCF5UXNm3J9K6u2hPs+AUgZNjYtdjJEtWxCViUAk2rYKdSXk1Ng7eD017ctqisHj2tR7mB73VbCQrPapzmJIBnVIXG4q/y/X2Q9INgYElGLWq6pGmlYUjWZXi88crtSIw1X2SiaJOft6CulZevrXkPwiu526DkbHIJOVVdDKbf7cGqc0D/PyYVkJuQ/q0DVbtPr/IgdUyCe+UymCyF+Mf7nnIr+zZCNtZGtlK1wAAAAJlBnspFFS1/AAADAAADAAADAAH5CBmwy5xXHjMZYyRsUlhbyeSkZPPES+xB7PeMMIe8SU2piyEFScnsy6dsSACJTrakcBoxrotW2CNGtAGlp4UBWpN/lMAVbkfX/5hPAd1OLyLHTNrGiaCbdt8kDdGE1W3wPFqGpjFRatnrfkMP9w6sDH5UyxhEjz/xvjcAAAMAAAMAAAMAlYEAAACMAZ7pdEn/AAADAAADAAADAAIKg2qma3mcPZEUVDP25e4SMwq9Y1wZPrUpgpsNg+bJ03IwrqLuAraVF5F6oCBuwIGPvouOf+9boXj3YUhtj2fcSQ3AzI+P36ANgRxYfe72/Xr9NdUbLUfZNCIg4D+Fj8fKtFzjy73dB+JCAaN7Rc2tIAAAAwAAAwAAOOAAAACjAZ7rakn/AAADAAADAAADAAIVlivCF4tpGKqU0NTzH9hpIX1PKGa3OBB9tKxa3eaj+Im7P/1JW0V8tVz4FhAZ5ko4YOEjGYtQ4fWtrsvsRnGij30Ft2ET69F1TUTWAuDWRPdmJUXIiCZ4ygVszXUMhLLAN96BUVDluscDUD3k6KloRwXXSA7st4DFPVUy3mEA2SYdEzAbVYWQAAADAAADAAAxYAAAAO1BmvBJqEFsmUwP/wAAAwAAAwAAAwAABu+gB1EgZ+aH9CyKhBruCIer5qZv1RAqR8Xb6+oqNjubkaIYpp9daFCLlqK5wPrFgwMMXqeJSmFkvd4m1BZ4AQvzGDlQiIlPmhoidCMvtNp6LH5WYStMpSDLWy6rpra9kKn9hQDmudWmwURcMC6KSQyBaPnmSi2taK7RPYZzkRDfNInWcVhMx9Fmc8oQygTGdfgIeOWPhetkd2ECFxYDPT4jjeUL7bXc8f+UD2XB0ZisrxVPezxglatZ6ZNqpZiDTorEuuQlBopVb7fmcR5JYbvpEvnK/CEAAAC4QZ8ORRUtfwAAAwAAAwAAAwACCC+w629M/ltoYB0i12b3qTsqYr4PjEuX+DeY4ARSsluQPVniZxHa6vCZvKgHWQHy9B7apVAV374YlfhCgqcKhZIKeU0C9KloDFB6mrokOIxR/gHSCTLKnSz6iPgAvlW5q3vBN7shUOwOBIWwBEC3LBBQSTdFUs31UmKrv0sQAAAM5cHN3no0kSL8aeY3l8Vtn+A2hdUCCaGFaGVMAAADAAADAAAXcQAAALgBny10Sf8AAAMAAAMAAAMAAhRlqLQld1/CJ46XiiVWjTmuxaBIQiYKLaqd6jxrJXnA+9e7XBx2TiOLpVKCvubyoc0oIE0S2wYRqfWPFeeDNneOYCtAfzibZuMhPj6vRcEXgPvQY6dVYKBaJ0fOs5AghxQXDbWN3AdH6Uw2MGVsE8HKpOIxBAKqFX4kT0LAdkhkhJp+NgVF6JrMTZwDtXNgNtvhHwbTMM+XsM05/cAAAAMAAAMAANmBAAAAqAGfL2pJ/wAAAwAAAwAAAwACKtPyua08onPMRhMoVoynnuSvv4/pOFSZLGxZ9UsEJ68hrvPh19n3c6yzvxqOJ0J5fK4FZdPJGGEP7/Ogyfh/o3sdMbmrGfOAlBwDzPzzmUWZ8Blx7kVVgUgOl07n2qu/c4si7K+Au3iCXTOEeqG2iB4r2nz5zlX1bY1B+B3EgAu4qU7tuXf6cQJgALjAAAADAAADAADjgAAAANdBmzRJqEFsmUwP/wAAAwAAAwAAAwAABv9kyTTtWBFpgI+exRfcyHKHPexiOY5zgQPOAAADAAADAAMPYAWoi+ZAdAIydJUZODC434Ignpj8NtUqgNBK0rp0jxFokbf4xu4f+vQkIlU1FRDbcj+O1lpWqHVCONvv4qPP91jxISkk8/PQ/BOFSkIX6enup27dJTmyII1jmW/JypugUnD2NNb5g+atsP+dKIBDrxZzrkSsa3qoENREFvWfFA2jrP8Vfh1nWArvJJqF11+tAPJgQO4T/HSJ/jWd5gAAAJ1Bn1JFFS1/AAADAAADAAADAAIYPKW5ZbcvmgbldygwlKRlrekz6wwJ9tXuwo6pe+nmqccDD1g3JrdhXuwwVHL7JsSr+/jFWYzW1SqAnts2Vyqjttlp2I+v0145kAABGZc5fgZb0bx3U6ZmK19VkVKoDSSGg/5CmmJtAv+HZVAA3GFekPxRqlWPc6fWYsmNRL4VUsAAAAMAAAMAAB8xAAAAuAGfcXRJ/wAAAwAAAwAAAwACJHkIvupqM4rkX6cPVybFkIdpqiU+mL4KowhOFUkoXR/Ed1tJGSoA3OM39wDBJRssDA1XQ2HqH4CtDe0uKFE9WTLmGEnfYfZHeijuYA8A6pcud3p5V0qdhAxGmfRH4QE4wbHgV/U3hmUH8WyPPIIESFFw46dIVfihmwXbj16/7skAaftsLm1FBv6jlRol+uMVPRGLWkWIGir1yjZJQAAAAwAAAwAAg4AAAACZAZ9zakn/AAADAAADAAADAAI60/K5qs7u90lluvU9waxNh3ZcXnUnVepZCHOErbXd0wOombp1J0OW3yGiMqqJBmHVAPgJ3hzm+wlMjWIYyQPm5LmBljPtMlVOUzp1L8STw5APi+Ixv3EYIImeDy7LcmhBNSYXuPMSDP+oTpqPg0u2Xo5ORGWvp6Bq+is1n9KAAAADAAADAAJeAAABGEGbeEmoQWyZTA//AAADAAADAAADAAAHNRQWqvfpKswsuqqP6yF1+kyk3pYHnUg4dhkqbmniipHR0pBMzgAAAwAAAwAADtbmn2AViEP8GqHbfsUG7cT35CJDfSXztqmWL2tWy8RaKdw9rWO88ff958T13ngW0qV1go1ei+x1b9YZxnDa+Bq18WZ+y090Lobxndl32JIcLsCkJ01Piks4LRBwU28HvG2NV0Qp+GxrHcekmMac+guJoZHuufobyXDp92cexsKcniQDAHEOyc/PVJ5GzMyW8P8XpVS4xfTharfzxumMR/V5MI7Hl/2Jy2xh/XxC6SXIhIAYOKYZh/x9CJj23M4AhR6Hv1Gk7+IcX5M0cQxnjwtNlKcAAADsQZ+WRRUtfwAAAwAAAwAAAwACKBFvGbe2M7wxEBA1KOzW6kEgi5vd1Tb41Ncj5h9/f4r3cFKmE7nrmSBH1LDGzFJGmvNMIR+YKAbC338cfejDFeewr+2p4QHK3TW0Gl7xAhoE1I8DgRwzNMS9KBXPVLzr5a+0yxOohh2o7Derpe6U5U9FhL4HAXSNabxiR4j6StDzKoQnGSCGLKC2yesUyjprzRlgYPmlAJ0WJ1JdJ1+rDkFd1/N8alhHAICReRppAABAYZ4VeHv5d1DdJo5GVwJZ/xl34G5JsbzdiFYfJabQ0AAAAwAAAwAAekAAAADPAZ+1dEn/AAADAAADAAADAAI0fyovHkCBZWxRdPm/YGD6zO2WYHHvCqa3OVF48WSVBdbJLd9jLSITPQ6iXX4jsAwvYRXU6sCXd9gopJqM33sXEu3Gi5yqrU2cOTadJodnyYYM68ysipard2hB9V9WqkxGD9DbuznERWcQHZO+6oPgBM+remam0tp0RYWWDWJHKmpQlc/xbRAQo5seEbxZUzFBiwcZYLFIgSwLpzBpNXlAHKijO/4ZODAphDJDphkjECGugxyAAAADAAADAAUFAAAAwgGft2pJ/wAAAwAAAwAAAwACSEVdWBYu837uG8s/H5wrqzxqRmQuqOBA8/qKvP3Rwib+nplaXEau9jg2zAN0akJmolBdeUmH4DVS2qVQDyATZ6Vemi61x3bUEy1hF9JhswokJiQR4sj6fqYoKjWs7AOcwUYmFNuv6yYYKuJZRlgSn8VFdupoaR8hTgFvoAfP8P8lxIlK7poY4BKDcNogDpsfz+AI7Nx0TPbAOYQjoAgZ+MOCbYrjLAAAAwAAAwAAAwGNAAABHkGbvEmoQWyZTA//AAADAAADAAADAAAHV21SFOnv9CmBqKm2EHCg2xSvo37qkXogZOMsv3/JusIasShh+yDNJpDIRoTd/ailciD7fl2MXz41FGYboq6ch4ci5nu/olsnPJdsjdFxi2zO9sRzcQ8RlNwbOopNnGKuC8Afz22pVFC3gI+SbtLUAuyjDRqYGBDH2wOPAgJZi5or+fuegLlk1phZAobmB7N1km5alQOfvqU5PntcoBVioYR188eWa7/NJXRDELdkHWwXQ6S0u3NnWWB6OjpYVruFeSTOj8elkp9bGkFGHFGTvLSnGT/OSX7EsNW3ZjNW1oSQEyQv/e+8nzIKpSce7azc+llxsMPkRxpjAiHplhL+0Ij8Z4XRueAAAAECQZ/aRRUtfwAAAwAAAwAAAwACN/8yH/7yFQw8t59zjJGDtXnPxg86Do2GdTnXVpxC9ucxKaVj6WhPOIncxDGSpIhaAATHpChUfeCSIvdVyX1T8ChoL0afv55KkEcqhzGxawpJ7m83KFVEQxXa1KoB48XCHoM8c9iuKVs5kWV7z57KYxetzhCpy/7DTARkargHCiJg0q4gKm+s/WesDijFO34NkR28PFXf9Cnr3+BFHduZ4JSW/LAeEC0I+X3EK9icNQMEtI3NFnvleCSiTdc3q1GCgDbF8NJVFXpABa3k+ZKFP90exPwjErkN8iMttwrcPY454R2DAAADAAADAAADAImBAAAA1gGf+XRJ/wAAAwAAAwAAAwACSivMLu638d6vjmWCoZKJ9n/Ag3kOX+yVz0O1WN7qG3fICrjI6nCCz/zI5rDRZGH6lsYMfH0sdxLVZYLrRlgPCBACMHfWa1k329wrLLlx1soU4O0ROB2THQyd6lb4TYmWcLUmuj75fMIWYyFlqB47sN3fcdjHaMsDlE+TgrYDUTOCd/fvKdW5ddDZkhnvwBXTdZ31JZ6ZSXezn8KLCNstmcl9IxZx1ecT25docWb19y2vy5toBp8xD85n3AAAAwAAAwAALiAAAADBAZ/7akn/AAADAAADAAADAAJVV1NXlF+UEkj02mjWkX8BYdCeE2x2wigXW98cAHCF54LtRrbprm+ldZv1JpuW8hUbi6nyK3vkRni60azbU8IDoeBPEkRHBZ1Ttj8Q6Cwcmje9NPja7HZ8nHU3r/2aAfIxrL3iY2UBEyqAnIaRxIqal234Q5f+eaEIXDGhhhtueedn0oi0stFskFUzM1aoSmISnXGuHUGie5VFvrNDZhcdTHy0nnIAAAMAAAMAAAMDKwAAAidBm+BJqEFsmUwP/wAAAwAAAwAAAwAAB8ugCW2CIH5ofzUfWpNz5A25J9BPkYrWOufSAS0WrwYv8OEk3mEe/v3lbNKV0nCYqMnK5ks2WMj0QNLPtnDZAafsC3xO+GuTOW47U5VxFYUB3NwkSU0qsIn8HIvu43EIEpVqwxmaC6e7+wsm7AJBSy4OtDZzhLMdXC6v3m5EBaMpVR8x3OekjR+qT+Y3hzF3rvOKPoT2Ip6Xf5zrjyPD98shZZsnSnGF0niNHzXV+9twGZNtoq/yPWgFkYMvKWvnv/nGa8TGe0+zVDov5FArmTZNOR6gk0msTMhLqRGP2QUooIIzq7/LpkjJT13jKXzU354DZZrUqhA05jJi9ggBbrW/2M3NYgPxoHI5HjbWfggoSd5SsFdvWL5PAskj+FYwTDxsTxtAn9yec2GHrXf3Ya9MmLoOLJcM3RHGy2/s5/mERBrNoS7KRwPXwbkrEBEV2GYdulUdj0T6lQ55mDZ3zu5YV2A6Z50IoCxNjt1Fqn0k80QaY3Yd96W0CEC3Vhn2lVq+oHhiK2/MlrMGUmuCxC90SSvqfWwCL8/l6j8HI2koTTfialBL/Sqp/zMqsNYni3YIuoAcKJN6sF6O2QMS8ktyohGgKgpr4vUIwIfNauJGqCtdMIChByfqlUoWRiD9nsnsRf96qSbXIDobPx/TL68t5AZuVhiMG0gY+SqUSlaO7vXc/Ajh8ju9j3lpVSv/MQAAATVBnh5FFS1/AAADAAADAAADAAJYMAowmod5qdSvqyOhLmNTWJA+Aswq/RiDFouV3IJyYaoJEe9Jadfy5oucqSWCzeoZBybc1yZHuzvhsIK75VbJud8vZEfGOABXokapMkX/UBycJKJhFcxhn7dw6Ag4TDTayLjaPR8ufAmQCa+qw5pcdDmbkmjo3DbVMsBe67+DwvBTlmFlMkWC0XLQnmZYdKNlJkv+mrtgpIsOZRhoqt4LZRbDS7Kcn+RuV3kBuSI40eZT53wJKMWsKIe1/34HvA6bdSqBcoEhouOZhHknT7IJtEbR9I9L0MlWzvNzZDZ/wAYygPYAHraFWXUWxeRSeRq67P1SFRusD3322mNolvKuNPjtULB5WAHY7smB+eV07JFktboY/vcAAAMAAAMAAAMACpgAAAEqAZ49dEn/AAADAAADAAADAAJkg+Ayi9eP/OcpvLvFolBsBzQ6+Z3CGxLlmQcgXU8+t6ktuKY41fRQf0Ov//Hw+D+wow+/THyY/aUYsWvw6FqXZNe4BHFRs3GqK+hYojgEaURDcD6AMHVgSbNZv0rXbLQ9KrAKcYK2LM1f//Odo54Dg0ges1qkdtTwgLNc9J5JXEt/VnVkXniw+jluN0ff6rLDVF1KTOMDTiDMgECR4XJ7oCAaLShJOFxHTkcQR7063mec9D6Wc7p+FqVQDaWPD8LQskPAzwEld2p64mQDWq88O6SE2nfb2sCTA6MM5TwMF+gmHiWqSupdkF/T84+2xUy+9am6eau+5W2TV/2+YPJyPKqvrGuFFNjafcSwxsAAAAMAAAMAAAMC7gAAANoBnj9qSf8AAAMAAAMAAAMAAnkYK8x8RvOLTFNeqi+51IQHIs5jn1Wtq1NgT0EXKXp+CiDnUKqUJAFkER2+tpz4xhgNAdzMCBwUaCMpwi6cxX36HbalUApxoY8ihWsnUGP94yoz+qD7Zw/jsq6AA1HP1gCRutm6tuunR05uvWG+NZiKAL9InFBXRYrAcnUdtIyCwLErv6VO0oFZ5PFHe7+m6TAMEL7q2dxlX2sQT81lbrWv3TjNMRv/0nzxd9enpvdPSdNAjB4f3TNr6tAI14+gAAADAAADAAAEnQAAAThBmiRJqEFsmUwP/wAAAwAAAwAAAwAACBIsWmtxAMo7C0rIvITL1mExNvDh0pIfm80xWVEniYaElxjuOjXXFwPky7hIDnSyr1vWLwC2ZK6sQu0HMlcQqcOd55WzAQHJXuPDy5xqZt3B/Bmq2QKIdnKnDzvHiamc4elJlKMtnMuDXQlAmhbQiG73MBE6xVUn00u/4P4pLYUwRQQ/Ncf5bVM3CiZiRTnJLbsrQgVipdQkytly0qzqwGNgZ/aWkm99K+ngQa/91l3phtBuaw1wT3pBgwdapYJ7rMijg3QfZ3odj6xWDh7zuWEQnAKU0PBcCzxsbm1Tv7grSigNzGsFnIQDvfCCdl9/HXjZUdKe3CqSvnT8lxuVHg6iohHqnD+vyY63ndk432JXhJU0SmFJZTMLxukEPIVMwsAAAADwQZ5CRRUtfwAAAwAAAwAAAwACePKXUJqHusF3rjHAJgPGLmhmBdskus631cWYnTNHPIRJ09Vy56Sd3bPGm9ybLuzdb0y5uyGcNLp/DKii/vKrstdG4xmFZy4o0sfIaq221TLASOkrFQTbCDOn4jnU363lpLTJfvkmg3BGB/PZTgHrdLvMrAAJQakNAIZmq3PHqDsOOiGei/yji+UueECvOuKA19Nb1cBXMoxhYgEmPOatCxAWmVV5fM85IXJ4qx5Nz7+LMcV8hW1GlBAkDlJsEqh8AKAREm4VeA3pLbv5t5nmDOFn/qeAAAADAAADAAGtAAAA8gGeYXRJ/wAAAwAAAwAAAwACizDXuNwnzcM/C8qxHeEGiL+oMhgpYyMrKf84ZNztVcR3t56MNYGGeqQWq/hqKxgDh6SwGp0ne7Zgl92oJSv+Fw9KVbWHYv2vkF3tqlUAjnLNUTz63S4yE8634q7PbW7b1t3y5cO5/ykUo/bnu0vHHiz5Wg9SIMtnR+XiCN3f1n0PSLWUYaVEZxIehGzAo3+lkBmDa9qeEA3mGMVCGjfBvEyTBUVeTdFQ4Vw+GoUURlmF0/ZHSrwhnBA4tSJyozqVMpbd1ycg8sg8hRpn5+8xcgjENCdsDdoAAAMAAAMAAAVMAAAAyAGeY2pJ/wAAAwAAAwAAAwACnSyvZOTaEV2QMSR7rhmhahgHnBDFALFTzI0knnIKbcu9vVpAFiL4Xbo8Tws8FRPzzh9jbrEMAC+EcVD82EA+e1qHK+TyeaEG2qZYB8xJJHSxwjqYBuSWtjANR/Iips1LXnWlGaHBQ8AAAAMCiOfnBaQZrppTg2bOBPIQ9pLX11qlvtIwD8BXfqAUNwPIC0WIY0YFzBpvNZOQAyhYqrrXeK9nXSurM2AM4oP/AAADAAADAAADAKmBAAABtEGaaEmoQWyZTA//AAADAAADAAADAAAIt26S2vnK3yJQGUOqpqRJEt+PHBH+D/9zQfGhgrh6T4oYQY5JhedRaYXFiwN8qFmYbuPWjm1Zhe270C/7nP8hrPVxgFla792R/sZwHu7BwyVhbT79TIstwO8SZwzw2LYfTJw1HoDdZGjTmPjhIeQdJuQOGw203YA5nSLId1F2WKZeGHApzOO45VFmhf5jk8CNEgftT96vA1ZJWwCDrVqbGckIWPI0I470oKlhhpJCypnHmE6YLDZb0aAecQAlySb9/wNX1mS2cFU67VBtf49dm1nfDDzfXsUqmaIb/anzKAuriJ97w0mt3qjM/boNzZwZN+B0IfljskClKYNzvJ9f+AnPuKkoo6m6M8GpLLjYPVOuCcl87RQR44lK+N1Bm5/RlLHtwUtqSKf5pGAaBGe3UBEldXwYkIWip9pFkRH8OLpllcu+L8bKd3TM5HjS5ZTQUNRRUZ/9staXdZ4iw9g9vTu6yE6MLaQDf62bNkI7Ax6wQRZpu8SNm4RZbLlhCWO9c4uzANyDIIuRoDXLpsflMitwQQjBISRHFAStrZcAAAEPQZ6GRRUtfwAAAwAAAwAAAwACnNRFMnTXuX6z6glEWN9cpJcwn4WT5mGBO3hba5yDYwfFhKotPOqAAAADAAADABaVBn9vSLubkBfnISl/vo3H0lcflbekWHIb1c37/VKHq88Qu2qZYBrjJHjLHqKyTkVzBDH5tv0Arclq8wNAS5yyApEtmO6PPoTz/H19B8r3Eh+/9dw8GDSI0fDk+1rTTm6hTfX8rKCSujZXs6TySPyOu79m4qAfQYSyr88DtdJXXZ00JkZ3QZuKsnX1FeHV17w/EXV7KkvPiCS7DrEwNL+w6WUOedf/agVyy/sYI1dTXoyEb//JLysbN5hrmR369KRKpsIAAAMAAAMAAAMB6QAAAPoBnqV0Sf8AAAMAAAMAAAMAAq8w17jFjALsA6Nt1f8rMS1M6NDTZoWe3IJHQ5vN2MYQKofBPH1cwyQq/1aqf17WIIZXHaZwW52T1QPBiykI7gIm2jEixWOJ6nyzwSajdteTNttTwgGRwuyfPnKgHHBCphNbMquq01GXZp9Tj8hmWEaXiL5eEMW/ll7cMsH+330tj+Utwwo83Q8OO8DvPjGeJC1FbKbwJOhA7GiuhR64RllHdV2oM7Sm6CUvJ8ilMLfOYtLy+PSmieMgbLzE/QMML0b56S3gHEa0c9FuzLJRhpawBXIMUyDUu2kLQfJxAAADAAADAAADABQRAAAA0AGep2pJ/wAAAwAAAwAAAwACwVACklatUCTIecuK6bdUmrxmcbvo9Z0TdjbPGGt43gj5pa2NbsFdUfxCwFt8QvnHx3X9RWKdwYmr50UBAGL+w7Wnfaqcz6eg9sD6J6kXoiPT23Yger+KiuuEVtqmWAXB08z2kwUOhwgV67ki1fM5bdNPJ5130LLAqMljg/eyv6IzgFgC9CHxRQ8fNxhCOAgumegWoqhCsQUEERhvCc0M9b8KFrppizSU1aca1gwNSAe3IVW14YAAAAMAAAMAAh4AAAHsQZqsSahBbJlMD/8AAAMAAAMAAAMAAAk3bsYLgDhk//PN2ex/LcIPBKVx8KQMURYTdARCe3AEhOb+z2dPQwVE2mXTygOWjK6o427ycI2yojhWvi0vnDxitLu2rv5bmo+HtXvqFjbULfsZE5/IkNj01joZ2yQde0FJgeKRxfPWGHwMIWE3M4LMTvuWQnHl8FiUqE0E2nd/gwTMFmPisRPICYCUktDZ3sjwtxFVOk3GF3xzxUn9zv57AKPGvlIFIfddEz5S3PoMwPCc/MPhCAERuLW2LhRt9sJY6fXSB/9P7Va33/+NppcyJA43zDafa6M1B1uau9JDzKsLniWJDq0RBDtwQP5nmW0IbBb9BFq5ApGH975tiBalfXumLDNDvcw7Lty+S1kfS+qGf5BBwBOGhKr8rKBKmutjzm0Xayb482iEEltw3wqBjYJRCngmXW5iPiggsW3gnJDwl8/uNWSfs+NL81cROhE3+fInSr3qqrvAdgr0Oq/yN92SoUEHCFbHHZ63yKjCejcU8wnFRFnes2nKJDFR7gHlWrlcrPszilFd0Soh1ZNGTG9ZKqNOSlMIcB600K+nSG3ulOV/252nQBTJMzlIrArvyQjSj6gB7Fl1Zh6wwKUdGgBR8A/gDnpmLevdtr6f6AuzUyzAAAABJ0GeykUVLX8AAAMAAAMAAAMAAsDyomAmod54C1/yl81yp7beYYPVIKneKMFOhsquqhNERCYc5CLCqFAQQlKVyFbS6EKMunHgiBVMzI5L+s5faVIV/RrfVrPRqsOvk0DTKdiEytF2jS7lnoOMudtUywCvB6hV4CclMVBxx4w+5j5u7/nq1CgEUmYoCQbiOfIWPzbeSL4tiKZX0cOij7YdS/qXfQP2WqneYuhdzUWV6rbViXfNZLBmCfNjLBE5JbZc7gTBXXQhfGjNn0KhbW01jGAuVEBHjlrGSGDiYpZPHZjufBQ3MMrqzkVjNsjNUAdVavMTqHsl2bfJoxr2R7XVblh3Rbe2Prm0bMPXW3eoAPZIoMAbuX+W2YMNuXgAAAMAAAMAAAMAu4EAAAE1AZ7pdEn/AAADAAADAAADAALPEzPBZwKnZkbubU8RnrC0hSva4q5rNyN7JmsLFFrS9e9gBliVizIeCU6G1IgJuMJFRVI0fEay7qY+VpS+k+7Cnicw+pB2l0vKqDq1lwKjoWzdEutCFFSNRONtUywCgIeEn4WDF0mSZPVfbKINyfja+jLV4fNNt69/3qLnV2BSngq6asQQshP1gCRHGFM43swbdlT9PuOCtqxPxAWWzbSAeo++H9dlH3NPlnE2VsfdHoYQLavtCGtu7pYDSI8VJhSB+/AMCWRy9wgskmqEIDrcsNiVQPK397cyjxJCQKibFbJuBtIVa+WHfGIOmwqH7KlT6QE9iBOPwL11SG7SbLXH3Vpbd99erM511NIzz7LMYJ2eQtdAH3ykVAAAAwAAAwAAAwHzAAAA5AGe62pJ/wAAAwAAAwAAAwAC5sLQQra/gOj9kApDF28SGQAwtcnWkhhens40tz+rPbao5HQdn3irpbZpxcbXmcJ31qdO5X116oQQ5POSaEPkroOxhP/fOz6SONfqeTeY9AIKTbVMsAn0OOWTWPl2NtttO1p9FJdw1CA7qGyt18/dKQZTgAAEmkAj1kL1L5D6CUEYVHoIYouOQF9+e+2frvkgtmyk1lnC8phCxM16kmuexZOrMowAAneD/YwtpoW2eMtkFe/DVM2bnSj0FWAGOVc86+fxsgJ3uXCIAAADAAADAAAKCAAAAZhBmu1JqEFsmUwP/wAAAwAAAwAAAwAACXGuwE/N4I0tirxTcsmDY9iQ+axWmiPkmJhyzU2uTKI3aHbmiexcW3nClxUeRz/Fff2jirN08YHltrm1FVoAgn/YfWC6SrIsPIdbULyvCnEA7RrwHq1ndCFMEYhdTFwvGyb2k8PO73KkZoyEjTPuiEKHbexSNLG866o8YeN0/GIVi1ff//vo0EDGHZskOzc4dcp+xujdj/bC47jExa5i5QB+7fGBi+bb/8y2lxMghscdSKCaljGBI5x/kaeOLgSev05FZcFZ+AT+j+8/TYrs9Posf9HM0ECI8fnDHIziVnPfoMJ6ReYhMKo8Btmnu8W2ezm4O5S3Vyx9MqN9+PYGK+y6+4bAh5FXqyoqK21PCAYGkoUyOiLIK0gTUAQtJ9xlMRWwzME7NuAUwrrqTXsqK4ksS0NeYSBkkiczRvr0wZk2KhPCqlNyR1LWS3dx9VcJB80+k6Mm57cdqtRXaAAGkfk/brbV1wrkmSPqY/TlqaLHgcdT22QNiRwTZ6GNZvoRIgkAAAFzQZsOSeEKUmUwPwAAAwAAAwAAAwAACZH6eLDpfM/M/w5iffNw4chKF9C/40gUG6gx+I5o/lXCpdpnsCV4H8dnCfvn988DOE5x0tXlv8dUCqUgHs8p9bNzA1sVhSJydradQG0eiQStNDHOko17xN8PkEZh3ZAVl5E6VBZnRL/+Zz1Bzma+MhUfKUMVYW05urlbT1S31z14RnlnTx6ctLKR8bgWNWnF5plknwLCoZ0GVQFYWkrLjSgOpRnVtNY9mlEgNMz4Es160xT9EEfUKhMVlp7ykIMOlWa7G8yjftVBF8bdUETIZz+S+cjob628ZeE1ca2y56+tDJ0zXyKQv6VKAhv3YfUUeSkuCuF6/TZZqVNZAANtF5/ti6Ha1iqwes5jKtMMvbanhAKK1ph3NOYAYPqLUVJd93TSmHjWeBJPH/n7ngNITMO/XELPDjav1dy2S8kh4GEYOHHTRldMb7bku7lu2XYrrRIiK6EzrlD7qiOtsmEAAAFkQZsvSeEOiZTA/wAAAwAAAwAAAwAACZH6hBcm4NI7PH7xM/cE/WU9Y40N4NOHe36oU4MJ/jLScDy04ELzw/TswoEoMmzWW54fgxuc/CEWTUUy3YLXj80hnNffxqMRlbLvkgxebxbIdSAtdH7qTqQfvv8cPiR/X9G9XX3+WsG9vYRvFY69bFDeb3gMt8zcKsUvhEpkSEGyn4XcMo3V2l4vr8Qcmnhttv9uqyaKuu8KJQGBY1XCsy3Vym4KMDZENH+kuxgESk4smtpaQ9fPLL8AwKCdGth+7CDNnqlkykjq1rIUo5llNR5hjwqQY2cAK4Gf/H6fxZ5tWHWYW8A0sE/ZkZb22qVQBTzxKV+K7PSOFE5zD9fSO0J4AbcIWhRYjIUR9s6Y98m33WFPmxiukjspp6waWLy5DpqHY9JOQWccTpwAHgBm0GYUAAAWZmCfRFcZHvfiRcffgV8CQ0uN+fPpuFEqkQsAAAGFQZtQSeEPJlMD/wAAAwAAAwAAAwAACdQ/gLDpfo71JPv+cRqiSp2nWgOps4p8zSr9zdO1rAlNzMfV42SBzQhXrdQh/6VXjTc9O+QR90n3m5T8GAxi4rwJBYs3g0oysKTyzJv7OajYyYcq0s7OuiLSwoh8wuh9f+ivgVjPT3cKtzbvObEv2DbNpqjjmHdAWxtSL3i5EdeMq6voK8QnZrx0p55L2DAl3zXN7h2xWWujhX/e172PKCAtZUH9VDek7D33WslNtWtxcnX1bndGAeKZ2P7t6TUCHg/AnhWNkCERFEkdhdaaUNEWbw4tEuhWB044B5q2K1DJlgHxfD7XQpwg7slFwhhmi90BAXksPQaOA5k4Pk3+jfAUnueI37fzhWIZzI25NlZqh6LYP3dXML4djPmoettTwgIR2pZSDXbrm1JTendG9UbUO/RVg93EU0Ei2DYIacmGh6+TLMlacS40WPG+bQHsMnPdC/XkvMEPbZRpTi0jKP15vmrNCEmoX53iMW18KpwAAAGdQZtxSeEPJlMD/wAAAwAAAwAAAwAAChw/gLDpek/OcQuI4qzQSHyf7dYaxzE8HfWoDnh/G03+lv9NwAGR8T2MRvrSF6IzURcekILN/2mRSfVUFPgjRKlGHw0/3Laa402IwgbVAoFMX49YMgUNHkU9lPAJS/L2O7UOo2GI1bKtkIAQvrKEJVDnLGruCdGPFFkMPyL63mQGDE2AMHL+ww/DVjeK9zJjybzDCzU8PrDEOVAZkXFsa74FltGMbjQI08azcwHzg+3pK/3qbEYvK4kKDRQJb97edbwjYsNHxvd37rzHsdVDVVt9q1cZZN8N6gJ7jRicOjVxRgnaNo2JYkmlufReeNVzWNGmMvdnnneoJo4LPQ037xvFpk6vnFNR2tu7EZ1j9cw0veW0rPirNkY7SK8KdvjlauuFgcTT+guivB3bU8IBARZN/6gETLieUL7/hAJH4Vb3GfvMEUoYq7UbzF8RbmnqprZpUZFh1fQ557aH44urm+kYhLsswmh/+zzO+P+S6AuyILZ0QhhJO1TREWMQJB6qCmxE3GSJxYAAAAF0QZuSSeEPJlMD/wAAAwAAAwAAAwAAChw/jBd9+QIu6GQKchzO3PQs/TDQ3cyf//Ilpp/zSn/GAL4agRGbW55DonBRk7SvZIGRfmKRaqklrVtI9U5CvFVNa9fHG1m3fKweLtzJ4olvROMKslcT3UxpDsWrZpCLaY18D3Nsjfl7aav5iJ4N+m/thXmsuA3jvohqSF93bKosoubAzRytI/WqY/6Ojc3REQK9tI2L3IveWqJR1kIJgfBlRF3QD2FzSIe+uBsNhas8ryOnzCZYjrui54GpK1xtXqtnL5tzsqjErrVU1f+x3UKzzTp3ii/f516E4ga8RbYuUbP3etx0FSCqBdd7Ckn+TPzJB/x7ItdFKwUiv2Ip1q2eg7C5a/uXu2pn6oBfv7QIiD0C5L/MPQizanEN7zd1JXwXeCstQyY+1Dtfm4HsjeO+oj+Egp2uu5UC50c36TbUJRbhaGOaOEE/Mo4SEHVOL+JvNh+m241uG4yRLhYNAAACuEGbtknhDyZTA/8AAAMAAAMAAAMAAAr0coaa3D+easKai3q09PtiwBZsmvPgF/egVXN3ZOwI0dhTFlY3ucPrpYlbpXtxs8TdGk5GvVjNLSr14kNhv4mhz5U3GiuMMZaq6LyBaDNMjjU60hN5ORoY3MLud7S8CwXZknW5syuMJXZ/UZAmmvVuK0Ga7ypXNyZkWz3jLpiYgMiWKhpqFMhYCqdb5MjO1IoMelgAEpuLmj9dXtsm9asNgbdo7IePLHLj8b3TlJxSyJyOqA6sBa5XcfW2d8jo5ALv3/C5DhRd2h/+k3RlPwuCtgdlsJZFBtgK5RO66ZakIA9qpzEjG/XNfFEgz+5I3RklNWu2SPZqbcQLfCM4ZbRScKUkEey4YMuAm21n+S42jy5oAa/EYH6lAiy7rv01WFWU8lgLkFSvHR0PtWNHUnBqIkVC3Mt7j0P9fuZY7KFmWs8bYhwyJDL4pVauKzKEZ4+znTPHHIih0+tBiBj4MoIfz6U551MSzmqiLEKCCUmyiYknkCHuuf49iSyYNecEiyQj6pVN+GFamvA7x3V4bIsDEd6DafONK/1J95D4QDGKoDqXnRvLSGbpvFvT0XaOfjlMRGjBjMd1WCRq192omjMjU1G5GzxLWlDjwsuq4FvTa38Q6vEvjji+EZUNxcMO0RMtx8dWrqgbeou1FiBNSAbj2rJT6BO1qzc2wU77Iin459JIlR8ZetrDEjgptn9noCOnUJ8oVjTF4B3NW2+AajTVeFi6mfLiWC6pQIzactszEFsFetYZovPir6WLnduieEXL0PvTQiqpnLx1hDn6PVRRHy4/pYvkdCiKGcAXUZdJfnA5M6CaVdO10anoyMo9pmnsM76mauugTp35aVAWDy91RBYRJwKztYaT3jEFPbCoVKrk20MUwsnY4H51zRobJIjluAAAAc5Bn9RFET1/AAADAAADAAADAANHpyqRmUqP6P2zkDFXfj2YTh0jz6050Zl1G3m6mAnXudVAfZLMYLO3slTqRWaU/a9GlhLu/AvX/zRYGmDf7rrTlWHrZnBHNKAN2obq8Ff+bqgcpB+DNauYbrdiu3CiLUKY8d2b8NPqmfBGeothgZc9p4mPrQmDdBNhQVEKrUC8ncR6Krheeqzapbpdb4aJ19vvGQNdqFkLRb+QgM/uGL3IUBQ1uCD5o+wnkdpLajGYNDJdPzw7+KrIKO6Ro+EQBrQhmNDOOuThs/4jgirvhwz6B4G++7QRu0r06lnCV2gZGH+cyOkycZvW9fNDc2sB8LcWKr/oZFECKhllaIG5aMzOEMXhaGeH5u6lsklLlN563hWAVMW/vCjVKMxSt8YXdHa8K7tUywejwIoVVbTEQOnMjm6gPKiCdIFHHiQFPGzVPG2KvPhcIXI7BORnaa5TwVLBHXCiPQAAE9ssAAIr1Nsekx2nHC/0biAdwhkYmmDnGtptc0cO+NWmvC5APmnWLQAUhWfa7z/UzgCnWP0tyXa5VhAWAeL3Iit75RTLBmnkNhKmlLlg7FtBMhXwALJGVGAoAAADAAADAAADAd0AAAFfAZ/zdEn/AAADAAADAAADAANcaiLwxs+wdGuMgjHywFWIn2bWGOhutNv12Xf9PaFKz2vDMxS46qVbElRnXeQrSiummorc24Fd5i7WMSc5WbFu/LGb+jj2tbLuw3RrIPzkE1pl0u3QVtmCuBIBMIyVYCuwhL99Pb5vtqGmKq2aUYGNXgA3ihXwatU93vrVbJi2Q9mTfd3BsOdex1gWg176MtIe0Kbz7xMlhx3bEkfBF9oxlj5gm21TLBh0NCYI1j1PYtOcTebrBhNzECFF0Odn4q6Fde1iUqstNDd+0oKxDIyQ1v7GhwXAZb8gmrazd7mmtUHjwRBTFk2qAOaylDEMkH/scoM5sXmF6zkNuR9IJcBsmkdlqvhY/CCLUdlClXRz4BNnJmnAzOSrjNBMcjU2iV3XfYv7i7LMjA2pnRnmbjjsQNf14lhmR5kNeTpZ7i8qNEfTuEAAAAMAAAMAABbRAAABPQGf9WpJ/wAAAwAAAwAAAwADb+Cjc75b38t90tapwLrI1TY60rJPGg2T3rcer0Y1x0CFPm15LvsgJ+VoujpxbHckvVBKnOaQUukizSaspsUhnxOgrqrnFfgAAAMAAAMAAAMABeZ/VTtlXL6u7qpVXhL/VLpHW4Xc2KRhXIhwNNWjbcCG9rsG6zi9ulKxHmjWrRndGZ7n9Vc739njZu950Oh/HqjS8mrQUl8vpQNNhgbn3dalUD8bExfOOkdb3uJZchpsb1UG4qumzPTcvx8uvsmfRliP6jYL0lGsLgcNxgzyydLFMnIiU2bLoaFAAXGzCdYHQ/6uqcQYTggDVQVx3h1cj2ZqXbQpCLEHH1r6YpgbE1T3a2h20sAAT/S9Y0qmUZtUhN2+5/CfkxAGwdvmyc2dWAAAAwAAAwAAAwHHAAABf0Gb90moQWiZTA//AAADAAADAAADAAALPESIsOl6UEyp0TC40Jfhh+GbnYkRZ/1zdVopVYzg0pnmMA6s8eXrzXkF+4Q1rhc1tU+T9CiRSLRA8+AaSEDR/ePMeN/EJ6N4oWvnaiB/86xWyQnQ7L9rQ2YRIq5ICQdzLV9cu7fPCEqkhh5dU9LD1IqvgBBZdOdywu6USpOJPUR2J4n3IKf3WpHWVIKBm1KhHvK+2SDJihb4JNEFRn+eeIj7MT0yVaRn3cVQSqisBTCrxIqM8eH0TmuhKXVrx25Qy0sHSd7EzGMoMUswfkCzRknyNhJiYEMV+vZduqy3QYjhEU8hXMXetaBVKIKhG7kTDwm4eZJuEg6gadmD7anhB+mgOgLn6ipQmpyJGqxVGkrwIK4TZh94z4MKxLpxoRZaXEA9j/LW0677UcUtVkpXAIy65Z5oDFU2s/Mo4XvswtwfsL3iAOTTUKgsnu6llLLikUyKNyRG+skMFkpXKAxDxkBU3yfb/4mBAAABWEGaGEnhClJlMD8AAAMAAAMAAAMAAAuERIiw6XpP5TkZZZX10n6xvbvF590PpjKfvrgMlUz7qVbzjslU+kCoYY8/7AHdbSbwIjXJbo986gDt8dfp84ZOCjkY2N4dPLe3B1aNrN2zHBGsFTTcvixblNAjSJ4hbET5OyrByIHd15WdTQSZrKllYQVd/lqw40Uj6m2sNv/hlS8pt1h585E1UzgmWTyBDgR+WzPoVhpbixnywSLQhpCPuXXVoXourmEdvJ4qTP+HATdZ/4+b9nd3qxSdmvoH9lurlVXR0Las6H66t7Qez260ZYSJuyzKvHsQFHgGwe4Cuqlo823/W6adQXoP5op76hU7CLgoTPTiix99g0hsPE2DfQXGYaR0cyh9TuMdP7esW8fMtcgBHVZVGVOGHjiNSzWLlqTsXfVDXO9fMqHA8DS1Pcb9ffyITTGs0/E/Str4zjnBAAABg0GaOUnhDomUwP8AAAMAAAMAAAMAAAv/QA6iQM/ND+hZFQg13BEPx2GHrnegw90rrRMMLP+8SBQ2OEUe6Gfz81mseX8MurHxXL38BXQJ7wjE9dmQmAZkpDSbeAZlFI5cfg047AJvoydQ7bi2IPmbzLOj9DnRbcE/52vrAeIiWTeBER1vO/Lx2yUpxiaCK7lUzby0bdNEOcFb0kOBbkveUAAiaZx185f/4LdMhE4JP8Z5389f9Dwq40HVMr/Xevsh7i6ub0/6JHCcLMoKwGZGGdP8XPojspFvW3usH7lRw/MTgC8sgM15LOpZWqvNluX2nfSYkP+ZF+4llUFkxZitAiqFgNIAZxq8N21PCAbfPIksYJ4R6pzFyD4Y+nbVZHDOcMu8yX/1fRanKS/RrDZBCOyQuFjtS2gVS43HsU7z2yNIVgiCuKsIA70iKYjzKCup88Lay2SfmnQjbQwmWp0PpaIWsBN44OMLzDilgxsTkwpUmY095BnBDyI8N+QYgrY+M4GUgAAAAXVBmlpJ4Q8mUwP/AAADAAADAAADAAALzZKNmqiWADsRXfp2tR5iDrTC2lizZ/oznGWEo33Mu8qh95FDRByiRg1C0g6SNkEfY+zu3rL+9M12Ov/2D7C2sJ3E8fyai71gg8NsRPzd1JI3T1fzNzi3oAAAAwAAAwMz43FYYugR9gBX6ucMdC8raJX7x5QvikJndm+a5OPncpPFMqtyigdQNbPkoBB2qdebmGRCFjV66C3Mf+SXYeKtkP1qgtChG/gXSlYZoAb/waMvhbwNr15ZAAfTTTtqeERJnz3u07PDW4QnKGeu3YYN6pZ4y9/amUjHLwkyB2inrFbRFBhYuKBhVPmlDNGVswAh71hfbYNPIC4NbugVvfSWsNdfKIsU6b00s8qYntKHM9CM/s2aqVkN6fgPfmR7F6d5uFo1eT4xClQt6Zt7f7EvlYR2AEPhMKSEZcEvI87TkVXckj86eGNEtm/WZhykP5KmKXyhnBMRWZ/s7HUcdkmdAAABXkGae0nhDyZTA/8AAAMAAAMAAAMAAAwdkjj+KwDrNJK2jmfRVLzIPGXST3qbbkeDYhM/1s7GHgvbI7XGyFKoYbCtvBzqlTpRoguuDkIK3Wad698iwF3Bsf9ljo+7ohPC2KE3Xgzh+PN3JnpgF/i5f/5tA0Y8AeDgvEd6WXyIjzqBnd7SQiP7U+dvHHUSXqTGeSbVozLnkLKkSvMK/URA6gItAlXR4z3phqzDQOMuoEGXvt0XstV8dhnFOpuc3G+4DZpeGN++7RwUYzj0qGT3q9omcVlaJFcd1nvwlrOKdyr7talULPbBW1et1lRWBHEb47jv9sVccIHEeCM2fi2G4PuXqszuJLU1Sokv4lUtUJ7CNjZxHLfc8Qz7yGDSl4xDD/A/4uWzLQBpu8CNewez3PNfi5HzaTxyHZzUwH+t3AK/64mEUB6B0gcOzqWLojvuvZzA5ScdTw55+RKotDg4AAABVUGanEnhDyZTA/8AAAMAAAMAAAMAAAxtmhlnT3aeJmdkpYW7uyalZ8wSIZ5fGXwWxL9D0e859K/GI80DzFSSJTZa4A2whnvWAVNb8KJYN+HHjIUj0JQ/F2qn8rRYqwHrieO+2keLgO/l5UXFAavZVlCODOEBmVLn6CFgv39WL4mqFODC/+plMDPK9E+5DAGxqOAZm/MYmNbGpdz/vqsEmRZPt232eMG9X1ZJcnH7vCY6JtdCxkXvl5v6E8kZTB0kO6L+2TSKD5FbQp2wsAr8LCqR6eFhB633gzReIQg8+cpUML5Ta/3bVKoPYv1Ak3nu0mN/gtSXsIdFUCmmn2ORySBwrH//dtCxyd6RycWeaRMF4jPggXT9PH88FnIDSWOZb/8/S7iQ0fE1uvl5xhd3mwxrehpytewDqECLPSXkqR7PIXBOc0G/xltTl3YOCDwvxJfqJCKBAAADRkGaoEnhDyZTA/8AAAMAAAMAAAMAAA2PQEF2qrh+RKAyh1auVxEzVWjSaFSF/ktzOJ2hNuAyAIJi+S7gUfIjB9L6FTKrpYxeExDbJrGXnMkJmtJ3MDbR8cvdXzRznQlM3Uzo3hDfK40uCWjU/A5nzH0XtsO4BVWYb3hqIz+C4EGen8Qxmx/nAve9gD5FowKgRnArxPOhtgb2PtzxTBLR7Bub1nMg5D4dc+BDdJxT8E+SbniLlTwmEwSpCAAAAwEKuaBW8mThjzqinLT7/HnL1lU7uLpvlyl1j0XrxnKalQ4oyxfgxOfHOeElo28JLnTA8vqJnaXkpoQStEr7fRtg1bDDtcdf+icdHoR8Wc6D2J69sGKPW6b8I/nIogTQnY4OkxFmtglIDoODErhTwGLhQD/36H8HwCRSQWZ4Y6KWcba3p93SNV7dAPSLYWBMluk0xYT11eSBjyDglJNNPMsiHZx6CPsQwN7mDx8Td9XwDbMncsnhdfs758Ewh8nq6QHZO1GTo2KMNBfriEzWQgSWrRT68o3pbDjUc0J+F/u8olsi8H2N3p8FubpHCKgf1lLrGLnKMF/hojeGn1WqdPbUAWAeGYtfHbVMsSa6+DqmQekJi28m75Hy4kGz724kXD5ugDBinztkOFoYDJ+tX+jv8MP9sE25yta+jPpM8GdNJGBwnsPN5v1mX47JNellIReMeCs38ZHNYn3LyE2Rej6eqGmX0Elhx/17KnVkQ9+xZhQBbPwGcGniMcv0hkJiiewsYq0XB1UqW0abG2BG0ygnwia5W+4mCX8fwp8yIPFt8wdgUTJI4MbR+8qAvCqZOUuRoNCDRBRodqhbAJtXWQP+3lxXHpcKnmN8XeChv+B5LiLVLtl2gBuWlWckV3H/Wt1+TpAnyYZvSTB4dDdZwa8cq/+gOXP/0KutD5ozbky5RE0JR3wPn0FGNyFJkeXGuGz9L3yuzFteRXVbeYUGdH3NFOeNw3Ugg347WcN3psmnhBEH7QdJ7vqXREB/Vzqs4sJZhuGfgeCUdsqJyTI/vxdjW4rG122CGNL6lAbrfNi7NzkIyFvSRlL0K5zIpczK6rDWAu2tkow4gFU8delFVymvLnwqHMR6o90AAAGlQZ7eRRE9fwAAAwAAAwAAAwAD8jCnRZCsM0uhZN41gXrlUL+E9o7N+aKHKBbVdOs93AFndJ9KNogiowpWDqD5pk63oI6YsGCAyBRTy1Cn49OKKzBzkcOnk2OBL2nCwQVy0MxF9kW/QQiOU8LwkAn/gn6vvdUByCkK7uKrxJp52Q98JVlU0wmSkMOcl6TYXyPlOs+cWeZeYn7OkT3vfFcIaRv6vzzYk4vY9zBeSlugrefkxqN2/5GEYuivot7Bg8aKTf3YTc8ugFjRzKp2dXILMHE9ddz22p4QqXZOGA6hRvwmmZqX+lJeruhxV8RaJihqdX+sS/0z2ZDWO2BrpVLGkarQeTwEI07niR6I8kDbUhCjPjsaPPGNZn0h7qyw6xvVF6NUmWjkCsVpVGboNACKnm4CTWpNQfjWDgKMvrlwq4k4uwvEUQBymnidHZioqYbp8qY9ywWC+dCLhXs6WQ1ggo0t0MfM4yCRHVATSotVWzQy/NCXjn+srym5ey1uedEwzwEscSwyOakouPvGWH6F6iNptNk+HhqGtAAAAwAAAwAAAwAekAAAAbQBnv10Sf8AAAMAAAMAAAMABBEc6rBMNCaOthWIlB2ZX8I+l7TN1PBscow6zh0ixnhyPDWX5i+FM+Uvj9HAWc1D3TvpV1D9EzoWoDe51FFRYVwrDbo5jOxqpxbZvYA+cNYH+Pmjjclm7s4nKje2wy91WmCZD83Dd/+p1tpt/68JeWCdF1eUmWswlXFp1NrM+j1kDCs1YPOJT0tQZ52nl5DmxIJ4x/h5/3r/796pD6mDRGOi/g2w5r7+tm36wB6u2OIS1sfP/UIFStAyxthd2tGWEvwTOBQOoWJUFuXrZeCrS/2oANGUhSgqFkcbHfQFBYtw/BiBAMoHGBFg2XesC9u9VRo7IQz8Chc4NMV6YUXecV1V7RCdZnvjfzR6OVrPL+WWVIohhXEruIRxAca75WGZjIF80SJoHbXz6tQFZUmXoDJMM6xNt0G0mqVak3KkKRBJWgIWICDwJzrzUohJh+Xyt0PONQbDgzU9BCCV3rlP0HM7/e340nQ4Tq6kQEMw9QfscnDORQ8HlG5+0yLCB6/t+ojtoAP4hmHCKNpfXj9HN2NUBPAOxFt4AAADAAADAAADAGfAAAABLQGe/2pJ/wAAAwAAAwAAAwAEMy7kIYBjeX1mvPUC9V2aEh1n/+cpMs0cBA2UXJv5+4eHO1Bzc9JZsG0NzETPTH0qxxvxHyTWvpClmrNHwNqmmHXKsSUKPnN3ClTqzruOADiQg6WK8qrcFbUGQbIrxm7FA1OSjneLoDF4nK73WVk34KuxsRdDr0ABJbnH+7anhCNaU+aWMfOrs1DMDi0mWMPVbCjKosbHZnZGtykj46SgV5lTTimlbet0/HwB5N2vO/I4NoXVl+YgrdX5uwCx0ZalVOeUkm4mTVKWV0AnXwFsUIrPDfdKyodbWSaZkAAAc25twkyZn9Um2oa+qbbTUeQYUmjLBqEXAaH8wggvMHGOyNDI5lHE7Qd766ajtFgDqyl0JgAAAwAAAwAACykAAALXQZrkSahBaJlMD/8AAAMAAAMAAAMAAAMDE9ADuVBi//9+Ev7sEW8FVdAyqcWr86t//GEYCHF3+wwqgJEKSDB6FTEDAcSK5yc+8+tEUZz5YQyucQz7+JqvJS5LuSxvZN9WsjKa8010gOKrzwi1SN9PP8XA0oP+nhcSh+ksM1GeJkGANuEI/ilmzUnvq11ErKjfZyXwYXO/IpBg7uGTu8D/YuOmB93Y/KdlcHF3ijf2vIDDG1SQodmUoVhOviyNmT3U+TivEc/E8/7vVUO4BcMKbPv055Gm95MdNlhbV3bUb86Hh4/UiQXG9Nqh4H5fK5oAsxoNBQmPlrJ1F5/n4dw6u9U3lFy+Dv+niRGidC+PSP/IFS5G5DC3CdpaU1zDKbmL/7YTCWZqD+aj85NYP9ZunpLEfKMbanhKcG4V9tXOr70SgMSr+IyAXPoxO/LKov8YjbBei6KugzUZeNdg3cQ12HQMkoB/kXm5ilwclckdrp1d1l7dc25/ifjm6pkQa/OC6JjRYwndPGgJCRj3m4oe5wfdDQxhvY6SQgz/sTWHqYaiXH9UCf8gDc8fcv2jMh197HH+WGCTDfi2ltuo+kNjVYnynSMgGHxj6+VV8SYppuop9kWoRO3VMBwyvPs/v/hq+VuGjizIbj3heuvC1BEYXGGV9+KiJwzL6N8fbi+Zn3ZS46VmBwnrQu4NvJGe+AqZnBWN/qRp8DFWcwLl7Mm66+lSovudW6Zm9yOBVJPjhC5seNpqZQ2aLJnPkJwAdOmwfP34HPxSMx3OdL77HHf/zRywbG/esHkucBsfwZXFu6dJQEk6GlPPYY6nw1HFgr6ABNO+EXxzXj8NRl2rWR5pufUSyqGiEVfaZ0yTFqZcf/m/wvYmWcbJp5EX2qlCXsEqBBmYUvGfok6cDwG6qpNMzXpyDNH0pin0rRTlqgjOIxBQu25B7pi9RC+gUQUmzaH0Rp7Ouc6mEAAAAf1BnwJFES1/AAADAAADAAADAADmkDKZ6dx/vg5g7Xa1K2O+B/gSvjwIk6qdXHbmbxLlfH+0ePqzbQPVU4SC0H2HCBgzozQ+XkDQiCBZTYCgZ9XoSeSRc/sA0BwJhdOS7w1pxEMyTlW6W7h7VA/LK9/7hosBG1kpf1H/e+LOEszVkohsp+huUsGe8q9sXRTqfs1vTTwjuv/vepym2cfEsR4zaoCL5VMNiFuPS47Qp2Xsr6Qr7gVpEQ/yLqmlC/2UaE2I2fAca7axZgk1q7fZ8NnaUCbWJf2hM02QxnwtyXxS1Rn2ntqeEQlpcwyrCUPJDj0l7Ias3ENJSC43q346ccXfRYo8k/9Expu+F9Cx3XY56Y9SsjyNUfPT8KR0HQaiS6/Ga7s3vPC0x9YODcz9Xd8O/6aE7FY/aplNAvPUJfdWnfypcYyPj7PN9NENJoHTaOxBGL9KljeaoDA8q9IgYnr7NeJN8833J4WKllONdyt9zgtGBs3g616aV0FXpfW3DRGjWXW2VWK0jjaREUEX5Zd7+ClGqjSZ6ECjQBIiFVZ7MnmwdZ1ZNJccOPZ1zZMMu9Fm/UuAAAl1lbTGbLKmjxwMLfCT2YMUa59RcaJZqwr3m1g8QiYkUyiARfZqTgkOixy03z6f2KYBnb1gyDIRzQWGoRhAAAADAAADAAAa0QAAAXMBnyF0Sf8AAAMAAAMAAAMAAOVmQ3nHwXViameqrIEq5k4beeTfRYKAHKz4SRr2zA9OQjsg15dNz7notC3TJHIAfvU1AA7wOuftYkyDT0GAo/So8fCkXjS5xQ3eXFNtvoOP/9daeEq7+sjGbPg1Zts+GVfY63R8MxqMmAhGNm5OdDYff9MzhE4RFecBReSq4VVUD9fV7SoSm2+GXLTercdBBLipWwqHl2AuKe2JZ5Qf22p4QrClqmfoZFcClN88/iNtpXDb17ycFzZCub+MFi4bpXWc/aacmB0987ldmlWTOC+xG7feKxiBFokXFXRJvC4oEjr+XSNwrFUis6zOTAkp12wlDKObcg9R8jMCicf0VPu5Ha7/gSd2xNg28imQetp/Vv/32G8paMXiDSgq1Di6Gjaruv26XuGQB2r7QB2+D5ez/4xmX7rUi3SFaIhb0iGfWr88oZNPwFE3GgrvIP8wlByo6sT0U8ygAAADAAADAAAFTAAAAUYBnyNqSf8AAAMAAAMAAAMAAPKyhFQGpHjYJPGxWfteTUKp7+iQJ8m0hNMBa4F6RMaclvf/bb7FGqWNC6oRotQgBr2srI/SLAViTPV2vCHY7Qrg1s/0zneTZXpAPdzpzjPn4k6VVM219aC4pLCJYJHBxPQ1QZ2vZybmjA+3QzZaJsMo3WpZryf5/VPPf9CM11Nxgkw6E+Alal/kTAqKD6C2qVQgGE4fgsxjE8RPSAPOPXl7R3oiuph6yGa301jf4AwzqtFc0gRCs5FdvORsBdzD/AWwWpfJznIVjsjjsgEL0yHqNHCz6rIqtqn/z9iWveIJJWREeLta1nOaVNo2mwjYKCqMw/YfX/Lz0gJKnhuSVUtbIqNx2TLlGX+z8TQi41IqDhO9IDLQRhl/2nje7ZCUcj8aloHU/X+DhgAAAwAAAwAAAwCLgQAAAthBmyhJqEFsmUwP/wAAAwAAAwAAAwAAAwNj0BNT8BA6yP8bM85VtZnPgboBPXUPt6aSH/skluIYTpuYclqtdTqkMq+cwPteskuRtJ8k6gieaTsSjTX0NnvBI6+QmJg8OhFUChrPn9M2uLnZlLqIEYVT133OWd5tr2tm2SpH4OtfWJFAhOyRu/xfNdJT14NcSpVeaFi1m82RaIWEaINDu7+oP4sK2v+45Q6M+/Ot/T0EcLOrLsIC+uN+cdc/OXvOUYuH/58R0uGLMsjRFE7WTf5hxwa9dV6oWndNSM9fIdHILkp/PIrsz3cwYc4rrgJMA+bQMsb0Zxhm3htNMoHANS+zEEW/wXNbtUy0avmY3vncfHvjRYphblW580J2rOV0vqfN9lKGNlypoUsQMPTBYDAhk03O00KWn41nOrenZiU7lkZnSs0tVnlkBDgy1FaSEjxsNFq/0QNwJ5JNlegICtOQ2n0Q7vXieyZVr6Fp6DDbrJqcLWmPzyCsOVwl+IxLR5ulfXL0fJ1hFZrleIjNHpgUc6Ku5g6IJdzUXSX4ZNlp7f6eZYZLo554BUW8zz7vQEeRzu7X2F9JBBy3cqOR95x7kcNPS68Oc40VaW2ZE4UEIl5Sv1xSs7xBtHknyOG/oOrtHFEjw+frgRR7MGWMpTnEkayeIOSwXi5MiA07SrUelGONXc1tFR5oECNllHjUsVsrAM86ZCiZcLDbuJ8vKer5Hwh34PywKHuvotBAoZAkNhn/stgCHlYp7PuXzhhFiQsDLOmIGxsDOT5efieGWcUgTkZgeqbHGuVb1EXEVzQVf4KR2CvEYb4Q0HgyCM6OAXr5F76xaWSNflHa6JuBv8zl8imlUB8osx5kPi0Io20qUZ9sRivtTzpmInT88H2tPZrZ8Pr+T5he+tXe6hXDk/jNZ1BqZYOV4Pp6HuuNG3a0jw1QhEMieuSv37jIdBZc2DRBq2z3UubTxwAAAddBn0ZFFS1/AAADAAADAAADAAD8kIHt3SXIwDh20+fLEFqFHKSN5PHbLhcM/LNVblN6siUckHy6KjntGEHxGNKTKMoBK3StewentKViWL0VfO2afcg4c+32MxzdQPC/exBrkAcmL39zWVZr0qXkFhaQpNbHjwTPM6KWJUd2PXWvBD/eTWq0j8dY0/70aUtB4YYMQ3UDFAmri5XfHaVQT1wnMRm90awrTxY8KscE5Hiw8m23TxAVVTFrUqjTf+IrX7eTkazlfUeDkMP4WdiQEsaFQlasQt3RaUjHg0zWWR44z9JMiZGHQRfs5iFZXl+yBRCbmwRB7GPc9X0ZhklVQqkYxn2Dmil6K5rTg3ACFx54lG8ePppJYvxnJcPMG6apNoLJ7eO8wEmYKwAyNXHHXT7uEXTtC/zgcxQfKkKP3ZXY26PGaTKGC9tyfHCbLxKciHFmc/SArziSscsiR/trdc7YT5qXL3kn/ZNRKzeHNxAA3K/QNi2aE7dU5+DJm+C11ZDVnwlUA+B1NBoUD8zmdZ7Hr29YvVWyeLIlEFPhim5daabR0ubtukeyzAieQ/z6dCPASHQj4G9GcaS8llREaoLVqzHt/BkAtMucNYeuAAADAAADAAADAqcAAAFXAZ9ldEn/AAADAAADAAADAAD8xmk0kbIlp2ycTOKTysYHrAHKlEqv1SuxKSYq+cGnueidSLNwDHhb34Uhx36lMsslmpk+decvvZ56U6y2CgUtFi9q2x2ERiucFAhCnw5Ox2W9Nppt4UOU6eVXumMUQV/BRqFyaIoUWsCSDHcmHqueVNXU+1i3aUtnuFHxLbSDPYwhCMrm/pG3DS7bbUqhgN2haoU+FZ3E8vnIjb0txgPxeUg4qjVD0RmBTfxk/XiV4zRtBV7avf9I01mVvFx/yrK2Okg48SImpW0J3uMALSG4P92aJAarONRxDjw4+yVkGJ+oYJJ8Lrq6BklDJnh77gihTU+Ba/3gErFDmuJl4N8r9kDsmbIl2aOkZNwY/ziMzm5/ujGzRe72bNVep0Hm5vzYB5VP5Yg7ikZ+bSFJjYZ3sqoXK1VvN4gni1qAAAADAAADAAAScQAAAVoBn2dqSf8AAAMAAAMAAAMAAQ1lK64LD5Mv/X284JVS5KZWx3axccb3mIxgL9ttBnqBTjNHlAbmzaqwCkVXkChFHRk6uJWyzh6DAUismmBIBaJ8lkgn1er5xkLHkUU1/MPFpP5100WVou42tbRxUECE63O0IjSjUw/j8KBwWOOOj2rWqZZS9CAOYP/rEeClvhRyBhXZhC2TsQdO/bFSWHxgI+Ojz2ZnAbGrXHtywEvVYC6CP2oe0WJCZdH5nmujDNePgL9zecZxLrWgLf6gAR6icadEGVtGAYHs4CRBmz4QPWdSbdpyfxeV0eSiIkCzyehJTrvMRYjwD5lwRQoO7NaVVnY0NGD4K76wOQW0A2lS2aNj813bvsOd4Z4pT1q0IITEa55JJ+riXGKXneKfEcG4NAAAgFZsA3P1JceXiK3at15l9m6BMte3EUVKALXAY9AAAAMAAAMAAB+QAAAB80GbaUmoQWyZTA//AAADAAADAAADAAADA3fQE1PwEDrI/xszzlW1mc+Bugsp7wwAhGrU3J1UafYdWMqNafOexBDTWoUrn6MW2E1qr3PYFDZq4rbSdeWcDFCKD0BOPOVvG1kX2ouuXsa3RCS3k48azyeyLuPjSU/5qoL8YOSpEESuE3rtkeXm5NgRn8YnPalSYdrxsTt4qetOVz8ID0//9KglVxEo+oaP3+wbZPSiWiTV1tbTzMB8nFvMkn4GwvAsqmV22qVTjhC5cQa3r7pkzBfJ8Fb+yN6hC5VhpiKm4FwsWf7GG9dVcimjtplSR3Rws7zDSWBsEJgOo6WRMlw6AsJxAldcP1xBDvt97hDJE/s/i/MzIqR81VjjoDgVb/LbCZTHZyJsf7BQXgtxEGBLNXG60Lf45oYANhG4rhig8/bvSeGPbVON1abuU9NAi9ks5VdmgfDnzKcLv+H+vRGjZOhNbIOMJlgbgUYEdfXdeDjo7+kf5zu8Vu8vG2kG+bseYaKRfi7Yp8hYd3/yEG7RBa2da/K8xPep5JTumeLm6XxRagXe0rLg/QTYF5HNSvzqfD4oogMwsQ+HxsR6O3aCJK1ZYkQ67WYmlAVhlRumC/FICB2SWgErb2p5I1LgYlsDDwNSPTuTGM9SzsaWPjOIi3ki5NwAAAIsQZuNSeEKUmUwPwAAAwAAAwAAAwAAAwPl0BawHkgZ1kf42Z5yrazOfAjru4Atf4AYKTqneTL2AxHERLiyN/kfje/BcZ1H9xZtJfXRvbJgAITRVzkfya23k+4Eo2H63LNJ/YRBUf2P+yg+TWuFF0RgvLdMFpsadJWLfMIqSBbP+lg5X4Oto4JYV6yN3IpY/bEE4OX+G+6CxXNO7OOKH4jMrlxkaKeIYkLRgrISWiYB4KA6UMKxdEzRfzDt3/tJXtfpaEPWkZqboBkR+GdUq4NLbQoz1TcHSvhoRlmktxtJpfduC/jftAa+1rVlyNN+DnCvMWP/uF5oinwA+7J9nwRLUzJ5MNh/iaXjiqm4uwwX++09+rLHXcjHfXqyAhdG6E5pgk4gsb8LUGrVmDP4l7inYxVf352FFyR5OpE9wf+VE7P000wg+CVHp7qrOZH3Rbt1yKtW62RH++IoNgHSAb1gdE+NFsZagvricT6xtgqYgVNw0IQt2iCjddMYJzrhgwrR0e31lLEIVB4LdCiwW5bjeVmickTccOnchgD0C+tnf/h/TW24yzzJupm4fxagATGQPI22EUPMUvzTlvggW9o0tvwCsN8p70Hxlp6+TNcM9juAvWEz5/4WKUgrSouveTiJ1BIpjFLFoC8AC3TbcIuSkdoEWRmYqPTvPhxTsrhxqB4SRYUXBz9GuA7vrQX5BMszkHk24/81jFNLTufpUI23DPVyPAr3Bykl2WdekQAAAcxBn6tFNE1/AAADAAADAAADAAEsEqu6AYAykwDL9ZVfQFL2nLf9nUOWseIbbI43xwumlxtiD/hIygXjGmJJjnqZt+W46k5CdKjJz+C5ntEz+O+RntRr9VHtoV+blfx/81cndTDkOw3uvl/MSwqKS7J6t5z6DWNBgWpMBZOcejYAVMH0WbpWdv5A4WwBzg0tUSMAoYxPvsZQxcVcIXI1SnLwNKqeUS8Pk2TMplBdWL1J21KrVJnJKPop+yGf/AMb+xg6w43jq2elskQyg98jPF4Vr0Ds+o3S4ZrAPlxSpk6CoCM61HFcZFS6gQQULm7OXMh3yZ8EaRsoTSVPwZiVq4N50/qSSl29c5UlFdCM1/lKs7q0+8esi2dmONa1b0xtrJwlHwAMOWWtEdufZh7LaR8Q1OjPJ3A/rTUMW9ccSnxmUcUwTAyDmXGHf4pxSNVB5XZ+o/KH1f/EOdK+rVYKHqO4+FXXh6PknomRrQSU1NcIkRGr6vnpqS3IIXiK6WydZWRgz73bBAe0U0A8zvOeXxbjGvn3uvsjR/y1RMTS6wGRLYaQp64NzcTTgD+YGF4Y41LZeRu6xuZODotBOQ1Cu7xUAAADAAADAAADACkgAAABngGfynRJ/wAAAwAAAwAAAwABJCo+srxzQNeZ/tUs1qIIWSJiSWwcBOdt6sNP0vVzaKL8TcYLaLTaDn/fEiDYTfhWKBrUenh5tG4LcpfstG0UTa3x6l/96Wgu5NSHX9nVI8UDb9QYiYjqeu2yPOlb57gphFk3S6QLfZ6rmGbBmvyJS4Yo8stdVx+vXQFebdcX6h3a/aplty2YuGfr7Rh7qdXdHWVM/e3fzifax/6LcfsIXa619FPNRqxzcVGQWT0dCKNNXIgn+J04tcrUeliHmt+nfc2Ae8CDmO5+g1gljsEowJG06DIiVl4w326yJuEHmulNiObrrr918ytVrVdMRC3kaIYpe6SxWESYeaNxZxXEaY/zpdUagA1T5viGR591HoacPTV5BLDgeFa8Qdq9FECTowMeMJvn62Gm5PFDPrBGWAVkyWxGZSCth7ZwJu7A/KK1KXBYQTRAvQ50LlFRcMskQZQ1di/8HLYrBWfwcaw5ebu5BWlxURENjMH3iOznJLVKXBDXHC+Q5xADciDvjKInv1oAAAMAAAMAAAMBDwAAAVIBn8xqSf8AAAMAAAMAAAMAATyfz30xZF42CTxsVn7Xi0I1Vxol/GHjscthOlDIEEMZhH2B+oIXHGSiI8nRA2FCuQXYoTEQQFd6Y052KQ3kCnp19jYkDoK7BtJyqZsBjN+G9byk/luy4wJt+8b+37c7H3qpHXD5udzSVE9XNxgB4pi/YXJslk5eLVMvJErNPqFkbKHmrYpHEMllz8lAuZtCHwGwtkZHWcUc+sULqZ9JepBpAxqmnD2sz9++dRcQAE3ldvizAe2lTRHkG+Rw7R1vAllQgPcB0ztcMAW+nzSOLvD3PgwrJhFfohfw6s7AWvDVoTVm+fGMDNVkSCmOTgBs2B6E7zTRlbFDsqg7//SCh7SLwrdma8/ElcMZ8+9EC1nwnpOtElMvIm+Bdr4wwoVOHyB8tilLBJ0uJHCTersOGrUE4RgGDdLAAAADAAADAAB7QQAAAUlBm85JqEFomUwP/wAAAwAAAwAAAwAAAwPts18G+fhhatEWLTJU2m1CqoPPeYnIHKtTbqmIx8XHtRayHeQrcbfAjo2o8foxjyD9IuR5IL4s8Lpydn/GSrV/EtZQki242xE5MLeqA+0jJICmpen4oHPOwxzrlFZTda0mV34oSred5T22p5Z/7dF4hQzJ7scGIzt7r+n/BsKP/UBwxQbc2FCeGIJGRKV5xAuabWkW+TreZWz8b7YZ4U6OwS7Ri5YvWlEWZ7QBCmJrCmlDbhbNr46llA0lj/NcjAVAhmO2c8mRjpF09zJYQLHco1C5+3WWwclhxqVR0rsx4j+EVHNLIc/gD6OHXROjKf5+0sSpSnhe/rgufYqLCcUJiMtHJ8i80nMKXtA6DPbJK88fH7sJ/jJ1jAl0KyhCkBzcgpJ1D66qjQP5CSrCdK3JwQAAAWhBm+9J4QpSZTA/AAADAAADAAADAAAECQ4AMrbsMhgZXF/wOEcb9KanN8k8Q7bpJJ6MivkzqSkaC4QVTHPdpNdBICWOstkwhREioGXljXXVeD7MIfYRzRB9rso4uv9W7BqkHQgxgY/TingjOrDdl9kqiLRyn669eOPdYTTal7ndFFrSeeVcaq0uEWODyCqSHdrSJ0OgFLYlT9pnQJXqNqXn7LpNg6YMx2meSCb2U2515PZxfgQEAAKVm+InzPwJAhZIKcjDYsIApHatfKfAvcsSigC2Hmi0CQHI5cNhImXReehqRBOGw223zkEaEluVEaeIftpqHg8vlZT2V6Txq5phSwrYzw9kZVwUJ3/GBMbS5TUvsqjUiUPcNQa5KFk4MTIxKMuJqmikYkPuU473ZZdneVC1ZkmApro+BQbIEAwm3MydEp7NHeT8i1W435V9KYTPnq/vKNBZwLT4XZbsYna8rjjEiWSrGD0AAAFKQZoQSeEOiZTA/wAAAwAAAwAAAwAABCkNXzK28iX/0zXzRX/HrPdq3U1X1ZnyB2zUJdTi/eUnLDuzRKuSE3lOoD06DtPFnvY6tIp2DydHyBQzxIoVVvnElcSArPIgzkxA6fz9qXpgvvAG8Rh/K+JcxDSTMaDqbfMFcsKvd7iEReqYpKLMq/aTlaA17LZ2WfVz6RCU8Q+7annVue1VKQ/2vLkFkYzfNS8t1llsMHb+SF/r79+9cwFIIdwlnf0PExWclmre+g5oCc0CfnM3cGcIJxAU8XjGmmne+LqZRpfTceLVlBQN5H2iip/41KCPRFdAjnfD/4bLdxWIZzKOvSEBt2uFDUpVrcz8v3zQ3z68ek0/fTIp+L1oQX1mXfYi6SULAC67BOiMDAo2MVw5iv8fqOhDBBys9N0QRbJAGVrC9lHx8MhFlmeU4X9QAAAB80GaNEnhDyZTA/8AAAMAAAMAAAMAAAS7t0dyoMX//vwl/dgi3gqroFNcMmv7KDhVzDT+nunK5oJMrWC3dpQkMFMHaIE53HToaR8cKpq2XOzWsMOPiDgNaNkeHMxIFN73kYiY630XqFy5w8ysrc4bnGhiBN/8Ooe/hxYgzHnpwrFkb1qcUZ2Kshj4/6SrFuKVadCiOUg9eRAoXmZgX2eIX0zY1OQ7GC85o9WA1fWT0SZHe1HO7MjpjxyTjznLsAgQDXPA9gBep4/BpEcjWHOGOJ0vm/8WBYD59WA1V9qX4sUjPJc/YFW+BAUcbcNvVls+GjjtGDpG99jmntiNqJVuFpeaLjo7af7UfesoDDFaiVKyAnf2KnXLISTMaszQYiiV3aQvhNOfDWrvg3E1wKLdWN/dbCZk4hFkTr/4RgwYxhbvxbLeew112efMdrlhckEmtJ/cgZ+WVrS11TlrtaOS7nh5A0XbzNKt2tAVr3kc2m1KDJFAp81jHUb2g0fM3hOdcJSbwlZl1jpWQPEQZkmfg9zdGW7UTSSSjHL9y/Ryxye+RplG3bVWaUSmp7U/P8v7yZSqx4KAShq6ZrKVc62YV7D/b8peRXDTC6zuF8EvBjcAtqtylK8BFATDlX8fr+4h2smHUhjQPs91yanEYwTGUGFDD4AAAAGLQZ5SRRE9fwAAAwAAAwAAAwABaXOeLaOAg5L+MjZhh9L0p/4Xaeme1hySpigCNUbn+UQJS0kNTuqcWq0uQnxPVjfJ0QYnDVBRobmW4b/GbrflQgd2Stv44edooJr+L5i/kxuF0Gqg7d4zdPc2rmNG3xuFDHRexPLLy8Wja92rRAkJEna5Nu46qVqs4yIT6gcVfutSwzMzqhZQ/dxngLJnggV714elTckH2nPggLt10kfiMVECp0TUSkMRQ8H8MPIks3CmAoL/GAW5tnTl6FJl1qETtZjS4WeOAtw89jCKtD3epkQ241rLPa8hkV5VqluVNG/NZAAv8fPktnoAA2238GO4VQJryUCfRj2YHbo/duIUc+1xpI+i+e+tQOGk8hWa144NmC8YwagaBID9v8Zo3RnG6k2hGUAzsPU5r3A0OEcg2dwzzGZxbTeTqSjV0jzoN91SzMnaMao2umhsKx7LjP+9QLA6vncQ25ZA/2eSqKQj4vLEjTZrSzsGMK3qeErNjgAAAwAAAwAABW0AAAFrAZ5xdEn/AAADAAADAAADAAFp2CF6hpxjrMwi8MSziI9l+X5AvZbs4l+Q+l2hzTlUwlI09ua2PFl1Z4fea0jdZ+j43IJdG8Ih5RKKOGUBNidZp8BpOLksZKiEN7ygNhxQdeP//093fsLi71r6opm+hzT6Lcx1SlJ+fsxapnsPa/An65NrwHe2u2q0TaFs36Aw3o5Dm4ADipUpjTyP4q9EEZfq0FpLxZQR/6O7uSYgOUAGlg06AtTxxx+5JZ2InVWRFP+x+jm3nJWCJEFVZVvxqKMrbKEeV3NjZNNWgeZOiNseNjoxxM9qXMiESk25tz83ku5F2qmNTYozhAl+Hz0YAWaHeTXyeTQGPPm7sN1mkmv/35gTBhJ6B2Dc+gR3q2CBb/Bw28q6uNGFPybuX2KYMmIYpd9dzMuiKQdQHLpXADns1230jsv2QUes8Hc1SRcrOUh5Dn6kNyVgp/EDp2Lp/JAAAAMAAAMAAA/wAAABRQGec2pJ/wAAAwAAAwAAAwABfcRUgQeh0+dwc/7C8HrvWBUOiqjkseltOyUmF8D8PuGUnhmIXNV8saCVOHBg+cFZDF9KvhAmMhShitMZTn8ZhJAKJb1/SToMzSKJh+PEVfpsAAhW6pH3wue/nnBtvtDymDCHZdNN9aNGCkrp+BV98qpxOIx/QGcnfsPNAq1q0zhJpCIBF4KH8lKq4dBAh63IDNP1R8vi3OOcCOvB0hvHlg/peeQsUqPQCil4P7jm1TNW2DxgDqKoGnzcEPTDEgdYrPtsu3wc8qK5eDFM0AZlk93bnAtAHs2h4gD3cvjDqf6iJHWEbXD3Ri2ZtYFJPzF5KqKSuwOW3nAYDwMh90CdYZfArZrYuIf1gctX0WFyM2fDULxxWBysouGrS7y/jGmbYE5LgIW87AwAAAMAAAMAAAMAUMAAAAHNQZp4SahBaJlMD/8AAAMAAAMAAAMAAAVoLJ4sAz80P64H4T3bpEThnWDmjfGLBMJwkcZnbSl/7bjTsMB+VNvA6Pjk8LISz40tAYZUabd27QJVdXzWjRz6VWfRI5/fq/86F7/jngDV5OqxiHTXkAaisO+vJtlQb9GHmJS6VMV4ygaO3A+5FTqcYgCizsmP2wbxIK1n7oS6SS1S3h4bk3/WDpxiKYL48AwQWJDENMkatqw9vEXFvNrY7A3J8E5wkFVXaHRhKmOcLoNoNzkwidmReyUi9y3OiZLJHuaLxbyFL0QGj1DzPcKeWeIY3SA/kT8uh1dMPNQ3uzkXKZuhIQSvMB0oKhH2wFkkSxqTSPZ+DaWpPpUBC3pm6lO6kkMlnuPu1xhcM536zDns6K5HQ9E2SWorkivLRdvp8tNa+Euc3vzoMTZmgX6XToJIGTsulNC8wal470ZQ7e6mwA2cK54Nq7FKFoVIAtExjOYN4VImueUHR51YzHIigWJg4MOCmYqXQlGC0Kt0YjOtGpqTn/3VjyylaZppL9jPyS+9II+LzDO9R88ijq1gl5JSuiE/vntSM9u2uvkTBGRJZbvYDN4PNndVIpl6Q94ylQfMZkEAAAFaQZ6WRREtfwAAAwAAAwAAAwABmcvT8YDlmNeK/dXPyu2yaVG7KAZQMNymGDOTEWzMlGcCWNSL4qm04NfuTH/xAP432jY3B1u0YrmAhG+ASe1hKbaGOoCqml0DYckVlb6oAuxy3PtlRSkloA5YEHKAva+AREblJ0AgvMZpEe6/t5Yr5wHjEdRMzi3atYISf4hP5Bg9zH4DSpi/40VgBrj1pzho3LgrlMYlgGEXcfwdSBZOCCW0nbPUZV+N5DAEPwAh9EaRbEh/i5o1iXQPeEoeRrNZbAD+c42AO2a4+qEPNlqpPb3XJ5YpJv8zUq8BFvYy7uIOL6yhnvDzgVTKmcqf336FB0sD8V1RtPG7Tc0CKZmWPPyzqJxZa7RmQdEZaJIB0UfSOeRkhiLWOt3r8Nsl5BsjUiIvwy8Chq54mwmffSi9Clk4yKYhNM+IUfvFBzaAAAADAAADAAAGpAAAAOABnrV0Sf8AAAMAAAMAAAMAAZn5kgFvAcO/K4tr8D1TZxEEchvbzeNpHgLAYtvM9YgvEEgvzN9tECECVsdPAk8UH5OPHSkhLIQS/dsHFahEgYcSjvLU8WToZJdRWH4QZRKZgZiCYDtUOI/vQMKnhRbL9P7yfdmL9NyMD5teNvdWi2OwCkva+4ivFwBWJ5tcppgOTXrd+0yAfX3IDOkPscm86zl5lvtwUwFpidp+sHQstlAx97LeIS1UPjrcDz8z8YdJMWuWcQn55napfTGIPgG/6EsGYAAAAwAAAwAAAwDFgQAAAPgBnrdqSf8AAAMAAAMAAAMAAa378gQazlFC6IH/eMi9Q3p+ocWxmKot7TlpOruT1DVn6TTr+6HA81lL4ynMcTQPngx94lAb6o6JyYIq9gckaDHZaR1geRxN+jq/wE60eWNZ0h956/TJ1vRTKjJoPlfLL/cUc+/1PYgrbLRo/x51FZH7DatnKfS6s84/VK60PqA7XxIqbSYkj+7mk9AGdOPIKoldubsvN6ksLjLiP/2fSwTeoijq6Za45BRA7e1QCUyb19uYK8xaNi2rnIAC52hkWhyGEBbTI64lov6dkMVRssoBDf1fAIyCQBTB2i4AAAMAAAMAAAMCLwAAATxBmrlJqEFsmUwP/wAAAwAAAwAAAwAABYzM5a6/tbvmKASZc2UpqYwWmYYYITCKjgWhkxNl32jmpSkZNLo+oEmwfgotyBMY2w9GlqA7PJw/PH01ZXzhrYL+8REK9XoifItHaReaZFJ7mE5cHBSFUmavOraiUpc0fTKeHS+tuT1ZHaxAldfRJnBTjH6ACbSLmy5ZRTICHkiSVHg8QPEPHLMckQ8QQZ744b5VrIgK4aouivjf+/GAvH9BQY0Imk7MCgHLdvJm0QwxmG3hNA+fziUlhl1pT+cZNYoNYloTvdsiLd18dEzRKDmLXlHaZrZa3BTmrbBQthkOomp9E8FgjZUjYExBJKYk4z/tHvZtFsuXnmL+q1teIkKasJ3LdAJ7g+LapZsWLZDzIt6KqHW6+GWrv0cDgwyyV+dK3IXgAAABm0Ga20nhClJlMFFS/wAAAwAAAwAAAwAABdesB8Jdxf/+/CX92CLeCqumYjJGOFHRxCc19ggx/Yym9PcAP3RqArfkqHQj4lWsb0Eaii5VIxxvLMDadi7wn2dtafX8AQLDmDPF0CaL1dbtpIiIQXPcNEhI0z6dcfuA+dbTpmFAZY48sOYoLEBb7DzPqs3zQDm9T+/XdMvScS53Gp9xlVRnOMn6zTdPTcfTVbFzHFhyCfrlUMwf3Lq/Y95vSZN4dC2BNeRuKJ2uWpXThcbouqcZPfaQGMU544Q+R0pD/PMoQj0oSx1HljfngOdyBaaQnk07rc/jrE498v9y0vc76Z+SB4JGC44UUJwrJ86CSIWHdVfVnAcyEbs5GMShG8EzIUFwCU7Ig6i9OKuAp8NZAUzpU7pztZlFkbbEJqPBWkWFssDusOC+Rh4oTgqa5Wd5Htv0APfnPJZl7JspDBGxSLKLREA6oXq1sSMLCYKJcRrPp3yjhKDgiXZ9Cw0TD2TTY/jiI5rh18aVrCCxu8Rvkh57jJQ0LfzDAWkR+6jnuQAAAP8BnvpqSf8AAAMAAAMAAAMAAc1fbARmWF8igty4crQMrDEJpsELdD62z9Wg/IAWgxBKPZKawI1kIvRDDweuFYxadaz+idJ7QsNqo3Osy8kBiIjA1In2JCFxmVyJOtVEfHNsZ5BRJ2yq/r06VEpCfRRh1/3FCIcwebis9vRLH7g4JvMWyUSpHG/ScrJ60BqNjiwgNY/4qj+NPgCyLDzUccv92+UDjOZNntodGoPLL42hlYuGPI4wbpq5kcr1chkgp1KuWrKune9MPljxNWyoe/I1AbALX1Ou4aVJEpNfNqWE1Ng0upq9l2+zzn1ad4aW45wHG7AAAAMAAAMAAAMAA3oAAAcEbW9vdgAAAGxtdmhkAAAAAAAAAAAAAAAAAAAD6AAABf4AAQAAAQAAAAAAAAAAAAAAAAEAAAAAAAAAAAAAAAAAAAABAAAAAAAAAAAAAAAAAABAAAAAAAAAAAAAAAAAAAAAAAAAAAAAAAAAAAAAAAAAAgAABi50cmFrAAAAXHRraGQAAAAPAAAAAAAAAAAAAAABAAAAAAAABf4AAAAAAAAAAAAAAAAAAAAAAAEAAAAAAAAAAAAAAAAAAAABAAAAAAAAAAAAAAAAAABAAAAAA+gAAAPoAAAAAAAkZWR0cwAAABxlbHN0AAAAAAAAAAEAAAX+AAACAAABAAAAAAWmbWRpYQAAACBtZGhkAAAAAAAAAAAAAAAAAAA8AAAAXABVxAAAAAAALWhkbHIAAAAAAAAAAHZpZGUAAAAAAAAAAAAAAABWaWRlb0hhbmRsZXIAAAAFUW1pbmYAAAAUdm1oZAAAAAEAAAAAAAAAAAAAACRkaW5mAAAAHGRyZWYAAAAAAAAAAQAAAAx1cmwgAAAAAQAABRFzdGJsAAAAmXN0c2QAAAAAAAAAAQAAAIlhdmMxAAAAAAAAAAEAAAAAAAAAAAAAAAAAAAAAA+gD6ABIAAAASAAAAAAAAAABAAAAAAAAAAAAAAAAAAAAAAAAAAAAAAAAAAAAAAAAAAAAGP//AAAAM2F2Y0MBZAAo/+EAGmdkACis2UD8H/llhAAAAwAEAAADAeA8YMZYAQAGaOviSyLAAAAAGHN0dHMAAAAAAAAAAQAAAFwAAAEAAAAAFHN0c3MAAAAAAAAAAQAAAAEAAAKQY3R0cwAAAAAAAABQAAAAAQAAAgAAAAABAAAFAAAAAAEAAAIAAAAAAQAAAAAAAAABAAABAAAAAAEAAAUAAAAAAQAAAgAAAAABAAAAAAAAAAEAAAEAAAAAAQAABQAAAAABAAACAAAAAAEAAAAAAAAAAQAAAQAAAAABAAAFAAAAAAEAAAIAAAAAAQAAAAAAAAABAAABAAAAAAEAAAUAAAAAAQAAAgAAAAABAAAAAAAAAAEAAAEAAAAAAQAABQAAAAABAAACAAAAAAEAAAAAAAAAAQAAAQAAAAABAAAFAAAAAAEAAAIAAAAAAQAAAAAAAAABAAABAAAAAAEAAAUAAAAAAQAAAgAAAAABAAAAAAAAAAEAAAEAAAAAAQAABQAAAAABAAACAAAAAAEAAAAAAAAAAQAAAQAAAAABAAAFAAAAAAEAAAIAAAAAAQAAAAAAAAABAAABAAAAAAEAAAUAAAAAAQAAAgAAAAABAAAAAAAAAAEAAAEAAAAABgAAAgAAAAABAAAFAAAAAAEAAAIAAAAAAQAAAAAAAAABAAABAAAAAAYAAAIAAAAAAQAABQAAAAABAAACAAAAAAEAAAAAAAAAAQAAAQAAAAABAAAFAAAAAAEAAAIAAAAAAQAAAAAAAAABAAABAAAAAAEAAAUAAAAAAQAAAgAAAAABAAAAAAAAAAEAAAEAAAAAAQAAAgAAAAABAAAFAAAAAAEAAAIAAAAAAQAAAAAAAAABAAABAAAAAAMAAAIAAAAAAQAABQAAAAABAAACAAAAAAEAAAAAAAAAAQAAAQAAAAABAAAFAAAAAAEAAAIAAAAAAQAAAAAAAAABAAABAAAAAAEAAAIAAAAAAQAAAwAAAAABAAABAAAAABxzdHNjAAAAAAAAAAEAAAABAAAAXAAAAAEAAAGEc3RzegAAAAAAAAAAAAAAXAAACT0AAACJAAAAWAAAACcAAABgAAAA7gAAAKwAAACEAAAArQAAAMsAAACdAAAAkAAAAKcAAADxAAAAvAAAALwAAACsAAAA2wAAAKEAAAC8AAAAnQAAARwAAADwAAAA0wAAAMYAAAEiAAABBgAAANoAAADFAAACKwAAATkAAAEuAAAA3gAAATwAAAD0AAAA9gAAAMwAAAG4AAABEwAAAP4AAADUAAAB8AAAASsAAAE5AAAA6AAAAZwAAAF3AAABaAAAAYkAAAGhAAABeAAAArwAAAHSAAABYwAAAUEAAAGDAAABXAAAAYcAAAF5AAABYgAAAVkAAANKAAABqQAAAbgAAAExAAAC2wAAAgEAAAF3AAABSgAAAtwAAAHbAAABWwAAAV4AAAH3AAACMAAAAdAAAAGiAAABVgAAAU0AAAFsAAABTgAAAfcAAAGPAAABbwAAAUkAAAHRAAABXgAAAOQAAAD8AAABQAAAAZ8AAAEDAAAAFHN0Y28AAAAAAAAAAQAAADAAAABidWR0YQAAAFptZXRhAAAAAAAAACFoZGxyAAAAAAAAAABtZGlyYXBwbAAAAAAAAAAAAAAAAC1pbHN0AAAAJal0b28AAAAdZGF0YQAAAAEAAAAATGF2ZjU1LjE0LjEwMQ==\" type=\"video/mp4\"/>\n",
       "      This browser does not support the video tag.\n",
       "      </video></td></tr></table>"
      ],
      "text/plain": [
       "<IPython.core.display.HTML object>"
      ]
     },
     "metadata": {},
     "output_type": "display_data"
    },
    {
     "name": "stdout",
     "output_type": "stream",
     "text": [
      "REINFORCE agent achieves 125.53851204681443 return in MetaDrive easy environment.\n"
     ]
    }
   ],
   "source": [
    "# Run this cell without modification\n",
    "\n",
    "# Render the learned behavior\n",
    "# NOTE: The learned agent is marked by green color.\n",
    "eval_reward, eval_info = evaluate(\n",
    "    policy=pg_trainer_metadrive_easy.policy,\n",
    "    num_episodes=1,\n",
    "    env_name=pg_trainer_metadrive_easy.env_name,\n",
    "    render=\"topdown\",  # Visualize the behaviors in top-down view\n",
    "    verbose=True\n",
    ")\n",
    "\n",
    "frames = [pygame.surfarray.array3d(f).swapaxes(0, 1) for f in eval_info[\"frames\"]]\n",
    "\n",
    "animate(frames)\n",
    "\n",
    "print(\"REINFORCE agent achieves {} return in MetaDrive easy environment.\".format(eval_reward))"
   ]
  },
  {
   "cell_type": "markdown",
   "id": "fcc0bcd0",
   "metadata": {},
   "source": [
    "## Section 5: Policy gradient with baseline\n",
    "\n",
    "(20 / 100 points)\n",
    "\n",
    "We compute the gradient of $Q = \\mathop{\\mathbb E} \\sum_t r(a_t, s_t)$ w.r.t. the parameter to update the policy. Let's consider this case: when you take a so-so action that lead to positive expected return, the policy gradient is also positive and you will update your network toward this action. At the same time a potential better action is ignored.\n",
    "\n",
    "To tackle this problem, we introduce the \"baseline\" when computing the policy gradient. The insight behind this is that we want to optimize the policy toward an action that are better than the \"average action\".\n",
    "\n",
    "We introduce $b_{t} = \\mathbb E_{a_t} \\sum_{t'}{\\gamma^{t'-t} r(s_{t'}, a_{t'})}$ as the baseline. It average the expected discount return of all possible actions at state $s_t$. So that the \"advantage\" achieved by action $a_t$ can be evaluated via $\\sum_{t'=t} \\gamma^{t' -t}r(a_{t'}, s_{t'}) - b_t$\n",
    "\n",
    "Therefore, the policy gradient becomes:\n",
    "\n",
    "$$\\nabla_\\theta Q =\\cfrac{1}{N}\\sum_{i=1}^N [( \\sum_t  \\nabla_\\theta \\log \\pi_\\theta(a_{i,t}|s_{i,t}) (\\sum_{t'} \\gamma^{t'-t} r(s_{i,{t’}}, a_{i,t‘}) - b_{i, t})]$$\n",
    "\n",
    "In our implementation, we estimate the baseline via an extra network `self.baseline`, which has same structure of policy network but output only a scalar value. We use the output of this network to serve as the baseline, while this network is updated by fitting the true value of expected return of current state: $\\mathbb E_{a_t} \\sum_{t'}{\\gamma^{t'-t} r(s_{t'}, a_{t'})}$\n",
    "\n",
    "The state-action values might have large variance if the reward function has large variance. It is not easy for a neural network to predict targets with large variance and extreme values. In implementation, we use a trick to match the distribution of baseline and values. During training, we first collect a batch of target values: $\\{t_i= \\mathbb E_{a_t} \\sum_{t'}{\\gamma^{t'-t} r(s_{t'}, a_{t'})}\\}_i$. Then we normalize all targets to a standard distribution with mean = 0 and std = 1. Then we ask the baseline network to fit such normalized targets.\n",
    "\n",
    "When computing the advantages, instead of using the output of baseline network as the baseline $b$, we firstly match the baseline distribution with state-action values, that is we \"de-standarize\" the baselines. The transformed baselines $b' = f(b)$ should has the same mean and STD with the action values. \n",
    "\n",
    "After that, we compute the advantage of current action: $adv_{i,t} = \\sum_{t'} \\gamma^{t'-t} r(s_{i,{t'}}, a_{i,t'}) - b'_{i, t}$\n",
    "\n",
    "By doing this, we mitigate the instability of training baseline.\n",
    "\n",
    "Hint: We suggest to normalize an array via: `(x - x.mean()) / max(x.std(), 1e-6)`. The max term can mitigate numeraical instability."
   ]
  },
  {
   "cell_type": "markdown",
   "id": "95c1378f",
   "metadata": {},
   "source": [
    "### Section 5.1: Build PG method with baseline"
   ]
  },
  {
   "cell_type": "code",
   "execution_count": null,
   "id": "709df140",
   "metadata": {},
   "outputs": [],
   "source": [
    "class PolicyGradientWithBaselineTrainer(PGTrainer):\n",
    "    def initialize_parameters(self):\n",
    "        # Build the actor in name of self.policy\n",
    "        super().initialize_parameters()\n",
    "\n",
    "        # TODO: Build the baseline network using PytorchModel class.\n",
    "        self.baseline = None\n",
    "        pass\n",
    "\n",
    "        self.baseline_loss = nn.MSELoss()\n",
    "\n",
    "        self.baseline_optimizer = torch.optim.Adam(\n",
    "            self.baseline.parameters(),\n",
    "            lr=self.config[\"learning_rate\"]\n",
    "        )\n",
    "\n",
    "    def process_samples(self, samples):\n",
    "        # Call the original process_samples function to get advantages\n",
    "        tmp_samples, _ = super().process_samples(samples)\n",
    "        values = tmp_samples[\"advantages\"]\n",
    "        samples[\"values\"] = values  # We add q_values into samples\n",
    "\n",
    "        # Flatten the observations in all trajectories (still a numpy array)\n",
    "        obs = np.concatenate(samples[\"obs\"])\n",
    "\n",
    "        assert obs.ndim == 2\n",
    "        assert obs.shape[1] == self.obs_dim\n",
    "\n",
    "        obs = self.to_tensor(obs)\n",
    "        samples[\"flat_obs\"] = obs\n",
    "\n",
    "        # TODO: Compute the baseline by feeding observation to baseline network\n",
    "        # Hint: baselines turns out to be a numpy array with the same shape of `values`,\n",
    "        #  that is: (batch size, )\n",
    "        baselines = None\n",
    "        pass\n",
    "\n",
    "        assert baselines.shape == values.shape\n",
    "\n",
    "        # TODO: Match the distribution of baselines to the values.\n",
    "        # Hint: We expect to see baselines.std almost equals to values.std, \n",
    "        #  and baselines.mean almost equals to values.mean.\n",
    "        pass\n",
    "\n",
    "        # Compute the advantage\n",
    "        advantages = values - baselines\n",
    "        samples[\"advantages\"] = advantages\n",
    "        process_info = {\"mean_baseline\": float(np.mean(baselines))}\n",
    "        return samples, process_info\n",
    "\n",
    "    def update_network(self, processed_samples):\n",
    "        update_info = super().update_network(processed_samples)\n",
    "        update_info.update(self.update_baseline(processed_samples))\n",
    "        return update_info\n",
    "\n",
    "    def update_baseline(self, processed_samples):\n",
    "        self.baseline.train()\n",
    "        obs = processed_samples[\"flat_obs\"]\n",
    "\n",
    "        # TODO: Normalize `values` to have mean=0, std=1.\n",
    "        values = processed_samples[\"values\"]\n",
    "        pass\n",
    "\n",
    "        values = self.to_tensor(values[:, np.newaxis])\n",
    "\n",
    "        baselines = self.baseline(obs)\n",
    "\n",
    "        self.baseline_optimizer.zero_grad()\n",
    "        loss = self.baseline_loss(input=baselines, target=values)\n",
    "        loss.backward()\n",
    "\n",
    "        # Clip the gradient\n",
    "        torch.nn.utils.clip_grad_norm_(\n",
    "            self.baseline.parameters(), self.config[\"clip_gradient\"]\n",
    "        )\n",
    "\n",
    "        self.baseline_optimizer.step()\n",
    "        self.baseline.eval()\n",
    "        return dict(baseline_loss=loss.item())\n"
   ]
  },
  {
   "cell_type": "markdown",
   "id": "1168a4b4",
   "metadata": {},
   "source": [
    "### Section 5.2: Run PG w/ baseline in CartPole"
   ]
  },
  {
   "cell_type": "code",
   "execution_count": null,
   "id": "7f5c1adf",
   "metadata": {
    "scrolled": true
   },
   "outputs": [],
   "source": [
    "# Run this cell without modification\n",
    "\n",
    "pg_trainer_wb_cartpole, pg_trainer_wb_cartpole_result = run(PolicyGradientWithBaselineTrainer, dict(\n",
    "    learning_rate=0.001,\n",
    "    max_episode_length=200,\n",
    "    train_batch_size=200,\n",
    "\n",
    "    env_name=\"CartPole-v1\",\n",
    "    normalize_advantage=True,\n",
    "\n",
    "    evaluate_interval=10,\n",
    "    evaluate_num_episodes=10,\n",
    "), 195.0)\n"
   ]
  },
  {
   "cell_type": "markdown",
   "id": "4ff92a1e",
   "metadata": {},
   "source": [
    "### Section 5.3: Run PG w/ baseline in MetaDrive-Easy\n"
   ]
  },
  {
   "cell_type": "code",
   "execution_count": null,
   "id": "4e498197",
   "metadata": {},
   "outputs": [],
   "source": [
    "# Run this cell without modification\n",
    "\n",
    "env_name = \"MetaDrive-Tut-Easy-v0\"\n",
    "\n",
    "pg_trainer_wb_metadrive_easy, pg_trainer_wb_metadrive_easy_result = run(\n",
    "    PolicyGradientWithBaselineTrainer,\n",
    "    dict(\n",
    "        train_batch_size=2000,\n",
    "        normalize_advantage=True,\n",
    "        max_episode_length=200,\n",
    "        max_iteration=5000,\n",
    "        evaluate_interval=10,\n",
    "        evaluate_num_episodes=10,\n",
    "        learning_rate=0.001,\n",
    "        clip_norm=10.0,\n",
    "        env_name=env_name\n",
    "    ),\n",
    "    reward_threshold=120\n",
    ")\n",
    "\n",
    "pg_trainer_wb_metadrive_easy.save(\"pg_trainer_wb_metadrive_easy.pt\")"
   ]
  },
  {
   "cell_type": "code",
   "execution_count": null,
   "id": "6f356062",
   "metadata": {},
   "outputs": [],
   "source": [
    "# Run this cell without modification\n",
    "\n",
    "# Render the learned behavior\n",
    "# NOTE: The learned agent is marked by green color.\n",
    "eval_reward, eval_info = evaluate(\n",
    "    policy=pg_trainer_wb_metadrive_easy.policy,\n",
    "    num_episodes=1,\n",
    "    env_name=pg_trainer_wb_metadrive_easy.env_name,\n",
    "    render=\"topdown\",  # Visualize the behaviors in top-down view\n",
    "    verbose=True\n",
    ")\n",
    "\n",
    "frames = [pygame.surfarray.array3d(f).swapaxes(0, 1) for f in eval_info[\"frames\"]]\n",
    "\n",
    "print(\n",
    "    \"PG agent achieves {} return and {} success rate in MetaDrive easy environment.\".format(\n",
    "        eval_reward, eval_info[\"success_rate\"]\n",
    "    )\n",
    ")\n",
    "\n",
    "animate(frames)"
   ]
  },
  {
   "cell_type": "markdown",
   "id": "264f267e",
   "metadata": {},
   "source": [
    "### Section 5.4: Run PG with baseline in MetaDrive-Hard\n",
    "\n",
    "**The minimum goal to is to achieve episodic return > 20, which costs nearly 20 iterations and ~100k steps.**\n",
    "\n",
    "## Bonus\n",
    "\n",
    "**BONUS can be earned if you can improve the training performance by adjusting hyper-parameters and optimizing code. Improvement means achieving > 0.0 success rate. However, I can't guarentee it is feasible to solve this task with PG via simplying tweaking the hyper-parameters more carefully.** Please creates a independent markdown cell to highlight your improvement."
   ]
  },
  {
   "cell_type": "code",
   "execution_count": null,
   "id": "b737c345",
   "metadata": {
    "scrolled": false
   },
   "outputs": [],
   "source": [
    "# Run this cell without modification\n",
    "\n",
    "env_name = \"MetaDrive-Tut-Hard-v0\"\n",
    "\n",
    "pg_trainer_wb_metadrive_hard, pg_trainer_wb_metadrive_hard_result = run(\n",
    "    PolicyGradientWithBaselineTrainer,\n",
    "    dict(\n",
    "        train_batch_size=4000,\n",
    "        normalize_advantage=True,\n",
    "        max_episode_length=1000,\n",
    "        max_iteration=5000,\n",
    "        evaluate_interval=5,\n",
    "        evaluate_num_episodes=10,\n",
    "        learning_rate=0.001,\n",
    "        clip_norm=10.0,\n",
    "        env_name=env_name\n",
    "    ),\n",
    "    reward_threshold=20  # We just set the reward threshold to 20. Feel free to adjust it.\n",
    ")\n",
    "\n",
    "pg_trainer_wb_metadrive_hard.save(\"pg_trainer_wb_metadrive_hard.pt\")"
   ]
  },
  {
   "cell_type": "code",
   "execution_count": null,
   "id": "2e015832",
   "metadata": {},
   "outputs": [],
   "source": [
    "# Run this cell without modification\n",
    "\n",
    "# Render the learned behavior\n",
    "# NOTE: The learned agent is marked by green color.\n",
    "eval_reward, eval_info = evaluate(\n",
    "    policy=pg_trainer_wb_metadrive_hard.policy,\n",
    "    num_episodes=10,\n",
    "    env_name=pg_trainer_wb_metadrive_hard.env_name,\n",
    "    render=None,\n",
    "    verbose=False\n",
    ")\n",
    "\n",
    "_, eval_info_render = evaluate(\n",
    "    policy=pg_trainer_wb_metadrive_hard.policy,\n",
    "    num_episodes=1,\n",
    "    env_name=pg_trainer_wb_metadrive_hard.env_name,\n",
    "    render=\"topdown\",  # Visualize the behaviors in top-down view\n",
    "    verbose=True\n",
    ")\n",
    "\n",
    "frames = [pygame.surfarray.array3d(f).swapaxes(0, 1) for f in eval_info_render[\"frames\"]]\n",
    "\n",
    "print(\n",
    "    \"PG agent achieves {} return and {} success rate in MetaDrive easy environment.\".format(\n",
    "        eval_reward, eval_info[\"success_rate\"]\n",
    "    )\n",
    ")\n",
    "\n",
    "animate(frames)"
   ]
  },
  {
   "cell_type": "markdown",
   "id": "bff92fb1",
   "metadata": {
    "id": "bff92fb1"
   },
   "source": [
    "------\n",
    "\n",
    "## Conclusion\n",
    "\n",
    "In this assignment, we learn how to build naive Q learning, Deep Q Network and Policy Gradient methods.\n",
    "\n",
    "Following the submission instruction in the assignment to submit your assignment. Thank you!\n",
    "\n",
    "------"
   ]
  }
 ],
 "metadata": {
  "colab": {
   "collapsed_sections": [],
   "provenance": []
  },
  "kernelspec": {
   "display_name": "Python 3 (ipykernel)",
   "language": "python",
   "name": "python3"
  },
  "language_info": {
   "codemirror_mode": {
    "name": "ipython",
    "version": 3
   },
   "file_extension": ".py",
   "mimetype": "text/x-python",
   "name": "python",
   "nbconvert_exporter": "python",
   "pygments_lexer": "ipython3",
   "version": "3.8.18"
  }
 },
 "nbformat": 4,
 "nbformat_minor": 5
}

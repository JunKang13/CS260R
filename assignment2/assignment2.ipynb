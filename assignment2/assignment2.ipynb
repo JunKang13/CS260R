{
 "cells": [
  {
   "cell_type": "markdown",
   "id": "455f8adf",
   "metadata": {
    "id": "455f8adf"
   },
   "source": [
    "# Assignment 2: Deep Q Learning and Policy Gradient\n",
    "\n",
    "-----\n",
    "\n",
    "*CS260R 2023Fall: Reinforcement Learning. Department of Computer Science at University of California, Los Angeles.\n",
    "Course Instructor: Professor Bolei ZHOU. Assignment author: Zhenghao PENG, Yiran WANG.*\n",
    "\n",
    "\n"
   ]
  },
  {
   "cell_type": "markdown",
   "id": "5ecc5685",
   "metadata": {
    "id": "5ecc5685"
   },
   "source": [
    "| Student Name | Student ID |\n",
    "| :----: | :----: |\n",
    "| Jun Kang | 406182577 |\n",
    "\n",
    "------"
   ]
  },
  {
   "cell_type": "markdown",
   "id": "b55e080e",
   "metadata": {
    "id": "b55e080e"
   },
   "source": [
    "Welecome to the assignment 2 of our RL course. This assignment consisits of three parts:\n",
    "\n",
    "* Section 2: Implement Q learning in tabular setting (20 points)\n",
    "* Section 3: Implement Deep Q Network with pytorch (30 points)\n",
    "* Section 4: Implement policy gradient method REINFORCE with pytorch (30 points)\n",
    "* Section 5: Implement policy gradient method with baseline (20 points) (+20 points bonus)\n",
    "\n",
    "Section 0 and Section 1 set up the dependencies and prepare some useful functions.\n",
    "\n",
    "The experiments we'll conduct and their expected goals:\n",
    "\n",
    "1. Naive Q learning in FrozenLake &emsp; (should solve)\n",
    "2. DQN in CartPole &emsp; (should solve)\n",
    "3. DQN in MetaDrive-Easy &emsp; (should solve)\n",
    "4. Policy Gradient w/o baseline in CartPole (w/ and w/o advantage normalization) &emsp; (should solve)\n",
    "5. Policy Gradient w/o baseline in MetaDrive-Easy &emsp; (should solve)\n",
    "6. Policy Gradient w/ baseline in CartPole (w/ advantage normalization) &emsp; (should solve)\n",
    "7. Policy Gradient w/ baseline in MetaDrive-Easy &emsp; (should solve)\n",
    "8. Policy Gradient w/ baseline in MetaDrive-Hard &emsp; (>20 return) (Optional, +20 points bonus can be earned)"
   ]
  },
  {
   "cell_type": "markdown",
   "id": "afe0171e",
   "metadata": {},
   "source": [
    "> NOTE: MetaDrive does not support python=3.12. If you are in python=3.12, we suggest to recreate a new conda environment:\n",
    "\n",
    "```bash\n",
    "conda env remove -n cs260r\n",
    "conda create -n cs260r python=3.11 -y\n",
    "pip install notebook  # Install jupyter notebook\n",
    "jupyter notebook  # Run jupyter notebook\n",
    "```\n"
   ]
  },
  {
   "cell_type": "markdown",
   "id": "3feea3d2",
   "metadata": {
    "id": "3feea3d2"
   },
   "source": [
    "## Section 0: Dependencies\n",
    "\n",
    "Please install the following dependencies.\n",
    "\n",
    "\n",
    "### Notes on MetaDrive\n",
    "\n",
    "MetaDrive is a lightweight driving simulator which we will use for DQN and Policy Gradient methods. It can not be run on M1-chip Mac. We suggest using Colab or Linux for running MetaDrive.\n",
    "\n",
    "Please ignore this warning from MetaDrive: `WARNING:root:BaseEngine is not launched, fail to sync seed to engine!`\n",
    "\n",
    "### Notes on Colab\n",
    "\n",
    "We have several cells used for installing dependencies for Colab only. Please make sure they are run properly.\n",
    "\n",
    "You don't need to install python packages again and again after **restarting the runtime**, since the Colab instance still remembers the python envionment after you installing packages for the first time. But you do need to rerun those packages installation script after you **reconnecting to the runtime** (which means Google assigns a new machine to you and thus the python environment is new)."
   ]
  },
  {
   "cell_type": "code",
   "execution_count": 1,
   "id": "9b170cda",
   "metadata": {},
   "outputs": [],
   "source": [
    "RUNNING_IN_COLAB = 'google.colab' in str(get_ipython())  # Detect if it is running in Colab"
   ]
  },
  {
   "cell_type": "code",
   "execution_count": 2,
   "id": "9098b4a3-1f4e-4ffd-b6cb-dbec4ede65f4",
   "metadata": {},
   "outputs": [
    {
     "name": "stdout",
     "output_type": "stream",
     "text": [
      "Looking in indexes: http://mirrors.aliyun.com/pypi/simple/\n",
      "Requirement already satisfied: pip in c:\\users\\18646\\anaconda3\\lib\\site-packages (23.3.1)\n",
      "Looking in indexes: http://mirrors.aliyun.com/pypi/simple/\n",
      "Requirement already satisfied: numpy in c:\\users\\18646\\anaconda3\\lib\\site-packages (1.24.2)\n",
      "Requirement already satisfied: scipy in c:\\users\\18646\\anaconda3\\lib\\site-packages (1.11.1)\n",
      "Requirement already satisfied: gymnasium<0.29 in c:\\users\\18646\\anaconda3\\lib\\site-packages (0.28.1)\n",
      "Requirement already satisfied: jax-jumpy>=1.0.0 in c:\\users\\18646\\anaconda3\\lib\\site-packages (from gymnasium<0.29) (1.0.0)\n",
      "Requirement already satisfied: cloudpickle>=1.2.0 in c:\\users\\18646\\anaconda3\\lib\\site-packages (from gymnasium<0.29) (2.2.1)\n",
      "Requirement already satisfied: typing-extensions>=4.3.0 in c:\\users\\18646\\anaconda3\\lib\\site-packages (from gymnasium<0.29) (4.7.1)\n",
      "Requirement already satisfied: farama-notifications>=0.0.1 in c:\\users\\18646\\anaconda3\\lib\\site-packages (from gymnasium<0.29) (0.0.4)\n",
      "Looking in indexes: http://mirrors.aliyun.com/pypi/simple/\n",
      "Requirement already satisfied: torch in c:\\users\\18646\\anaconda3\\lib\\site-packages (2.1.0)\n",
      "Requirement already satisfied: torchvision in c:\\users\\18646\\anaconda3\\lib\\site-packages (0.16.0)\n",
      "Requirement already satisfied: filelock in c:\\users\\18646\\anaconda3\\lib\\site-packages (from torch) (3.9.0)\n",
      "Requirement already satisfied: typing-extensions in c:\\users\\18646\\anaconda3\\lib\\site-packages (from torch) (4.7.1)\n",
      "Requirement already satisfied: sympy in c:\\users\\18646\\anaconda3\\lib\\site-packages (from torch) (1.11.1)\n",
      "Requirement already satisfied: networkx in c:\\users\\18646\\anaconda3\\lib\\site-packages (from torch) (3.1)\n",
      "Requirement already satisfied: jinja2 in c:\\users\\18646\\anaconda3\\lib\\site-packages (from torch) (3.1.2)\n",
      "Requirement already satisfied: fsspec in c:\\users\\18646\\anaconda3\\lib\\site-packages (from torch) (2023.4.0)\n",
      "Requirement already satisfied: numpy in c:\\users\\18646\\anaconda3\\lib\\site-packages (from torchvision) (1.24.2)\n",
      "Requirement already satisfied: requests in c:\\users\\18646\\anaconda3\\lib\\site-packages (from torchvision) (2.31.0)\n",
      "Requirement already satisfied: pillow!=8.3.*,>=5.3.0 in c:\\users\\18646\\anaconda3\\lib\\site-packages (from torchvision) (9.4.0)\n",
      "Requirement already satisfied: MarkupSafe>=2.0 in c:\\users\\18646\\anaconda3\\lib\\site-packages (from jinja2->torch) (2.1.1)\n",
      "Requirement already satisfied: charset-normalizer<4,>=2 in c:\\users\\18646\\anaconda3\\lib\\site-packages (from requests->torchvision) (2.0.4)\n",
      "Requirement already satisfied: idna<4,>=2.5 in c:\\users\\18646\\anaconda3\\lib\\site-packages (from requests->torchvision) (3.4)\n",
      "Requirement already satisfied: urllib3<3,>=1.21.1 in c:\\users\\18646\\anaconda3\\lib\\site-packages (from requests->torchvision) (1.26.16)\n",
      "Requirement already satisfied: certifi>=2017.4.17 in c:\\users\\18646\\anaconda3\\lib\\site-packages (from requests->torchvision) (2023.7.22)\n",
      "Requirement already satisfied: mpmath>=0.19 in c:\\users\\18646\\anaconda3\\lib\\site-packages (from sympy->torch) (1.3.0)\n",
      "Looking in indexes: http://mirrors.aliyun.com/pypi/simple/\n",
      "Requirement already satisfied: mediapy in c:\\users\\18646\\anaconda3\\lib\\site-packages (1.1.9)\n",
      "Requirement already satisfied: ipython in c:\\users\\18646\\anaconda3\\lib\\site-packages (from mediapy) (8.15.0)\n",
      "Requirement already satisfied: matplotlib in c:\\users\\18646\\anaconda3\\lib\\site-packages (from mediapy) (3.7.2)\n",
      "Requirement already satisfied: numpy in c:\\users\\18646\\anaconda3\\lib\\site-packages (from mediapy) (1.24.2)\n",
      "Requirement already satisfied: Pillow in c:\\users\\18646\\anaconda3\\lib\\site-packages (from mediapy) (9.4.0)\n",
      "Requirement already satisfied: backcall in c:\\users\\18646\\anaconda3\\lib\\site-packages (from ipython->mediapy) (0.2.0)\n",
      "Requirement already satisfied: decorator in c:\\users\\18646\\anaconda3\\lib\\site-packages (from ipython->mediapy) (5.1.1)\n",
      "Requirement already satisfied: jedi>=0.16 in c:\\users\\18646\\anaconda3\\lib\\site-packages (from ipython->mediapy) (0.18.1)\n",
      "Requirement already satisfied: matplotlib-inline in c:\\users\\18646\\anaconda3\\lib\\site-packages (from ipython->mediapy) (0.1.6)\n",
      "Requirement already satisfied: pickleshare in c:\\users\\18646\\anaconda3\\lib\\site-packages (from ipython->mediapy) (0.7.5)\n",
      "Requirement already satisfied: prompt-toolkit!=3.0.37,<3.1.0,>=3.0.30 in c:\\users\\18646\\anaconda3\\lib\\site-packages (from ipython->mediapy) (3.0.36)\n",
      "Requirement already satisfied: pygments>=2.4.0 in c:\\users\\18646\\anaconda3\\lib\\site-packages (from ipython->mediapy) (2.15.1)\n",
      "Requirement already satisfied: stack-data in c:\\users\\18646\\anaconda3\\lib\\site-packages (from ipython->mediapy) (0.2.0)\n",
      "Requirement already satisfied: traitlets>=5 in c:\\users\\18646\\anaconda3\\lib\\site-packages (from ipython->mediapy) (5.7.1)\n",
      "Requirement already satisfied: colorama in c:\\users\\18646\\anaconda3\\lib\\site-packages (from ipython->mediapy) (0.4.6)\n",
      "Requirement already satisfied: contourpy>=1.0.1 in c:\\users\\18646\\anaconda3\\lib\\site-packages (from matplotlib->mediapy) (1.0.5)\n",
      "Requirement already satisfied: cycler>=0.10 in c:\\users\\18646\\anaconda3\\lib\\site-packages (from matplotlib->mediapy) (0.11.0)\n",
      "Requirement already satisfied: fonttools>=4.22.0 in c:\\users\\18646\\anaconda3\\lib\\site-packages (from matplotlib->mediapy) (4.25.0)\n",
      "Requirement already satisfied: kiwisolver>=1.0.1 in c:\\users\\18646\\anaconda3\\lib\\site-packages (from matplotlib->mediapy) (1.4.4)\n",
      "Requirement already satisfied: packaging>=20.0 in c:\\users\\18646\\anaconda3\\lib\\site-packages (from matplotlib->mediapy) (23.1)\n",
      "Requirement already satisfied: pyparsing<3.1,>=2.3.1 in c:\\users\\18646\\anaconda3\\lib\\site-packages (from matplotlib->mediapy) (3.0.9)\n",
      "Requirement already satisfied: python-dateutil>=2.7 in c:\\users\\18646\\anaconda3\\lib\\site-packages (from matplotlib->mediapy) (2.8.2)\n",
      "Requirement already satisfied: parso<0.9.0,>=0.8.0 in c:\\users\\18646\\anaconda3\\lib\\site-packages (from jedi>=0.16->ipython->mediapy) (0.8.3)\n",
      "Requirement already satisfied: wcwidth in c:\\users\\18646\\anaconda3\\lib\\site-packages (from prompt-toolkit!=3.0.37,<3.1.0,>=3.0.30->ipython->mediapy) (0.2.5)\n",
      "Requirement already satisfied: six>=1.5 in c:\\users\\18646\\anaconda3\\lib\\site-packages (from python-dateutil>=2.7->matplotlib->mediapy) (1.16.0)\n",
      "Requirement already satisfied: executing in c:\\users\\18646\\anaconda3\\lib\\site-packages (from stack-data->ipython->mediapy) (0.8.3)\n",
      "Requirement already satisfied: asttokens in c:\\users\\18646\\anaconda3\\lib\\site-packages (from stack-data->ipython->mediapy) (2.0.5)\n",
      "Requirement already satisfied: pure-eval in c:\\users\\18646\\anaconda3\\lib\\site-packages (from stack-data->ipython->mediapy) (0.2.2)\n"
     ]
    }
   ],
   "source": [
    "# Similar to AS1\n",
    "\n",
    "!pip install -U pip\n",
    "!pip install numpy scipy \"gymnasium<0.29\"\n",
    "!pip install torch torchvision\n",
    "!pip install mediapy"
   ]
  },
  {
   "cell_type": "code",
   "execution_count": 3,
   "id": "5b05b5d4",
   "metadata": {
    "colab": {
     "base_uri": "https://localhost:8080/"
    },
    "id": "5b05b5d4",
    "outputId": "07c15710-629c-419b-e3b0-1330420bfea8",
    "scrolled": false
   },
   "outputs": [
    {
     "name": "stdout",
     "output_type": "stream",
     "text": [
      "Looking in indexes: http://mirrors.aliyun.com/pypi/simple/\n",
      "Collecting git+https://github.com/metadriverse/metadrive\n",
      "  Cloning https://github.com/metadriverse/metadrive to c:\\users\\18646\\appdata\\local\\temp\\pip-req-build-dbggxq54\n",
      "  Resolved https://github.com/metadriverse/metadrive to commit 0d437097399b0b5cb7cde32880da30673eb8b435\n",
      "  Preparing metadata (setup.py): started\n",
      "  Preparing metadata (setup.py): finished with status 'done'\n",
      "Requirement already satisfied: requests in c:\\users\\18646\\anaconda3\\lib\\site-packages (from metadrive-simulator==0.4.1.2) (2.31.0)\n",
      "Requirement already satisfied: gymnasium<0.29,>=0.28 in c:\\users\\18646\\anaconda3\\lib\\site-packages (from metadrive-simulator==0.4.1.2) (0.28.1)\n",
      "Requirement already satisfied: numpy<=1.24.2,>=1.21.6 in c:\\users\\18646\\anaconda3\\lib\\site-packages (from metadrive-simulator==0.4.1.2) (1.24.2)\n",
      "Requirement already satisfied: matplotlib in c:\\users\\18646\\anaconda3\\lib\\site-packages (from metadrive-simulator==0.4.1.2) (3.7.2)\n",
      "Requirement already satisfied: pandas in c:\\users\\18646\\anaconda3\\lib\\site-packages (from metadrive-simulator==0.4.1.2) (2.0.3)\n",
      "Requirement already satisfied: pygame in c:\\users\\18646\\anaconda3\\lib\\site-packages (from metadrive-simulator==0.4.1.2) (2.5.2)\n",
      "Requirement already satisfied: tqdm in c:\\users\\18646\\anaconda3\\lib\\site-packages (from metadrive-simulator==0.4.1.2) (4.65.0)\n",
      "Requirement already satisfied: yapf in c:\\users\\18646\\anaconda3\\lib\\site-packages (from metadrive-simulator==0.4.1.2) (0.31.0)\n",
      "Requirement already satisfied: seaborn in c:\\users\\18646\\anaconda3\\lib\\site-packages (from metadrive-simulator==0.4.1.2) (0.12.2)\n",
      "Requirement already satisfied: progressbar in c:\\users\\18646\\anaconda3\\lib\\site-packages (from metadrive-simulator==0.4.1.2) (2.5)\n",
      "Requirement already satisfied: panda3d==1.10.13 in c:\\users\\18646\\anaconda3\\lib\\site-packages (from metadrive-simulator==0.4.1.2) (1.10.13)\n",
      "Requirement already satisfied: panda3d-gltf==0.13 in c:\\users\\18646\\anaconda3\\lib\\site-packages (from metadrive-simulator==0.4.1.2) (0.13)\n",
      "Requirement already satisfied: panda3d-simplepbr in c:\\users\\18646\\anaconda3\\lib\\site-packages (from metadrive-simulator==0.4.1.2) (0.10)\n",
      "Requirement already satisfied: pillow in c:\\users\\18646\\anaconda3\\lib\\site-packages (from metadrive-simulator==0.4.1.2) (9.4.0)\n",
      "Requirement already satisfied: pytest in c:\\users\\18646\\anaconda3\\lib\\site-packages (from metadrive-simulator==0.4.1.2) (7.4.0)\n",
      "Requirement already satisfied: opencv-python in c:\\users\\18646\\anaconda3\\lib\\site-packages (from metadrive-simulator==0.4.1.2) (4.8.1.78)\n",
      "Requirement already satisfied: lxml in c:\\users\\18646\\anaconda3\\lib\\site-packages (from metadrive-simulator==0.4.1.2) (4.9.3)\n",
      "Requirement already satisfied: scipy in c:\\users\\18646\\anaconda3\\lib\\site-packages (from metadrive-simulator==0.4.1.2) (1.11.1)\n",
      "Requirement already satisfied: psutil in c:\\users\\18646\\anaconda3\\lib\\site-packages (from metadrive-simulator==0.4.1.2) (5.9.0)\n",
      "Requirement already satisfied: geopandas in c:\\users\\18646\\anaconda3\\lib\\site-packages (from metadrive-simulator==0.4.1.2) (0.14.0)\n",
      "Requirement already satisfied: shapely in c:\\users\\18646\\anaconda3\\lib\\site-packages (from metadrive-simulator==0.4.1.2) (2.0.2)\n",
      "Requirement already satisfied: filelock in c:\\users\\18646\\anaconda3\\lib\\site-packages (from metadrive-simulator==0.4.1.2) (3.9.0)\n",
      "Requirement already satisfied: jax-jumpy>=1.0.0 in c:\\users\\18646\\anaconda3\\lib\\site-packages (from gymnasium<0.29,>=0.28->metadrive-simulator==0.4.1.2) (1.0.0)\n",
      "Requirement already satisfied: cloudpickle>=1.2.0 in c:\\users\\18646\\anaconda3\\lib\\site-packages (from gymnasium<0.29,>=0.28->metadrive-simulator==0.4.1.2) (2.2.1)\n",
      "Requirement already satisfied: typing-extensions>=4.3.0 in c:\\users\\18646\\anaconda3\\lib\\site-packages (from gymnasium<0.29,>=0.28->metadrive-simulator==0.4.1.2) (4.7.1)\n",
      "Requirement already satisfied: farama-notifications>=0.0.1 in c:\\users\\18646\\anaconda3\\lib\\site-packages (from gymnasium<0.29,>=0.28->metadrive-simulator==0.4.1.2) (0.0.4)\n",
      "Requirement already satisfied: fiona>=1.8.21 in c:\\users\\18646\\anaconda3\\lib\\site-packages (from geopandas->metadrive-simulator==0.4.1.2) (1.9.5)\n",
      "Requirement already satisfied: packaging in c:\\users\\18646\\anaconda3\\lib\\site-packages (from geopandas->metadrive-simulator==0.4.1.2) (23.1)\n",
      "Requirement already satisfied: pyproj>=3.3.0 in c:\\users\\18646\\anaconda3\\lib\\site-packages (from geopandas->metadrive-simulator==0.4.1.2) (3.6.1)\n",
      "Requirement already satisfied: python-dateutil>=2.8.2 in c:\\users\\18646\\anaconda3\\lib\\site-packages (from pandas->metadrive-simulator==0.4.1.2) (2.8.2)\n",
      "Requirement already satisfied: pytz>=2020.1 in c:\\users\\18646\\anaconda3\\lib\\site-packages (from pandas->metadrive-simulator==0.4.1.2) (2023.3.post1)\n",
      "Requirement already satisfied: tzdata>=2022.1 in c:\\users\\18646\\anaconda3\\lib\\site-packages (from pandas->metadrive-simulator==0.4.1.2) (2023.3)\n",
      "Requirement already satisfied: contourpy>=1.0.1 in c:\\users\\18646\\anaconda3\\lib\\site-packages (from matplotlib->metadrive-simulator==0.4.1.2) (1.0.5)\n",
      "Requirement already satisfied: cycler>=0.10 in c:\\users\\18646\\anaconda3\\lib\\site-packages (from matplotlib->metadrive-simulator==0.4.1.2) (0.11.0)\n",
      "Requirement already satisfied: fonttools>=4.22.0 in c:\\users\\18646\\anaconda3\\lib\\site-packages (from matplotlib->metadrive-simulator==0.4.1.2) (4.25.0)\n",
      "Requirement already satisfied: kiwisolver>=1.0.1 in c:\\users\\18646\\anaconda3\\lib\\site-packages (from matplotlib->metadrive-simulator==0.4.1.2) (1.4.4)\n",
      "Requirement already satisfied: pyparsing<3.1,>=2.3.1 in c:\\users\\18646\\anaconda3\\lib\\site-packages (from matplotlib->metadrive-simulator==0.4.1.2) (3.0.9)\n",
      "Requirement already satisfied: iniconfig in c:\\users\\18646\\anaconda3\\lib\\site-packages (from pytest->metadrive-simulator==0.4.1.2) (1.1.1)\n",
      "Requirement already satisfied: pluggy<2.0,>=0.12 in c:\\users\\18646\\anaconda3\\lib\\site-packages (from pytest->metadrive-simulator==0.4.1.2) (1.0.0)\n",
      "Requirement already satisfied: colorama in c:\\users\\18646\\anaconda3\\lib\\site-packages (from pytest->metadrive-simulator==0.4.1.2) (0.4.6)\n",
      "Requirement already satisfied: charset-normalizer<4,>=2 in c:\\users\\18646\\anaconda3\\lib\\site-packages (from requests->metadrive-simulator==0.4.1.2) (2.0.4)\n",
      "Requirement already satisfied: idna<4,>=2.5 in c:\\users\\18646\\anaconda3\\lib\\site-packages (from requests->metadrive-simulator==0.4.1.2) (3.4)\n",
      "Requirement already satisfied: urllib3<3,>=1.21.1 in c:\\users\\18646\\anaconda3\\lib\\site-packages (from requests->metadrive-simulator==0.4.1.2) (1.26.16)\n",
      "Requirement already satisfied: certifi>=2017.4.17 in c:\\users\\18646\\anaconda3\\lib\\site-packages (from requests->metadrive-simulator==0.4.1.2) (2023.7.22)\n",
      "Requirement already satisfied: attrs>=19.2.0 in c:\\users\\18646\\anaconda3\\lib\\site-packages (from fiona>=1.8.21->geopandas->metadrive-simulator==0.4.1.2) (22.1.0)\n",
      "Requirement already satisfied: click~=8.0 in c:\\users\\18646\\anaconda3\\lib\\site-packages (from fiona>=1.8.21->geopandas->metadrive-simulator==0.4.1.2) (8.0.4)\n",
      "Requirement already satisfied: click-plugins>=1.0 in c:\\users\\18646\\anaconda3\\lib\\site-packages (from fiona>=1.8.21->geopandas->metadrive-simulator==0.4.1.2) (1.1.1)\n",
      "Requirement already satisfied: cligj>=0.5 in c:\\users\\18646\\anaconda3\\lib\\site-packages (from fiona>=1.8.21->geopandas->metadrive-simulator==0.4.1.2) (0.7.2)\n",
      "Requirement already satisfied: six in c:\\users\\18646\\anaconda3\\lib\\site-packages (from fiona>=1.8.21->geopandas->metadrive-simulator==0.4.1.2) (1.16.0)\n",
      "Requirement already satisfied: setuptools in c:\\users\\18646\\anaconda3\\lib\\site-packages (from fiona>=1.8.21->geopandas->metadrive-simulator==0.4.1.2) (68.0.0)\n"
     ]
    },
    {
     "name": "stderr",
     "output_type": "stream",
     "text": [
      "  Running command git clone --filter=blob:none --quiet https://github.com/metadriverse/metadrive 'C:\\Users\\18646\\AppData\\Local\\Temp\\pip-req-build-dbggxq54'\n"
     ]
    }
   ],
   "source": [
    "# Install MetaDrive, a lightweight driving simulator\n",
    "\n",
    "import sys\n",
    "\n",
    "if sys.version_info.minor >= 12:\n",
    "    raise ValueError(\"MetaDrive only supports python<3.12.0.\")\n",
    "\n",
    "!pip install \"git+https://github.com/metadriverse/metadrive\""
   ]
  },
  {
   "cell_type": "code",
   "execution_count": 4,
   "id": "IlCJY9seS7RB",
   "metadata": {
    "colab": {
     "base_uri": "https://localhost:8080/"
    },
    "id": "IlCJY9seS7RB",
    "outputId": "3504c227-56ea-4db5-8abe-cea176aefcc2",
    "scrolled": false
   },
   "outputs": [
    {
     "name": "stdout",
     "output_type": "stream",
     "text": [
      "Start to profile the efficiency of MetaDrive with 1000 maps and ~4 vehicles!\n",
      "Finish 100/100 simulation steps. Time elapse: 0.1626. Average FPS: 614.8356, Average number of vehicles: 6.0000\n",
      "Total Time Elapse: 0.163, average FPS: 614.836, average number of vehicles: 6.000.\n"
     ]
    },
    {
     "name": "stderr",
     "output_type": "stream",
     "text": [
      "\u001B[38;20m[INFO] MetaDrive version: 0.4.1.2\u001B[0m\n",
      "\u001B[38;20m[INFO] Sensors: [lidar: Lidar(50,), side_detector: SideDetector(), lane_line_detector: LaneLineDetector()]\u001B[0m\n",
      "\u001B[38;20m[INFO] Render Mode: none\u001B[0m\n",
      "\u001B[38;20m[INFO] Assets version: 0.4.1.2\u001B[0m\n"
     ]
    }
   ],
   "source": [
    "# Test whether MetaDrive is properly installed. No error means the test is passed.\n",
    "!python -m metadrive.examples.profile_metadrive --num-steps 100"
   ]
  },
  {
   "cell_type": "markdown",
   "id": "9612bfe5",
   "metadata": {
    "id": "9612bfe5"
   },
   "source": [
    "## Section 1: Building abstract class and helper functions"
   ]
  },
  {
   "cell_type": "code",
   "execution_count": 5,
   "id": "9064ac72",
   "metadata": {
    "colab": {
     "base_uri": "https://localhost:8080/"
    },
    "id": "9064ac72",
    "outputId": "4eed79d8-0126-4a00-ff90-869135e2d144"
   },
   "outputs": [],
   "source": [
    "# Run this cell without modification\n",
    "\n",
    "# Import some packages that we need to use\n",
    "import mediapy as media\n",
    "import gymnasium as gym\n",
    "import numpy as np\n",
    "import pandas as pd\n",
    "import seaborn as sns\n",
    "from gymnasium.error import Error\n",
    "from gymnasium import logger\n",
    "import torch\n",
    "import torch.nn as nn\n",
    "from IPython.display import clear_output\n",
    "import copy\n",
    "import time\n",
    "import pygame\n",
    "import logging\n",
    "\n",
    "logging.basicConfig(format='[%(levelname)s] %(message)s')\n",
    "logger = logging.getLogger()\n",
    "logger.setLevel(logging.INFO)\n",
    "\n",
    "\n",
    "def wait(sleep=0.2):\n",
    "    clear_output(wait=True)\n",
    "    time.sleep(sleep)\n",
    "\n",
    "\n",
    "def merge_config(new_config, old_config):\n",
    "    \"\"\"Merge the user-defined config with default config\"\"\"\n",
    "    config = copy.deepcopy(old_config)\n",
    "    if new_config is not None:\n",
    "        config.update(new_config)\n",
    "    return config\n",
    "\n",
    "\n",
    "def test_random_policy(policy, env):\n",
    "    _acts = set()\n",
    "    for i in range(1000):\n",
    "        act = policy(0)\n",
    "        _acts.add(act)\n",
    "        assert env.action_space.contains(act), \"Out of the bound!\"\n",
    "    if len(_acts) != 1:\n",
    "        print(\n",
    "            \"[HINT] Though we call self.policy 'random policy', \" \\\n",
    "            \"we find that generating action randomly at the beginning \" \\\n",
    "            \"and then fixing it during updating values period lead to better \" \\\n",
    "            \"performance. Using purely random policy is not even work! \" \\\n",
    "            \"We encourage you to investigate this issue.\"\n",
    "        )\n",
    "\n",
    "\n",
    "# We register a non-slippery version of FrozenLake environment.\n",
    "try:\n",
    "    gym.register(\n",
    "        id='FrozenLakeNotSlippery-v1',\n",
    "        entry_point='gymnasium.envs.toy_text:FrozenLakeEnv',\n",
    "        kwargs={'map_name': '4x4', 'is_slippery': False},\n",
    "        max_episode_steps=200,\n",
    "        reward_threshold=0.78,  # optimum = .8196\n",
    "    )\n",
    "except Error:\n",
    "    print(\"The environment is registered already.\")\n",
    "\n",
    "\n",
    "def _render_helper(env, sleep=0.1):\n",
    "    ret = env.render()\n",
    "    if sleep:\n",
    "        wait(sleep=sleep)\n",
    "    return ret\n",
    "\n",
    "\n",
    "def animate(img_array, fps=None):\n",
    "    \"\"\"A function that can generate GIF file and show in Notebook.\"\"\"\n",
    "    media.show_video(img_array, fps=fps)\n",
    "\n",
    "\n",
    "def evaluate(policy, num_episodes=1, seed=0, env_name='FrozenLake8x8-v1',\n",
    "             render=None, existing_env=None, max_episode_length=1000,\n",
    "             sleep=0.0, verbose=False):\n",
    "    \"\"\"This function evaluate the given policy and return the mean episode \n",
    "    reward.\n",
    "    :param policy: a function whose input is the observation\n",
    "    :param num_episodes: number of episodes you wish to run\n",
    "    :param seed: the random seed\n",
    "    :param env_name: the name of the environment\n",
    "    :param render: a boolean flag indicating whether to render policy\n",
    "    :return: the averaged episode reward of the given policy.\n",
    "    \"\"\"\n",
    "    if existing_env is None:\n",
    "        render_mode = render if render else None\n",
    "        env = gym.make(env_name, render_mode=render)\n",
    "    else:\n",
    "        env = existing_env\n",
    "    try:\n",
    "        rewards = []\n",
    "        frames = []\n",
    "        succ_rate = []\n",
    "        if render:\n",
    "            num_episodes = 1\n",
    "        for i in range(num_episodes):\n",
    "            obs, info = env.reset(seed=seed + i)\n",
    "            act = policy(obs)\n",
    "            ep_reward = 0\n",
    "            for step_count in range(max_episode_length):\n",
    "                obs, reward, terminated, truncated, info = env.step(act)\n",
    "                done = terminated or truncated\n",
    "\n",
    "                act = policy(obs)\n",
    "                ep_reward += reward\n",
    "\n",
    "                if verbose and step_count % 50 == 0:\n",
    "                    print(\"Evaluating {}/{} episodes. We are in {}/{} steps. Current episode reward: {:.3f}\".format(\n",
    "                        i + 1, num_episodes, step_count + 1, max_episode_length, ep_reward\n",
    "                    ))\n",
    "\n",
    "                if render == \"ansi\":\n",
    "                    print(_render_helper(env, sleep))\n",
    "                elif render:\n",
    "                    frames.append(_render_helper(env, sleep))\n",
    "                if done:\n",
    "                    break\n",
    "            rewards.append(ep_reward)\n",
    "            if \"arrive_dest\" in info:\n",
    "                succ_rate.append(float(info[\"arrive_dest\"]))\n",
    "        if render:\n",
    "            env.close()\n",
    "    except Exception as e:\n",
    "        env.close()\n",
    "        raise e\n",
    "    finally:\n",
    "        env.close()\n",
    "    eval_dict = {\"frames\": frames}\n",
    "    if succ_rate:\n",
    "        eval_dict[\"success_rate\"] = sum(succ_rate) / len(succ_rate)\n",
    "    return np.mean(rewards), eval_dict\n"
   ]
  },
  {
   "cell_type": "code",
   "execution_count": 6,
   "id": "d21c8c84",
   "metadata": {
    "id": "d21c8c84"
   },
   "outputs": [],
   "source": [
    "# Run this cell without modification\n",
    "\n",
    "DEFAULT_CONFIG = dict(\n",
    "    seed=0,\n",
    "    max_iteration=20000,\n",
    "    max_episode_length=200,\n",
    "    evaluate_interval=10,\n",
    "    evaluate_num_episodes=10,\n",
    "    learning_rate=0.001,\n",
    "    gamma=0.8,\n",
    "    eps=0.3,\n",
    "    env_name='FrozenLakeNotSlippery-v1'\n",
    ")\n",
    "\n",
    "\n",
    "class AbstractTrainer:\n",
    "    \"\"\"This is the abstract class for value-based RL trainer. We will inherent\n",
    "    the specify algorithm's trainer from this abstract class, so that we can\n",
    "    reuse the codes.\n",
    "    \"\"\"\n",
    "\n",
    "    def __init__(self, config):\n",
    "        self.config = merge_config(config, DEFAULT_CONFIG)\n",
    "\n",
    "        # Create the environment\n",
    "        self.env_name = self.config['env_name']\n",
    "        self.env = gym.make(self.env_name)\n",
    "\n",
    "        # Apply the random seed\n",
    "        self.seed = self.config[\"seed\"]\n",
    "        np.random.seed(self.seed)\n",
    "        self.env.reset(seed=self.seed)\n",
    "\n",
    "        # We set self.obs_dim to the number of possible observation\n",
    "        # if observation space is discrete, otherwise the number\n",
    "        # of observation's dimensions. The same to self.act_dim.\n",
    "        if isinstance(self.env.observation_space, gym.spaces.box.Box):\n",
    "            assert len(self.env.observation_space.shape) == 1\n",
    "            self.obs_dim = self.env.observation_space.shape[0]\n",
    "            self.discrete_obs = False\n",
    "        elif isinstance(self.env.observation_space,\n",
    "                        gym.spaces.discrete.Discrete):\n",
    "            self.obs_dim = self.env.observation_space.n\n",
    "            self.discrete_obs = True\n",
    "        else:\n",
    "            raise ValueError(\"Wrong observation space!\")\n",
    "\n",
    "        if isinstance(self.env.action_space, gym.spaces.box.Box):\n",
    "            assert len(self.env.action_space.shape) == 1\n",
    "            self.act_dim = self.env.action_space.shape[0]\n",
    "        elif isinstance(self.env.action_space, gym.spaces.discrete.Discrete):\n",
    "            self.act_dim = self.env.action_space.n\n",
    "        else:\n",
    "            raise ValueError(\"Wrong action space! {}\".format(self.env.action_space))\n",
    "\n",
    "        self.eps = self.config['eps']\n",
    "\n",
    "    def process_state(self, state):\n",
    "        \"\"\"\n",
    "        Process the raw observation. For example, we can use this function to\n",
    "        convert the input state (integer) to a one-hot vector.\n",
    "        \"\"\"\n",
    "        return state\n",
    "\n",
    "    def compute_action(self, processed_state, eps=None):\n",
    "        \"\"\"Compute the action given the processed state.\"\"\"\n",
    "        raise NotImplementedError(\n",
    "            \"You need to override the Trainer.compute_action() function.\")\n",
    "\n",
    "    def evaluate(self, num_episodes=50, *args, **kwargs):\n",
    "        \"\"\"Use the function you write to evaluate current policy.\n",
    "        Return the mean episode reward of 50 episodes.\"\"\"\n",
    "        if \"MetaDrive\" in self.env_name:\n",
    "            kwargs[\"existing_env\"] = self.env\n",
    "        result, eval_infos = evaluate(self.policy, num_episodes, seed=self.seed,\n",
    "                                      env_name=self.env_name, *args, **kwargs)\n",
    "        return result, eval_infos\n",
    "\n",
    "    def policy(self, raw_state, eps=0.0):\n",
    "        \"\"\"A wrapper function takes raw_state as input and output action.\"\"\"\n",
    "        return self.compute_action(self.process_state(raw_state), eps=eps)\n",
    "\n",
    "    def train(self, iteration=None):\n",
    "        \"\"\"Conduct one iteration of learning.\"\"\"\n",
    "        raise NotImplementedError(\"You need to override the \"\n",
    "                                  \"Trainer.train() function.\")\n"
   ]
  },
  {
   "cell_type": "code",
   "execution_count": 7,
   "id": "cf324d71",
   "metadata": {
    "id": "cf324d71"
   },
   "outputs": [],
   "source": [
    "# Run this cell without modification\n",
    "\n",
    "def run(trainer_cls, config=None, reward_threshold=None):\n",
    "    \"\"\"Run the trainer and report progress, agnostic to the class of trainer\n",
    "    :param trainer_cls: A trainer class \n",
    "    :param config: A dict\n",
    "    :param reward_threshold: the reward threshold to break the training\n",
    "    :return: The trained trainer and a dataframe containing learning progress\n",
    "    \"\"\"\n",
    "    if config is None:\n",
    "        config = {}\n",
    "    trainer = trainer_cls(config)\n",
    "    config = trainer.config\n",
    "    start = now = time.time()\n",
    "    stats = []\n",
    "    total_steps = 0\n",
    "\n",
    "    try:\n",
    "        for i in range(config['max_iteration'] + 1):\n",
    "            stat = trainer.train(iteration=i)\n",
    "            stat = stat or {}\n",
    "            stats.append(stat)\n",
    "            if \"episode_len\" in stat:\n",
    "                total_steps += stat[\"episode_len\"]\n",
    "            if i % config['evaluate_interval'] == 0 or \\\n",
    "                    i == config[\"max_iteration\"]:\n",
    "                reward, _ = trainer.evaluate(\n",
    "                    config.get(\"evaluate_num_episodes\", 50),\n",
    "                    max_episode_length=config.get(\"max_episode_length\", 1000)\n",
    "                )\n",
    "                logger.info(\"Iter {}, {}episodic return is {:.2f}. {}\".format(\n",
    "                    i,\n",
    "                    \"\" if total_steps == 0 else \"Step {}, \".format(total_steps),\n",
    "                    reward,\n",
    "                    {k: round(np.mean(v), 4) for k, v in stat.items()\n",
    "                     if not np.isnan(v) and k != \"frames\"\n",
    "                     }\n",
    "                    if stat else \"\"\n",
    "                ))\n",
    "                now = time.time()\n",
    "            if reward_threshold is not None and reward > reward_threshold:\n",
    "                logger.info(\"Iter {}, episodic return {:.3f} is \"\n",
    "                            \"greater than reward threshold {}. Congratulation! Now we \"\n",
    "                            \"exit the training process.\".format(i, reward, reward_threshold))\n",
    "                break\n",
    "    except Exception as e:\n",
    "        print(\"Error happens during training: \")\n",
    "        raise e\n",
    "    finally:\n",
    "        if hasattr(trainer.env, \"close\"):\n",
    "            trainer.env.close()\n",
    "            print(\"Environment is closed.\")\n",
    "\n",
    "    return trainer, stats\n"
   ]
  },
  {
   "cell_type": "markdown",
   "id": "64a565ab",
   "metadata": {
    "id": "64a565ab"
   },
   "source": [
    "## Section 2: Q-Learning\n",
    "(20/100 points)\n",
    "\n",
    "Q-learning is an off-policy algorithm who differs from SARSA in the computing of TD error. \n",
    "\n",
    "Unlike getting the TD error by running policy to get `next_act` $a'$ and compute:\n",
    "\n",
    "$r + \\gamma Q(s', a') - Q(s, a)$\n",
    "\n",
    "as in SARSA, in Q-learning we compute the TD error via:\n",
    "\n",
    "$r + \\gamma \\max_{a'} Q(s', a') - Q(s, a)$. \n",
    "\n",
    "The reason we call it \"off-policy\" is that the next-Q value is not computed for the \"behavior policy\", instead, it is a \"virtural policy\" that always takes the best action given current Q values."
   ]
  },
  {
   "cell_type": "markdown",
   "id": "188997dd",
   "metadata": {},
   "source": [
    "### Section 2.1: Building Q Learning Trainer"
   ]
  },
  {
   "cell_type": "code",
   "execution_count": 8,
   "id": "6a2ec18b",
   "metadata": {
    "id": "6a2ec18b"
   },
   "outputs": [],
   "source": [
    "# Solve the TODOs and remove `pass`\n",
    "\n",
    "# Managing configurations of your experiments is important for your research.\n",
    "Q_LEARNING_TRAINER_CONFIG = merge_config(dict(\n",
    "    eps=0.3,\n",
    "), DEFAULT_CONFIG)\n",
    "\n",
    "\n",
    "class QLearningTrainer(AbstractTrainer):\n",
    "    def __init__(self, config=None):\n",
    "        config = merge_config(config, Q_LEARNING_TRAINER_CONFIG)\n",
    "        super(QLearningTrainer, self).__init__(config=config)\n",
    "        self.gamma = self.config[\"gamma\"]\n",
    "        self.eps = self.config[\"eps\"]\n",
    "        self.max_episode_length = self.config[\"max_episode_length\"]\n",
    "        self.learning_rate = self.config[\"learning_rate\"]\n",
    "\n",
    "        # build the Q table\n",
    "        self.table = np.zeros((self.obs_dim, self.act_dim))\n",
    "\n",
    "    def compute_action(self, obs, eps=None):\n",
    "        \"\"\"Implement epsilon-greedy policy\n",
    "\n",
    "        It is a function that take an integer (state / observation)\n",
    "        as input and return an interger (action).\n",
    "        \"\"\"\n",
    "        if eps is None:\n",
    "            eps = self.eps\n",
    "\n",
    "        # TODO: You need to implement the epsilon-greedy policy here.\n",
    "        if np.random.rand() < eps:\n",
    "            action = np.random.randint(self.act_dim)\n",
    "        else:\n",
    "            action = np.argmax(self.table[obs, :])\n",
    "\n",
    "        return action\n",
    "\n",
    "    def train(self, iteration=None):\n",
    "        \"\"\"Conduct one iteration of learning.\"\"\"\n",
    "        obs, info = self.env.reset()\n",
    "        for t in range(self.max_episode_length):\n",
    "            act = self.compute_action(obs)\n",
    "\n",
    "            next_obs, reward, terminated, truncated, info = self.env.step(act)\n",
    "            done = terminated or truncated\n",
    "\n",
    "            # TODO: compute the TD error, based on the next observation\n",
    "            td_error = reward + self.gamma * np.max(self.table[next_obs, :]) - self.table[obs][act]\n",
    "            \n",
    "\n",
    "            # TODO: compute the new Q value\n",
    "            # hint: use TD error, self.learning_rate and old Q value\n",
    "            new_value = self.table[obs][act] + self.learning_rate * td_error\n",
    "            \n",
    "\n",
    "            self.table[obs][act] = new_value\n",
    "            obs = next_obs\n",
    "            if done:\n",
    "                break\n"
   ]
  },
  {
   "cell_type": "markdown",
   "id": "b2f6c0f2",
   "metadata": {},
   "source": [
    "### Section 2.2: Use Q Learning to train agent in FrozenLake"
   ]
  },
  {
   "cell_type": "code",
   "execution_count": 9,
   "id": "61586e08",
   "metadata": {
    "colab": {
     "base_uri": "https://localhost:8080/"
    },
    "id": "61586e08",
    "outputId": "05ad92b5-a19b-4812-ee1a-a3c775799b3d"
   },
   "outputs": [
    {
     "name": "stderr",
     "output_type": "stream",
     "text": [
      "[INFO] Iter 0, episodic return is 0.00. \n",
      "[INFO] Iter 50, episodic return is 0.00. \n",
      "[INFO] Iter 100, episodic return is 0.00. \n",
      "[INFO] Iter 150, episodic return is 0.00. \n",
      "[INFO] Iter 200, episodic return is 0.00. \n",
      "[INFO] Iter 250, episodic return is 0.00. \n",
      "[INFO] Iter 300, episodic return is 0.00. \n",
      "[INFO] Iter 350, episodic return is 0.00. \n",
      "[INFO] Iter 400, episodic return is 0.00. \n",
      "[INFO] Iter 450, episodic return is 0.00. \n",
      "[INFO] Iter 500, episodic return is 0.00. \n",
      "[INFO] Iter 550, episodic return is 0.00. \n",
      "[INFO] Iter 600, episodic return is 0.00. \n",
      "[INFO] Iter 650, episodic return is 0.00. \n",
      "[INFO] Iter 700, episodic return is 0.00. \n",
      "[INFO] Iter 750, episodic return is 0.00. \n",
      "[INFO] Iter 800, episodic return is 0.00. \n",
      "[INFO] Iter 850, episodic return is 0.00. \n",
      "[INFO] Iter 900, episodic return is 0.00. \n",
      "[INFO] Iter 950, episodic return is 0.00. \n",
      "[INFO] Iter 1000, episodic return is 0.00. \n",
      "[INFO] Iter 1050, episodic return is 0.00. \n",
      "[INFO] Iter 1100, episodic return is 0.00. \n",
      "[INFO] Iter 1150, episodic return is 0.00. \n",
      "[INFO] Iter 1200, episodic return is 0.00. \n",
      "[INFO] Iter 1250, episodic return is 0.00. \n",
      "[INFO] Iter 1300, episodic return is 0.00. \n",
      "[INFO] Iter 1350, episodic return is 0.00. \n",
      "[INFO] Iter 1400, episodic return is 0.00. \n",
      "[INFO] Iter 1450, episodic return is 0.00. \n",
      "[INFO] Iter 1500, episodic return is 0.00. \n",
      "[INFO] Iter 1550, episodic return is 0.00. \n",
      "[INFO] Iter 1600, episodic return is 0.00. \n",
      "[INFO] Iter 1650, episodic return is 0.00. \n",
      "[INFO] Iter 1700, episodic return is 0.00. \n",
      "[INFO] Iter 1750, episodic return is 0.00. \n",
      "[INFO] Iter 1800, episodic return is 0.00. \n",
      "[INFO] Iter 1850, episodic return is 0.00. \n",
      "[INFO] Iter 1900, episodic return is 0.00. \n",
      "[INFO] Iter 1950, episodic return is 0.00. \n",
      "[INFO] Iter 2000, episodic return is 0.00. \n",
      "[INFO] Iter 2050, episodic return is 0.00. \n",
      "[INFO] Iter 2100, episodic return is 0.00. \n",
      "[INFO] Iter 2150, episodic return is 1.00. \n",
      "[INFO] Iter 2150, episodic return 1.000 is greater than reward threshold 0.99. Congratulation! Now we exit the training process.\n"
     ]
    },
    {
     "name": "stdout",
     "output_type": "stream",
     "text": [
      "Environment is closed.\n"
     ]
    }
   ],
   "source": [
    "# Run this cell without modification\n",
    "\n",
    "q_learning_trainer, _ = run(\n",
    "    trainer_cls=QLearningTrainer,\n",
    "    config=dict(\n",
    "        max_iteration=5000,\n",
    "        evaluate_interval=50,\n",
    "        evaluate_num_episodes=50,\n",
    "        env_name='FrozenLakeNotSlippery-v1'\n",
    "    ),\n",
    "    reward_threshold=0.99\n",
    ")\n"
   ]
  },
  {
   "cell_type": "code",
   "execution_count": 10,
   "id": "9fe03c52",
   "metadata": {
    "colab": {
     "base_uri": "https://localhost:8080/"
    },
    "id": "9fe03c52",
    "outputId": "57d058af-741d-422b-d84c-26f5bbc61820"
   },
   "outputs": [
    {
     "data": {
      "text/html": [
       "<table class=\"show_videos\" style=\"border-spacing:0px;\"><tr><td style=\"padding:1px;\"><video controls width=\"256\" height=\"256\" style=\"object-fit:cover;\" loop autoplay muted>\n",
       "      <source src=\"data:video/mp4;base64,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\" type=\"video/mp4\"/>\n",
       "      This browser does not support the video tag.\n",
       "      </video></td></tr></table>"
      ],
      "text/plain": [
       "<IPython.core.display.HTML object>"
      ]
     },
     "metadata": {},
     "output_type": "display_data"
    }
   ],
   "source": [
    "# Run this cell without modification\n",
    "\n",
    "# Render the learned behavior\n",
    "_, eval_info = evaluate(\n",
    "    policy=q_learning_trainer.policy,\n",
    "    num_episodes=1,\n",
    "    env_name=q_learning_trainer.env_name,\n",
    "    render=\"rgb_array\",  # Visualize the behavior here in the cell \n",
    "    sleep=0.2  # The time interval between two rendering frames\n",
    ")\n",
    "animate(eval_info[\"frames\"], fps=2)"
   ]
  },
  {
   "cell_type": "markdown",
   "id": "e198cc0a",
   "metadata": {
    "id": "e198cc0a"
   },
   "source": [
    "## Section 3: Implement Deep Q Learning in Pytorch\n",
    "\n",
    "(30 / 100 points)\n",
    "\n",
    "In this section, we will implement a neural network and train it with Deep Q Learning with Pytorch, a powerful deep learning framework. \n",
    "\n",
    "If you are not familiar with Pytorch, we suggest you to go through pytorch official quickstart tutorials:\n",
    "1. [quickstart](https://pytorch.org/tutorials/beginner/deep_learning_60min_blitz.html)\n",
    "2. [tutorial on RL](https://pytorch.org/tutorials/intermediate/reinforcement_q_learning.html)\n",
    "\n",
    "Different from the Q learning in Section 2, we will implement Deep Q Network (DQN) in this section. The main differences are summarized as follows:\n",
    "\n",
    "**DQN requires an experience replay memory to store the transitions.** A replay memory is implemented in the following `ExperienceReplayMemory` class. It contains a certain amount of transitions: `(s_t, a_t, r_t, s_t+1, done_t)`. When the memory is full, the earliest transition is discarded and the latest one is stored.\n",
    "\n",
    "The replay memory increases the sample efficiency (since each transition might be used multiple times) when solving complex task. However, you may find it learn slowly in this assignment since the CartPole-v1 is a relatively easy environment.\n",
    "\n",
    "\n",
    "**DQN has a delayed-updating target network.** DQN maintains another neural network called the target network that has identical structure of the Q network. After a certain amount of steps has been taken, the target network copies the parameters of the Q network to itself. The update of the target network will be much less frequent than the update of the Q network, since the Q network is updated in each step.\n",
    "\n",
    "The target network is used to stabilize the estimation of the TD error. In DQN, the TD error is estimated as:\n",
    "\n",
    "$$(r_t + \\gamma \\max_{a_{t+1}} Q^{target}(s_{t+1}, a_{t+1}) - Q(s_t, a_t))$$\n",
    "\n",
    "The Q value of the next state is estimated by the target network, not the Q network that is being updated. This mechanism can reduce the variance of gradient because the next Q values is not influenced by the update of current Q network.\n"
   ]
  },
  {
   "cell_type": "markdown",
   "id": "aa025029",
   "metadata": {},
   "source": [
    "### Section 3.1: Build DQN trainer"
   ]
  },
  {
   "cell_type": "code",
   "execution_count": 11,
   "id": "6a87cab7",
   "metadata": {
    "id": "6a87cab7"
   },
   "outputs": [],
   "source": [
    "# Solve the TODOs and remove `pass`\n",
    "\n",
    "from collections import deque\n",
    "import random\n",
    "\n",
    "\n",
    "class ExperienceReplayMemory:\n",
    "    \"\"\"Store and sample the transitions\"\"\"\n",
    "\n",
    "    def __init__(self, capacity):\n",
    "        # deque is a useful class which acts like a list but only contain\n",
    "        # finite elements. When adding new element into the deque will make deque full with \n",
    "        # `maxlen` elements, the oldest element (the index 0 element) will be removed.\n",
    "\n",
    "        # TODO: uncomment next line. \n",
    "        self.memory = deque(maxlen=capacity)\n",
    "        \n",
    "\n",
    "    def push(self, transition):\n",
    "        self.memory.append(transition)\n",
    "\n",
    "    def sample(self, batch_size):\n",
    "        return random.sample(self.memory, batch_size)\n",
    "\n",
    "    def __len__(self):\n",
    "        return len(self.memory)"
   ]
  },
  {
   "cell_type": "code",
   "execution_count": 12,
   "id": "1a72ec0f",
   "metadata": {
    "colab": {
     "base_uri": "https://localhost:8080/"
    },
    "id": "1a72ec0f",
    "outputId": "20a2f35b-6a96-48f1-8626-707411112d68"
   },
   "outputs": [
    {
     "name": "stdout",
     "output_type": "stream",
     "text": [
      "Name of each parameter vectors:  odict_keys(['action_value.0.weight', 'action_value.0.bias', 'action_value.2.weight', 'action_value.2.bias', 'action_value.4.weight', 'action_value.4.bias'])\n",
      "Test passed!\n"
     ]
    }
   ],
   "source": [
    "# Solve the TODOs and remove `pass`\n",
    "\n",
    "class PytorchModel(nn.Module):\n",
    "    def __init__(self, num_inputs, num_outputs, hidden_units=100):\n",
    "        super(PytorchModel, self).__init__()\n",
    "\n",
    "        # TODO: Build a nn.Sequential object as the neural network with two hidden layers and one output layer.\n",
    "        #\n",
    "        # The first hidden layer takes `num_inputs`-dim vector as input and has `hidden_units` hidden units,\n",
    "        # followed by a ReLU activation function.\n",
    "        # \n",
    "        # The second hidden layer takes `hidden_units`-dim vector as input and has `hidden_units` hidden units,\n",
    "        # followed by a ReLU activation function.\n",
    "        # \n",
    "        # The output layer takes `hidden_units`-dim vector as input and return `num_outputs`-dim vctor as output.\n",
    "        self.action_value = nn.Sequential(\n",
    "            nn.Linear(num_inputs, hidden_units),\n",
    "            nn.ReLU(),\n",
    "            nn.Linear(hidden_units, hidden_units),\n",
    "            nn.ReLU(),\n",
    "            nn.Linear(hidden_units, num_outputs),\n",
    "        )\n",
    "\n",
    "    def forward(self, obs):\n",
    "        return self.action_value(obs)\n",
    "\n",
    "\n",
    "# Test\n",
    "test_pytorch_model = PytorchModel(num_inputs=3, num_outputs=7, hidden_units=123)\n",
    "assert isinstance(test_pytorch_model.action_value, nn.Module)\n",
    "assert len(test_pytorch_model.state_dict()) == 6\n",
    "assert test_pytorch_model.state_dict()[\"action_value.0.weight\"].shape == (123, 3)\n",
    "print(\"Name of each parameter vectors: \", test_pytorch_model.state_dict().keys())\n",
    "\n",
    "print(\"Test passed!\")"
   ]
  },
  {
   "cell_type": "code",
   "execution_count": 13,
   "id": "dddbd300",
   "metadata": {
    "id": "dddbd300"
   },
   "outputs": [],
   "source": [
    "# Solve the TODOs and remove `pass`\n",
    "\n",
    "DQN_CONFIG = merge_config(dict(\n",
    "    parameter_std=0.01,\n",
    "    learning_rate=0.001,\n",
    "    hidden_dim=100,\n",
    "    clip_norm=1.0,\n",
    "    clip_gradient=True,\n",
    "    max_iteration=1000,\n",
    "    max_episode_length=1000,\n",
    "    evaluate_interval=100,\n",
    "    gamma=0.99,\n",
    "    eps=0.3,\n",
    "    memory_size=50000,\n",
    "    learn_start=5000,\n",
    "    batch_size=32,\n",
    "    target_update_freq=500,  # in steps\n",
    "    learn_freq=1,  # in steps\n",
    "    n=1,\n",
    "    env_name=\"CartPole-v1\",\n",
    "), Q_LEARNING_TRAINER_CONFIG)\n",
    "\n",
    "\n",
    "def to_tensor(x):\n",
    "    \"\"\"A helper function to transform a numpy array to a Pytorch Tensor\"\"\"\n",
    "    if isinstance(x, np.ndarray):\n",
    "        x = torch.from_numpy(x).type(torch.float32)\n",
    "    assert isinstance(x, torch.Tensor)\n",
    "    if x.dim() == 3 or x.dim() == 1:\n",
    "        x = x.unsqueeze(0)\n",
    "    assert x.dim() == 2 or x.dim() == 4, x.shape\n",
    "    return x\n",
    "\n",
    "\n",
    "class DQNTrainer(AbstractTrainer):\n",
    "    def __init__(self, config):\n",
    "        config = merge_config(config, DQN_CONFIG)\n",
    "        self.learning_rate = config[\"learning_rate\"]\n",
    "        super().__init__(config)\n",
    "\n",
    "        self.memory = ExperienceReplayMemory(config[\"memory_size\"])\n",
    "\n",
    "        self.learn_start = config[\"learn_start\"]\n",
    "        self.batch_size = config[\"batch_size\"]\n",
    "        self.target_update_freq = config[\"target_update_freq\"]\n",
    "        self.clip_norm = config[\"clip_norm\"]\n",
    "        self.hidden_dim = config[\"hidden_dim\"]\n",
    "        self.max_episode_length = self.config[\"max_episode_length\"]\n",
    "        self.learning_rate = self.config[\"learning_rate\"]\n",
    "        self.gamma = self.config[\"gamma\"]\n",
    "        self.n = self.config[\"n\"]\n",
    "\n",
    "        self.step_since_update = 0\n",
    "        self.total_step = 0\n",
    "\n",
    "        # You need to setup the parameter for your function approximator.\n",
    "        self.initialize_parameters()\n",
    "\n",
    "    def initialize_parameters(self):\n",
    "        # TODO: Initialize the Q network and the target network using PytorchModel class.\n",
    "        self.network = PytorchModel(self.obs_dim, self.act_dim, self.hidden_dim)\n",
    "        print(\"Setting up self.network with obs dim: {} and action dim: {}\".format(self.obs_dim, self.act_dim))\n",
    "\n",
    "        self.network.eval()\n",
    "        self.network.share_memory()\n",
    "\n",
    "        # Initialize target network to be identical to self.network. \n",
    "        # You should put the weights of self.network into self.target_network.\n",
    "        # TODO: Uncomment next few lines\n",
    "        self.target_network = PytorchModel(self.obs_dim, self.act_dim)\n",
    "        self.target_network.load_state_dict(self.network.state_dict())\n",
    "\n",
    "        self.target_network.eval()\n",
    "\n",
    "        # Build Adam optimizer and MSE Loss.\n",
    "        # TODO: Uncomment next few lines\n",
    "        self.optimizer = torch.optim.Adam(\n",
    "            self.network.parameters(), lr=self.learning_rate\n",
    "        )\n",
    "        self.loss = nn.MSELoss()\n",
    "        \n",
    "\n",
    "    def process_state(self, state):\n",
    "        \"\"\"Preprocess the state (observation).\n",
    "\n",
    "        If the environment provides discrete observation (state), transform\n",
    "        it to one-hot form. For example, the environment FrozenLake-v0\n",
    "        provides an integer in [0, ..., 15] denotes the 16 possible states.\n",
    "        We transform it to one-hot style:\n",
    "\n",
    "        original state 0 -> one-hot vector [1, 0, 0, 0, 0, 0, 0, 0, ...]\n",
    "        original state 1 -> one-hot vector [0, 1, 0, 0, 0, 0, 0, 0, ...]\n",
    "        original state 15 -> one-hot vector [0, ..., 0, 0, 0, 0, 0, 1]\n",
    "\n",
    "        If the observation space is continuous, then you should do nothing.\n",
    "        \"\"\"\n",
    "        if not self.discrete_obs:\n",
    "            return state\n",
    "        else:\n",
    "            new_state = np.zeros((self.obs_dim,))\n",
    "            new_state[state] = 1\n",
    "        return new_state\n",
    "\n",
    "    def compute_values(self, processed_state):\n",
    "        \"\"\"Compute the value for each potential action. Note that you\n",
    "        should NOT preprocess the state here.\"\"\"\n",
    "        values = self.network(processed_state).detach().numpy()\n",
    "        return values\n",
    "\n",
    "    def compute_action(self, processed_state, eps=None):\n",
    "        \"\"\"Compute the action given the state. Note that the input\n",
    "        is the processed state.\"\"\"\n",
    "        values = self.compute_values(processed_state)\n",
    "        assert values.ndim == 1, values.shape\n",
    "\n",
    "        if eps is None:\n",
    "            eps = self.eps\n",
    "\n",
    "        if np.random.uniform(0, 1) < eps:\n",
    "            action = self.env.action_space.sample()\n",
    "        else:\n",
    "            action = np.argmax(values)\n",
    "        return action\n",
    "\n",
    "    def train(self, iteration=None):\n",
    "        iteration_string = \"\" if iteration is None else f\"Iter {iteration}: \"\n",
    "        obs, info = self.env.reset()\n",
    "        processed_obs = self.process_state(obs)\n",
    "        act = self.compute_action(processed_obs)\n",
    "\n",
    "        stat = {\"loss\": [], \"success_rate\": np.nan}\n",
    "\n",
    "        for t in range(self.max_episode_length):\n",
    "            next_obs, reward, terminated, truncated, info = self.env.step(act)\n",
    "            done = terminated or truncated\n",
    "\n",
    "            next_processed_obs = self.process_state(next_obs)\n",
    "\n",
    "            # Push the transition into memory.\n",
    "            self.memory.push(\n",
    "                (processed_obs, act, reward, next_processed_obs, done)\n",
    "            )\n",
    "\n",
    "            processed_obs = next_processed_obs\n",
    "            act = self.compute_action(next_processed_obs)\n",
    "            self.step_since_update += 1\n",
    "            self.total_step += 1\n",
    "\n",
    "            if done:\n",
    "                if \"arrive_dest\" in info:\n",
    "                    stat[\"success_rate\"] = info[\"arrive_dest\"]\n",
    "                break\n",
    "\n",
    "            if t % self.config[\"learn_freq\"] != 0:\n",
    "                # It's not necessary to update policy in each environmental interaction.\n",
    "                continue\n",
    "\n",
    "            if len(self.memory) < self.learn_start:\n",
    "                continue\n",
    "            elif len(self.memory) == self.learn_start:\n",
    "                logging.info(\n",
    "                    \"{}Current memory contains {} transitions, \"\n",
    "                    \"start learning!\".format(iteration_string, self.learn_start)\n",
    "                )\n",
    "\n",
    "            batch = self.memory.sample(self.batch_size)\n",
    "\n",
    "            # Transform a batch of elements in transitions into tensors.\n",
    "            state_batch = to_tensor(\n",
    "                np.stack([transition[0] for transition in batch])\n",
    "            )\n",
    "            action_batch = to_tensor(\n",
    "                np.stack([transition[1] for transition in batch])\n",
    "            )\n",
    "            reward_batch = to_tensor(\n",
    "                np.stack([transition[2] for transition in batch])\n",
    "            )\n",
    "            next_state_batch = torch.stack(\n",
    "                [transition[3] for transition in batch]\n",
    "            )\n",
    "            done_batch = to_tensor(\n",
    "                np.stack([transition[4] for transition in batch])\n",
    "            )\n",
    "\n",
    "            with torch.no_grad():\n",
    "                # TODO: Compute the Q values for the next states.\n",
    "                Q_t_plus_one: torch.Tensor = self.target_network(next_state_batch).max(dim=1)[0]\n",
    "\n",
    "                assert isinstance(Q_t_plus_one, torch.Tensor)\n",
    "                assert Q_t_plus_one.dim() == 1\n",
    "\n",
    "                # TODO: Compute the target value of Q.\n",
    "                Q_target = (reward_batch + (1 - done_batch) * (self.gamma ** self.n) * Q_t_plus_one).squeeze()\n",
    "                assert Q_target.shape == (self.batch_size,)\n",
    "\n",
    "            self.network.train()  # Set the network to \"train\" mode.()\n",
    "\n",
    "            # TODO: Collect the Q values in batch.\n",
    "            # Hint: The network will return the Q values for all actions at a given state.\n",
    "            #  So we need to \"extract\" the Q value for the action we've taken.\n",
    "            #  You need to use torch.gather to manipuate the 2nd dimension of the return\n",
    "            #  tensor from the network and extract the desired Q values.\n",
    "            Q_t: torch.Tensor = self.network(state_batch).gather(1, action_batch.view(-1, 1).long()).squeeze(1).type_as(action_batch)\n",
    "            \n",
    "            assert Q_t.shape == Q_target.shape\n",
    "\n",
    "            # Update the network\n",
    "            self.optimizer.zero_grad()\n",
    "            loss = self.loss(input=Q_t, target=Q_target)\n",
    "            stat['loss'].append(loss.item())\n",
    "            loss.backward()\n",
    "\n",
    "            # TODO: Apply gradient clipping with pytorch utility. Uncomment next line.\n",
    "            nn.utils.clip_grad_norm_(self.network.parameters(), self.clip_norm)\n",
    "            \n",
    "\n",
    "            self.optimizer.step()\n",
    "            self.network.eval()\n",
    "\n",
    "        if len(self.memory) >= self.learn_start and \\\n",
    "                self.step_since_update > self.target_update_freq:\n",
    "            self.step_since_update = 0\n",
    "\n",
    "            # TODO: Copy the weights of self.network to self.target_network.\n",
    "            self.target_network.load_state_dict(self.network.state_dict())\n",
    "\n",
    "            self.target_network.eval()\n",
    "\n",
    "        ret = {\"loss\": np.mean(stat[\"loss\"]), \"episode_len\": t}\n",
    "        if \"success_rate\" in stat:\n",
    "            ret[\"success_rate\"] = stat[\"success_rate\"]\n",
    "        return ret\n",
    "\n",
    "    def process_state(self, state):\n",
    "        return torch.from_numpy(state).type(torch.float32)\n",
    "\n",
    "    def save(self, loc=\"model.pt\"):\n",
    "        torch.save(self.network.state_dict(), loc)\n",
    "\n",
    "    def load(self, loc=\"model.pt\"):\n",
    "        self.network.load_state_dict(torch.load(loc))\n"
   ]
  },
  {
   "cell_type": "markdown",
   "id": "45f6fabd",
   "metadata": {},
   "source": [
    "### Section 3.2: Test DQN trainer"
   ]
  },
  {
   "cell_type": "code",
   "execution_count": 14,
   "id": "30d4a27d",
   "metadata": {
    "colab": {
     "base_uri": "https://localhost:8080/"
    },
    "id": "30d4a27d",
    "outputId": "7a3c068c-a580-498a-953e-275da6def868"
   },
   "outputs": [
    {
     "name": "stdout",
     "output_type": "stream",
     "text": [
      "Setting up self.network with obs dim: 4 and action dim: 2\n"
     ]
    },
    {
     "name": "stderr",
     "output_type": "stream",
     "text": [
      "C:\\Users\\18646\\anaconda3\\Lib\\site-packages\\numpy\\core\\fromnumeric.py:3464: RuntimeWarning: Mean of empty slice.\n",
      "  return _methods._mean(a, axis=axis, dtype=dtype,\n",
      "C:\\Users\\18646\\anaconda3\\Lib\\site-packages\\numpy\\core\\_methods.py:192: RuntimeWarning: invalid value encountered in scalar divide\n",
      "  ret = ret.dtype.type(ret / rcount)\n",
      "[INFO] Iter 0, Step 9, episodic return is 9.40. {'episode_len': 9.0}\n",
      "[INFO] Iter 8: Current memory contains 100 transitions, start learning!\n",
      "[INFO] Iter 10, Step 124, episodic return is 11.10. {'loss': 0.0806, 'episode_len': 8.0}\n"
     ]
    },
    {
     "name": "stdout",
     "output_type": "stream",
     "text": [
      "Now your codes should be bug-free.\n",
      "Setting up self.network with obs dim: 4 and action dim: 2\n"
     ]
    },
    {
     "name": "stderr",
     "output_type": "stream",
     "text": [
      "[INFO] Iter 20, Step 239, episodic return is 9.40. {'loss': 0.0026, 'episode_len': 11.0}\n"
     ]
    },
    {
     "name": "stdout",
     "output_type": "stream",
     "text": [
      "Environment is closed.\n",
      "Test passed!\n"
     ]
    }
   ],
   "source": [
    "# Run this cell without modification\n",
    "\n",
    "# Build the test trainer.\n",
    "test_trainer = DQNTrainer({})\n",
    "\n",
    "# Test compute_values\n",
    "fake_state = test_trainer.env.observation_space.sample()\n",
    "processed_state = test_trainer.process_state(fake_state)\n",
    "assert processed_state.shape == (test_trainer.obs_dim,), processed_state.shape\n",
    "values = test_trainer.compute_values(processed_state)\n",
    "assert values.shape == (test_trainer.act_dim,), values.shape\n",
    "\n",
    "test_trainer.train()\n",
    "print(\"Now your codes should be bug-free.\")\n",
    "\n",
    "_ = run(DQNTrainer, dict(\n",
    "    max_iteration=20,\n",
    "    evaluate_interval=10,\n",
    "    learn_start=100,\n",
    "    env_name=\"CartPole-v1\",\n",
    "))\n",
    "\n",
    "test_trainer.save(\"test_trainer.pt\")\n",
    "test_trainer.load(\"test_trainer.pt\")\n",
    "\n",
    "print(\"Test passed!\")"
   ]
  },
  {
   "cell_type": "markdown",
   "id": "ff767ce5",
   "metadata": {},
   "source": [
    "### Section 3.3: Train DQN agents in CartPole"
   ]
  },
  {
   "cell_type": "markdown",
   "id": "a53bf178",
   "metadata": {},
   "source": [
    "First, we visualize a random agent in CartPole environment."
   ]
  },
  {
   "cell_type": "code",
   "execution_count": 15,
   "id": "0221e34d",
   "metadata": {},
   "outputs": [
    {
     "data": {
      "text/html": [
       "<table class=\"show_videos\" style=\"border-spacing:0px;\"><tr><td style=\"padding:1px;\"><video controls width=\"600\" height=\"400\" style=\"object-fit:cover;\" loop autoplay muted>\n",
       "      <source src=\"data:video/mp4;base64,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\" type=\"video/mp4\"/>\n",
       "      This browser does not support the video tag.\n",
       "      </video></td></tr></table>"
      ],
      "text/plain": [
       "<IPython.core.display.HTML object>"
      ]
     },
     "metadata": {},
     "output_type": "display_data"
    },
    {
     "name": "stdout",
     "output_type": "stream",
     "text": [
      "A random agent achieves 63.0 return.\n"
     ]
    }
   ],
   "source": [
    "# Run this cell without modification\n",
    "\n",
    "eval_reward, eval_info = evaluate(\n",
    "    policy=lambda x: np.random.randint(2),\n",
    "    num_episodes=1,\n",
    "    env_name=\"CartPole-v1\",\n",
    "    render=\"rgb_array\",  # Visualize the behavior here in the cell \n",
    ")\n",
    "\n",
    "animate(eval_info[\"frames\"])\n",
    "\n",
    "print(\"A random agent achieves {} return.\".format(eval_reward))"
   ]
  },
  {
   "cell_type": "code",
   "execution_count": 16,
   "id": "957a5dbc",
   "metadata": {
    "colab": {
     "base_uri": "https://localhost:8080/"
    },
    "id": "957a5dbc",
    "outputId": "71a980c5-2bad-4727-f703-a4562af7028a"
   },
   "outputs": [
    {
     "name": "stderr",
     "output_type": "stream",
     "text": [
      "[INFO] Iter 0, Step 9, episodic return is 9.40. {'episode_len': 9.0}\n"
     ]
    },
    {
     "name": "stdout",
     "output_type": "stream",
     "text": [
      "Setting up self.network with obs dim: 4 and action dim: 2\n"
     ]
    },
    {
     "name": "stderr",
     "output_type": "stream",
     "text": [
      "[INFO] Iter 100, Step 908, episodic return is 9.40. {'loss': 0.9879, 'episode_len': 8.0}\n",
      "[INFO] Iter 200, Step 1809, episodic return is 9.50. {'loss': 0.0086, 'episode_len': 10.0}\n",
      "[INFO] Iter 300, Step 2758, episodic return is 9.40. {'loss': 0.0562, 'episode_len': 8.0}\n",
      "[INFO] Iter 400, Step 3646, episodic return is 9.40. {'loss': 0.5911, 'episode_len': 8.0}\n",
      "[INFO] Iter 500, Step 4597, episodic return is 9.50. {'loss': 0.1277, 'episode_len': 8.0}\n",
      "[INFO] Iter 600, Step 5514, episodic return is 9.40. {'loss': 0.3181, 'episode_len': 8.0}\n",
      "[INFO] Iter 700, Step 6794, episodic return is 10.60. {'loss': 0.1927, 'episode_len': 9.0}\n",
      "[INFO] Iter 800, Step 8306, episodic return is 18.90. {'loss': 0.3836, 'episode_len': 23.0}\n",
      "[INFO] Iter 900, Step 11624, episodic return is 33.60. {'loss': 0.5054, 'episode_len': 34.0}\n",
      "[INFO] Iter 1000, Step 25632, episodic return is 197.00. {'loss': 0.3228, 'episode_len': 187.0}\n",
      "[INFO] Iter 1100, Step 43625, episodic return is 202.00. {'loss': 1.3111, 'episode_len': 156.0}\n",
      "[INFO] Iter 1200, Step 63381, episodic return is 203.20. {'loss': 0.2651, 'episode_len': 227.0}\n",
      "[INFO] Iter 1300, Step 83005, episodic return is 215.30. {'loss': 0.1258, 'episode_len': 169.0}\n",
      "[INFO] Iter 1400, Step 101607, episodic return is 183.20. {'loss': 0.7396, 'episode_len': 154.0}\n",
      "[INFO] Iter 1500, Step 120803, episodic return is 190.50. {'loss': 0.2024, 'episode_len': 157.0}\n",
      "[INFO] Iter 1600, Step 139553, episodic return is 186.80. {'loss': 0.0575, 'episode_len': 161.0}\n",
      "[INFO] Iter 1700, Step 157490, episodic return is 162.70. {'loss': 0.2419, 'episode_len': 169.0}\n",
      "[INFO] Iter 1800, Step 175979, episodic return is 198.10. {'loss': 0.0805, 'episode_len': 258.0}\n",
      "[INFO] Iter 1900, Step 194918, episodic return is 206.40. {'loss': 0.0953, 'episode_len': 179.0}\n",
      "[INFO] Iter 2000, Step 213120, episodic return is 205.30. {'loss': 0.0245, 'episode_len': 163.0}\n",
      "[INFO] Iter 2100, Step 234890, episodic return is 264.30. {'loss': 0.1647, 'episode_len': 306.0}\n",
      "[INFO] Iter 2200, Step 260335, episodic return is 262.00. {'loss': 0.0539, 'episode_len': 261.0}\n",
      "[INFO] Iter 2300, Step 285401, episodic return is 351.10. {'loss': 0.0198, 'episode_len': 259.0}\n",
      "[INFO] Iter 2400, Step 327705, episodic return is 495.10. {'loss': 2.8495, 'episode_len': 499.0}\n",
      "[INFO] Iter 2400, episodic return 495.100 is greater than reward threshold 450.0. Congratulation! Now we exit the training process.\n"
     ]
    },
    {
     "name": "stdout",
     "output_type": "stream",
     "text": [
      "Environment is closed.\n"
     ]
    }
   ],
   "source": [
    "# Run this cell without modification\n",
    "\n",
    "pytorch_trainer, pytorch_stat = run(DQNTrainer, dict(\n",
    "    max_iteration=5000,\n",
    "    evaluate_interval=100,\n",
    "    learning_rate=0.001,\n",
    "    clip_norm=10.0,\n",
    "    memory_size=50000,\n",
    "    learn_start=1000,\n",
    "    eps=0.1,\n",
    "    target_update_freq=2000,\n",
    "    batch_size=128,\n",
    "    learn_freq=32,\n",
    "    env_name=\"CartPole-v1\",\n",
    "), reward_threshold=450.0)\n",
    "\n",
    "reward, _ = pytorch_trainer.evaluate()\n",
    "assert reward > 400.0, \"Check your codes. \" \\\n",
    "                       \"Your agent should achieve {} reward in 5000 iterations.\" \\\n",
    "                       \"But it achieve {} reward in evaluation.\".format(400.0, reward)\n",
    "\n",
    "pytorch_trainer.save(\"dqn_trainer_cartpole.pt\")\n",
    "\n",
    "# Should solve the task in 10 minutes"
   ]
  },
  {
   "cell_type": "code",
   "execution_count": 17,
   "id": "66a4cf9a",
   "metadata": {
    "colab": {
     "base_uri": "https://localhost:8080/",
     "height": 434
    },
    "id": "66a4cf9a",
    "outputId": "ac906699-4cd4-40ad-eaea-d41b975d6a14"
   },
   "outputs": [
    {
     "data": {
      "text/html": [
       "<table class=\"show_videos\" style=\"border-spacing:0px;\"><tr><td style=\"padding:1px;\"><video controls width=\"600\" height=\"400\" style=\"object-fit:cover;\" loop autoplay muted>\n",
       "      <source src=\"data:video/mp4;base64,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\" type=\"video/mp4\"/>\n",
       "      This browser does not support the video tag.\n",
       "      </video></td></tr></table>"
      ],
      "text/plain": [
       "<IPython.core.display.HTML object>"
      ]
     },
     "metadata": {},
     "output_type": "display_data"
    },
    {
     "name": "stdout",
     "output_type": "stream",
     "text": [
      "DQN agent achieves 500.0 return.\n"
     ]
    }
   ],
   "source": [
    "# Run this cell without modification\n",
    "\n",
    "# Render the learned behavior\n",
    "eval_reward, eval_info = evaluate(\n",
    "    policy=pytorch_trainer.policy,\n",
    "    num_episodes=1,\n",
    "    env_name=pytorch_trainer.env_name,\n",
    "    render=\"rgb_array\",  # Visualize the behavior here in the cell \n",
    ")\n",
    "\n",
    "animate(eval_info[\"frames\"])\n",
    "\n",
    "print(\"DQN agent achieves {} return.\".format(eval_reward))"
   ]
  },
  {
   "cell_type": "markdown",
   "id": "98b60f6c",
   "metadata": {},
   "source": [
    "### Section 3.4: Train DQN agents in MetaDrive"
   ]
  },
  {
   "cell_type": "code",
   "execution_count": 18,
   "id": "e93c9cea",
   "metadata": {
    "id": "e93c9cea"
   },
   "outputs": [],
   "source": [
    "# Run this cell without modification\n",
    "\n",
    "def register_metadrive():\n",
    "    try:\n",
    "        from metadrive.envs import MetaDriveEnv\n",
    "        from metadrive.utils.config import merge_config_with_unknown_keys\n",
    "    except ImportError as e:\n",
    "        print(\"Please install MetaDrive through: pip install git+https://github.com/decisionforce/metadrive\")\n",
    "        raise e\n",
    "\n",
    "    env_names = []\n",
    "    try:\n",
    "        class MetaDriveEnvTut(gym.Wrapper):\n",
    "            def __init__(self, config, *args, render_mode=None, **kwargs):\n",
    "                # Ignore render_mode\n",
    "                self._render_mode = render_mode\n",
    "                super().__init__(MetaDriveEnv(config))\n",
    "                self.action_space = gym.spaces.Discrete(int(np.prod(self.env.action_space.n)))\n",
    "\n",
    "            def reset(self, *args, seed=None, render_mode=None, options=None, **kwargs):\n",
    "                # Ignore seed and render_mode\n",
    "                return self.env.reset(*args, **kwargs)\n",
    "\n",
    "            def render(self):\n",
    "                return self.env.render(mode=self._render_mode)\n",
    "\n",
    "        def _make_env(*args, **kwargs):\n",
    "            return MetaDriveEnvTut(*args, **kwargs)\n",
    "\n",
    "        env_name = \"MetaDrive-Tut-Easy-v0\"\n",
    "        gym.register(id=env_name, entry_point=_make_env, kwargs={\"config\": dict(\n",
    "            map=\"S\",\n",
    "            start_seed=0,\n",
    "            num_scenarios=1,\n",
    "            horizon=200,\n",
    "            discrete_action=True,\n",
    "            discrete_steering_dim=3,\n",
    "            discrete_throttle_dim=3\n",
    "        )})\n",
    "        env_names.append(env_name)\n",
    "\n",
    "        env_name = \"MetaDrive-Tut-Hard-v0\"\n",
    "        gym.register(id=env_name, entry_point=_make_env, kwargs={\"config\": dict(\n",
    "            map=\"CCC\",\n",
    "            start_seed=0,\n",
    "            num_scenarios=10,\n",
    "            discrete_action=True,\n",
    "            discrete_steering_dim=5,\n",
    "            discrete_throttle_dim=5\n",
    "        )})\n",
    "        env_names.append(env_name)\n",
    "    except gym.error.Error as e:\n",
    "        print(\"Information when registering MetaDrive: \", e)\n",
    "    else:\n",
    "        print(\"Successfully registered MetaDrive environments: \", env_names)\n"
   ]
  },
  {
   "cell_type": "code",
   "execution_count": 19,
   "id": "89fb5d1e",
   "metadata": {
    "colab": {
     "base_uri": "https://localhost:8080/"
    },
    "id": "89fb5d1e",
    "outputId": "2eb2cf53-138d-4143-b36c-eadbcfa11be7"
   },
   "outputs": [
    {
     "name": "stdout",
     "output_type": "stream",
     "text": [
      "Successfully registered MetaDrive environments:  ['MetaDrive-Tut-Easy-v0', 'MetaDrive-Tut-Hard-v0']\n"
     ]
    }
   ],
   "source": [
    "# Run this cell without modification\n",
    "\n",
    "register_metadrive()"
   ]
  },
  {
   "cell_type": "code",
   "execution_count": 20,
   "id": "b580ec99",
   "metadata": {
    "colab": {
     "base_uri": "https://localhost:8080/"
    },
    "id": "b580ec99",
    "outputId": "08cd25dc-2ed5-46b5-e2ed-3ecf86e61942"
   },
   "outputs": [
    {
     "name": "stderr",
     "output_type": "stream",
     "text": [
      "\u001B[38;20m[INFO] MetaDrive version: 0.4.1.2\u001B[0m\n",
      "\u001B[38;20m[INFO] Sensors: [lidar: Lidar(50,), side_detector: SideDetector(), lane_line_detector: LaneLineDetector()]\u001B[0m\n",
      "\u001B[38;20m[INFO] Render Mode: none\u001B[0m\n",
      "\u001B[38;20m[INFO] Assets version: 0.4.1.2\u001B[0m\n"
     ]
    },
    {
     "name": "stdout",
     "output_type": "stream",
     "text": [
      "Setting up self.network with obs dim: 259 and action dim: 9\n"
     ]
    },
    {
     "name": "stderr",
     "output_type": "stream",
     "text": [
      "\u001B[38;20m[INFO] Episode ended! Scenario Index: 0 Reason: max step \u001B[0m\n",
      "\u001B[38;20m[INFO] Episode ended! Scenario Index: 0 Reason: max step \u001B[0m\n",
      "\u001B[38;20m[INFO] Episode ended! Scenario Index: 0 Reason: max step \u001B[0m\n",
      "\u001B[38;20m[INFO] Episode ended! Scenario Index: 0 Reason: max step \u001B[0m\n",
      "\u001B[38;20m[INFO] Episode ended! Scenario Index: 0 Reason: max step \u001B[0m\n",
      "\u001B[38;20m[INFO] Episode ended! Scenario Index: 0 Reason: max step \u001B[0m\n",
      "\u001B[38;20m[INFO] Episode ended! Scenario Index: 0 Reason: max step \u001B[0m\n",
      "\u001B[38;20m[INFO] Episode ended! Scenario Index: 0 Reason: max step \u001B[0m\n",
      "\u001B[38;20m[INFO] Episode ended! Scenario Index: 0 Reason: max step \u001B[0m\n",
      "\u001B[38;20m[INFO] Episode ended! Scenario Index: 0 Reason: max step \u001B[0m\n"
     ]
    },
    {
     "name": "stdout",
     "output_type": "stream",
     "text": [
      "Now your codes should be bug-free.\n"
     ]
    }
   ],
   "source": [
    "# Run this cell without modification\n",
    "\n",
    "# Build the test trainer.\n",
    "test_trainer = DQNTrainer(dict(env_name=\"MetaDrive-Tut-Easy-v0\"))\n",
    "\n",
    "# Test compute_values\n",
    "for _ in range(10):\n",
    "    fake_state = test_trainer.env.observation_space.sample()\n",
    "    processed_state = test_trainer.process_state(fake_state)\n",
    "    assert processed_state.shape == (test_trainer.obs_dim,), processed_state.shape\n",
    "    values = test_trainer.compute_values(processed_state)\n",
    "    assert values.shape == (test_trainer.act_dim,), values.shape\n",
    "\n",
    "    test_trainer.train()\n",
    "\n",
    "print(\"Now your codes should be bug-free.\")\n",
    "test_trainer.env.close()\n",
    "del test_trainer"
   ]
  },
  {
   "cell_type": "code",
   "execution_count": 21,
   "id": "675c9809",
   "metadata": {
    "colab": {
     "base_uri": "https://localhost:8080/"
    },
    "id": "675c9809",
    "outputId": "a45d5773-fc88-464b-ad5c-10dcf94b599f"
   },
   "outputs": [
    {
     "name": "stdout",
     "output_type": "stream",
     "text": [
      "Setting up self.network with obs dim: 259 and action dim: 9\n"
     ]
    },
    {
     "name": "stderr",
     "output_type": "stream",
     "text": [
      "[INFO] Iter 0, Step 33, episodic return is -2.94. {'episode_len': 33.0, 'success_rate': 0.0}\n",
      "[INFO] Iter 10, Step 374, episodic return is -2.94. {'episode_len': 39.0, 'success_rate': 0.0}\n",
      "[INFO] Iter 20, Step 714, episodic return is -2.94. {'episode_len': 41.0, 'success_rate': 0.0}\n",
      "[INFO] Iter 30, Step 1044, episodic return is -2.94. {'episode_len': 30.0, 'success_rate': 0.0}\n",
      "[INFO] Iter 40, Step 1373, episodic return is -2.94. {'episode_len': 33.0, 'success_rate': 0.0}\n",
      "[INFO] Iter 50, Step 1686, episodic return is -2.94. {'episode_len': 30.0, 'success_rate': 0.0}\n",
      "[INFO] Iter 60, Step 2180, episodic return is -2.94. {'loss': 0.9693, 'episode_len': 30.0, 'success_rate': 0.0}\n",
      "[INFO] Iter 70, Step 3836, episodic return is -0.60. {'loss': 0.4764, 'episode_len': 199.0}\n",
      "[INFO] Iter 80, Step 5694, episodic return is 44.50. {'loss': 0.3146, 'episode_len': 67.0, 'success_rate': 0.0}\n",
      "[INFO] Iter 90, Step 6404, episodic return is 125.54. {'loss': 0.4341, 'episode_len': 44.0, 'success_rate': 0.0}\n",
      "[INFO] Iter 90, episodic return 125.539 is greater than reward threshold 120. Congratulation! Now we exit the training process.\n"
     ]
    },
    {
     "name": "stdout",
     "output_type": "stream",
     "text": [
      "Environment is closed.\n",
      "Evaluating 1/1 episodes. We are in 1/1000 steps. Current episode reward: 0.000\n",
      "Evaluating 1/1 episodes. We are in 51/1000 steps. Current episode reward: 35.980\n"
     ]
    },
    {
     "data": {
      "text/html": [
       "<table class=\"show_videos\" style=\"border-spacing:0px;\"><tr><td style=\"padding:1px;\"><video controls width=\"1000\" height=\"1000\" style=\"object-fit:cover;\" loop autoplay muted>\n",
       "      <source src=\"data:video/mp4;base64,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\" type=\"video/mp4\"/>\n",
       "      This browser does not support the video tag.\n",
       "      </video></td></tr></table>"
      ],
      "text/plain": [
       "<IPython.core.display.HTML object>"
      ]
     },
     "metadata": {},
     "output_type": "display_data"
    },
    {
     "name": "stdout",
     "output_type": "stream",
     "text": [
      "DQN agent achieves 125.53851204681443 return in MetaDrive easy environment.\n"
     ]
    }
   ],
   "source": [
    "# Run this cell without modification\n",
    "\n",
    "env_name = \"MetaDrive-Tut-Easy-v0\"\n",
    "\n",
    "pytorch_trainer2, _ = run(DQNTrainer, dict(\n",
    "    max_episode_length=200,\n",
    "    max_iteration=5000,\n",
    "    evaluate_interval=10,\n",
    "    evaluate_num_episodes=10,\n",
    "    learning_rate=0.0001,\n",
    "    clip_norm=10.0,\n",
    "    memory_size=1000000,\n",
    "    learn_start=2000,\n",
    "    eps=0.1,\n",
    "    target_update_freq=5000,\n",
    "    learn_freq=16,\n",
    "    batch_size=256,\n",
    "    env_name=env_name\n",
    "), reward_threshold=120)\n",
    "\n",
    "pytorch_trainer2.save(\"dqn_trainer_metadrive_easy.pt\")\n",
    "\n",
    "# Run this cell without modification\n",
    "\n",
    "# Render the learned behavior\n",
    "# NOTE: The learned agent is marked by green color.\n",
    "eval_reward, eval_info = evaluate(\n",
    "    policy=pytorch_trainer2.policy,\n",
    "    num_episodes=1,\n",
    "    env_name=pytorch_trainer2.env_name,\n",
    "    render=\"topdown\",  # Visualize the behaviors in top-down view\n",
    "    verbose=True\n",
    ")\n",
    "\n",
    "frames = [pygame.surfarray.array3d(f).swapaxes(0, 1) for f in eval_info[\"frames\"]]\n",
    "\n",
    "animate(frames)\n",
    "\n",
    "print(\"DQN agent achieves {} return in MetaDrive easy environment.\".format(eval_reward))"
   ]
  },
  {
   "cell_type": "markdown",
   "id": "2c86871e",
   "metadata": {},
   "source": [
    "## Section 4: Policy gradient methods - REINFORCE\n",
    "\n",
    "(30 / 100 points)\n",
    "\n",
    "Unlike the supervised learning, in RL the optimization objective, the episodic return, is not differentiable w.r.t. the neural network parameters. This can be solved via ***Policy Gradient***. It can be proved that policy gradient is an unbiased estimator of the gradient of the objective.\n",
    "\n",
    "Concretely, let's consider such optimization objective:\n",
    "\n",
    "$$Q = \\mathbb E_{\\text{possible trajectories}} \\sum_t r(a_t, s_t) = \\sum_{s_0, a_0,..} p(s_0, a_0, ..., s_t, a_t) r(s_0, a_0, ..., s_t, a_t) = \\sum_{\\tau} p(\\tau)r(\\tau)$$ \n",
    "\n",
    "wherein $\\sum_t r(a_t, s_t) = r(\\tau)$ is the return of trajectory $\\tau = (s_0, a_0, ...)$. We remove the discount factor for simplicity.\n",
    "Since we want to maximize Q, we can simply compute the gradient of Q w.r.t. parameter $\\theta$ (which is implictly included in $p(\\tau)$):\n",
    "\n",
    "$$\\nabla_\\theta Q = \\nabla_\\theta \\sum_{\\tau} p(\\tau)r(\\tau) = \\sum_{\\tau} r(\\tau) \\nabla_\\theta p(\\tau)$$\n",
    "\n",
    "wherein we've applied a famous trick: $\\nabla_\\theta p(\\tau) = p(\\tau)\\cfrac{\\nabla_\\theta p(\\tau)}{p(\\tau)} = p(\\tau)\\nabla_\\theta \\log p(\\tau)$. Here the $r(\\tau)$ will be determined when $\\tau$ is determined. So it has nothing to do with the policy. We can move it out from the gradient.\n",
    "\n",
    "Introducing a log term can change the product of probabilities to sum of log probabilities. Now we can expand the log of product above to sum of log:\n",
    "\n",
    "$$p_\\theta(\\tau) = p(s_0, a_0, ...) = p(s_0) \\prod_t \\pi_\\theta (a_t|s_t) p(s_{t+1}|s_t, a_t)$$\n",
    "\n",
    "$$\\log p_\\theta (\\tau) = \\log p(s_0) + \\sum_t \\log \\pi_\\theta(a_t|s_t) + \\sum_t \\log p(s_{t+1}|s_t, a_t)$$\n",
    "\n",
    "You can find that the first and third term are not correlated to the parameter of policy $\\pi_\\theta(\\cdot)$. So when we compute $\\nabla_\\theta Q$, we find \n",
    "\n",
    "$$\\nabla_\\theta Q =\n",
    "\\sum_{\\tau} r(\\tau) \\nabla_\\theta p(\\tau) =  \n",
    "\\sum_{\\tau} r(\\tau) p(\\tau)\\nabla_\\theta \\log p(\\tau) =\n",
    "\\sum p_\\theta(\\tau) ( \\sum_t  \\nabla_\\theta \\log \\pi_\\theta(a_t|s_t) ) r(\\tau) d\\tau$$\n",
    "\n",
    "When we sample sufficient amount of data from the environment, the above equation can be estimated via:\n",
    "\n",
    "$$\\nabla_\\theta Q =\\cfrac{1}{N}\\sum_{i=1}^N [( \\sum_t  \\nabla_\\theta \\log \\pi_\\theta(a_{i,t}|s_{i,t}) (\\sum_{t'=t} \\gamma^{t'-t} r(s_{i,t'}, a_{i,t'}) )]$$\n",
    "\n",
    "This algorithm is called REINFORCE algorithm, which is a Monte Carlo Policy Gradient algorithm with long history. In this section, we will implement the it using pytorch."
   ]
  },
  {
   "cell_type": "markdown",
   "id": "3f3f6bf3",
   "metadata": {},
   "source": [
    "The policy network is composed by two parts: \n",
    "\n",
    "1. A basic neural network serves as the function approximator. It output raw values parameterizing the action distribution given current observation. We will reuse PytorchModel here.\n",
    "2. A distribution layer builds upon the neural network to wrap the raw logits output from neural network to a distribution and provides API for sampling action and computing log probability."
   ]
  },
  {
   "cell_type": "markdown",
   "id": "20b067b5",
   "metadata": {},
   "source": [
    "### Section 4.1: Build REINFORCE"
   ]
  },
  {
   "cell_type": "code",
   "execution_count": 22,
   "id": "b49f2b98",
   "metadata": {},
   "outputs": [],
   "source": [
    "# Solve the TODOs and remove `pass`\n",
    "\n",
    "class PGNetwork(nn.Module):\n",
    "    def __init__(self, obs_dim, act_dim, hidden_units=128):\n",
    "        super(PGNetwork, self).__init__()\n",
    "        self.network = PytorchModel(obs_dim, act_dim, hidden_units)\n",
    "\n",
    "    def forward(self, obs):\n",
    "        logit = self.network(obs)\n",
    "\n",
    "        # TODO: Create an object of the class \"torch.distributions.Categorical\" \n",
    "        # Then sample an action from it.\n",
    "        probs = torch.softmax(logit, dim=-1)\n",
    "        action = torch.distributions.Categorical(probs).sample()\n",
    "\n",
    "        return action\n",
    "\n",
    "    def log_prob(self, obs, act):\n",
    "        logits = self.network(obs)\n",
    "        \n",
    "        # TODO: Create an object of the class \"torch.distributions.Categorical\" \n",
    "        # Then get the log probability of the action `act` in this distribution.\n",
    "        probs = torch.softmax(logits, dim=-1)\n",
    "        log_prob = torch.distributions.Categorical(probs).log_prob(act)\n",
    "\n",
    "        return log_prob\n",
    "\n",
    "# Note that we do not implement GaussianPolicy here. So we can't\n",
    "# apply our algorithm to the environment with continous action.\n"
   ]
  },
  {
   "cell_type": "code",
   "execution_count": 23,
   "id": "3d772f93",
   "metadata": {},
   "outputs": [],
   "source": [
    "# Solve the TODOs and remove `pass`\n",
    "\n",
    "PG_DEFAULT_CONFIG = merge_config(dict(\n",
    "    normalize_advantage=True,\n",
    "\n",
    "    clip_norm=10.0,\n",
    "    clip_gradient=True,\n",
    "\n",
    "    hidden_units=100,\n",
    "\n",
    "    max_iteration=1000,\n",
    "\n",
    "    train_batch_size=1000,\n",
    "    gamma=0.99,\n",
    "    learning_rate=0.001,\n",
    "\n",
    "    env_name=\"CartPole-v1\",\n",
    "\n",
    "), DEFAULT_CONFIG)\n",
    "\n",
    "\n",
    "class PGTrainer(AbstractTrainer):\n",
    "    def __init__(self, config=None):\n",
    "        config = merge_config(config, PG_DEFAULT_CONFIG)\n",
    "        super().__init__(config)\n",
    "\n",
    "        self.iteration = 0\n",
    "        self.start_time = time.time()\n",
    "        self.iteration_time = self.start_time\n",
    "        self.total_timesteps = 0\n",
    "        self.total_episodes = 0\n",
    "\n",
    "        # build the model\n",
    "        self.initialize_parameters()\n",
    "\n",
    "    def initialize_parameters(self):\n",
    "        \"\"\"Build the policy network and related optimizer\"\"\"\n",
    "        # Detect whether you have GPU or not. Remember to call X.to(self.device)\n",
    "        # if necessary.\n",
    "        self.device = torch.device(\n",
    "            \"cuda\" if torch.cuda.is_available() else \"cpu\"\n",
    "        )\n",
    "\n",
    "        # TODO Build the policy network using CategoricalPolicy\n",
    "        # Hint: Remember to pass config[\"hidden_units\"], and set policy network\n",
    "        #  to the device you are using.\n",
    "\n",
    "        self.network = PGNetwork(\n",
    "            self.obs_dim, self.act_dim,\n",
    "            hidden_units=self.config[\"hidden_units\"]\n",
    "        ).to(self.device)\n",
    "\n",
    "        # Build the Adam optimizer.\n",
    "        self.optimizer = torch.optim.Adam(\n",
    "            self.network.parameters(),\n",
    "            lr=self.config[\"learning_rate\"]\n",
    "        )\n",
    "\n",
    "    def to_tensor(self, array):\n",
    "        \"\"\"Transform a numpy array to a pytorch tensor\"\"\"\n",
    "        return torch.from_numpy(array).type(torch.float32).to(self.device)\n",
    "\n",
    "    def to_array(self, tensor):\n",
    "        \"\"\"Transform a pytorch tensor to a numpy array\"\"\"\n",
    "        ret = tensor.cpu().detach().numpy()\n",
    "        if ret.size == 1:\n",
    "            ret = ret.item()\n",
    "        return ret\n",
    "\n",
    "    def save(self, loc=\"model.pt\"):\n",
    "        torch.save(self.network.state_dict(), loc)\n",
    "\n",
    "    def load(self, loc=\"model.pt\"):\n",
    "        self.network.load_state_dict(torch.load(loc))\n",
    "\n",
    "    def compute_action(self, observation, eps=None):\n",
    "        \"\"\"Compute the action for single observation. eps is useless here.\"\"\"\n",
    "        assert observation.ndim == 1\n",
    "        # TODO: Sample an action from the action distribution given by the policy.\n",
    "        # Hint: The input of policy network is a tensor with the first dimension to the \n",
    "        #  batch dimension. Therefore you need to expand the first dimension of the observation\n",
    "        #  and converte it to a tensor before feeding it to the policy network.\n",
    "        obs = self.to_tensor(observation)\n",
    "        action = self.network(obs).item()\n",
    "        return action\n",
    "\n",
    "    def compute_log_probs(self, observation, action):\n",
    "        \"\"\"Compute the log probabilities of a batch of state-action pair\"\"\"\n",
    "        # TODO: Use the function of the policy network to get log probs.\n",
    "        # Hint: Remember to transform the data into tensor before feeding it into the network.\n",
    "        obs = self.to_tensor(observation)\n",
    "        act = self.to_tensor(action)\n",
    "        log_probs = self.network.log_prob(obs, act)\n",
    "        return log_probs\n",
    "\n",
    "    def update_network(self, processed_samples):\n",
    "        \"\"\"Update the policy network\"\"\"\n",
    "        advantages = self.to_tensor(processed_samples[\"advantages\"])\n",
    "        flat_obs = np.concatenate(processed_samples[\"obs\"])\n",
    "        flat_act = np.concatenate(processed_samples[\"act\"])\n",
    "\n",
    "        self.network.train()\n",
    "        self.optimizer.zero_grad()\n",
    "\n",
    "        log_probs = self.compute_log_probs(flat_obs, flat_act)\n",
    "\n",
    "        assert log_probs.shape == advantages.shape, \"log_probs shape {} is not \" \\\n",
    "                                                    \"compatible with advantages {}\".format(log_probs.shape,\n",
    "                                                                                           advantages.shape)\n",
    "\n",
    "        # TODO: Compute the policy gradient loss.\n",
    "        loss = -torch.mean(log_probs * advantages)\n",
    "\n",
    "        loss.backward()\n",
    "\n",
    "        # Clip the gradient\n",
    "        torch.nn.utils.clip_grad_norm_(\n",
    "            self.network.parameters(), self.config[\"clip_gradient\"]\n",
    "        )\n",
    "\n",
    "        self.optimizer.step()\n",
    "        self.network.eval()\n",
    "\n",
    "        update_info = {\n",
    "            \"policy_loss\": loss.item(),\n",
    "            \"mean_log_prob\": torch.mean(log_probs).item(),\n",
    "            \"mean_advantage\": torch.mean(advantages).item()\n",
    "        }\n",
    "        return update_info\n",
    "\n",
    "    # ===== Training-related functions =====\n",
    "    def collect_samples(self):\n",
    "        \"\"\"Here we define the pipeline to collect sample even though\n",
    "        any specify functions are not implemented yet.\n",
    "        \"\"\"\n",
    "        iter_timesteps = 0\n",
    "        iter_episodes = 0\n",
    "        episode_lens = []\n",
    "        episode_rewards = []\n",
    "        episode_obs_list = []\n",
    "        episode_act_list = []\n",
    "        episode_reward_list = []\n",
    "        success_list = []\n",
    "        while iter_timesteps <= self.config[\"train_batch_size\"]:\n",
    "            obs_list, act_list, reward_list = [], [], []\n",
    "            obs, info = self.env.reset()\n",
    "            steps = 0\n",
    "            episode_reward = 0\n",
    "            while True:\n",
    "                act = self.compute_action(obs)\n",
    "\n",
    "                next_obs, reward, terminated, truncated, step_info = self.env.step(act)\n",
    "                done = terminated or truncated\n",
    "\n",
    "                obs_list.append(obs)\n",
    "                act_list.append(act)\n",
    "                reward_list.append(reward)\n",
    "\n",
    "                obs = next_obs.copy()\n",
    "                steps += 1\n",
    "                episode_reward += reward\n",
    "                if done or steps > self.config[\"max_episode_length\"]:\n",
    "                    if \"arrive_dest\" in step_info:\n",
    "                        success_list.append(step_info[\"arrive_dest\"])\n",
    "                    break\n",
    "            iter_timesteps += steps\n",
    "            iter_episodes += 1\n",
    "            episode_rewards.append(episode_reward)\n",
    "            episode_lens.append(steps)\n",
    "            episode_obs_list.append(np.array(obs_list, dtype=np.float32))\n",
    "            episode_act_list.append(np.array(act_list, dtype=np.float32))\n",
    "            episode_reward_list.append(np.array(reward_list, dtype=np.float32))\n",
    "\n",
    "        # The return `samples` is a dict that contains several key-value pair.\n",
    "        # The value of each key-value pair is a list storing the data in one episode.\n",
    "        samples = {\n",
    "            \"obs\": episode_obs_list,\n",
    "            \"act\": episode_act_list,\n",
    "            \"reward\": episode_reward_list\n",
    "        }\n",
    "\n",
    "        sample_info = {\n",
    "            \"iter_timesteps\": iter_timesteps,\n",
    "            \"iter_episodes\": iter_episodes,\n",
    "            \"performance\": np.mean(episode_rewards),  # help drawing figures\n",
    "            \"ep_len\": float(np.mean(episode_lens)),\n",
    "            \"ep_ret\": float(np.mean(episode_rewards)),\n",
    "            \"episode_len\": sum(episode_lens),\n",
    "            \"success_rate\": np.mean(success_list)\n",
    "        }\n",
    "        return samples, sample_info\n",
    "\n",
    "    def process_samples(self, samples):\n",
    "        \"\"\"Process samples and add advantages in it\"\"\"\n",
    "        values = []\n",
    "        for reward_list in samples[\"reward\"]:\n",
    "            # reward_list contains rewards in one episode\n",
    "            returns = np.zeros_like(reward_list, dtype=np.float32)\n",
    "            Q = 0\n",
    "\n",
    "            # TODO: Scan the reward_list in a reverse order and compute the\n",
    "            # discounted return at each time step. Fill the array `returns`\n",
    "            for i in reversed(range(len(reward_list))):\n",
    "                Q = reward_list[i] + self.config[\"gamma\"] * Q\n",
    "                returns[i] = Q\n",
    "                \n",
    "\n",
    "            values.append(returns)\n",
    "\n",
    "        # We call the values advantage here.\n",
    "        advantages = np.concatenate(values)\n",
    "\n",
    "        if self.config[\"normalize_advantage\"]:\n",
    "            # TODO: normalize the advantage so that it's mean is\n",
    "            # almost 0 and the its standard deviation is almost 1.\n",
    "            advantages = (advantages - np.mean(advantages)) / (np.std(advantages) + 1e-8)\n",
    "\n",
    "        samples[\"advantages\"] = advantages\n",
    "        return samples, {}\n",
    "\n",
    "    # ===== Training iteration =====\n",
    "    def train(self, iteration=None):\n",
    "        \"\"\"Here we defined the training pipeline using the abstract\n",
    "        functions.\"\"\"\n",
    "        info = dict(iteration=iteration)\n",
    "\n",
    "        # Collect samples\n",
    "        samples, sample_info = self.collect_samples()\n",
    "        info.update(sample_info)\n",
    "\n",
    "        # Process samples\n",
    "        processed_samples, processed_info = self.process_samples(samples)\n",
    "        info.update(processed_info)\n",
    "\n",
    "        # Update the model\n",
    "        update_info = self.update_network(processed_samples)\n",
    "        info.update(update_info)\n",
    "\n",
    "        now = time.time()\n",
    "        self.iteration += 1\n",
    "        self.total_timesteps += info.pop(\"iter_timesteps\")\n",
    "        self.total_episodes += info.pop(\"iter_episodes\")\n",
    "\n",
    "        # info[\"iter_time\"] = now - self.iteration_time\n",
    "        # info[\"total_time\"] = now - self.start_time\n",
    "        info[\"total_episodes\"] = self.total_episodes\n",
    "        info[\"total_timesteps\"] = self.total_timesteps\n",
    "        self.iteration_time = now\n",
    "\n",
    "        # print(\"INFO: \", info)\n",
    "\n",
    "        return info\n"
   ]
  },
  {
   "cell_type": "markdown",
   "id": "1009bfc7",
   "metadata": {},
   "source": [
    "### Section 4.2: Test REINFORCE"
   ]
  },
  {
   "cell_type": "code",
   "execution_count": 24,
   "id": "4fe25068",
   "metadata": {},
   "outputs": [
    {
     "name": "stdout",
     "output_type": "stream",
     "text": [
      "Test Passed!\n"
     ]
    }
   ],
   "source": [
    "# Run this cell without modification\n",
    "\n",
    "# Test advantage computing\n",
    "test_trainer = PGTrainer({\"normalize_advantage\": False})\n",
    "test_trainer.train()\n",
    "fake_sample = {\"reward\": [[2, 2, 2, 2, 2]]}\n",
    "np.testing.assert_almost_equal(\n",
    "    test_trainer.process_samples(fake_sample)[0][\"reward\"][0],\n",
    "    fake_sample[\"reward\"][0]\n",
    ")\n",
    "np.testing.assert_almost_equal(\n",
    "    test_trainer.process_samples(fake_sample)[0][\"advantages\"],\n",
    "    np.array([9.80199, 7.880798, 5.9402, 3.98, 2.], dtype=np.float32)\n",
    ")\n",
    "\n",
    "# Test advantage normalization\n",
    "test_trainer = PGTrainer(\n",
    "    {\"normalize_advantage\": True, \"env_name\": \"CartPole-v1\"})\n",
    "test_adv = test_trainer.process_samples(fake_sample)[0][\"advantages\"]\n",
    "np.testing.assert_almost_equal(test_adv.mean(), 0.0)\n",
    "np.testing.assert_almost_equal(test_adv.std(), 1.0)\n",
    "\n",
    "# Test the shape of functions' returns\n",
    "fake_observation = np.array([\n",
    "    test_trainer.env.observation_space.sample() for i in range(10)\n",
    "])\n",
    "fake_action = np.array([\n",
    "    test_trainer.env.action_space.sample() for i in range(10)\n",
    "])\n",
    "assert test_trainer.to_tensor(fake_observation).shape == torch.Size([10, 4])\n",
    "assert np.array(test_trainer.compute_action(fake_observation[0])).shape == ()\n",
    "assert test_trainer.compute_log_probs(fake_observation, fake_action).shape == \\\n",
    "       torch.Size([10])\n",
    "\n",
    "print(\"Test Passed!\")\n"
   ]
  },
  {
   "cell_type": "markdown",
   "id": "18bee50d",
   "metadata": {},
   "source": [
    "### Section 4.3: Train REINFORCE in CartPole and see the impact of advantage normalization"
   ]
  },
  {
   "cell_type": "code",
   "execution_count": 25,
   "id": "17b6095d",
   "metadata": {},
   "outputs": [
    {
     "name": "stderr",
     "output_type": "stream",
     "text": [
      "[INFO] Iter 0, Step 234, episodic return is 23.30. {'iteration': 0.0, 'performance': 33.4286, 'ep_len': 33.4286, 'ep_ret': 33.4286, 'episode_len': 234.0, 'policy_loss': 16.6423, 'mean_log_prob': -0.6958, 'mean_advantage': 23.956, 'total_episodes': 7.0, 'total_timesteps': 234.0}\n",
      "[INFO] Iter 10, Step 2491, episodic return is 31.60. {'iteration': 10.0, 'performance': 46.0, 'ep_len': 46.0, 'ep_ret': 46.0, 'episode_len': 276.0, 'policy_loss': 16.576, 'mean_log_prob': -0.6865, 'mean_advantage': 24.6634, 'total_episodes': 94.0, 'total_timesteps': 2491.0}\n",
      "[INFO] Iter 20, Step 4609, episodic return is 43.70. {'iteration': 20.0, 'performance': 34.7143, 'ep_len': 34.7143, 'ep_ret': 34.7143, 'episode_len': 243.0, 'policy_loss': 12.532, 'mean_log_prob': -0.6783, 'mean_advantage': 19.1996, 'total_episodes': 159.0, 'total_timesteps': 4609.0}\n",
      "[INFO] Iter 30, Step 7061, episodic return is 54.60. {'iteration': 30.0, 'performance': 46.2, 'ep_len': 46.2, 'ep_ret': 46.2, 'episode_len': 231.0, 'policy_loss': 14.2388, 'mean_log_prob': -0.6335, 'mean_advantage': 22.7688, 'total_episodes': 212.0, 'total_timesteps': 7061.0}\n",
      "[INFO] Iter 40, Step 9501, episodic return is 60.20. {'iteration': 40.0, 'performance': 42.1667, 'ep_len': 42.1667, 'ep_ret': 42.1667, 'episode_len': 253.0, 'policy_loss': 13.9294, 'mean_log_prob': -0.6309, 'mean_advantage': 22.0178, 'total_episodes': 266.0, 'total_timesteps': 9501.0}\n",
      "[INFO] Iter 50, Step 11906, episodic return is 74.20. {'iteration': 50.0, 'performance': 70.0, 'ep_len': 70.0, 'ep_ret': 70.0, 'episode_len': 210.0, 'policy_loss': 18.9158, 'mean_log_prob': -0.6122, 'mean_advantage': 30.1027, 'total_episodes': 307.0, 'total_timesteps': 11906.0}\n",
      "[INFO] Iter 60, Step 14558, episodic return is 90.70. {'iteration': 60.0, 'performance': 182.5, 'ep_len': 182.5, 'ep_ret': 182.5, 'episode_len': 365.0, 'policy_loss': 32.4824, 'mean_log_prob': -0.5986, 'mean_advantage': 54.5692, 'total_episodes': 334.0, 'total_timesteps': 14558.0}\n",
      "[INFO] Iter 70, Step 17165, episodic return is 114.30. {'iteration': 70.0, 'performance': 92.6667, 'ep_len': 92.6667, 'ep_ret': 92.6667, 'episode_len': 278.0, 'policy_loss': 24.8693, 'mean_log_prob': -0.6183, 'mean_advantage': 41.4877, 'total_episodes': 365.0, 'total_timesteps': 17165.0}\n",
      "[INFO] Iter 80, Step 19830, episodic return is 139.40. {'iteration': 80.0, 'performance': 155.5, 'ep_len': 155.5, 'ep_ret': 155.5, 'episode_len': 311.0, 'policy_loss': 29.4621, 'mean_log_prob': -0.598, 'mean_advantage': 49.9877, 'total_episodes': 386.0, 'total_timesteps': 19830.0}\n",
      "[INFO] Iter 90, Step 22365, episodic return is 152.30. {'iteration': 90.0, 'performance': 201.0, 'ep_len': 201.0, 'ep_ret': 201.0, 'episode_len': 201.0, 'policy_loss': 34.6966, 'mean_log_prob': -0.614, 'mean_advantage': 57.2793, 'total_episodes': 401.0, 'total_timesteps': 22365.0}\n",
      "[INFO] Iter 100, Step 25212, episodic return is 179.30. {'iteration': 100.0, 'performance': 146.5, 'ep_len': 146.5, 'ep_ret': 146.5, 'episode_len': 293.0, 'policy_loss': 26.8928, 'mean_log_prob': -0.5761, 'mean_advantage': 47.9242, 'total_episodes': 417.0, 'total_timesteps': 25212.0}\n",
      "[INFO] Iter 110, Step 27920, episodic return is 138.20. {'iteration': 110.0, 'performance': 151.5, 'ep_len': 151.5, 'ep_ret': 151.5, 'episode_len': 303.0, 'policy_loss': 27.9485, 'mean_log_prob': -0.5837, 'mean_advantage': 48.9082, 'total_episodes': 433.0, 'total_timesteps': 27920.0}\n",
      "[INFO] Iter 120, Step 30704, episodic return is 179.40. {'iteration': 120.0, 'performance': 201.0, 'ep_len': 201.0, 'ep_ret': 201.0, 'episode_len': 201.0, 'policy_loss': 33.1936, 'mean_log_prob': -0.5689, 'mean_advantage': 57.2793, 'total_episodes': 450.0, 'total_timesteps': 30704.0}\n",
      "[INFO] Iter 130, Step 32777, episodic return is 190.80. {'iteration': 130.0, 'performance': 201.0, 'ep_len': 201.0, 'ep_ret': 201.0, 'episode_len': 201.0, 'policy_loss': 31.4963, 'mean_log_prob': -0.5415, 'mean_advantage': 57.2793, 'total_episodes': 463.0, 'total_timesteps': 32777.0}\n",
      "[INFO] Iter 140, Step 35280, episodic return is 181.20. {'iteration': 140.0, 'performance': 201.0, 'ep_len': 201.0, 'ep_ret': 201.0, 'episode_len': 201.0, 'policy_loss': 31.046, 'mean_log_prob': -0.5425, 'mean_advantage': 57.2793, 'total_episodes': 476.0, 'total_timesteps': 35280.0}\n",
      "[INFO] Iter 150, Step 38028, episodic return is 184.70. {'iteration': 150.0, 'performance': 201.0, 'ep_len': 201.0, 'ep_ret': 201.0, 'episode_len': 201.0, 'policy_loss': 30.8973, 'mean_log_prob': -0.5555, 'mean_advantage': 57.2793, 'total_episodes': 493.0, 'total_timesteps': 38028.0}\n",
      "[INFO] Iter 160, Step 40971, episodic return is 166.70. {'iteration': 160.0, 'performance': 176.0, 'ep_len': 176.0, 'ep_ret': 176.0, 'episode_len': 352.0, 'policy_loss': 27.5452, 'mean_log_prob': -0.5214, 'mean_advantage': 53.6226, 'total_episodes': 510.0, 'total_timesteps': 40971.0}\n",
      "[INFO] Iter 170, Step 43591, episodic return is 196.90. {'iteration': 170.0, 'performance': 194.0, 'ep_len': 194.0, 'ep_ret': 194.0, 'episode_len': 388.0, 'policy_loss': 30.6294, 'mean_log_prob': -0.546, 'mean_advantage': 56.2491, 'total_episodes': 524.0, 'total_timesteps': 43591.0}\n",
      "[INFO] Iter 170, episodic return 196.900 is greater than reward threshold 195.0. Congratulation! Now we exit the training process.\n"
     ]
    },
    {
     "name": "stdout",
     "output_type": "stream",
     "text": [
      "Environment is closed.\n"
     ]
    }
   ],
   "source": [
    "# Run this cell without modification\n",
    "\n",
    "pg_trainer_no_na, pg_result_no_na = run(PGTrainer, dict(\n",
    "    learning_rate=0.001,\n",
    "    max_episode_length=200,\n",
    "    train_batch_size=200,\n",
    "    env_name=\"CartPole-v1\",\n",
    "    normalize_advantage=False,  # <<== Here!\n",
    "\n",
    "    evaluate_interval=10,\n",
    "    evaluate_num_episodes=10,\n",
    "), 195.0)\n"
   ]
  },
  {
   "cell_type": "code",
   "execution_count": 26,
   "id": "5f75805b",
   "metadata": {},
   "outputs": [
    {
     "name": "stderr",
     "output_type": "stream",
     "text": [
      "[INFO] Iter 0, Step 249, episodic return is 24.40. {'iteration': 0.0, 'performance': 24.9, 'ep_len': 24.9, 'ep_ret': 24.9, 'episode_len': 249.0, 'policy_loss': -0.0004, 'mean_log_prob': -0.6931, 'mean_advantage': 0.0, 'total_episodes': 10.0, 'total_timesteps': 249.0}\n",
      "[INFO] Iter 10, Step 2440, episodic return is 26.80. {'iteration': 10.0, 'performance': 27.75, 'ep_len': 27.75, 'ep_ret': 27.75, 'episode_len': 222.0, 'policy_loss': -0.0163, 'mean_log_prob': -0.679, 'mean_advantage': -0.0, 'total_episodes': 97.0, 'total_timesteps': 2440.0}\n",
      "[INFO] Iter 20, Step 4618, episodic return is 42.30. {'iteration': 20.0, 'performance': 41.8, 'ep_len': 41.8, 'ep_ret': 41.8, 'episode_len': 209.0, 'policy_loss': -0.0427, 'mean_log_prob': -0.6715, 'mean_advantage': 0.0, 'total_episodes': 165.0, 'total_timesteps': 4618.0}\n",
      "[INFO] Iter 30, Step 7027, episodic return is 40.70. {'iteration': 30.0, 'performance': 59.4, 'ep_len': 59.4, 'ep_ret': 59.4, 'episode_len': 297.0, 'policy_loss': -0.0138, 'mean_log_prob': -0.6326, 'mean_advantage': 0.0, 'total_episodes': 220.0, 'total_timesteps': 7027.0}\n",
      "[INFO] Iter 40, Step 9246, episodic return is 79.40. {'iteration': 40.0, 'performance': 52.75, 'ep_len': 52.75, 'ep_ret': 52.75, 'episode_len': 211.0, 'policy_loss': -0.0245, 'mean_log_prob': -0.6219, 'mean_advantage': -0.0, 'total_episodes': 255.0, 'total_timesteps': 9246.0}\n",
      "[INFO] Iter 50, Step 11656, episodic return is 99.50. {'iteration': 50.0, 'performance': 162.5, 'ep_len': 162.5, 'ep_ret': 162.5, 'episode_len': 325.0, 'policy_loss': -0.0126, 'mean_log_prob': -0.6004, 'mean_advantage': -0.0, 'total_episodes': 286.0, 'total_timesteps': 11656.0}\n",
      "[INFO] Iter 60, Step 13980, episodic return is 170.30. {'iteration': 60.0, 'performance': 201.0, 'ep_len': 201.0, 'ep_ret': 201.0, 'episode_len': 201.0, 'policy_loss': -0.0216, 'mean_log_prob': -0.5798, 'mean_advantage': -0.0, 'total_episodes': 309.0, 'total_timesteps': 13980.0}\n",
      "[INFO] Iter 70, Step 16810, episodic return is 173.80. {'iteration': 70.0, 'performance': 201.0, 'ep_len': 201.0, 'ep_ret': 201.0, 'episode_len': 201.0, 'policy_loss': 0.0171, 'mean_log_prob': -0.5747, 'mean_advantage': -0.0, 'total_episodes': 328.0, 'total_timesteps': 16810.0}\n",
      "[INFO] Iter 80, Step 19435, episodic return is 176.50. {'iteration': 80.0, 'performance': 108.0, 'ep_len': 108.0, 'ep_ret': 108.0, 'episode_len': 216.0, 'policy_loss': -0.0479, 'mean_log_prob': -0.5908, 'mean_advantage': 0.0, 'total_episodes': 346.0, 'total_timesteps': 19435.0}\n",
      "[INFO] Iter 90, Step 22105, episodic return is 185.20. {'iteration': 90.0, 'performance': 201.0, 'ep_len': 201.0, 'ep_ret': 201.0, 'episode_len': 201.0, 'policy_loss': -0.0103, 'mean_log_prob': -0.5565, 'mean_advantage': -0.0, 'total_episodes': 362.0, 'total_timesteps': 22105.0}\n",
      "[INFO] Iter 100, Step 24757, episodic return is 174.90. {'iteration': 100.0, 'performance': 179.0, 'ep_len': 179.0, 'ep_ret': 179.0, 'episode_len': 358.0, 'policy_loss': -0.0043, 'mean_log_prob': -0.5558, 'mean_advantage': -0.0, 'total_episodes': 376.0, 'total_timesteps': 24757.0}\n",
      "[INFO] Iter 110, Step 27187, episodic return is 182.50. {'iteration': 110.0, 'performance': 201.0, 'ep_len': 201.0, 'ep_ret': 201.0, 'episode_len': 201.0, 'policy_loss': -0.0038, 'mean_log_prob': -0.5589, 'mean_advantage': -0.0, 'total_episodes': 389.0, 'total_timesteps': 27187.0}\n",
      "[INFO] Iter 120, Step 29565, episodic return is 191.20. {'iteration': 120.0, 'performance': 201.0, 'ep_len': 201.0, 'ep_ret': 201.0, 'episode_len': 201.0, 'policy_loss': -0.0231, 'mean_log_prob': -0.5754, 'mean_advantage': -0.0, 'total_episodes': 401.0, 'total_timesteps': 29565.0}\n",
      "[INFO] Iter 130, Step 32030, episodic return is 191.90. {'iteration': 130.0, 'performance': 201.0, 'ep_len': 201.0, 'ep_ret': 201.0, 'episode_len': 201.0, 'policy_loss': -0.0113, 'mean_log_prob': -0.567, 'mean_advantage': -0.0, 'total_episodes': 414.0, 'total_timesteps': 32030.0}\n",
      "[INFO] Iter 140, Step 34460, episodic return is 194.90. {'iteration': 140.0, 'performance': 175.5, 'ep_len': 175.5, 'ep_ret': 175.5, 'episode_len': 351.0, 'policy_loss': -0.0014, 'mean_log_prob': -0.5572, 'mean_advantage': -0.0, 'total_episodes': 427.0, 'total_timesteps': 34460.0}\n",
      "[INFO] Iter 150, Step 36826, episodic return is 197.70. {'iteration': 150.0, 'performance': 201.0, 'ep_len': 201.0, 'ep_ret': 201.0, 'episode_len': 201.0, 'policy_loss': 0.0059, 'mean_log_prob': -0.5634, 'mean_advantage': -0.0, 'total_episodes': 439.0, 'total_timesteps': 36826.0}\n",
      "[INFO] Iter 150, episodic return 197.700 is greater than reward threshold 195.0. Congratulation! Now we exit the training process.\n"
     ]
    },
    {
     "name": "stdout",
     "output_type": "stream",
     "text": [
      "Environment is closed.\n"
     ]
    }
   ],
   "source": [
    "# Run this cell without modification\n",
    "\n",
    "pg_trainer_with_na, pg_result_with_na = run(PGTrainer, dict(\n",
    "    learning_rate=0.001,\n",
    "    max_episode_length=200,\n",
    "    train_batch_size=200,\n",
    "    env_name=\"CartPole-v1\",\n",
    "    normalize_advantage=True,  # <<== Here!\n",
    "\n",
    "    evaluate_interval=10,\n",
    "    evaluate_num_episodes=10,\n",
    "), 195.0)\n"
   ]
  },
  {
   "cell_type": "code",
   "execution_count": 27,
   "id": "10fb3d38",
   "metadata": {},
   "outputs": [
    {
     "data": {
      "text/plain": [
       "Text(0.5, 1.0, 'Policy Gradient: Advantage normalization matters!')"
      ]
     },
     "execution_count": 27,
     "metadata": {},
     "output_type": "execute_result"
    },
    {
     "data": {
      "image/png": "[encoded data removed]",
      "text/plain": [
       "<Figure size 640x480 with 1 Axes>"
      ]
     },
     "metadata": {},
     "output_type": "display_data"
    }
   ],
   "source": [
    "# Run this cell without modification\n",
    "\n",
    "pg_result_no_na_df = pd.DataFrame(pg_result_no_na)\n",
    "pg_result_with_na_df = pd.DataFrame(pg_result_with_na)\n",
    "pg_result_no_na_df[\"normalize_advantage\"] = False\n",
    "pg_result_with_na_df[\"normalize_advantage\"] = True\n",
    "\n",
    "ax = sns.lineplot(\n",
    "    x=\"total_timesteps\",\n",
    "    y=\"performance\",\n",
    "    data=pd.concat([pg_result_no_na_df, pg_result_with_na_df]).reset_index(), hue=\"normalize_advantage\",\n",
    ")\n",
    "ax.set_title(\"Policy Gradient: Advantage normalization matters!\")"
   ]
  },
  {
   "cell_type": "markdown",
   "id": "95a0d7cc",
   "metadata": {},
   "source": [
    "### Section 4.4: Train REINFORCE in MetaDrive-Easy"
   ]
  },
  {
   "cell_type": "code",
   "execution_count": 28,
   "id": "1d06a73d",
   "metadata": {
    "scrolled": false
   },
   "outputs": [
    {
     "name": "stderr",
     "output_type": "stream",
     "text": [
      "[INFO] Iter 0, Step 2010, episodic return is 3.16. {'iteration': 0.0, 'performance': 2.8508, 'ep_len': 201.0, 'ep_ret': 2.8508, 'episode_len': 2010.0, 'success_rate': 0.0, 'policy_loss': -0.0043, 'mean_log_prob': -2.189, 'mean_advantage': -0.0, 'total_episodes': 10.0, 'total_timesteps': 2010.0}\n",
      "[INFO] Iter 10, Step 22704, episodic return is 11.11. {'iteration': 10.0, 'performance': 10.6484, 'ep_len': 150.0, 'ep_ret': 10.6484, 'episode_len': 2100.0, 'success_rate': 0.0, 'policy_loss': -0.0073, 'mean_log_prob': -1.6761, 'mean_advantage': -0.0, 'total_episodes': 123.0, 'total_timesteps': 22704.0}\n",
      "[INFO] Iter 20, Step 43287, episodic return is 73.26. {'iteration': 20.0, 'performance': 78.338, 'ep_len': 78.6538, 'ep_ret': 78.338, 'episode_len': 2045.0, 'success_rate': 0.2692, 'policy_loss': -0.0292, 'mean_log_prob': -0.3009, 'mean_advantage': 0.0, 'total_episodes': 356.0, 'total_timesteps': 43287.0}\n",
      "[INFO] Iter 30, Step 63748, episodic return is 125.54. {'iteration': 30.0, 'performance': 121.4326, 'ep_len': 90.3043, 'ep_ret': 121.4326, 'episode_len': 2077.0, 'success_rate': 0.9565, 'policy_loss': -0.009, 'mean_log_prob': -0.0052, 'mean_advantage': 0.0, 'total_episodes': 591.0, 'total_timesteps': 63748.0}\n",
      "[INFO] Iter 30, episodic return 125.539 is greater than reward threshold 120. Congratulation! Now we exit the training process.\n"
     ]
    },
    {
     "name": "stdout",
     "output_type": "stream",
     "text": [
      "Environment is closed.\n"
     ]
    }
   ],
   "source": [
    "# Run this cell without modification\n",
    "\n",
    "env_name = \"MetaDrive-Tut-Easy-v0\"\n",
    "\n",
    "pg_trainer_metadrive_easy, pg_trainer_metadrive_easy_result = run(PGTrainer, dict(\n",
    "    train_batch_size=2000,\n",
    "    normalize_advantage=True,\n",
    "    max_episode_length=200,\n",
    "    max_iteration=5000,\n",
    "    evaluate_interval=10,\n",
    "    evaluate_num_episodes=10,\n",
    "    learning_rate=0.001,\n",
    "    clip_norm=10.0,\n",
    "    env_name=env_name\n",
    "), reward_threshold=120)\n",
    "\n",
    "pg_trainer_metadrive_easy.save(\"pg_trainer_metadrive_easy.pt\")"
   ]
  },
  {
   "cell_type": "code",
   "execution_count": 29,
   "id": "5b650945",
   "metadata": {},
   "outputs": [
    {
     "name": "stdout",
     "output_type": "stream",
     "text": [
      "Evaluating 1/1 episodes. We are in 1/1000 steps. Current episode reward: 0.000\n",
      "Evaluating 1/1 episodes. We are in 51/1000 steps. Current episode reward: 35.980\n"
     ]
    },
    {
     "data": {
      "text/html": [
       "<table class=\"show_videos\" style=\"border-spacing:0px;\"><tr><td style=\"padding:1px;\"><video controls width=\"1000\" height=\"1000\" style=\"object-fit:cover;\" loop autoplay muted>\n",
       "      <source src=\"data:video/mp4;base64,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\" type=\"video/mp4\"/>\n",
       "      This browser does not support the video tag.\n",
       "      </video></td></tr></table>"
      ],
      "text/plain": [
       "<IPython.core.display.HTML object>"
      ]
     },
     "metadata": {},
     "output_type": "display_data"
    },
    {
     "name": "stdout",
     "output_type": "stream",
     "text": [
      "REINFORCE agent achieves 125.53851204681443 return in MetaDrive easy environment.\n"
     ]
    }
   ],
   "source": [
    "# Run this cell without modification\n",
    "\n",
    "# Render the learned behavior\n",
    "# NOTE: The learned agent is marked by green color.\n",
    "eval_reward, eval_info = evaluate(\n",
    "    policy=pg_trainer_metadrive_easy.policy,\n",
    "    num_episodes=1,\n",
    "    env_name=pg_trainer_metadrive_easy.env_name,\n",
    "    render=\"topdown\",  # Visualize the behaviors in top-down view\n",
    "    verbose=True\n",
    ")\n",
    "\n",
    "frames = [pygame.surfarray.array3d(f).swapaxes(0, 1) for f in eval_info[\"frames\"]]\n",
    "\n",
    "animate(frames)\n",
    "\n",
    "print(\"REINFORCE agent achieves {} return in MetaDrive easy environment.\".format(eval_reward))"
   ]
  },
  {
   "cell_type": "markdown",
   "id": "fcc0bcd0",
   "metadata": {},
   "source": [
    "## Section 5: Policy gradient with baseline\n",
    "\n",
    "(20 / 100 points)\n",
    "\n",
    "We compute the gradient of $Q = \\mathop{\\mathbb E} \\sum_t r(a_t, s_t)$ w.r.t. the parameter to update the policy. Let's consider this case: when you take a so-so action that lead to positive expected return, the policy gradient is also positive and you will update your network toward this action. At the same time a potential better action is ignored.\n",
    "\n",
    "To tackle this problem, we introduce the \"baseline\" when computing the policy gradient. The insight behind this is that we want to optimize the policy toward an action that are better than the \"average action\".\n",
    "\n",
    "We introduce $b_{t} = \\mathbb E_{a_t} \\sum_{t'}{\\gamma^{t'-t} r(s_{t'}, a_{t'})}$ as the baseline. It average the expected discount return of all possible actions at state $s_t$. So that the \"advantage\" achieved by action $a_t$ can be evaluated via $\\sum_{t'=t} \\gamma^{t' -t}r(a_{t'}, s_{t'}) - b_t$\n",
    "\n",
    "Therefore, the policy gradient becomes:\n",
    "\n",
    "$$\\nabla_\\theta Q =\\cfrac{1}{N}\\sum_{i=1}^N [( \\sum_t  \\nabla_\\theta \\log \\pi_\\theta(a_{i,t}|s_{i,t}) (\\sum_{t'} \\gamma^{t'-t} r(s_{i,{t’}}, a_{i,t‘}) - b_{i, t})]$$\n",
    "\n",
    "In our implementation, we estimate the baseline via an extra network `self.baseline`, which has same structure of policy network but output only a scalar value. We use the output of this network to serve as the baseline, while this network is updated by fitting the true value of expected return of current state: $\\mathbb E_{a_t} \\sum_{t'}{\\gamma^{t'-t} r(s_{t'}, a_{t'})}$\n",
    "\n",
    "The state-action values might have large variance if the reward function has large variance. It is not easy for a neural network to predict targets with large variance and extreme values. In implementation, we use a trick to match the distribution of baseline and values. During training, we first collect a batch of target values: $\\{t_i= \\mathbb E_{a_t} \\sum_{t'}{\\gamma^{t'-t} r(s_{t'}, a_{t'})}\\}_i$. Then we normalize all targets to a standard distribution with mean = 0 and std = 1. Then we ask the baseline network to fit such normalized targets.\n",
    "\n",
    "When computing the advantages, instead of using the output of baseline network as the baseline $b$, we firstly match the baseline distribution with state-action values, that is we \"de-standarize\" the baselines. The transformed baselines $b' = f(b)$ should has the same mean and STD with the action values. \n",
    "\n",
    "After that, we compute the advantage of current action: $adv_{i,t} = \\sum_{t'} \\gamma^{t'-t} r(s_{i,{t'}}, a_{i,t'}) - b'_{i, t}$\n",
    "\n",
    "By doing this, we mitigate the instability of training baseline.\n",
    "\n",
    "Hint: We suggest to normalize an array via: `(x - x.mean()) / max(x.std(), 1e-6)`. The max term can mitigate numeraical instability."
   ]
  },
  {
   "cell_type": "markdown",
   "id": "95c1378f",
   "metadata": {},
   "source": [
    "### Section 5.1: Build PG method with baseline"
   ]
  },
  {
   "cell_type": "code",
   "execution_count": 30,
   "id": "709df140",
   "metadata": {},
   "outputs": [],
   "source": [
    "class PolicyGradientWithBaselineTrainer(PGTrainer):\n",
    "    def initialize_parameters(self):\n",
    "        # Build the actor in name of self.policy\n",
    "        super().initialize_parameters()\n",
    "\n",
    "        # TODO: Build the baseline network using PytorchModel class.\n",
    "        self.baseline = PytorchModel(self.obs_dim, 1, hidden_units=self.config[\"hidden_units\"])\n",
    "        self.baseline.to(self.device)\n",
    "\n",
    "        self.baseline_loss = nn.MSELoss()\n",
    "\n",
    "        self.baseline_optimizer = torch.optim.Adam(\n",
    "            self.baseline.parameters(),\n",
    "            lr=self.config[\"learning_rate\"]\n",
    "        )\n",
    "\n",
    "    def process_samples(self, samples):\n",
    "        # Call the original process_samples function to get advantages\n",
    "        tmp_samples, _ = super().process_samples(samples)\n",
    "        values = tmp_samples[\"advantages\"]\n",
    "        samples[\"values\"] = values  # We add q_values into samples\n",
    "\n",
    "        # Flatten the observations in all trajectories (still a numpy array)\n",
    "        obs = np.concatenate(samples[\"obs\"])\n",
    "\n",
    "        assert obs.ndim == 2\n",
    "        assert obs.shape[1] == self.obs_dim\n",
    "\n",
    "        obs = self.to_tensor(obs)\n",
    "        samples[\"flat_obs\"] = obs\n",
    "\n",
    "        # TODO: Compute the baseline by feeding observation to baseline network\n",
    "        # Hint: baselines turns out to be a numpy array with the same shape of `values`,\n",
    "        #  that is: (batch size, )\n",
    "        baselines = self.to_array(self.baseline(samples[\"flat_obs\"]).squeeze())\n",
    "\n",
    "        assert baselines.shape == values.shape\n",
    "\n",
    "        # TODO: Match the distribution of baselines to the values.\n",
    "        # Hint: We expect to see baselines.std almost equals to values.std, \n",
    "        #  and baselines.mean almost equals to values.mean.\n",
    "        baselines = (baselines - baselines.mean()) / baselines.std()\n",
    "        baselines = baselines * values.std() + values.mean()\n",
    "    \n",
    "        # Compute the advantage\n",
    "        advantages = values - baselines\n",
    "        samples[\"advantages\"] = advantages\n",
    "        process_info = {\"mean_baseline\": float(np.mean(baselines))}\n",
    "        return samples, process_info\n",
    "\n",
    "    def update_network(self, processed_samples):\n",
    "        update_info = super().update_network(processed_samples)\n",
    "        update_info.update(self.update_baseline(processed_samples))\n",
    "        return update_info\n",
    "\n",
    "    def update_baseline(self, processed_samples):\n",
    "        self.baseline.train()\n",
    "        obs = processed_samples[\"flat_obs\"]\n",
    "\n",
    "        # TODO: Normalize `values` to have mean=0, std=1.\n",
    "        values = processed_samples[\"values\"]\n",
    "        values = (values - values.mean()) / values.std()\n",
    "\n",
    "        values = self.to_tensor(values[:, np.newaxis])\n",
    "\n",
    "        baselines = self.baseline(obs)\n",
    "\n",
    "        self.baseline_optimizer.zero_grad()\n",
    "        loss = self.baseline_loss(input=baselines, target=values)\n",
    "        loss.backward()\n",
    "\n",
    "        # Clip the gradient\n",
    "        torch.nn.utils.clip_grad_norm_(\n",
    "            self.baseline.parameters(), self.config[\"clip_gradient\"]\n",
    "        )\n",
    "\n",
    "        self.baseline_optimizer.step()\n",
    "        self.baseline.eval()\n",
    "        return dict(baseline_loss=loss.item())\n"
   ]
  },
  {
   "cell_type": "markdown",
   "id": "1168a4b4",
   "metadata": {},
   "source": [
    "### Section 5.2: Run PG w/ baseline in CartPole"
   ]
  },
  {
   "cell_type": "code",
   "execution_count": 31,
   "id": "7f5c1adf",
   "metadata": {},
   "outputs": [
    {
     "name": "stderr",
     "output_type": "stream",
     "text": [
      "C:\\Users\\18646\\anaconda3\\Lib\\site-packages\\numpy\\core\\fromnumeric.py:3464: RuntimeWarning: Mean of empty slice.\n",
      "  return _methods._mean(a, axis=axis, dtype=dtype,\n",
      "C:\\Users\\18646\\anaconda3\\Lib\\site-packages\\numpy\\core\\_methods.py:192: RuntimeWarning: invalid value encountered in scalar divide\n",
      "  ret = ret.dtype.type(ret / rcount)\n",
      "[INFO] Iter 0, Step 205, episodic return is 27.40. {'iteration': 0.0, 'performance': 20.5, 'ep_len': 20.5, 'ep_ret': 20.5, 'episode_len': 205.0, 'mean_baseline': 0.0, 'policy_loss': 0.0051, 'mean_log_prob': -0.6988, 'mean_advantage': -0.0, 'baseline_loss': 1.0385, 'total_episodes': 10.0, 'total_timesteps': 205.0}\n",
      "[INFO] Iter 10, Step 2489, episodic return is 29.10. {'iteration': 10.0, 'performance': 42.4, 'ep_len': 42.4, 'ep_ret': 42.4, 'episode_len': 212.0, 'mean_baseline': -0.0, 'policy_loss': -0.0232, 'mean_log_prob': -0.6856, 'mean_advantage': -0.0, 'baseline_loss': 0.9507, 'total_episodes': 94.0, 'total_timesteps': 2489.0}\n",
      "[INFO] Iter 20, Step 4718, episodic return is 42.10. {'iteration': 20.0, 'performance': 36.8571, 'ep_len': 36.8571, 'ep_ret': 36.8571, 'episode_len': 258.0, 'mean_baseline': 0.0, 'policy_loss': -0.0436, 'mean_log_prob': -0.6724, 'mean_advantage': 0.0, 'baseline_loss': 0.9097, 'total_episodes': 170.0, 'total_timesteps': 4718.0}\n",
      "[INFO] Iter 30, Step 6984, episodic return is 38.10. {'iteration': 30.0, 'performance': 30.8571, 'ep_len': 30.8571, 'ep_ret': 30.8571, 'episode_len': 216.0, 'mean_baseline': -0.0, 'policy_loss': -0.0426, 'mean_log_prob': -0.6718, 'mean_advantage': -0.0, 'baseline_loss': 0.8479, 'total_episodes': 226.0, 'total_timesteps': 6984.0}\n",
      "[INFO] Iter 40, Step 9273, episodic return is 54.10. {'iteration': 40.0, 'performance': 33.5, 'ep_len': 33.5, 'ep_ret': 33.5, 'episode_len': 201.0, 'mean_baseline': 0.0, 'policy_loss': -0.0725, 'mean_log_prob': -0.6511, 'mean_advantage': -0.0, 'baseline_loss': 0.848, 'total_episodes': 283.0, 'total_timesteps': 9273.0}\n",
      "[INFO] Iter 50, Step 11608, episodic return is 51.00. {'iteration': 50.0, 'performance': 63.0, 'ep_len': 63.0, 'ep_ret': 63.0, 'episode_len': 252.0, 'mean_baseline': 0.0, 'policy_loss': -0.0668, 'mean_log_prob': -0.6188, 'mean_advantage': -0.0, 'baseline_loss': 0.8526, 'total_episodes': 329.0, 'total_timesteps': 11608.0}\n",
      "[INFO] Iter 60, Step 14093, episodic return is 63.20. {'iteration': 60.0, 'performance': 81.25, 'ep_len': 81.25, 'ep_ret': 81.25, 'episode_len': 325.0, 'mean_baseline': 0.0, 'policy_loss': -0.069, 'mean_log_prob': -0.584, 'mean_advantage': 0.0, 'baseline_loss': 0.7939, 'total_episodes': 368.0, 'total_timesteps': 14093.0}\n",
      "[INFO] Iter 70, Step 16558, episodic return is 82.30. {'iteration': 70.0, 'performance': 80.0, 'ep_len': 80.0, 'ep_ret': 80.0, 'episode_len': 240.0, 'mean_baseline': 0.0, 'policy_loss': -0.0256, 'mean_log_prob': -0.5676, 'mean_advantage': 0.0, 'baseline_loss': 0.4047, 'total_episodes': 400.0, 'total_timesteps': 16558.0}\n",
      "[INFO] Iter 80, Step 19082, episodic return is 92.10. {'iteration': 80.0, 'performance': 92.0, 'ep_len': 92.0, 'ep_ret': 92.0, 'episode_len': 276.0, 'mean_baseline': 0.0, 'policy_loss': -0.0516, 'mean_log_prob': -0.6008, 'mean_advantage': -0.0, 'baseline_loss': 0.5537, 'total_episodes': 429.0, 'total_timesteps': 19082.0}\n",
      "[INFO] Iter 90, Step 21608, episodic return is 105.10. {'iteration': 90.0, 'performance': 111.5, 'ep_len': 111.5, 'ep_ret': 111.5, 'episode_len': 223.0, 'mean_baseline': -0.0, 'policy_loss': -0.004, 'mean_log_prob': -0.5358, 'mean_advantage': -0.0, 'baseline_loss': 0.3538, 'total_episodes': 453.0, 'total_timesteps': 21608.0}\n",
      "[INFO] Iter 100, Step 24031, episodic return is 132.60. {'iteration': 100.0, 'performance': 201.0, 'ep_len': 201.0, 'ep_ret': 201.0, 'episode_len': 201.0, 'mean_baseline': 0.0, 'policy_loss': -0.0127, 'mean_log_prob': -0.5625, 'mean_advantage': -0.0, 'baseline_loss': 1.0453, 'total_episodes': 472.0, 'total_timesteps': 24031.0}\n",
      "[INFO] Iter 110, Step 26900, episodic return is 143.70. {'iteration': 110.0, 'performance': 148.5, 'ep_len': 148.5, 'ep_ret': 148.5, 'episode_len': 297.0, 'mean_baseline': -0.0, 'policy_loss': -0.0431, 'mean_log_prob': -0.5622, 'mean_advantage': 0.0, 'baseline_loss': 0.8377, 'total_episodes': 493.0, 'total_timesteps': 26900.0}\n",
      "[INFO] Iter 120, Step 29453, episodic return is 189.60. {'iteration': 120.0, 'performance': 186.5, 'ep_len': 186.5, 'ep_ret': 186.5, 'episode_len': 373.0, 'mean_baseline': 0.0, 'policy_loss': -0.0184, 'mean_log_prob': -0.5766, 'mean_advantage': -0.0, 'baseline_loss': 0.421, 'total_episodes': 509.0, 'total_timesteps': 29453.0}\n",
      "[INFO] Iter 130, Step 31814, episodic return is 184.00. {'iteration': 130.0, 'performance': 201.0, 'ep_len': 201.0, 'ep_ret': 201.0, 'episode_len': 201.0, 'mean_baseline': -0.0, 'policy_loss': -0.0309, 'mean_log_prob': -0.5593, 'mean_advantage': -0.0, 'baseline_loss': 0.8219, 'total_episodes': 521.0, 'total_timesteps': 31814.0}\n",
      "[INFO] Iter 140, Step 34110, episodic return is 199.90. {'iteration': 140.0, 'performance': 201.0, 'ep_len': 201.0, 'ep_ret': 201.0, 'episode_len': 201.0, 'mean_baseline': 0.0, 'policy_loss': -0.0391, 'mean_log_prob': -0.5312, 'mean_advantage': -0.0, 'baseline_loss': 0.6675, 'total_episodes': 533.0, 'total_timesteps': 34110.0}\n",
      "[INFO] Iter 140, episodic return 199.900 is greater than reward threshold 195.0. Congratulation! Now we exit the training process.\n"
     ]
    },
    {
     "name": "stdout",
     "output_type": "stream",
     "text": [
      "Environment is closed.\n"
     ]
    }
   ],
   "source": [
    "# Run this cell without modification\n",
    "\n",
    "pg_trainer_wb_cartpole, pg_trainer_wb_cartpole_result = run(PolicyGradientWithBaselineTrainer, dict(\n",
    "    learning_rate=0.001,\n",
    "    max_episode_length=200,\n",
    "    train_batch_size=200,\n",
    "\n",
    "    env_name=\"CartPole-v1\",\n",
    "    normalize_advantage=True,\n",
    "\n",
    "    evaluate_interval=10,\n",
    "    evaluate_num_episodes=10,\n",
    "), 195.0)\n"
   ]
  },
  {
   "cell_type": "markdown",
   "id": "4ff92a1e",
   "metadata": {},
   "source": [
    "### Section 5.3: Run PG w/ baseline in MetaDrive-Easy\n"
   ]
  },
  {
   "cell_type": "code",
   "execution_count": 32,
   "id": "4e498197",
   "metadata": {},
   "outputs": [
    {
     "name": "stderr",
     "output_type": "stream",
     "text": [
      "[INFO] Iter 0, Step 2010, episodic return is 2.29. {'iteration': 0.0, 'performance': 2.7396, 'ep_len': 201.0, 'ep_ret': 2.7396, 'episode_len': 2010.0, 'success_rate': 0.0, 'mean_baseline': 0.0, 'policy_loss': 0.0014, 'mean_log_prob': -2.1983, 'mean_advantage': -0.0, 'baseline_loss': 1.0018, 'total_episodes': 10.0, 'total_timesteps': 2010.0}\n",
      "[INFO] Iter 10, Step 22546, episodic return is 12.21. {'iteration': 10.0, 'performance': 12.1125, 'ep_len': 165.3846, 'ep_ret': 12.1125, 'episode_len': 2150.0, 'success_rate': 0.0, 'mean_baseline': -0.0, 'policy_loss': -0.0433, 'mean_log_prob': -1.7711, 'mean_advantage': 0.0, 'baseline_loss': 0.9992, 'total_episodes': 115.0, 'total_timesteps': 22546.0}\n",
      "[INFO] Iter 20, Step 43111, episodic return is 100.29. {'iteration': 20.0, 'performance': 95.0678, 'ep_len': 83.5, 'ep_ret': 95.0678, 'episode_len': 2004.0, 'success_rate': 0.5, 'mean_baseline': 0.0, 'policy_loss': 0.0368, 'mean_log_prob': -0.1879, 'mean_advantage': -0.0, 'baseline_loss': 0.9871, 'total_episodes': 336.0, 'total_timesteps': 43111.0}\n",
      "[INFO] Iter 30, Step 63458, episodic return is 125.54. {'iteration': 30.0, 'performance': 125.4984, 'ep_len': 92.0, 'ep_ret': 125.4984, 'episode_len': 2024.0, 'success_rate': 1.0, 'mean_baseline': 0.0, 'policy_loss': -0.001, 'mean_log_prob': -0.0054, 'mean_advantage': -0.0, 'baseline_loss': 0.8542, 'total_episodes': 563.0, 'total_timesteps': 63458.0}\n",
      "[INFO] Iter 30, episodic return 125.539 is greater than reward threshold 120. Congratulation! Now we exit the training process.\n"
     ]
    },
    {
     "name": "stdout",
     "output_type": "stream",
     "text": [
      "Environment is closed.\n"
     ]
    }
   ],
   "source": [
    "# Run this cell without modification\n",
    "\n",
    "env_name = \"MetaDrive-Tut-Easy-v0\"\n",
    "\n",
    "pg_trainer_wb_metadrive_easy, pg_trainer_wb_metadrive_easy_result = run(\n",
    "    PolicyGradientWithBaselineTrainer,\n",
    "    dict(\n",
    "        train_batch_size=2000,\n",
    "        normalize_advantage=True,\n",
    "        max_episode_length=200,\n",
    "        max_iteration=5000,\n",
    "        evaluate_interval=10,\n",
    "        evaluate_num_episodes=10,\n",
    "        learning_rate=0.001,\n",
    "        clip_norm=10.0,\n",
    "        env_name=env_name\n",
    "    ),\n",
    "    reward_threshold=120\n",
    ")\n",
    "\n",
    "pg_trainer_wb_metadrive_easy.save(\"pg_trainer_wb_metadrive_easy.pt\")"
   ]
  },
  {
   "cell_type": "code",
   "execution_count": 33,
   "id": "6f356062",
   "metadata": {},
   "outputs": [
    {
     "name": "stdout",
     "output_type": "stream",
     "text": [
      "Evaluating 1/1 episodes. We are in 1/1000 steps. Current episode reward: 0.000\n",
      "Evaluating 1/1 episodes. We are in 51/1000 steps. Current episode reward: 35.980\n",
      "PG agent achieves 125.53851204681443 return and 1.0 success rate in MetaDrive easy environment.\n"
     ]
    },
    {
     "data": {
      "text/html": [
       "<table class=\"show_videos\" style=\"border-spacing:0px;\"><tr><td style=\"padding:1px;\"><video controls width=\"1000\" height=\"1000\" style=\"object-fit:cover;\" loop autoplay muted>\n",
       "      <source src=\"data:video/mp4;base64,AAAAIGZ0eXBpc29tAAACAGlzb21pc28yYXZjMW1wNDEAAAAIZnJlZQAAfrZtZGF0AAACgAYF//983EXpvebZSLeWLNgg2SPu73gyNjQgLSBjb3JlIDEzNSByMjM0NSBmMGMxYzUzIC0gSC4yNjQvTVBFRy00IEFWQyBjb2RlYyAtIENvcHlsZWZ0IDIwMDMtMjAxMyAtIGh0dHA6Ly93d3cudmlkZW9sYW4ub3JnL3gyNjQuaHRtbCAtIG9wdGlvbnM6IGNhYmFjPTEgcmVmPTMgZGVibG9jaz0xOjA6MCBhbmFseXNlPTB4MzoweDExMyBtZT1oZXggc3VibWU9NyBwc3k9MSBwc3lfcmQ9MS4wMDowLjAwIG1peGVkX3JlZj0xIG1lX3JhbmdlPTE2IGNocm9tYV9tZT0xIHRyZWxsaXM9MSA4eDhkY3Q9MSBjcW09MCBkZWFkem9uZT0yMSwxMSBmYXN0X3Bza2lwPTEgY2hyb21hX3FwX29mZnNldD0tMiB0aHJlYWRzPTI0IGxvb2thaGVhZF90aHJlYWRzPTQgc2xpY2VkX3RocmVhZHM9MCBucj0wIGRlY2ltYXRlPTEgaW50ZXJsYWNlZD0wIGJsdXJheV9jb21wYXQ9MCBjb25zdHJhaW5lZF9pbnRyYT0wIGJmcmFtZXM9MyBiX3B5cmFtaWQ9MiBiX2FkYXB0PTEgYl9iaWFzPTAgZGlyZWN0PTEgd2VpZ2h0Yj0xIG9wZW5fZ29wPTAgd2VpZ2h0cD0yIGtleWludD0yNTAga2V5aW50X21pbj0yNSBzY2VuZWN1dD00MCBpbnRyYV9yZWZyZXNoPTAgcmM9Y3FwIG1idHJlZT0wIHFwPTI4IGlwX3JhdGlvPTEuNDAgcGJfcmF0aW89MS4zMCBhcT0wAIAAAAa8ZYiEAP/+yk+BS4nRcKlkWAf0mOgGDRLzYAAAAwAAAwAAAwACKnLIeLDNJf5AAAADAAQsAF/AECADGADuAE6AH8AM0AUQAtABeAC8AAADAAADAAADAAADAAADAAADAAADAAADAAADAAADAAADAAADAAASfAIqbcJTR78ZWWWCY2Qj1ZqzVtAEiDtugJ0B5345GtGwxP/0Jq6sNgJ/kFh9UHIlEyv1W07XWFeC0ZTfNOHQvCEu1K/GaNIrI8hNaroBQxFxvkY1JyLkzA+oBSQ4bvyfJk2P5WgqAJnOSxwLO+5B9sOaYz1SMnPM43FSSrR7mw26x8t83ltnYi9CjBuTfhnPHjvlRzQlpxZluK0G5ahsIhnbSNOYQoxDhFz7iqePq0FdGjyFd98NNjCPvqb5shH6Sf0JCKinaLJihTB5AyZpLZEkW/VsMrFKLHPz1IMRaxy48bmHigC68l0SAtZ1R8hd1o2CGrC9qenvPd5U1kjW/GkwsFSYKmyGSsPC07LCLTHnXfYtJ8VEjpK/RgQIF2X6VlGDSU14d7sb/WmR96w7MQ8ormYy7IRTGb4BoTljirIod237gItLJ/+EGeaooe60bSSoGXUjkKUhqbqV4LSds2yF3S9U4KS2fLUnfIsfJ6d3bnfxidN/5F64lXdoI9Wz0aES/50YkXbObEG+8HWIJ9aes+P+jOIGwAAACieGIcv0IlUxwIAEjDffu0l6BI7VrrGrS4JV+BFdL5zGMrfb7X19vJ+5PLIw4hG1C2K8wPSYpvAzI24y6A+UJ7hLR+ZfD5Do7bXYHFlCQBoJLy4vNe45Kbjnr62tsBXiY/1YE91GZiew63OYJCg8qEhYxDswJ2artYlqsUZoPOxZT22R2B+dwnlpfZAmAedmUBUKlQA5GHVHKdEPfjPKFgnJF6aLMwpkqQapq5OviA70qdPkLmfnkYT5oVJC4pQpRyC8Yq+V0Nzls9LAw7rkdgPuT9hMH0eXyH2rVEEhnKTQaN/F0nJRtCbfa6SZzR1pY0cCHkRcgVmxra13a63Pg90lOM/FZNienx4WefPsR4WYZ4Y+4vZa9SwVYwaVG82zutwjHN5QAAADATKojtHCtH/w764RGpZN1G5cUm2l4IQysYRaDOuF/XUDpOqX0WvHCr97PLrBzVMi9jJojy0C8MSatw5W5AAACW00LgBdPm6wM8MpFq3m6CGSQEf4V5vGqgJdP1/7+KBWqJfNLOFy2+0+Nln8O2ykAAC+0zewEVO64iSztR0yMJQDRMCbz4xN1h5e8ZbN/0Suzib8VJosUaUKV8F5rA/GzRdWgmLW1WwFmDexYCA4ecuVXPPjsOqehwQ94kZ2jUePw8u5kQRt5z5EV6tr8fbJNZRYXuo+316Ok6Y3CUF7sUu/cCC8pbmsaknRYZzhMWTIuXEs3RCneNCWcACiXoVaUuFcqunPaYKHfnwvsK86xz1U7WPV035GFCKFk38H/Osb74kbrdexmg5Hy3XDOAAAErPg8hRAHQ7xcrI3/gKTB6ZvqRvk+x921zedc/FuE3IFu5AGPQ9HiC7Or08Xs3WaaRSRcKkArvqthSX+gkZpVg6ScUr81xX+cBU5JadBBI0m2J7Utz+NoTxOEF3o29LlTmfFFS6mDG2XWrsM9utddIm47lKPYqG6tqf2HkdOMd5ZSTqHd7cBsPstQaI9Bw9gI/t4Pdg1/nKi9WOPR1h4wvYPjmp7/0pJjJfdYAACzu3iiKewTgfAiEO8KqOXRlzGwrku3rcc2h6ZfJVhvO5t/B410FOz2/03cKJS+Wd31qPh9mp7L4PrE1Fa3n8mJnt1gTF1nBfsHWruebOMVh+boA5zku2Ul0qXPYn1u8oGu8l+r+Di7bO4D5E4oC0XQ6R1j7/4UjmEoG2DMBiaigZ6VFtDAp60z49YGQwx5gzZl1lgLF++b9nahnAOK38ab5mYu/Mcnmf1DSoYEC8/YMzP6fYpbIrrUAEuXfLkg20rsS3DA1NesS4CatubbRxJazuPThaWFdzuhNO7oF6HSvcha74qoPciSWEZ6U9lotnHR5y97/W1V5bHfpIY2WiW65WMeonWvaqZnXjmNkjTiq4N6kqlJ34jejQnxStK0g9UVvRmYONlJpYkUzueTh45eToZUBEAED4V2DaIAZTL6KBE3ufdnf29W042zHuEhPeWt0qUG+S7Neh4ASUTZFAAAAMAAAMAAAMAAAMAAAMAAAMAAAMAAAMAAAMAAAMAAAMAAAMAAAMAAAMAAAMAAAMAAAMAAAMAAAMAAAMAAAMAAAMAAAMAAAMAFvEAAACdQZokbH8AAAMAAAMAAAMAAAacAMRhd2mR9FYqOZPsQaN0WdBAAvS44coSEBxHYJYiz4EORxVs1k1bCLFK6QxnHjvscq5zew1aSLPIOSGATz2CIKVPI9AmVRggyWulsMCgsu+jtf/VYS/hM65bGoos/jmdWrPCSuQRgKC0IDeS9w7m89L3FllH71/H8yN5vlRecAa1ksmxkNs8NPZUcAAAAFZBnkJ4rwAAAwAAAwAAAwAB7m1dss/l38ClQposizNwxer1/PmapgajdoW31kKe9dFhSvMICUpzH1xeg0qAGwfCfxeS5EympksADggAAAMAAAMAAAMB4QAAACMBnmF0Sf8AAAMAAAMAAAMAAAmIAo/kAAADAAADAAADAAAbMAAAAFwBnmNqSf8AAAMAAAMAAAMAAgiOXep9xdcCAUWCZhatb+6YA/+s8B56pZByeYLpWAd3eWxceApC8EZzkE5gwWe3acSmYB9u1aFC8VNT8ii6rAAAAwAAAwAAAwCtgQAAAOpBmmhJqEFomUwP/wAAAwAAAwAAAwAABoaVWzrNNLr4qICfowOrqNBQEslvbJOAQF0cguVTf6yP/0CrU8k6XnL29Y6Zg26kuViOzzPc19cS1OoD7rcgiYXQ7b+VO7rvcDr513QAyIUA2dRKFUskzGmp0S0ROHIW34FhZXKmal6u5MWDUtjJ6n9tEZj13PtJGSyzMTEp7h8ltHeu03fSgFeHTamGaNSed8fTui8C3/sBUkY2893g4k9GQ99mMYjLDbMp6BRWAhDZSI4BzI9AZc5OuNXhwK09Ln1u2Sm8rtO/fArvvmDCdbHvpuEAAACzQZ6GRREtfwAAAwAAAwAAAwAB7zTPqKepu7GQSFKtWVzQ29g7l1Iebvwa2VTrYckZdlPN3L/SuOJqu9JO7spdM+1/m3KMsCIiJke+B+rNb01Pm35lIum+y0Y4t1Tfu4DqOg+Z83gU33KAk2nVmZSyrJYdg0wqlBQt5rmx9kcsbily7na9bn8qyn41EWDiFdNHjzU4Cu5ML7KsgL3LG3nVd/5xRF4NckfO3gAAAwAAAwAABD0AAACBAZ6ldEn/AAADAAADAAADAAIE2CqLHqdbZPJQlpCc5qPukpWMMOwddXCaOQEZtorrn9ejiCXj38ed8zSxLv7IZOINAvbqt6jtqWVU4cyb4/QIDAe89cRRs9hqzQ2mzapXmy0goD9Ki3l0/xsfa4M6cPXto7ABi0vAAAADAAADAAHpAAAAsAGep2pJ/wAAAwAAAwAAAwACBZYsGBskvPXiOzAQbC5ZC2c0EVJU4XePbv1Yp4B3WfHkTlF96wYLf3SPhx8IDqXxflIJfEAw7jvXyaeaxzAP87EywgrTnr/z900qzExKJ+hcfNOUqD4QHc1EsDmBskol5HJCYdh2s3mchbOpUeF5nXDqT9QpoqvREZIxR4Yr8rHH3ap7s+LomuNUOJsWJb9NUWw+AAADAAADAAADAEHAAAAAykGarEmoQWyZTA//AAADAAADAAADAAAGrrPFAheVFzZtyfSurtoT7PgFIGTY2LXYyRLVsQlYlAJNq2XpnNb7YIuvB6rSBTmAW2g9zx7Wo9zA97qthIVdtU6rH8AnoWPM8135fr7Ih8tmdQOVrStV1SNNKvFpFbbvtdhiXToAOyCrIUoEBJuO/N/5bniwY9r6TlJ71vHsGYfY1xcSTp8YBTvjRed3AHMNAGcMDdldZrWjVzMJ0eByzecefsIFdLH1YU2Im5IRwm4yTnAAAACWQZ7KRRUtfwAAAwAAAwAAAwAB+QgZsMucVx4zGWMkbFJYW8nkpGTzxPnbeKMS5SppM6imX5onzZx8BIvxi+WywqpagXWQXPbEYlQ3RAxHnm+14IkrsoEiqe137c/z/JFwtOaKPvxjNwPs4wXyrEZfmygPPtGTn/4SdXkKswGKxPdvWjiSAVMEQHDHeEAAAAMAAAMAAFbBAAAAkAGe6XRJ/wAAAwAAAwAAAwACCoNqpmt5nD2RFFQz9uXuEjMKvWNcGT61KYKC4EjRmg6fzLzilOJ3nF2QTAbCxiDHU1/JzQWnZiBFBpBzhvARYyA1sx+2GQ0zBvpHaVgO0wqgymjT1QeTxvuSEkwhLiiCx5WsHDMcenMvd3QUq3oNG9oubWkAAAMAAAMAAAMBxwAAAKIBnutqSf8AAAMAAAMAAAMAAhWWK8IXi2kYqpTQ1PMf2GkhfU8oZtZf8eucXqNHCZgcK1cg6yb7yNVgIH2aG1yqoBzkZKosDl6SKNnyr0f82JyqtNrgEkT11gJrQGvuOl8B7kolUXrmF9R8wKDYoaQCpmZBxwfmY/M6QP/hW/C6slBKVhTstxSIxmI8ismJ4ySpnQb0AOfcYAAAAwAAAwAABQQAAAEKQZrwSahBbJlMD/8AAAMAAAMAAAMAAAbvoAdRIGfmh/QsioQa7giHq+amb9UQKkfF2/Nx7IEe0FQKlJivJI8nGAt5ZQtBAq2Upq1PEpTCyXu8QqpWzLKxAyh+/OwVilhX1GUbfePwTOCRk4zU5vsJYyHw3SW17IVP7Cg+1C4nx1693rOc8bU5fsSl6BatEIq4J0htNZhXMIxIHGrLe/rmnhTUNKf1dgAtkHDeD0XzuwsdkX0WL/3G6EJb9d1m7+2k1eApHY7Stf4ypV+7lVsChjKdyyUV3L9zRebW9wLe7iWhv3gNuAcVB2zFDBtrIOVg8GR6Ja9LeoqC2GsqNBckG8H6GOP3a8fCXZMAAAC2QZ8ORRUtfwAAAwAAAwAAAwACCC+w629M/dOS4loauNDgETq6Yx4PjEuYGUhUh6v8cxb6k7jmz8kTiUYae+atc0PYhgm2dtTwgSXnGjHisZSYiuKjhZO4ncRxLzlo5Q59z3MMupIgzz84CLgAADfi7kGyz6RCW1gNvimyqgOytk3v+q69UNCwpzIGAAADAc/JAx7hOm7UCRSwTYooLf1rgBJv+9fD5n8iA1JRQAAAAwAAAwAAtoEAAAC3AZ8tdEn/AAADAAADAAADAAIUZai0JXcqnI6Pv95P9zty1aBTUPlcovNly1YKwmXow06C10GqHSqoIMxJPVXCYhSggTQzE0TXZaNeOSmlPy9IWbFvCzLM4+Zvw2qqMIdiPC5X+zMz60HfZ+aBMNBdJEAXFmDNM6ya2N0IyV2HvKcfe3t2j5m2SMyiSQqRvFBn99p+8c1Ie2pCP9N1SIBYXNepzrex9ZqEocYswAAAAwAAAwAAAwL3AAAAoAGfL2pJ/wAAAwAAAwAAAwACKtPyua08onPMRhMoY8bXI2CQzcljBpJtg79XBb73NcZeg/Nbi+v/dqP0cJzLxfoloUOBW9OHjF753MoDI5X6YSxtJF2H/eBvUFhTXhgjacavMcgUoJzDJ+gBr9UpZ4WXUqLKYNc0GDpf4E+sIhcsSv7aXdhAcU1Bp+sAR4zwK5UfW21qQAAAAwAAAwAAQcAAAADaQZs0SahBbJlMD/8AAAMAAAMAAAMAAAb/ZMk07VgRaYCPnsYDG+j0EfAeYYg7geLevAAAAwAAGHapUsOkkwmVNYBHr0ZLhgIyaKEZODC434IgikVK+21KoC/qpvycR4iOQ1lu/8p9xq1T4ocaFWLnJc5Y40oY7YrYwE+ibLZRrtbqyd4ZraHV3zldnz3bLhD0zNgFe3+Q5kYlfxSNhOYw2NPf5+ir/ymGZ9wWh13vzb+HZ9f36xnKiC3pbmwbNzcCXY4RHWAe8zAWWvSPV/BAQEKAhksY8g/J3z0AAACgQZ9SRRUtfwAAAwAAAwAAAwACGDyluWW3L5oG5XcoMJSkZa3pM+sMCfbV7sKOqXvp5qnHAw9YNya3YV7RJ2NxGENaU6MzHz7CH3t1oywJ8xNJHlaEYuonJiyqyBg+AAADAHsgpsHUthYXjHdtKlejLA0sCYfMeWlfdUaqWJCAAAmL3gHNaMsNjk0JISJN/x5Kj5itngAAAwAAAwAAAwAPGQAAALkBn3F0Sf8AAAMAAAMAAAMAAiR5CL6X3bSoOo5v7OUdsMLwYe4v3wHluHKR/RN+54oD4x8f8Y5U9Od7zqyMlGywMDieyZcOpwIiUVn7lzO88qpMjsMVAnyOatwhsJ2nQhG9/pIozq2j6tS2H11tFMICKz/Dxov/5R8/mReuDKDNGsLV+UMAD58l7TBbrP5F2bniQDV7N/HBtB/asPg/0FN2BXctZDRMamptVIpJojZAAAADAAADAAB8wAAAAJsBn3NqSf8AAAMAAAMAAAMAAjrT8rmq0B8taTM8KgwVY1qKow2yEh9a8gaAvRyKVdYqKnEa1vYTJsZTGNcFkdqbrouWA4Z2hHMktIy1zypp1Z4hupN+usSfSHf5N9NJjgkhAOgNFswHz5LX0YhJgmSs1DyEROYSjsd6/oqQvmwhdFLsmY5Nyp3/O6wfJanWsok8AAADAAADAAALaAAAAQ9Bm3hJqEFsmUwP/wAAAwAAAwAAAwAABzUUFqr36JBazK3H25ssLX6TKTelgedSXCUQ7PvApjWJrXiQ/2WwAAADAALwKXSenBfsJbOrPrC0WyadEFEsgdBmYald8AG10dcLfS4sRRehBXhHzVz5SchP21TSisDcg3qOBH2FO6Wgr8Gcn0H3j8BIaL6IFGUmgiRScCnHLUGkxSIR7mAL6tFYR3vzNVjS2x+BiBKyg7nY8eLbOjLTS/LqWlsEbDZ4etGXS2kG2O5/Tj4gvuwDUfzy72Tv81/+btwhOsad1VZeOAntw4zAzBow1AEnjmyLnUbagh6436ZmNdaKS/nK/32yW4mx6f/YxD4pIQ4WPPKBAAAAy0GflkUVLX8AAAMAAAMAAAMAAigRbxm3tjO8MRAQNSjs1upBIIub3dU2+NTXI+Yff3+K93BSphO565kgR9SwyDDvwZoRUSVsGZJOHJhA1thJg81ThtaMsB4JQelsMEIu7kuFvKFYyfonQvJek8rnql518tWmZueOY+XQ9Jwa/XBAAEm7KGW30JslgZpRVAVRSJ4oFbrYXxLxOBH5lKB37NIB4k6Kl/9wAADoJ+16RcHWIZ6sIPU8EIWECPEwNGwcHyAAAAMAAAMAAHpAAAAAzQGftXRJ/wAAAwAAAwAAAwACNH8qLx4z3mUrBIkidmGNhs4Lr7fWoOBg5MFH9I0pBWJaSk7V0rut4au9N7Za58rjehEMOq6nVgS6TnTEIbP1a475MxgJdtWmEIxHRZ1yl6ZWW44cqkWPGyZntaNILrNNWaqMF2PsFoT8aCGkgH0Maz9pKJQsRcRwHLpL1jLk3M/u/zTRuemA9pZh+Z7dkXmiQvBtyW5GkSocjG7dBC47TQffH4M4sgg65Ee9BgcugFYCRoAAAAMAAAMAAbMAAAC6AZ+3akn/AAADAAADAAADAAJIRV18eNk0/wsf0oKXSSM/QB46o8rCW7rWz0eV+eBFNqfpjHMGA46WCphG4/jKabdzmLmsTaRVW1SqAeOk8cTmOifBfEcbHhp54LY51p5A5izVgLatvYkwgTvecqKVUERsW0iFxuJEnFUBlQbpNzQfkBr59qPPK3w8r87ewhT2ikooyHr9AEPuNFnj6ghtUUStd4Yvg2UtGvwo4VgAAAMAAAMAAAMAANGBAAABEkGbvEmoQWyZTA//AAADAAADAAADAAAHV21SFOnv9CmBqKm2EHCg2xSvo37qkXogZOMsv66IbL2enD48iA74QO3rftmj+BI7idwcPGVtNiDapx97eRSiBW7QPLKJfunVwkVmbjnNEhITHWpKMfYsYBKP+dp1HBFF7hyHLop86wIRbDyk7t8NnVakhZu1Ugdoz0YLdc8a3APw1DRjJxRGFxBERgKD+N+n9A27lvmm8EmXFrjvQHnjRXfWsL7wjzcBbZVz1MKDWNAQ4MK8/MQ7QVDvq5kSGAdvKQhGu77iKpiaTU4NuhfL/b7j0NhHv7TV8dmJg6ob/y8+dJ99PA2uvjXJEFgXPX/wMsQViq6YVRFs1zgAAADbQZ/aRRUtfwAAAwAAAwAAAwACN/8yIDe34gtA9iChDIbbMmZX2Ow5A7ofUSago1joJV8MGQ4RV2GC+sEVy7HAz5oeLaUhhM1KSVXD7q5s2UlLUHVfQr2iTQV2QScSfZN+A6d1UBqfN8dl8+B4bO2qZYDWVyxRbe6AgzcHO78RmXXwB3Of5CSAtCMGe9cOLDiVtPJerqFUX3eClQsHcF8wOp4yLhCBew4r2p9rtbiItpF3o1WRsUPDLOOAAOzpOvrxhPhJX1TLCPPd4zScrJR8hAAAAwAAAwAAAwEnAAAA1AGf+XRJ/wAAAwAAAwAAAwACSivMLu64B0jVwQECoZKJ9n/Ag3nXKejnNuZ8IxXsLYYoArkuzMLWQuQBWmit+zLWza/+bAsSH7sWIkttTwgOSpIFCqq3cO8aZ4QQV9oflaT3M5FYh3bbRmgu5UtYLtFC81XgCPPiyEJWW1qPQQlEOOTRlgcxLoCH72W2jwUGAPYIBLECb+RVL1lEn0yHuYebagbF3RMy+WfPQBsa7xhdkmX6dniJ4Xqbs3L9xTukKjt58HzKlIioJnwAAAMAAAMAACygAAAAzgGf+2pJ/wAAAwAAAwAAAwACVVdTV5RfwwyLjxGloNp7ve8O8rrbSK2ljeradwVbnJzhHCElPuWR/2AujLcjWV7b/6bLaqXnTJA8xp8Vja0ZYDsV79MFmvGyivVFhzaHPormwUTH22TNjmFN27912jsdpfjQA6LNn+rLAVOiJf6qBiOIFyUCnuoEt/WrbGnjigD+telXz4MREXprkqxA+I2DWwok4u9SL7XMKFK1vfSlW+wBAwEtmWuOjJp6tdNLMFx4AAADAAADAAADABAxAAACSEGb4EmoQWyZTA//AAADAAADAAADAAAHy6AJbYIgfmh/NR9ak3PkDbkn0E+RitY659IBLRa26HtyK4vVh4Ng3itGHKnmoePrYWtq2GbAJk31WfhiOrp6y/FC/IhqZcQiHjv1l9HwzTtLfbjGU1UosqA5LYylXBYJ+0sP6Qu97W9XFBRbtfAFwcAnsDY/KOTt9RrgOYA3eHzUm0i8BenOd9paksQdeB6IUfuWpNZt3ecuh+zWrCIq0O1n7X6eMaE5NI1QleBjinvx57w08TeneqEnR6Y5ML/NTDw8ApddXumeBGtKklXfSzem0X3O5k92ixEKU4o2RzLVPtIPLnKX+iJyYuX0by399mdsI9wX63SZs+L+YRNGfGDDTAqdRowpAeXxmWFml4AMAp2H7VMsBUXF8VC/Ps7DsADWO2ZuUlqNFgjSyKCchvZAbCH9c0w6ORUyJ8Hwj3eCXOSLpU4sg2dhIzmORj2zCTh5MCT/NUfbFM7U1ih/3DvcZAZKeOWfrIIn0AnX08IFU1UTcxAGYG+s8v0jXsEBaW3+Ic2N7RccWYQmx7npjnlPADHEFJURor0h4V5tfI8AFV4w1qQFJPPiXXyv0M5Cop9XUZAubEoNd7bDhSr18TBGOQNun1XPiveCXnINJCM05uP6+GrvAxQZji/mXG3+6sIQW1YETLW+ujkQeJVmVoPp+pO4Yfvhr9fTzeR4bkVAT7qsIP95jlnbx0G/sP2UVucwhY3+MojnQdO2FBjJw7RN++SD93ag0+QHhCG2eHFZAAABVEGeHkUVLX8AAAMAAAMAAAMAAlgwCjCah3mp1K9IRAwjuhegGet0ETpWESbfd+BjrdOOaiwV8ypplabN0eHvXoVaKe/k0v0dGVKSxzoqxereWBw2+E0uPw1ZdqSJdbJvMZrlxuvBmBR4iGb8bvDnS9yB9gwjcgABBTajFtu3hT5FQiIs4lMA3cf6JF466PwfFeF4Z4cl9I14D++lpqSDKD/3bVMsBTsGyUAI9U+5fLI30KrMK78wb+ktG0NQoFmokS1QsMkJlGnqgIfi3DMJGLIFNPEVU88lFwBfJ7GqcmFlctQE/wnjwp6SUMPP79H14xPCBUG+5ddkqy7idNJnJ/21pcqOh9GZ+ilqOzEnWmKZs1wJakouITw7VaD1C5oYghB5HxlgpCn/slTr8r1WeraqTZpqDVrLBUhTEZap437A6tyZXQWmMpXqmAAAAwAAAwAAPmAAAAFPAZ49dEn/AAADAAADAAADAAJkg+Ayi9eP/Ob6n3qPsiHXzSTrEab/N+Mck1z6cztYUaCK33MaCEsehxJoCy11xXZf//nk438B3fWm3j0hCPSNe2xS1b40XrgzebOSkq4B4MgBRbK1VJlL9McnENL+MbWHW/CzRGRU68nCpGlDADZeVF94wLvSVjy4Xi/tOSm9jPbQvN6v/4tvY/pPxMpLuvV4IlrBR9rRlgLgGKk5aHNzcrbnC/gDeKxxzBrLGB5V7hgpNegVyc/BIkeunvlBFV+YFIUNYmP8Uu/F/+w9reTeZJu0klECjSCeECMZQFYoO2cw3ExwMLKnMVgBnZ2JCfXBQG20nfqGV2Ssdi+OA+/WoQ5BlIXFYEt8tj3Z6r4GsTEy0+053yslRwVOhXbwZsmvFgsTFOeWlJEhMwETLB7Q39HfAAADAAADAAADAoIAAAD9AZ4/akn/AAADAAADAAADAAJ5GCvMfEbziz6oQkmJ4gvJi1kRbHdSRipBT8QRJfcV+xSyvwnUh+N2ueBwZtJ5bCGNc0tQNbvwPsrYK9HUBOQcpHapn1p5k5CM/eTOj2OeZYIU7WpVAKcXrkrWBHRmYzSiV1s2+GO3g1qivNf8lnqGLIT9YAkdbJRdcJygBmfa0ZnAIOZD4ewDxbeHzKSaX/FybSbK6DR1utqmWAmRjqCjn7IGhRZrQiXVFOnOYHIuA2qCHHx9AqVoQyrRMmb+ru2vKn/sLqxm7R35zIUEB9gR0ndGf7isiHa1bEb54kIlLjzAAAADAAADAAAI+QAAASdBmiRJqEFsmUwP/wAAAwAAAwAAAwAACBIsWmtxAMo8TZwPIp7PVTMmbdsCKi5nyzOw+1JQmWhUTArmhQyHWnkAz9x0XM8DpECPgH4So0I+LQp47BhDUDFEngJe31YEmMPRZiiAufymcqSTj1PP2uBnS7oz+cwVvagWQITFNRDpnqwnTaoXU2QKHoq4hX2exfDSR7CwfwEnyKhd2tGc96In1NW33P2Iel/tZp+FUKQFgVuh5KiLU+qD8/yns/J4MG0toYNBPLHRP6ZKg+iDc11Dz1gInoc2moAz8QNyMCsTUHcEdvNQaJ1KU5j4YC9rQj4fr9FQfnmMqI8fD2Avs+GHFz2S8ZZWwu43PebgzY5OafgHR68tLvYCiSVkI0yuEMNy6dHePICoAAAA2kGeQkUVLX8AAAMAAAMAAAMAAnjyl1Cah3nDsnBJUfwY+PH9UAzbwe+aaYMFdboydZk+CMh0P/xInuelpailIhiSj7liTphd1955luV7+TPC/aLOXxpwHEOgqDi46lTOG9F+T6JiUbttSqAU9RJ5TMYTiu3tEk7iWf76TIiuYawrH0LemtMm3aAAEm/eseB6njB8nCBYf28aAb4wwP/zwmNeKMUS4ZsT+aiABKO9VuNQcbANGh9CWXKsXMS6HKBrNzoQ/Kw9zjFrwQ1YgEcM64AAAAMAAAMAABjRAAAA6gGeYXRJ/wAAAwAAAwAAAwACizDXuNwfkdvO0XwTh5LABNBzg/LznLN2V8kD1I0PXa7KBZiNr4eWb6WOGzCnC3FLJElhOnvCmJNhsvpKtMfebzztucJm021PCAilzbgGhbtG5g/ZHe7VlxRxM0x1/sTTqR07Z7tNMp206PLp7OhO2RnZ8pwc6mfgH/6ZOvNjY7kgb9HkCM9mOKbMkBeNsHoc7auoN+hTctjNYcxqvOMtReKUIdEtdLgAWgJ9eH+4WokxVtU4nlj4N5ADRfEaQiAiJXCsw603TG0CryP3XgAAAwAAAwAAAwCRgAAAAKEBnmNqSf8AAAMAAAMAAAMAAp0sr2Tyt1/T3bLggE/24RkgAvaz79+JwOhjiEujeKHQdOq+x/fRvAG83OdLTk1+Uzzaiw/61ppfX+B87pnavAghiZN9tUywEaHUCM5wlG4lBa1tZir2GXELGw+2zZmL0ceznAzvKK8qZodH/ln2HyB0AIXDs6yMOJslFEIkRd0MJ4iJeQAAAwAAAwAAAwCmgQAAAclBmmhJqEFsmUwP/wAAAwAAAwAAAwAACLduktr5yt8iUBlDqqakSRLfjxwR6i//cepnC7ji7AfM7Y2NIGFGBA8nnxgVbzVAsMGJb6TXsG3XmxaaN1gYMRGALFQdSF/OLqHrEdipuexJzKDWWmTGjzAFNqpecfGqqNAbYZAH6CNmVxC5N45Oio+GUXjC9mlG+H5ae9ovZ3UAADbWVIG1PjmbhAuyzyHVR7uTOUHwL+nWKKgPVRntcoUYMr+xNXUetGbRErdMo5KcGcNxVju/d02f6w/ljIgmr0JEPqfhXjWYRAEgWOiK/fzzgbzrPNbVRQe7QEKC15+je1Yt8nfAkMXIFtSw4R6SOBGrUzUMF62tgEVEZafeDLirJhwVSZTyxLEdobQQCySpMPbUL9lLyJQc399T2FkkO/CUWTi8y4IovAKCPVySXruf0tl4Tto89jQh8Jqao+ixaEzdRMMAxBEr+wYhpayzZrLaVb2PDpSsXmla5hD/XAjStcrFEzyeeXHo7uchFXCm8JB/MDAxjj1ngO1KLLkFttSo5845hlN0XLwKvWBtwlt4x2SZZalM+frAlvKywUKEk7khegFhsEIwSOjBxabESAiBAAABHkGehkUVLX8AAAMAAAMAAAMAApzURTJ00kzI1IQedqLwVaNOp4ypMkjHRhhXuOocPEWizHAxQv7JF0egC0s687Kav+NJAPEt95N1VaKxPDgTaG7ErrYAjEmwtifYOBRWtYe+x4PonIe/TYxml1fu+G4KFwpXaCjQ/NkSJKytzRmqtJOjzxFHdqmWAabMP4XcGogOWmU+RHVh2ajHzmTcf+Jkd5oz0qMRLB+OXznh58geEROYl5kJCQPT561QX0MCYTfWBIX4zoDQujYUmQzSCdu51kCjs3fBtZCEsd8PUvHxOarj9s0vFH6uXDkjaBAnUVFj2WGrD4U8PvJsl3qLtWfxeFXRecJ8EgPb2i9eTjManGjuAAADAAADAAADAZkAAADxAZ6ldEn/AAADAAADAAADAAKvMNe4xgFySDWU1tC8jh1FwbusJ3QtdeIif06BAD/t5lrsq+5le2rEYrt5S71mxtG9Hok4/mmvIyFdZP0uq30XVK2uRmpN2ZghWfX/Ql0E298Kgkx21qVQBl4d1vwqK97+6NtJn+sSREvazX2zYEGXN42Ma9YYxPwzq1ZKNwqnN5qa2YeE2pKbZDzE+aO8fFSVgs5QhAo9FnXnEaFgOKrNOUI0ylHkv2qL4IWiRHm2k58py1ZD5RICOc6Yef1VWnIYqS7J6R2deg4gQsr639HbtwKRM9zcAAADAAADAAAEjQAAAO8BnqdqSf8AAAMAAAMAAAMAAsFQApJVc95rw7vRU63wiP//t302LfW/yfuHlF4vlI5+umH3KR/oHUPI1O56CXRPQrtnJXYusuxKOpakFDMBKZbJyaI80FmAOPfSbwOGfdHgKdV7py0AVe9mQrqQobaplgFx750sRVv2Wi1045k87izp0Agp/Yne7mBOg2jNHPleOPvoI+jBxDkbC76AABsvDVHMjtqlqWoCKyZvMap6ZPyGtNnXHoD4bwsZ3sV35DBh/MsgID1kKFzABrHi/3an7ZaMZ1D65JmWQiMcBpzJIAK0inIqAAADAAADAAAGVAAAAfdBmqxJqEFsmUwP/wAAAwAAAwAAAwAACTduxguAOGT/883Z7H8twg8EpXHwpAxRFhN0BEJ9ogTnCkUZ/LRSVdXQUVvRv66rj6uNvTR2gLyyt7Jkehy4ppk18okqzDUrkQEhV1sD2UainiOGHTpii7w8gPvd20IUQqvnrz926cCCWIoZHQJLFZfEgXcTtB/JPIcSh/0oDrN5/vvYYQ/LmMvWYsUwU9wESQ4gGPz5AyAAJ4t0iEWtEDuBU3v3cFfaaqdjdE/kzmuz/yw9+DlBdFJXQAIJht4FkPlX9Nj4Y2XzN76MsMfhcTcc/YZX1HYfZGTnUuZ3IqMfUsaQLO0EDtaqtSY7rjtIXXnI8S/Wr1E1bFKXRG8ON8ROQMIPzi0yvaqfHUlhkvG+hyqnxuQC7rw6YmiNcGQKu5Hr2cls5+mVBwrecCNP0z01hUYC6UgTue+uanbAp5A3Ym2qOufF8ZIBVp9GIE4emw5d5gjwy1WjB5o5p1Ay1umE4O8X8dzv/RX9GsyhBUnwjn7/Yy8kdjqLOU2zDq5y/0yi+crxCOppOVy2q0n+NJz5Th/5p/OkW3blmonDLkrjRon36Vddq07k/VBncYdbwO7jaBjcBMtZFv5FgulSd+YbVbLhwZIQMlqcw7BorbeJsfdCf0bVun+5gCCP4N0NoAAAAQNBnspFFS1/AAADAAADAAADAALA8qJgJqHeeAqPd5/CUv5m+VNNEmIiwY+5OZR5ggsbMvbfD5auVrd9afDrmqegLF1Bsq4C4cNYToy0FJWGBq301PYyLkE3/MxbVs+B4SvXLYoKhuXeQOTGCra/Z3RjXdtqmWAVOl+25jz3o75+eGopV3CTB/WKCN9v5QJKp2xK+IAAA8v87S9DMQix0mM6NbBlN+Z2p8rwgQ5Y7rmORadV/Mm0yMHnAPN/fh70QYwALBlKPL3v54neAy3z7TeDHaoWPxsWCa7zVfzZFQ0Wf6sftZzp5THEN13b5xg0N3MEXyNTfFBkAAADAAADAAADAHpBAAABCAGe6XRJ/wAAAwAAAwAAAwACzxMzwWcCpwMR02yDPWSS4vBbht02Bk6H4E0mnSagELnTkZ/Kk/ahm9itKtIqTL57wcznoJPoat7aUf1HV0zoQHQNA9ehE09U+omfxYSkJoOEzDB28JpdtHqnttSqAKAfj4w+BzgKcCoZyZUL0RqKVx+K4/v/mxGHNAQMte/3OGAFBMj5uNO2seQZv9LQhX36JfairuW3t4/kxavICVpt0dPx0whqANwHoUvQ/DN0m2X4GyamrnawmVSba9iROYLJca80J2X+zx1ICAfbFZn5qQahFat7N83ntVm3VJToFysFtBQ1pIYfA8gn+gAAAwAAAwAAAwA9IAAAAPoBnutqSf8AAAMAAAMAAAMAAubC0EK21Itp2fif4dn0tfSQ2OFMTQmO7/bt0xfzdfWXrz/3JaoCCyGkqHcSGeDH+EOFEDz9ChD7/A1zMIlW6zwwHg6WutOPXHqTLaYDZUUmyb1UIolNlux7bUqgC1ptIM8R5+y80yLuxWdbbFTf5Qyx1g+viaYo8AAAAwAstEVIm5z7/R9lCh29eJN9TIB1fanzuEPJTphaIu+V4g0oVA4mwIMWAAAE7V+TUitzvltCycvgk90WrMf+jLTg1BzR4CZO4uitAVOhLs/Pr7NbBzlSpdCn9GCy6Nc4WYswAAADAAADAAADAM+AAAACdkGa8EmoQWyZTA//AAADAAADAAADAAAJ/1gTuwRA/ND+aj61JufIG3JPo23OODmGqQI7qxSGOOloyy5ikSBEJL/rojlPAjYZPzLq3Z9EpR9Msj95oBnNxe52B8U2fXLtzuOSjxp2NqQWM+KiHtnghks9Ay6vlY/qxxuy6Am3sK5dWK4y9HqmobBQJcZ2KjIHwPrMNoD4SHZCQkNBpcmDjZHEuILsCS3f8qJJSuPRJNfe+0AfctUt8ZfAyLE1VvdnWs5/+uDpSxavJEq3BIv60BQgzADp5YVv66tiBpNLHMpBaeZ0xDcwJbX/gSFVoE1s9HeFD9aL572rWP89sfn3jXraaS14Z8xxME8yR8syTgtqbRPcaj9hiDSpxlSChoc8HeoTbSP6rFDfr+QxJFvlSxmDRalAAeg3Z9IrdD1815G55bckw1OhM7vxCx/nmLwcJicHtMkuYZC52i0Lp4Y2ifBvjdRFEASFyHaVdfKbEHcnOSZasmZLTdHz1wD2nvmO259kt3r1m6n6dpF9fwPQBbVVznPhoAT6bW6MZZ8pbwDH2ELdO5T6suIJrdnPn3saswxPf3jspYEPLsWdH4E/fM1lK4VIZONu8aLUXqH2jDy4kFFhpQ3FX8X685avVvEtQOzjaBWnrcnphlvw+4DfZY/V2Ax5z4nbMYxuDVN2HEqmHdnvkf53NP7F5NmqUGk8jofsggEMeTmJicbHeB07N8MR8OTWStbgdMVEiQqoAw+K/Eu7Mx/E+vbv2DJhi1GbL4Bagrz1m8qeCM+rM/DgLc4XU2t7ndfZCDvvpI+1LwSMhjbeqXA5Z4dF3IaVzhJLgJMQyGVmMQAAAZZBnw5FFS1/AAADAAADAAADAAL3pyP7mUqQD4KgCs1Et4uzATslc8rsQzdB8IQvEWOEXr5w5w0sTsQcAMiFi7QBWGUOP8NngzHNRUySRB0qURVK6YBhhZdChoB8HpH6K1uI21rAqTweJqX15eLZT5Yl516H6fvCrbwGqs87SBHtgr1D91K9w0wsJZu69owSzh/e6Q74n9B0VE2/TXo3bh2an2huqk63C1mRlttIl1kFOdUXiyGfnPbJpVlQ+IsMC5PiD2lwDdfldIlKqpzhlgsKeJPAFPhm34R+9v/gDyl+i5dTiTSIXgy7iJV64uq0LNj3HIl5U9OMik++rnpZHob/jdNvws2cnSivhQulLDsMWUkNsDsvtktJEalKigCQzqVBHbVMsAdDP3DIU1q6KOs15e7+zdZUooqiiIW6uCZZa+jkW7dgZcsTGjofZeLYE2XhWt3jMbWbiPdDvfSAkqHlhAVWM9eP9fN9XdYcdvRCit3fgAAAAwI9tTx014Q2qZYEeRTlArH+l6giJAAAAwAAAwAAAwEXAAABegGfLXRJ/wAAAwAAAwAAAwADDGoi8MzWKm1zKA78aqjHKpFsBW+CKm+DzsyvhtddC3fkqY9LJ6f9ZJ5ct1NuE4DnkVwYeyc3wqlVoRks1v1Wm9QB3gkg7AsV//cNizsoIGB8SYYXNMjg1DU08MDWW+iskhrGANeBEbNZcUYEka0jz+GMTiW8JFeR2hQsp+QWePfhxoxaRFEtefQBV++bPPl4vj9Szd4mgDi75/LtqmWAQtPeBjafCwvP6J1CHqCu23tUjoCSZ4SMlXchsrpiIO2BAAxA0O1b0HPyGgPF0BO4zqlnPhgwwI8mWUlALMb++LwwkVD5yIn6tFSqivSG2wEzngV2gfj92rbazCXgiGBx9AR0bGzezZAodxvAF4OmxFKiyMlgYz7J1Pu3azuVcZmLJIAANMde46o0SO8L3saXRdf/ALEteKJtBhSfQI0nbKpRp2Y5Wr7t21TNldMKEV9fXTs4X3bclqf/i4BsxlvAAAADAAADAAALOQAAAdgBny9qSf8AAAMAAAMAAAMAAyAeDCJWKujRoov+fAbYZEL15/BHaKf9Di3nDgio5BhlL8EsrnZupfpE/TZuJH+MwffaWQQQ6KN1R72eLa6dOjcZ2/6cqA3DT5m+W6ZXDvg0rTFEirr4B6qx5VRuGDE5f9lh0z+vz5FnLcDkEfMmi8e7aOows0KBzk3/S7nHZdV/AIQFZBNeINlRXwq3c8CW9aVn6ZkiZri817zfQ94iwJE02GLkoGBwfo6N7tcGr+3mfSerOTAybpSIHMIF6l2mhkWQGDtJnZBQ/NqGCKcqBagd3NBnGHmwv3ZDxv21TLAGi8SCK87R68N5Gn4jceHhY6UqAJkjRMQcBgFzD8RkyQMgJqeaJiXarj86+py6SmES/IJQFaTXM8vcfHC+Lq3rb7SQUAi53aJXdb5yW2nBt90CQCH4ibgyIADtEJXySIBAL+81ho7zd5IK5h1ESePO+IWZi9ZZOiA9sLrhsZFMctvUogUlog33nNCMhWwKyCal4+pbkYdHfVL/4oMn3Mz37wCLZ700KJyZt1IMaHK3vaB9wqwOvTtnQ+W+PXJQBvp+OB+UNFuwc1lZNzYem2SO7aEbQCHRALWxHwYMAAADAAADAAADAIuAAAABoEGbMUmoQWyZTA//AAADAAADAAADAAAKHD9YTTdv/cmJMhAbRuNrPDknguVUmaT8+ViuUE5FWDYeA5+EJXUgg24F7/5FEHmn+0D/h5ixI7ybRsi4Vpm3gIb9NSL+5rC/cDPVSkvaPFJnBiPvPYBxEJlp7ZOVorfDhE6xVM45HKfYt9lKy1N6mOG2cbLMnWOyxFpJZLggMh4kqguHWstOhCm1Lyo1ppp4ozcEJcncxq4duJouUKTLTlMmdL52fYnYmWxxCwonNjlKApEYkjATYosNEDYBw3/7pcnBvTf1T0soiDrXaDvxSQX/UvWITG+Dtoaumv3q4fMrKVrkYbyYONxoDyR3ABWjY7jI2MdjPDT9pbTb0aM+G6TOcUhyhOAGO5hWx8N0AqMiWFs9R5ejrDvf3QI4tbNDfZPZIq4gpaOYyJx/x+H3dtUqgH9vXhLE97rg86gA88K8THy5uMHQKzCliEgQvAzywiDQvF8SMAszbAmro/1E+pAzlTJ78X+IDbur55Z46Sp08fAadSovQcdWfEcr1tmVCHApsCoQpkD4AAABj0GbUknhClJlMD8AAAMAAAMAAAMAAAorjaZil2bqaVXVWtNGeSjqiw+Ohrf9kFP//1am28uiPDDIrCwlRFbRNjhY/bhhTwsMrIoOrz3/sngoan4GGR/pHmP2tKGGsx19qrPLJj48BNfJ2WBi2VTElX/bmCLLhUAuFdD5wzfZQmJHnx1FEYssBVlvchCWRIuZkD7Mw7hbg2OVcj+Cr0UrqNlvtLZu/9VSOrR7gcnww3Qv44isdmZQiOohGThhtpMZCrLePXw39c2Kxfs8TrC0tf9ib0SGonPnJNtGrZY42FnrWFklYywBNIO659AbhFD2NSeMhoVtudhNSIM//FsxTg/xZF+lCT3vXu50yMdyJVYIIRwtDvt54Kg9scJS1+dLf+Xu2p4QCOjyRmev2OA0qM9XL9emX1q8rEFALUJFUWt9JogG5phMBcIxHcrkNmKYXYMyHfdUZBjzO9L9ZHWSFKq79IRm/oU07i5s4XDlra9V1y0sG0+PGsg0ZptL+I6ULEu7qkLJKRJkWihjixGOgQAAAs5Bm3ZJ4Q6JlMD/AAADAAADAAADAAAK9HKGmtw/nmrCmMjwkGFlqaluD0AKhywEVMSYhbO5XPBjeTpyBnBJv1gPhlvfvsO4D1KQCREKv+M+R1fx7C0seXtmnc/f3Zgv7MraRXRmTzqeo1x7UUxtcsT/P4tyfqaliTK9tBNlRxI1QErNqmvIU9b4t23V5viS7LheQxKetSfh7cW7fSBa3foYt1qVvY27OyeRGTVQHFDAwM0HA4NbihlHKtExRaMvDS6LkLlaW2TQvaMIfErhsXuPW9UmNQ1BdLHcIUmcAbrySLV2Q9pG1kCwNp754RmGppW2L6XzoUM4MaieyuTghm+f2Za5SsGq7kqiYg6aEeLGaTac6qdsfpP+tJwDTepmoeX1ehSZdDExVJll/buWxpV4na6huGlKrAcfG6UgUwTdRqR5ndUN7CyE6uoLWEIMhfkcJraqZ4d0NLrlsFdftR89qX89RUWZu7KcR/VtLVaVAb+hDmOIW08Sa5i+C7ziNutRIfF/TGdmYaTnFyQ6pp8AF4dRc/a78XPPEmG6LIQEOpLFzTbt61KMqj1SpVAJQfxJt0UJxAbN1myY9QjTMaV971GymdTdZwG4ScnCaQ99cJQcgd3w+Jiw4MVB1uMl6FwL5paAM/jTqkmA8vLSzPo3lSbBcNWJ9IbuLThqlHdOMNYpgIjbZyXS6ZzNKG8VHoDUwfyHJGZWfeyvCDoAgZgwqUCrsxMzZEouE5YeUqI8D4Gmi5i7ocL9rhHNogFGnbDUyMXs5kwxgxOJ40sNYo2zdwFHZc5UAVQ96fDmJ//vmZR20k9F4K0NdAey+pgqGH8MQVs3wNT/DD2cLq8CC1XDH+HG/qLLu7nXMfq/L0StegJDaqjNr3FR4hCSPHN4FgG4EYxVJ3WMjGMpoaTTGGKh/zCEhHwKK1U9o62V+yt39y7DjXIolDHfnStq3HmBAAAB7kGflEURPX8AAAMAAAMAAAMAA0enKpGZSo/mG8X9GGcCBPF+p9ZyYxNZuSiXtyQ18k4UyHRdeg00WVkNlsW+IMQCF9PI1yspyOlBsto2WHF6vTt8oNVk6Wj5ddfpIdV2WX+F3RWSYAZ49z/eJntImPMRXisuGXND7aZVcUz+KjcyIV785vVA0AeEMTVo4nlTPDQziiab5CnL9Xec5pwDRN6+9P1vQ01+zB12tft2yethPXljCpw9HRb9F0q4CLAB5HaPVuCPQ0rRtaY/ryTNh8HUqywQieDgHfG3ux23VIlmPTWzh5K0YilN26G9rlxPuvGUQizfuUqJeMaUBGPnkkrTpM7iGZAqNOKJD20jRTKkDhbz5fiMeaCguhujhuW5x8pD6V5D0rTxuIq4iqtP7xsn72UdrttSqBlFe5miPRAd0zBwndhEuqQsdNbBCfhBF0sDKURLmGxQvS0Mis7PSNW9pViLBkEe34gPtr7Hqz3YBosaEMfHFSSzzQrumPOfRiL8dr9RZ90A5lXj6Ljl0LeWzy4xdT0qOEyzRl6i3MRQKrGIQocF2qM6CM0Y3XbXWjodMEgJjzaZ4+Yndzpfql64uptBTrWK8sz7ay/cyFaheQW7Zhkd6XtKDYHgSR+dzNxkAAADAAADAAADABSQAAABSwGfs3RJ/wAAAwAAAwAAAwADXGomyDGzx7f18d+iVWoEwY8eRV0/Rx1nRzLVq8PA1RIHDZ+INsbnUxHI3gNozK0bchLT82anM6MM3ciNC4OmR1iogkYlaq6zG7k/roRZDMThtgOmutrZGUDOHgtZHisv56Grp+Qnpi8BF16d4JLdN/0g7YPuJIoxIhtEEcx0GrfMN7jQD8TCmKLM2EsuGmzUyB7wPokg9a0whxHHcki02ZRxK1uhJp21TLBmfvKvXPcOvfxw7Thq6UgzmxACePDIs3XTEy3CuL9mDFLAxjL+75Lpt1tQoJUinvM34eHWNrJntrTnxV/Kb3vlUSSQ5qIQH41ML7ihCnbLBFg1CVvLe/dyTMdDx/NLxWBLjj+IFHIyBbIPSvMYdYjTsOEz3nvnPUPCyKn4rEmuBxrwaqNwAAADAAADAAADAd0AAAE3AZ+1akn/AAADAAADAAADAANv4KNy4q7v96LdqVJJKXP0hlzBqHGxbtIwr4CInyUk6GFeqEFDWDcjcb5EixxGOfVC4r5WYputLjsuwym/BMmNSdgUi6Q7Sfrq2mKoE1y0agAAAwAAAwAAD/+uZb5aaWsRdcaro15KagwdgR9rUm9tpjuZWlFnuT68C1qij2daiyc75hz5rEDjWPSuKHSmNEGi9BODbcUoo0MVj21TLBvndwlwMLLT3al7WD4DpkkHd9eDY2cDzA6fPBrSY+DJ1pLFYPOAGAsKN8UBYIuBCHtrfYBgBE5o2OnkVgMph4YpaQ+l+1A5AHpV7p4EAwSHsqKexNFQCbe/1Ex0JvGJso4Sru3whqmJyUz1aMtlFvb/2kBOC6EgO16CP+2AAAADAAADAAADArYAAAGbQZu3SahBaJlMD/8AAAMAAAMAAAMAAAtgec+W2e/Jrl9wHhRaAyV+8US6FN8JstCmjO+/9myprAl4FT9abV/cCnoEz/r7yw63/NtmBq2pcA4Kviiq34VufN8LHa0xhgnFevnBlGY/bW1b5ylh8A1A690otjGUriWk8Xc5Osp7yTtv22rJYEpi0rne8x5llx6NcCgRlm8WOmyJfsu1BF1iRSfyIbD7lgreDdm+GwihANh2UwexnkiCKYh1GpCCFzph203KwklVGK+lcNzW9Z6DT6kdNDcPXIqOpVXvNHLSdluKVeteVcwWSwHshyA0hxxAgJDPAsBJeRNfPRg/Gd6lqsdmGjF0fV00f54AnYYjaOAhbx+IoYowgK25mByKUTNMI+YIfVEexGU1SiU77taMsMNys+y6qd2LuBkX5KDLzmEAu1nJFqzWrfFrml4t74zaDCBU4a/V0ojzr8pLvpqhUzIacNOGvXiyDk/o2cLScQHLGeZoSVBBDjJnGsstli4NTtatR/0+lBAjqiO0RkAs/G0LlG/Fo3J6fm4hAAABYEGb2EnhClJlMD8AAAMAAAMAAAMAAAuERJGt631HxGmxC1uzcNvAtVyPmUiAOXXoDMcbhfFfva5gckOKAO9FmhqCPPZXUQOhAg83wXaMk46Af6/4yFzBMutxqO17EPNshlhcQYQNGZTSKU5zYc5djTJcKLONj7ZcfwOSsBWhfl/6jQ7wWWdsR9EtiCV0m3K1fVjGfV8rYgBSOnE3ZNiGyzAZzFjmrtujgFonVTv5C9tdxWzgpM48nI6bUJHn0OE5ifR47Wdc9+1CMnKWREw22Al+4AkMNdoalfQnkqfXE5o3BpZfdrRlhdjIQXzOClaBNnVVULeslSOuO4IG0mr7MGmCKuah1DX9gP/QW1yXz8Y1Lx1mAWub0NLyuUDuQQLjQVa5OdxpcpOMdylAL1STfPsJYX55GVmJ8YLpc39HrPoKjyFILuDMIlAVLx5Ki+fP+awgXAqJMbZM9h+hjPU09sMAAAGGQZv5SeEOiZTA/wAAAwAAAwAAAwAAC/9ADqJAz80P6FkVCDXcEQ9X3tzfUgkV/nyw4vhZv894v6oYfj5xoB+bVDvAkuu2GVSQ827/SEwUDaiMXQIlez6w64821tQOvpuzU73kBhJ6HghDf2X8QG69qZ3JBY44ojO4g3rvcSiO6E8BRNw/2keoltBclpFbHAbrEizuXOsL+SVhVqdPKFkQZRtcAUAcJOeiu2venf/0qZ2BszR219W8dJyJ1rKLrVvL1CGr7DFfgFCdgeE4WZkOM6tOpbt+vY6HMvqV6ScpTqk1g8wQ9SfxWtdU80/K/p9Hr54K+OjA1djy813e1/PrgOm/q798gDzHYvBpr7VV8f7drRlhsPCZ0phpLhwaZiBFtcvUWWvQHBx5CEjSl5lULFUzmhJpahZ7NRe1o2DSWRPkJ/2diJHFBZoUw2z9MwB/2nAAFpvnyTKLOFc6xRKlOE2IhUq/JFnk7I3+BbiUjAcHXzGcqEEOYfIU5YIBjcRcr0zpoF8wAAABYEGaGknhDyZTA/8AAAMAAAMAAAMAAAvfR7Vs3MDnViOFCv0KyZVJXGQ+nUhtCHZmEWTNIbA/or2rmGQh5FEywRhno4YujWwjUbwU6weAuOD8aUsJ5EL6iRUnPrKf43mS3Eeuwmw0Ko+W9khoufzgdv2+tBW3vRthfiTJk2Y5SQOGpnvUFZ9BOU+K2eOh7hdAlMOw9PswaUM7nG/nulMni/Y3HVsJkeZxryaamiAN6gavdnzb9t5ibZDkfn8E1oRDiZzVOnL3/CALhBHt9+Tde2noHpU4tCC4Tgu85MXYdHHdtUqgmFA5tMABmt8vn60V07wBct5JL11gQz0ezXhBAznQntSSuG+hCgMpTb5zCjlZXmDdmFy7yrQwyRXUHwCm/FH6oUqeVnNE4HYKL3oMnhCesMueNreLDFpdjgAdE6oP+tf4ZY5fTEY9H+DwbPzwVfFfbCg/ONLJYPUSnDPT9UkAAAFxQZo7SeEPJlMD/wAAAwAAAwAAAwAADB2SeWdPdp1sVkxeVK+7iYmO2LLCg5LHIIbOerKIHFQOllY0qmO3HndW/1WuIcX2KFGEcrkIPmgmMfZ78RXnc96hkNmYtFt+zg7j5+30Ib95J6Zrer+kjl7AfZQKYhxbNdX1sPWs0A6dRj2X3xZ5K7LddWtzxXtz4GFDqaBUyxoM0SC/xOe4Tr3mH2EyamHTi0AdsTe5zem5pebWuVPb7gMThKZx/K2K/H/Ce3C1hCsqzNEVOHNfFMriZa1PLs4Bm0xAWwaNtEqQjZQPn+VnfqbvRZfe3xLegEd3Bt43dtTwhYd5YQYTHx4kZEIPXix8MbYHJXdoucUXC90Y1SgRvk6kCp1K0NiokwKMTE2qkMHISFeejupxtcEiZxuDmbMlcaXtLTU/66gHAtuT1RLoMLOarUs4ckpB2BAmAC/dGF6vmFlamY2obTw8atpXfRfitBskzuqIx2iKOuZYAAABPUGaXEnhDyZTA/8AAAMAAAMAAAMAAAxtmiLbkExxLF0o1+8n5pLrmJszvuUI60KKKzoGzGUOct/CDBJRLItbofGg6DLA2YdUy7Qs1uj8SfDtTG6zcLsJ5kuElKM7a9dpVcVl3ZATrk6Y/cP0ZQhdoP3YDRbdfIjBXClHm9kqy7zg4pVSnBPGJbQ3UE2rYRPtS1g3ysAz4GVE+xiXZJLShdBZxk/hNQIat1SPbmqdqFHFx1bDFiit/pQkhNQzkEO75fKK9xYXifIx6W3XHJgcQJxkONf0Tf33a0ZYc6Au92/A6BGG1dueVbtYf4LHe4oyZI7sCzLuSR0/VIccBwvWMHK/+55d1haCsMGwlU53GuXGKk5EEaWIrdqw9hvMExYDbsck3TXPc9DKaKDVkqgYZE/lhKs3zVEdbQ3KNeWFAAAC9EGaYEnhDyZTA/8AAAMAAAMAAAMAAA2PQEF2qrh+RKAyh1auVxwcxO4OSpC/yW5nE7Qm28fQOfg9ubNMNy026BDbf/a2RWI9g7RfYl9AzPuSDPwLm4/VNzqjmgH/Ii0sm33eBx0/lFiOR1yuB0IbCIRiKFvV6FYqBKpTJAt8kpYDjnkaAWEsBObfibXsGqbCb/9u4Q1Su+pYNZqJtYF2pGUxnVPu7XpxJhArhdT2nFo0st/LxIqVs0idYXboS+eLK4vEzC7E/d566c5KUwd+i0QrUG/tcA3lKsFCF0+kaBh/MLJIfmz77aRwpndOvTvfDtBBGZGee6baHS2G8/8B9NKR+9Hy3jnk52ODrIiPx5BBHps7K96ibGMJ93uxXdXOUlHjytlQaKiI8msfjpSoj6J5s+exAF1Vl58TC4iHt2ymtGrlgKw3W9eluJ0Xem114+8N4veJbECQU/Q3PtA3jBoIJgY5/vLL4s5BQBBx8hOK+n7uUkooAdMlqrusjxRuSqTnkq9xbEGYZ4dWvY97VKoS+AawnQkQNiO5dhyJBJUXNhSFJpRNAEnqPJGxKWXeSGmCvLzBmwhhrK7wAARf/cHaBgwcDHYqwhvyj7Q4VKvKWJyKAmBYnkyX7yaSV/gHmy7iFtDqzGLCPBDuc8JxEV6ZbA1kvT1qtFprH2VGKNeBR24zoLqC1HISt8Q+hyLNQDuAFA1AFfmmv9+3qrV3J20LJM+VKT5+c0aDxBZ2vB4KfBOCSKaLpTu8/jP9xkMws/2OSNUbNhFRmu0QEKoUkMGt07hQ5epDyb9wQf/QPZEpw6NyMz6cbil0HYplxvBlnSiGJZ1LeyC3mMvdvXNMU+H//EnLusyCGI//5lj9Kjf/ax45FdEU57vVfubXg6qB4ebzW21bqShaojYVNV485/kv6wRi+ST7ZlCTlF3aiobswKedM5efJKDw+8+nSpUjHa4UgzEP4Qsf369EdxDu9oFEJ2uKwiZoeb4vPT1Q0CodDH0oFwAAAbhBnp5FET1/AAADAAADAAADAAPyMKdFkKwzS6Fk3jVjAwIWkk7KIQbFDHASeBhuJ9SWfqUcdC9rK7xBXgnmMIL0rAWCuwKrfxJKyqKnl1mntlbSX2F1r83W4+S9vZJhpBoATSLTCQRfGEVnmOX0yXX/goj1A13YrXcNmJrqoV9kNC2a5qjPXwWB9GUH8t88SXA0K6yf7OQFiiJH6W1H/JUl56lXmWKLs/g0lJxq4AzbOnWqMyz41c8ObahobfcI2croRBDdpKbPiXI5yUHuO2YaBUfyL07WXdtqeEIMVloYgLrtqeht7aerRcvxj2Yvpwc52AezEu/jOX5EvuhN4hDW1nktqzTcXEvBFeodEV9BYiWDMbZ4PQurj7YP0nel3NHgQBA50kj/lbGBuAgyPAeNDDSNL9JNYCLfDcv2eakNm5U30ASJgnm3mHdalYLKMYRcDRjG1yq+f0cmR1c0EWypBnsvBdcpbIJcwuUncstN6Qwh1I4bwtRXElApcij+jH/zZDuFmitlXIUyxyhwnIHr8lPsURcClvP/3JjPP5cIhfwCC2upKIHDBuptKAAAAwAAAwAAAwBNwAAAAbkBnr10Sf8AAAMAAAMAAAMABBCo1COmKccU4UP7CLmEDv4hu37X1zdcZ4vLg+yGKKT8kPAfH9dd5Y1Davoz0OaKkdctVE4CP4Vrif9HqLrf9OLUDxR5lx/kTslO9+OlNGhQOwu5kPCcH6GkgGogfqIteJqGmOAoYqmY1PjuiQuzkoMIE9aW2SxhxhOJMr+zr38EHj+y254Bifc+l2U3uYfn2Po3VneXN0sYZ4Ghgr9KBnTNURm8kZ9qboJha1BhUmQSs3Al9cbh0U18niIjAFNx722qVQSz7rrdPILOhfiJo2TArE+qpApO4V56JpqYUlJgTXkOeARGP8WxTtgXE2tYIEDC2UOfBLRTf49oGwhZy0DjRSCh48xskadfn9ESsl5+XimhLKMVlcBR8ycY245JLYFyhuDlQFWPbz+1jkVTMQJdzclhSneArUfhI3IAl+g1e4uqDarNt+Tub5gzVe7myRUlZTiex3ArfV01dGE6BWKupKWUH1UoGOaWoo2yZ5YQIq2kkcNJhpRSx5SPeDxNpiVKOx/AMx1/xKi5YFz6bPHjHYzhwNx4KUQJ5WFgAAADAAADAAADAZUAAAE4AZ6/akn/AAADAAADAAADAAQzLuQhgGN5fWeN/LJATHbkwuBBZ0fL0lHjk4oECMij+fuFLqGoM4UsDA4ANztpmJIeOnE2d6V6eBYmgEhCYPal2fOg4DT7lA+8szOf+XU1uH88Fj5xHOLL0E/uBt5EUZgze8/B8Pr2vCjFHGCp9f9mRrtBTKlNyzkCuHu2qVQPg5TmIpa0OwEVw2YX7Ery46FtQ4N8SundgHWCNtSJ3EdARhaaM4ogPX/Ie6Td/oaFweIXGVoZTDI3R9ygrNlKSnNBl4+zgAAAAwAYQttUzQsC/oB5PyvoGjD8OqPkEGhltuGvZVaGlX8ZIyqNII6dmB+tYCFGAu3tTFHdFOBE5x+ejmR2yi3POqTvDFn3yjOCQM6ZWSg/B2zS5ZK4AAADAAADAAADABbRAAADM0GapEmoQWiZTA//AAADAAADAAADAAADAxPQA7lQYv//fhL+7BFvBVXQMqnFq/Orf/xhGAhxd/sMKnD4IxNg8cQigoBtMmE2PcLe/TPFtX9bJbCa65i6Graq7pMjqMgb26qvqmLlXHUQHrf9zuvr5Nle24Kdtr2WYe/WwkmdTL+LyD03dBNUx6AYhHWz70pesnn7NGnsPYlsmYEIDjgTk6ckFBn8h8qXKY5VYqXMxGOrC7tzAQTIl5o8SwwOdYeKROSwhRdbIDpIa8XfFgLDjxugokiEPK9okfYqpQcK8oHUGbGa5iWQjIv955gswdY7w1TkrPhyu4YqqM78zaKZdgW2i25H5ym9mhzEwVCojBcVP4zZKGAfH6B0SD40e3sjAswViRQTNwKOWPTuvODC/sDxlTM9uvBqYcFO5qQO8o17IXNusNGhIapZafZpifYXA5fEh4TIMP29BfGhGolYE1HbanhKE1Ut4rLuXaqQxaMkeG6rYPsUPkXDikwC5uHHEChKGBlJFCLG4DzWzW21A/veN5Xy7aFZHRZduNoAKDeLwwXitsbzw/XeUqBqDTflG6nSqOHjOSdWWY/pfKnpk4/xVRu4BD8N/r0JKXlzKDXS+6Voky0arelCxLTHKb+Xz5gwF+JfwzUaz7Z4ZRnl++vxxN2lArMvwzRkht+yYo3AN0qf9hId7ifazOptKSRb6SOwcG2yVuYu2gvmRs4E8PnbBCmXcs3zE/QBa2a/zbXV/16cdTnZC1UhT8wyK0a3nsqFLWjht6rwTd/Rg+RyTAMRX78OGq87HJK2AAADAhr711X4mttg2nja3tVZMz8vGPzt9cumPoaUQK9xvknUwr1i4HInYWWPUfZ71s5cddU+/SpeRUGDuambVm5chLB0K2K/JX8oV8azOT2v+qaUAnn8i0S1GFuFMtFvTTn7elL7Ux3nz3KBd0MmHvm/h+Lk60frUz5GHaninDvwHDoJX5WZQNGtoW6Hr1obfxMgv8pEvYcy0zED43VCB6PfXFAoihgp94kQnJYA20YH8iQDHWLxKL/nBo8bFGKk+CylBuTekepwGg9taX5eV/4jBLCi/FnYfAAAAgJBnsJFES1/AAADAAADAAADAADmkDKZ6dx/vg5g7Va8oRGw5EppkmzD01XrKu0AhW0McsQ7TwETSVgK0YyzeAf3aNsj6CjhwCzmPn51v2npSLjSyqlgn5WNm5Lcn9Mh76Y/kLYvoZicryeXRE+LKIH+IqVdLmvXvTKWsZczeiOf0X3anrC5QGbb6HKkNnX3Gk2p6zUm6nndgq8npBtQLIkCpHNhTKQ5v1WmscmEcHZr+ZgaeM9eOOZ+widTR8PqICStGZiNh7yOGUleOD3S1YkiXxhZxbVMsQpgww8nUj0iOS/wVion5QaB5SQ99PLyFvvm/FDD95WGbEd2O/hf2D3//nRSV99eV2eMyZ1uYSsw7Ehm/fgEGu3svIi3v45oC2KpVhg1OrIrrjFOJs46u6F2R/Gzo4BOxM22wcnaYTWlmX6tN5l9OiOlAT8lkoLeCbZ+w9byTUrWDKibzULRB4CzHAsUF+1LpP0r6FL/unEbjd2AADAEJx+eGr5fe1tfxlN/gNx8Ytoyv5CHRGFgyqgUeRjhcIAQncDVR7Dp72IjGsZFATZY8E3SUAnfpFBhg44MQGaYQiqilMxQ0ha7ZrqC12Ks6Us9U5vAzult0wwd/zn+fYkbS6irgW6zbsDvM6JXvK8G6lNkd+rM5gDnZzEREz00oJfExmAAAAMAAAMAAFBBAAABegGe4XRJ/wAAAwAAAwAAAwAA5WZDecfBdWDwZ7TJ3e/s0S2MBjLprpL4IhWkc2kk641bs3bwYABl4yLXdhqiU+ImzWRttEebJxIPzWXNUgGUQ1MVNqvr9wqBrhMFKv+w36mOPqr4eh2NO/Vrj5nizOQoVLFWjlJKLF8uLLva51CEptz5E0w/fclePOrNjIWweAybQAHo9zRmGnm6U4QM9P5hxFnX+6Z/MF52tGWFE9q6W0JoME7+ueANwq+vlHXnofrrVcFr6yG/5HjfKMccPN1xXbcLpSsXjM7GuULPy3x8F6EXZOQID0BjPQgaHwG79Ty3Nqfcut4nUtAHmG0Z8med38jeEADe1zsDjgBLb1BOkYGfFhQlNrEXNnnHrWygRqkSxwY+7uLaj8q/E7OCJ0VxE4OgI03sijm2XlbWOOU1+eDX6hAUqQPtw8+jLVzIAhiPcRNAN/8kD3r63m1RtEb8/+AWrH//G92IqXlAqIWwAAADAAADAAAEfAAAAVEBnuNqSf8AAAMAAAMAAAMAAPKyhFQGpHjYJPGxWfteTUKp7+iQJr9JNVaRNh07do042jqM87TIxpODIg3JXvoCXjw3f77m1EwGSTRgF4K5HRy9U7WrXo0pBYtXplYvWL7Gu4966siHp6kZnWc8Ng7iCjlSWESwT2LuMC/uxly16p1FHp3GiBLGk/epYBlCsFlWSO9cXhZyWoc3Jsv9tWbCnv00USf8R+nX9bVMsNwqYBKKyDAHVWtG7yloBwuoe4tDoc6WoQOvGICRNCNvgdDOPcEprBG1Feiol+mxKOulzg3PddFMbq15AcBvsWj02Ic6ECBtntPmHpQBcLnWOicabKtcC+cpdVfwtuvlyzdKhlrVamcw9soHQ1F7ErtZ5FKi+HIa1W7+TlJx9AYh2VZlAQ3J2hwtVC6bMuBn0QTay6Y4bgcXoLAAAAMAAAMAABgRAAACukGa6EmoQWyZTA//AAADAAADAAADAAADA2PQE1PwEDrI/xszzlW1mc+BugE9dQ+3ppIf+ySW36WfYuGMCxJByzula+B9rt5AOVuUCdoAIus5pxjhl6blmM/CBP0gVZ5ZMp3OoJYa5r4TwSjjo5Isbbdr77lq394eUiD0P8LPi3hUYxRXGV2j6Nm0RU4La3wvbKdbWKbGD856i4pji/vFVMx1mBl1jE9JQyqo2Ibb64OjX54qvyIzqhHpYMnxt9YMGRBPo1I7//ZEa7RMV+fBdSo6l6gpEyUgY2QvoHWTZlZnSfI6LCPK5DZ/TsYUpWqpCIpegvO3aploiUGubs2Pz0+9w8rpiQ6yvFVA5yESlU5yiE7tzAyCJ4UheG5SiGpT2jtdvIbMCVi4DbtiCfO3tK7DlkACI9bryLJ7CGAvKjrYtut5OVuEhSjANKDprG3doTs4F4vBfNbEzNgeQnt474dwCoAGSewQhicSnZTtpeXdVZD0XxhaWTMbU+hxfbz6/urGcvjQgbditetxKau8bg6NsTbV9bqM3JEXAM4o16IFKAzY8AIYxv5uhbhY/nNiieW4ChHrlnkt8q+W07tfnsHdme5A746z/6ls8WG96bK4qOic6gSFFMEnPZGh2F4s7JEx83W1z3OI5K9I976Tv9DCepcvWLtGO+lynMxo5w2dEuz/IR75U1wsWyWsrytsV/YAXp9GJI8YteEPzgKbYxAVMPDHmVJrQtFXMbnO57CxI4248BQmKR7g5tY7NAILvFlaTBCoqH42gUvzXPJOO1eEPadYiG2Otz7MpWxq8WEDdzA7HA6T/cCKgFGD8MPvJjn1R1C2sSJsl2dzRYe8k+UcbZFqd4flaFuAuldwddVtSDzF8LlhjQCayTWAqqAUVWGOMC5kxFrtdvvdwCrryncruwgew35CLUXBAAACIkGfBkUVLX8AAAMAAAMAAAMAAPyQge3dJcjAOHbP1s3tuXXkmkNZpAoV9yGN+qKLjEXgCLvcF8SuepVj/QpWPizG2DKOw2vFrnHQoHsJbl2A+vzwd7ux8rnOgZzkNtQ4S91TxM0PFXwyjsI2IXSyT2Vx6/E9BbJaT2OTPV+saaFN8AJjkhp3p8ZcyPWqkzLneSx1XG+0XaLiFmwhbns/4AZrv9mOYa5SAwKugMTYM5mTVGw+SyMXr0PNe0/6VJXtTETQuH+9EaqbkXPeyEfvAHLP2xYmMaTutiYpxW6TIRiU1qzBz9svs0nKC2mthhCW9xyLQrVMsr2Pwl669iaXl/2UDDyJK6+jT5FrZBEoiUxpGo8zKIHWG3TpF3e02W3dkXDWYWlIZstbVwc5BRF1awNP6OLVZ97uiLk07oQb4KC4JmpvwFvqi0R4U7Bzj2xaQheWQnwrBKGj4M5J54CXuKEmicI9Pk/pMcuWFS/G7+4QYOUy0POw8WK2Lbpi9WmrviGx3GXoxoPiO/N9gvLAwe+5VEMgOHGmF6Cc4mr+Cs6g1bg/274m87WYM2zr5TOFD4dEU4YCYs3vi8yAYJBglNZr+2OlG+NWKlkwaeAvKH4AiKP8ynU8dju6M1YTZy1QiFM0ge8EVVNn1LHm412ftxSwuynd8oa6TNsgYCH9Ev6dMQrSba2DmO2K7fEj5w09DSBDvTydkAAAAwAAAwAAAwDAgQAAAW4BnyV0Sf8AAAMAAAMAAAMAAPzGaTSRsiWnbJxMzfkLB9DqklunfGlHnVvC/Wh00vn3bTt+fulX5QClMqp3BayBIHLOl6yWKlKl/18nu8VKWrz4ydnUYwUoV1MVJBFujiFzXwxfe978/rhvadUPK1ujqAw+I0IGDUkpkcK5PNvgehB8vN+WxsHdeRyN1bgsPSQshJkqfvBhCJo9zNrif2qZYyOa0vCwaHNSbZNzukCvSufCn+8yaf/pFv7DYNUFR3wUQ3JXLVPucCRTHmPNMMPBPreZ4Y7EBu7n0Ynh0emoAx8bspVyMyCgDoNy54zJPrPgWDuQEG/uWVSoaERtHOhkcxm4bsBqaaUotCO5D9Qk6BZw3aWwuwpjc2AYSyqsAdvDY4Ay1ezpwZ1/Hj7fq1L36VrDDM5hUJlMIGVGWU2j1V+95t7ll2dBK8NzOANHdkmL2UzmkLFRD4q4cau1gV8QqmIIAAADAAADAAADARcAAAFQAZ8nakn/AAADAAADAAADAAENZSuuCw+TMB/akXH0FHemfEoiKfypJguLpUlL8xfQ4kQxhp97mcmeoiiOYf/mWPQ7WEluGQqM/cvGW2Ipj6w4jxu94yM/sYqpEi0w4fXmX6MjgyYfczTB4FEHm3VuR8qX4yBmGGrBKJJGQf4upkSsu/kGhUhlrWqZYydRbjyd7uYZSzSU9LW2YkMJAaw3v3mZpYWYmEWiIXIh6Sd+TjVABRXSWUk+9qRh+uGTCxFNttPAxt51IERi3F9zRoatMOKu6WAHFIfYKQE5qQEHsnDyh8OjzHPs8pgSxggqieeoZlQs+huRlLbXQVKifAe1/qEgZyZdMyAtiAvEcTZMZ+JaYyhk4PsZMGz3SDPuRTgkEjfKyosVH5mIDHlnMQ0Z9dY0M5dj1jXX/moSZCeaAaQrCICFZ3AAAAMAAAMAAJGAAAAB8UGbKUmoQWyZTA//AAADAAADAAADAAADA3fQE1PwEDrI/xszzlW1mc+Bugswt/2JwqdOM4BN8Legt3BtIjgGkHvPIyWF8q43XBGbZMlMPAWHKu/aJiUChWztTBzHjBjnOzGzgOq5ta7XvQwVqD17KveFbM6OD56wA29VVkeh8akrnEJPnxqvjpdtEZCDcQ8LZiQUEpgGl5sK2rROQHYhL1oN1jFKafBMuyvc5A9uOpef+xjlaTnPfMlBBgiFvCOgKndGeluv9jLg22qVTfs9xL8Tu29Kd4c6AGlZXrGhxxwRL2xIUGZUuCKpSuwnA+2ms0xc4trhcqHx7ZLm38MOJNzuUYGM7dV4J5R18Rpy/qjScSFW8EbsSRZfzQPSQsKNai8zmSoWt2z7sAefhhdzxJrZFEMKIKvVsfTo8S8QGkHrrEcP5xQ++eyP6hdoeX8uBfHzX0Nd/g7AzjxG5rDLs0dftu7LMrrtRVeiHyV1lFeou8Bc78k0peGP46nnTAGmJLar9sgiSJChI2+AdtSDbTMsoXbu4V5UmhkKeolQxxmzCwvn6KsuUPfAZEagyHQJ/D4PemWqH1YoDcnbdD+39rXnqpK53JS2UTYu2ISN9+fAAA6rxDtTNDsEA6GZCDYC4Aaeq7J9LOfdUbJZF25I7gguAAACUEGbTUnhClJlMD8AAAMAAAMAAAMAAAMD5dAWsB5IGdZH+Nmecq2sznwI67uALX9/dr5O7C22CkvYABtrOkir1JP4RMDGVCBGp+kCF69rqr/hA1YfJlRSoO/fFYFIq097XZUXFQB9gOHuC8peD97dPfzsPzCBQ9OHSv2avjG080CUdRmVhuyHGYdgY38TLpTPdZub77cK+1FTgyrT0tod6tp8IkxnAcfHf8IZqkDGPf/A772oh95Z/101/QVVb4k1MPgNuwhh01OkXFI+4AnWPPvSCOuc6jPfTnG637fCXeblZdK/h3apmdpSHG72Tc1Y14W7ozneCpvjjouPZMobntm6kE4AMqsLnRs/jmzl7tb7jiCxbj2ni9A91bTJX9nVJWnivV8WRceCIuohoCBQTWWmADteasJEVf2zNxq3psox4xMBJ/Vkzq4TQ0/x5Xu1hqwYbhE+NPQ2F5EbLYypaDL5yNKBNddddfuHdKHi9StS6enpd9PGxhTjyGZGZG8NscRDIwBqayIbjtdqnVlNleRBbdo6QqR1fOlxL+ulgm9Yw6Eddh3ZAQzZPJYHwuBy12fc5Tjb2mCzK39tbpxUFlkt+BlrTjcQbGf3vbBqHRagVoAKawwnpxNpI/Jv6oVY14hxOf4x43640pga+UuXqfivqqPQhWcxLc0m3CTQEjO1I33kpcvOojCWAoKg52oJEAi27bLjg8VrbG9MiBlWG8YPCRcCIo718gJiqFAc1VMK+nQmZDaC9w+cqAzKYkNMe8dPncodNM/oP5ssSZEyIR0AAAHeQZ9rRTRNfwAAAwAAAwAAAwABLBKrugGAMpMAy/WVX0BS9py3/Z3EIPk7N1EsoApdWE5MsIS+kPNuzfk6WexM1mXw8noCSCtP4BGpirbZn8d8nU/6yCJDKoF/y888kyZ7m2kdffF/dXD8p2l2YvEJQI8rJf4DRQE4I1HhTm9SZtkD47OogxiWNp+qlBcqgv8mv5Io5QI6AXOsBkta6A7R0wTWcjOOG/OicGe2pVbHNhDwxDi+K7orze2eT5+DqaO5bUzRl5xRN8LHTkzgdG0ynn/s81h6f9sJk7HTpD2BcEDIzuAObFiady7UkuOdHQzVhiBk8Wx2Z2NbSGRO8P3Y4XL0s8fkFGmRbE+GwFA1sFnsk6yPPFfCXNsE+0akHwbMj9AWH95zhFL561qXGj0aVgrVRMxZ7hw0lJwidEcgc05/Lb6nApy1dUbWKQ2l+SiUsPePgiwcAhADMiuU+1oFdTzd0KExuAAFFLeBWgKnjLpr29E4Fj4TU1aTBd7QKTKhjgcCPKF8Tz9B479bAaBURuKNNSbqPx/XbLsMKPOKEbjQfxFno3QCeIALFCOCriaqo4+v1K9ARn9pDUajnJdrgTPCoI9Jqj8ynf8F1sAOep+MZiUgAAADAAADAAAJeAAAAYoBn4p0Sf8AAAMAAAMAAAMAASQqPrK8dGJ0kEvwgi9u+n1fPo+TMauvG9Y3aqCNnOPS5+TTKPITiGAKdspkig2vCWSxz8nfye8N7IQQDn+v4lpV6GFs14Gx7jEmm8rpjYu9FSPFI6T5pwya6bP9ECOY3q/+Co2o2LS/3yYPjfvzqXC1kRRViEe/IDqVGTkgiDBh73s+Mn15YGO7StvUdNqmW0Vhe9sP0goHobMWxNQa7Ya+YfAboKshzDmlWSQLAv++tkzkc3FQe9ax6BuUIAffFlgLzOfK5BwgzDYmjpbizqgd2AZ29qYtoUqv5BogHGTFUzgM6TMaswCf2uvqYBpuWJbNIRcRhjA80EWS6oI12TCbu3GwJgPgxw7Euez3TiRB0sxJrc+cLFSYYjt/A6Ivwyi5e7Om9y0JB6r/EoCDc8SYtZrikMy813aBv87eYt8M6rV76lzvKlJlan4/ABGAVefpMCPanX6t2yo9XDpAcgx2XenLRAUdoDpdThlZYYAAAAMAAAMAAAu4AAABIQGfjGpJ/wAAAwAAAwAAAwABPJ/PfTFkXjYJPGxWfteLQ/Vxla4x6FZN0xSGmQnTzjAz//zgWbau8DyQ3iVEMBgnZiiAJqtjU1KlT5u6eHOpfTzYRQRCxhGbwOgrz1kGkp3fXWR+MdZETgXApUhlg9TD0t9SUp6VrFkv2/l22ChRcQkDLMJOxS9PaftUy5+tt5d8v6y2Y7xCJIOmuWIfnNSn0JeU51cKDAQjdmGpKZRCpzJHOQdM9352Ayupf20Rphf3YWmTyi7YfxVK1cAC6RMHopy3jjwo4tpz8xIFPBeCBTGWIkceV2T5x7bWlb/NblRp+Ko3fgUh5fkDowMDWw/Kpa05nEDcGdoK9EcrSJQMOMS7CdjcAAADAAADAAADAj8AAAFIQZuOSahBaJlMD/8AAAMAAAMAAAMAAAMD7bNfBvn4Y1PHugNBJTpIvSfT0RjRLkG7OWVjA1EGR84K9oTmQ3B8w5tSP7JRv5lXZPdTbpp6EmupmPPxZ4XTffU6vNOoFXty/atU2L5Y3j6lJBc9tEa476ZTWLtW7Gjuo7fWqFMmBkM37bU8q5e4FgT+avti8a9QVjZwE0wChTen4z3rO4x0inWBLXy7+020Kp1kwPBs+BvkZ4MWahSsOPsjtdtR9i5HE8rJawaHOdBNJ3SQYNx5/uJXabzb6JFFuemiZyMryn6e60XaJQiqou66x2gv68mQpWUKlbK+9uxifvolTP1uFYzvZ8TbkHXW/0R2qc1+JpKlOPfDSAeGYEneoxtusE7SNJO4vOc/bEqf0PJS1C4p1gNa4bSWd3KqZb59nobZeAJdoC6GPx0Z+QAAAWBBm69J4QpSZTA/AAADAAADAAADAAAECQ4AMrbsMWaES1qp3o6oG3ns+vfssVFTaOpg7MyRY6BlYmc71Td+DicknPF960OFWPePOXdOsmZU9iIP4jm3WHf51AakdRX4YYerdg1SHqnPbAgxXfI/oT9nwNNRMwC7UXMpVZx1H4MZVJIesK2SSq9DQuS84WbbQi9f3kxKegyCtlkpTbcLbannieP/7G4qW/ZpohMJbWf5julWv/0RRZ/7zEO3U6MI2NALrPRo6OlhMYqKteVfVC7uMKc+SWxrSn6W9KHj1cSya4WCDX34WqkAKyuV2nM9H67B7iDmS8HzVnHOjBqoRrNeg6Ot80SSsjqIPpQPCojOyzF6JcAszDduY4T3BTAQUF1CzpIepOTpjafDnZsmMDWBXhmf28ZZ4/B2HbW0ITytbVSuBCqvhJVfNivtfnsCZoXR7N+ksWTgyjDmMQmfVhQPAAABWEGb0EnhDomUwP8AAAMAAAMAAAMAAAQpDV8ytuwxZOO5a32GCxZqg/4Md8fW21v9eS67hrt1Dxv0WuHWFU/NoIMFC/qCkHUiIKi+Sd9Zu4SsSo+4TiqzyXhxY6UXVwNdMzPL2vRLswsbRgS1ofy4WzdfJUF1zCZV5GHOy4/Tz/ecNYpHFysPWoRFCKRVkVsuQOZ6N9JT/Z7oEl05Mdm7WjSiO5nsMmy06198IcvKtMNC+6FwW6HK0OvOCKDQPJdj3w+Mn8eFtufLXVLgNJWhuIorDCpjkUDoDNZyWGmbnXD6V+YMK7QUQQVhpBCWhUWmFiBIksPLlEkr6fIWMFHcSiZvE/kl7QzIideS6d3sGLoX0w4MmgtWUe6j3hl5Lzs40iFifE91kFpgQh6DUD3GBYIVRdBac/+SGE4qak2uE0c301rl68WO1JN1JpK3tDCHxhmEsmxEfxuAAAABYEGb8UnhDyZTA/8AAAMAAAMAAAMAAARY2CYBrZ+mjI3Qe3pYq31pIoLHJnMTprwmi7zWWgV5o0Bs6asRRAZdhR3y/6fw70H5iyQZD7tbF94BBusRDNHLLX6jfSWnSuC0lokVY/a2+Sv3F4eCXt6Cv7paPuNmpIOyZrDQ/jlgIGsrMBwBCs8uow9jddal0CeKdJRb177ePAVeZ8Qsp8KVBOW60eI+SIAzPCx2OTtiytjXAFTNCVMJAnz0yaFk/EJs5QOV/DfPLdxKC32DvU341RmyG7Py6sp2FAQYR/PvW4MWIOYglNUrSOlgGVYWYXqEwA/iEHHy0GL0NwvOYTXoAzDmhgiHBqHApKX9AflLqjLDU4nBKJf2z0tFyESMkf60uBvetgR6hX6cd9p9QdJMpnjsNH1GdGiehroeZUUFEiLaLvRkZLiKzh6RPAQ4JO9ypRyionfgtzK+6n7PPC2sYPAAAAItQZoVSeEPJlMD/wAAAwAAAwAAAwAABP+sMCRRkDOsj/GzPOVbWZz4Edd3AFr+7u2FPqNvBGoQuP3Ywbs0QfgyUtZ7Qcutfb59kAFAIu2Uq31eTAYQVAtMZD7G1zFOeDn8VnpndmX0SRjmLnS5dJBBL9BUVYa2VryKI0dsicF3V2ZX4BJ4GI99ambLJp0fVk/idW9fqCt8kSeSVzzBsmupmAaYy2YlQ+vJVPVhOkknnNuU6Z0qpTPGBwe6UerQryFiFVMtipwW+F5hQf5eUxnY4CIIMKITM9VpuqbkIkO53Jcl3I281RNC08UwRSHAUbcanyh6cicsqRXLE2k+gZqt3TspCrVXQurZNaqoP1LgxxGGJQKsgAFbhJ1GleKbjaKXt7JaS7ji/xyWbF9QXchVuoqCbrAzSDcN7UcAX8/mI2y2UX53k6uWk9VatOuzra9GIKGZWfEHr673lChRigfIJ+phJGURtrHHMq8NCU/dT22hHW6zp8NqEk0R55Epkr4JEvzINmf9SdPh3rATVeywrTjATrYab1SmQDNufJFJNOrag83jpjbBF0yjfmrG7MQnZY2IT+hfVnr4iA/YrIYK39XRpNYUieBcOSOwmgdvw597nKv5ykioFuCTDLvdPC3H/Fr+rQ1VcG1G++5AyooqKbGVxXWHlmxDeso0YgPi9Synqpi7rvLaJ7K7KIlCuDH6uWD2glR0iaXjDlbs8R/FkSnqs9FNrBSrTZQ6kPkAAAGrQZ4zRRE9fwAAAwAAAwAAAwABe8w1XVnK44VaStq+X2bB2cJJT9vjEdaAZLk55O0ePq19MEWds8J7cf5ZcAqMYH9dSBnyAQZPgd46GCzaZ3l8kgyzVTORHP+1UkdzoUu2uH20cWdVQXkTBGIaN44MgEsPazijeInvDpMofTgGvV4WCqB57bgn0iWPbLKuY2GF92vh3f5LZBKsJLYXog/Ac38qL3wEzeLpsTAAlBJ22OQf5Ep7DMjbWyaW+vPPZ4uIP/uXVlhPChL0PQnIFfRCWNUAOee/rigBeo3jbUAD/ZCMyrw/E9/IZ32iZxTqo47VzlNgaCDc6UKz/3xPD09hV7EKjFYzqBaZUK2/nLGhY3UKePyYaP8n583XrkIZOnZxdCd4gEWi8z/awbuwshLreugw9huHWsG1XPfXgA1n6Rz3C+TzOTL4Le6Vq4OgqftUqMxfg6x+HSlS+6Vi5lWEXV7bdPGqGF36eJ9c4jQaf7CGdRCc+XlSN4GazOB2nJ0s50ABcsT8x1h+hgCXYhXm06++zUqridIhRVvTeAX84DugAAADAAADAAARsAAAATgBnlJ0Sf8AAAMAAAMAAAMAAXLCYr46LoU/FPuHEt/GWq7pHrrG53fm85qUtnzOef7LirrnsqCCRHyGT5QCIgjlMvUlCpGuOqhKA/t/GjUMszdJrfHLcWcNvaH2AGWJA2izssuLJWsGkD2KQwALB8YUIr5dCzH+2ij31YSinnQSbyLlqjZRIDSOZU51rmdJjanhz+sJ6xWfc/87DWxLcFGJqzAXjuHnS3595pcDPSUn8QYaqbrk5WBz2WRUFooAQgXZUsN7cbJcQn2VHAheYuD0eMpEGQQIKY7pKjRAU6rMj3nP496qO6zxceCWGOIZ7HgDxplux4sb53RvjMH/0OserhIDh7un58QRfn3yaEYQclIM8EUAIgzrgtT8dQTN0wHG4ZDGITWH7/MAbdkAAAMAAAMAAAMA6YAAAAD+AZ5Uakn/AAADAAADAAADAAGQB9i5S9wjRB+6UYT4X1CwZyjhdngr4w2hbzgYufQJL5YQxGuauZ8SuF/NRLYx77xlu77OiYM2ySGWPPR6MOmeSeTiWoD9lQSDuZrOerHfjFdS6ciN2CQyVMEdSPaprjGOcG5UaAq6U3KI3kIjNOD1ggwaLWMbi7JsMmh4zMtg180u3iHB6TlM068dn2RGPA0hEOlju3RkNrxXIOBGHhWLsicYEpdfk1Ghqs4UY1LaLrSgLMf3bM9qJgZqRY3FOu7wchzxhJo+9hheMJmCFej8AldjdlWNyFTDYIOSM7aA904rgAAAAwAAAwAAwoEAAAGlQZpZSahBaJlMD/8AAAMAAAMAAAMAAAWMLJ87bg/ND+nMtpdWADh3m2DmjfGe5ELmooLVBEmXOvlIInE0f5trki20mM78LrhMoz3YkeL58mboNWgieqW+tLpMY0cmaRae62xUOPHsu5TNj66rltq69SdefxQfYiYf6xm0Ly4O5xWm5y6oBp0hYyS41yj7vxPKjs8ZBEXZo7xHGe7Qgg48qgtIFEW2AwFq08pc6+y4THQqF0cQ1JEA7BujcmmCvrpX/lfF+rQTZ+S5ieYtOrMx3adG1XimlXA+Jp3d8QZmfsTyJciK17sdFG/69xkZ/L9hvmKCtjj0Glra4xRRT8S3ZHPWZ6vIMLoPiG882W34I2kpZDFEHBZhpsC2UfBkPm2SmuSUKtahs4/JTXuiTHXN0Q2/7nbkrwAj7aqQXm4NWmYlyb+hx3bPFLRXH3TjRkhgutzGHC68mRhcBpv+GBpVtrYgG4YeUHZg+9tAOjMc/6miDCW1RFEgO+31G2cfpU5csePKMJfuq97NqfeG8MGyWPNsc/hY46wuyUp8Zw8xWIJ1tbCkEAAAAVVBnndFES1/AAADAAADAAADAAGjy9PxgRBDkvQeWdsDaIvHyTiV4bMzgymNpS1/s5r0Jlrg7tUtk9+zzgIlr34JDVmq5t1MWhndS1JRSicRSe4Eb9hpkxAWaIErVPiL9lUtf4T1QLOIgjpabeIAorXFSfgo0xfWkv4nxkcH8gPe92gpGaftPEBvU9+63xKARTNN77jLPXj9C/hh4Fil5Wue1n/9vCywPb6p9mq4/MaHxO5vOgFnY9wagKa1WomDekQoj4N1q+cXTVl1lRdDpK8bjXqo2hygBUIftwsBbLb0VEKsv+V/qIzajeFwjLq+MoaoiCZCEtC8s1biUsd7m3nGvjzHByE8CvjO3P5LIsURl8yEgNzk0+iyZrFTIzwOHj73oacLq24nTrE3fKlIYb8iBN2VGa5B7/3933u6TRmq4wwTUJFpuBT1NQWAAAADAAADAAAGzQAAAQIBnpZ0Sf8AAAMAAAMAAAMAAaP5kgIF7LDWki35pY8DYHSHOjT/cV6DLJzrmvq84A6FcwOOTjgX9bjWsUMusv9KPnqmRya1PWeYX2Jha0fG7DrT76HC+w56zvbtEYa3PPLIAMvAlvFPCr1H1+mGU+PCefqhyOtDlDvUr0GC0J2NTZQRKx+XJRIu/inHsAFYNt6ILfuVqj5QfH3+BhamDzS2qNgCv/n7Ul/5Wiz2YzJIx4oOwWxvKFANGWGWfhuzG3ZhDvxVa2HJcNUgCPMiSNZOGLhsLm7TIeg0it9/Q27gYiIHyGedHlSqYDLQLcHFGoeqMqAJGCi2wAAAAwAAAwAACbkAAAEFAZ6Yakn/AAADAAADAAADAAG4Hve41RX/q+YqoicSkYMBvB+R6cteVr8SdVZct5p1es0BFiM1iAEQ5WnitjJGC3Z+NSWIXxj96nvLJsU8HFLyB+axEM5j/snxB8VRoMf3xK+t7WgOuVB3YJQWVU42tjy7ROnTBrWSTfkwLuRq4QlKu83FsujCxpi6C8lmUzN2UAWue3l2mBkW1AcRB0pJakxuS0gQdEGtclPWbmiBWkgifZyJBuHV7yCv4Ugrzikj+ywgVf0MK5aTy9rDtJi1w+Pxv2zEG8WtZ/Eru2dy7WGdSeqMuCp0DWTs+3SaJWM4737q7qOdLQ4AAAMAAAMAAAMAAM+AAAABV0Gam0moQWyZTBRP/wAAAwAAAwAAAwAABdesB8Jdxf/+/CX92CLeCqumXr+zxTvpEBGIG1CIigRBDNiVq/+MFeN6CNRu6EmGtTMiMDJyuClZ45rFb79SjR8vEjHos1d838Fr+XHd7+4MsupcFzJ30PNU01Czk+jmgJ735PZckA+ucuJeBFs94LBtUgqs+MFDaIJKHL3uGuX/aFw9RcVNIZeUJ2Ekg/CGho3pDuvQ7D9iySpFKv5fn5I+/eBSWm7eXvXs03p5NdxUysMv6PWSuwkI9817ehhpiYcrCcb+mdFJYBfUDjD8nyWUziVSvZEm2Tl9f1HKCdZ2PKoZb/sIKF+tKM2kSr/zmVrOsh2MUhnlSuHLYNd19ccfpC4Vl8VJ4CoBgEcKdrrUsMFHDoPZQcMUQ3jpq0voXyBOy3jh9ZVbZJN0sViS3UFyQdPxWgiAppeQQ+gQaYEAAAD/AZ66akn/AAADAAADAAADAAHNX2wEZlKG6He8J4ureVAdLv60Gz+el5/pCsmeHD7WyFtQfZzUBchgA5Uzb5DbhsAXOwQCUYpYA+YD22nXlalOpyMy0NUASsrgUm527aqHDRcvxpU03t6TIv+kBgJiusGEWBPtXwhmLMdwdchaTRw1peK/BXZgor0a/1KFCjP7EZdKCeA1GxyQQFw/J8gon7DhDTsRW9o6lOmPYFgyV5OKS0iPBpee8Yqx6UpCMyveuTyCjSWXKj4zCEGvANeeMC8tP9Or/NKJxe+4wj2ishnfBhqgu2FPhy+7mjqyoLnYAOSTDQAAAwAAAwAAAwFbAAAHHG1vb3YAAABsbXZoZAAAAAAAAAAAAAAAAAAAA+gAAAX+AAEAAAEAAAAAAAAAAAAAAAABAAAAAAAAAAAAAAAAAAAAAQAAAAAAAAAAAAAAAAAAQAAAAAAAAAAAAAAAAAAAAAAAAAAAAAAAAAAAAAAAAAIAAAZGdHJhawAAAFx0a2hkAAAADwAAAAAAAAAAAAAAAQAAAAAAAAX+AAAAAAAAAAAAAAAAAAAAAAABAAAAAAAAAAAAAAAAAAAAAQAAAAAAAAAAAAAAAAAAQAAAAAPoAAAD6AAAAAAAJGVkdHMAAAAcZWxzdAAAAAAAAAABAAAF/gAAAgAAAQAAAAAFvm1kaWEAAAAgbWRoZAAAAAAAAAAAAAAAAAAAPAAAAFwAVcQAAAAAAC1oZGxyAAAAAAAAAAB2aWRlAAAAAAAAAAAAAAAAVmlkZW9IYW5kbGVyAAAABWltaW5mAAAAFHZtaGQAAAABAAAAAAAAAAAAAAAkZGluZgAAABxkcmVmAAAAAAAAAAEAAAAMdXJsIAAAAAEAAAUpc3RibAAAAJlzdHNkAAAAAAAAAAEAAACJYXZjMQAAAAAAAAABAAAAAAAAAAAAAAAAAAAAAAPoA+gASAAAAEgAAAAAAAAAAQAAAAAAAAAAAAAAAAAAAAAAAAAAAAAAAAAAAAAAAAAAABj//wAAADNhdmNDAWQAKP/hABpnZAAorNlA/B/5ZYQAAAMABAAAAwHgPGDGWAEABmjr4ksiwAAAABhzdHRzAAAAAAAAAAEAAABcAAABAAAAABRzdHNzAAAAAAAAAAEAAAABAAACqGN0dHMAAAAAAAAAUwAAAAEAAAIAAAAAAQAABQAAAAABAAACAAAAAAEAAAAAAAAAAQAAAQAAAAABAAAFAAAAAAEAAAIAAAAAAQAAAAAAAAABAAABAAAAAAEAAAUAAAAAAQAAAgAAAAABAAAAAAAAAAEAAAEAAAAAAQAABQAAAAABAAACAAAAAAEAAAAAAAAAAQAAAQAAAAABAAAFAAAAAAEAAAIAAAAAAQAAAAAAAAABAAABAAAAAAEAAAUAAAAAAQAAAgAAAAABAAAAAAAAAAEAAAEAAAAAAQAABQAAAAABAAACAAAAAAEAAAAAAAAAAQAAAQAAAAABAAAFAAAAAAEAAAIAAAAAAQAAAAAAAAABAAABAAAAAAEAAAUAAAAAAQAAAgAAAAABAAAAAAAAAAEAAAEAAAAAAQAABQAAAAABAAACAAAAAAEAAAAAAAAAAQAAAQAAAAABAAAFAAAAAAEAAAIAAAAAAQAAAAAAAAABAAABAAAAAAEAAAUAAAAAAQAAAgAAAAABAAAAAAAAAAEAAAEAAAAAAgAAAgAAAAABAAAFAAAAAAEAAAIAAAAAAQAAAAAAAAABAAABAAAAAAYAAAIAAAAAAQAABQAAAAABAAACAAAAAAEAAAAAAAAAAQAAAQAAAAABAAAFAAAAAAEAAAIAAAAAAQAAAAAAAAABAAABAAAAAAEAAAUAAAAAAQAAAgAAAAABAAAAAAAAAAEAAAEAAAAAAQAAAgAAAAABAAAFAAAAAAEAAAIAAAAAAQAAAAAAAAABAAABAAAAAAQAAAIAAAAAAQAABQAAAAABAAACAAAAAAEAAAAAAAAAAQAAAQAAAAABAAAFAAAAAAEAAAIAAAAAAQAAAAAAAAABAAABAAAAAAEAAAMAAAAAAQAAAQAAAAAcc3RzYwAAAAAAAAABAAAAAQAAAFwAAAABAAABhHN0c3oAAAAAAAAAAAAAAFwAAAlEAAAAoQAAAFoAAAAnAAAAYAAAAO4AAAC3AAAAhQAAALQAAADOAAAAmgAAAJQAAACmAAABDgAAALoAAAC7AAAApAAAAN4AAACkAAAAvQAAAJ8AAAETAAAAzwAAANEAAAC+AAABFgAAAN8AAADYAAAA0gAAAkwAAAFYAAABUwAAAQEAAAErAAAA3gAAAO4AAAClAAABzQAAASIAAAD1AAAA8wAAAfsAAAEHAAABDAAAAP4AAAJ6AAABmgAAAX4AAAHcAAABpAAAAZMAAALSAAAB8gAAAU8AAAE7AAABnwAAAWQAAAGKAAABZAAAAXUAAAFBAAAC+AAAAbwAAAG9AAABPAAAAzcAAAIGAAABfgAAAVUAAAK+AAACJgAAAXIAAAFUAAAB9QAAAlQAAAHiAAABjgAAASUAAAFMAAABZAAAAVwAAAFkAAACMQAAAa8AAAE8AAABAgAAAakAAAFZAAABBgAAAQkAAAFbAAABAwAAABRzdGNvAAAAAAAAAAEAAAAwAAAAYnVkdGEAAABabWV0YQAAAAAAAAAhaGRscgAAAAAAAAAAbWRpcmFwcGwAAAAAAAAAAAAAAAAtaWxzdAAAACWpdG9vAAAAHWRhdGEAAAABAAAAAExhdmY1NS4xNC4xMDE=\" type=\"video/mp4\"/>\n",
       "      This browser does not support the video tag.\n",
       "      </video></td></tr></table>"
      ],
      "text/plain": [
       "<IPython.core.display.HTML object>"
      ]
     },
     "metadata": {},
     "output_type": "display_data"
    }
   ],
   "source": [
    "# Run this cell without modification\n",
    "\n",
    "# Render the learned behavior\n",
    "# NOTE: The learned agent is marked by green color.\n",
    "eval_reward, eval_info = evaluate(\n",
    "    policy=pg_trainer_wb_metadrive_easy.policy,\n",
    "    num_episodes=1,\n",
    "    env_name=pg_trainer_wb_metadrive_easy.env_name,\n",
    "    render=\"topdown\",  # Visualize the behaviors in top-down view\n",
    "    verbose=True\n",
    ")\n",
    "\n",
    "frames = [pygame.surfarray.array3d(f).swapaxes(0, 1) for f in eval_info[\"frames\"]]\n",
    "\n",
    "print(\n",
    "    \"PG agent achieves {} return and {} success rate in MetaDrive easy environment.\".format(\n",
    "        eval_reward, eval_info[\"success_rate\"]\n",
    "    )\n",
    ")\n",
    "\n",
    "animate(frames)"
   ]
  },
  {
   "cell_type": "markdown",
   "id": "264f267e",
   "metadata": {},
   "source": [
    "### Section 5.4: Run PG with baseline in MetaDrive-Hard\n",
    "\n",
    "**The minimum goal to is to achieve episodic return > 20, which costs nearly 20 iterations and ~100k steps.**\n",
    "\n",
    "## Bonus\n",
    "\n",
    "**BONUS can be earned if you can improve the training performance by adjusting hyper-parameters and optimizing code. Improvement means achieving > 0.0 success rate. However, I can't guarentee it is feasible to solve this task with PG via simplying tweaking the hyper-parameters more carefully.** Please creates a independent markdown cell to highlight your improvement."
   ]
  },
  {
   "cell_type": "code",
   "execution_count": 34,
   "id": "b737c345",
   "metadata": {},
   "outputs": [
    {
     "name": "stderr",
     "output_type": "stream",
     "text": [
      "[INFO] Iter 0, Step 4004, episodic return is 11.52. {'iteration': 0.0, 'performance': 13.5313, 'ep_len': 1001.0, 'ep_ret': 13.5313, 'episode_len': 4004.0, 'success_rate': 0.0, 'mean_baseline': 0.0, 'policy_loss': -0.0022, 'mean_log_prob': -3.2164, 'mean_advantage': -0.0, 'baseline_loss': 1.0008, 'total_episodes': 4.0, 'total_timesteps': 4004.0}\n",
      "[INFO] Iter 5, Step 25972, episodic return is 16.52. {'iteration': 5.0, 'performance': 17.8149, 'ep_len': 1001.0, 'ep_ret': 17.8149, 'episode_len': 4004.0, 'success_rate': 0.0, 'mean_baseline': 0.0, 'policy_loss': -0.0062, 'mean_log_prob': -3.1825, 'mean_advantage': -0.0, 'baseline_loss': 1.0026, 'total_episodes': 30.0, 'total_timesteps': 25972.0}\n",
      "[INFO] Iter 10, Step 48585, episodic return is 18.61. {'iteration': 10.0, 'performance': 23.177, 'ep_len': 878.0, 'ep_ret': 23.177, 'episode_len': 4390.0, 'success_rate': 0.0, 'mean_baseline': -0.0, 'policy_loss': -0.0266, 'mean_log_prob': -3.0756, 'mean_advantage': 0.0, 'baseline_loss': 1.0008, 'total_episodes': 56.0, 'total_timesteps': 48585.0}\n",
      "[INFO] Iter 15, Step 69105, episodic return is 19.39. {'iteration': 15.0, 'performance': 19.8439, 'ep_len': 504.375, 'ep_ret': 19.8439, 'episode_len': 4035.0, 'success_rate': 0.0, 'mean_baseline': -0.0, 'policy_loss': -0.0475, 'mean_log_prob': -2.8909, 'mean_advantage': -0.0, 'baseline_loss': 0.9999, 'total_episodes': 86.0, 'total_timesteps': 69105.0}\n",
      "[INFO] Iter 20, Step 90990, episodic return is 15.55. {'iteration': 20.0, 'performance': 20.2724, 'ep_len': 231.4, 'ep_ret': 20.2724, 'episode_len': 4628.0, 'success_rate': 0.0, 'mean_baseline': -0.0, 'policy_loss': 0.0151, 'mean_log_prob': -2.5287, 'mean_advantage': 0.0, 'baseline_loss': 1.0041, 'total_episodes': 162.0, 'total_timesteps': 90990.0}\n",
      "[INFO] Iter 25, Step 111350, episodic return is 8.10. {'iteration': 25.0, 'performance': 12.2075, 'ep_len': 82.8776, 'ep_ret': 12.2075, 'episode_len': 4061.0, 'success_rate': 0.0, 'mean_baseline': -0.0, 'policy_loss': -0.0167, 'mean_log_prob': -2.1504, 'mean_advantage': 0.0, 'baseline_loss': 0.9998, 'total_episodes': 343.0, 'total_timesteps': 111350.0}\n",
      "[INFO] Iter 30, Step 131525, episodic return is 24.98. {'iteration': 30.0, 'performance': 14.1256, 'ep_len': 69.0862, 'ep_ret': 14.1256, 'episode_len': 4007.0, 'success_rate': 0.0, 'mean_baseline': -0.0, 'policy_loss': 0.0051, 'mean_log_prob': -1.8026, 'mean_advantage': 0.0, 'baseline_loss': 0.9965, 'total_episodes': 611.0, 'total_timesteps': 131525.0}\n",
      "[INFO] Iter 30, episodic return 24.983 is greater than reward threshold 20. Congratulation! Now we exit the training process.\n"
     ]
    },
    {
     "name": "stdout",
     "output_type": "stream",
     "text": [
      "Environment is closed.\n"
     ]
    }
   ],
   "source": [
    "# Run this cell without modification\n",
    "\n",
    "env_name = \"MetaDrive-Tut-Hard-v0\"\n",
    "\n",
    "pg_trainer_wb_metadrive_hard, pg_trainer_wb_metadrive_hard_result = run(\n",
    "    PolicyGradientWithBaselineTrainer,\n",
    "    dict(\n",
    "        train_batch_size=4000,\n",
    "        normalize_advantage=True,\n",
    "        max_episode_length=1000,\n",
    "        max_iteration=5000,\n",
    "        evaluate_interval=5,\n",
    "        evaluate_num_episodes=10,\n",
    "        learning_rate=0.001,\n",
    "        clip_norm=10.0,\n",
    "        env_name=env_name\n",
    "    ),\n",
    "    reward_threshold=20  # We just set the reward threshold to 20. Feel free to adjust it.\n",
    ")\n",
    "\n",
    "pg_trainer_wb_metadrive_hard.save(\"pg_trainer_wb_metadrive_hard.pt\")"
   ]
  },
  {
   "cell_type": "code",
   "execution_count": 35,
   "id": "2e015832",
   "metadata": {},
   "outputs": [
    {
     "name": "stdout",
     "output_type": "stream",
     "text": [
      "Evaluating 1/1 episodes. We are in 1/1000 steps. Current episode reward: 0.000\n",
      "PG agent achieves 15.222145738304516 return and 0.0 success rate in MetaDrive easy environment.\n"
     ]
    },
    {
     "data": {
      "text/html": [
       "<table class=\"show_videos\" style=\"border-spacing:0px;\"><tr><td style=\"padding:1px;\"><video controls width=\"1000\" height=\"1000\" style=\"object-fit:cover;\" loop autoplay muted>\n",
       "      <source src=\"data:video/mp4;base64,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\" type=\"video/mp4\"/>\n",
       "      This browser does not support the video tag.\n",
       "      </video></td></tr></table>"
      ],
      "text/plain": [
       "<IPython.core.display.HTML object>"
      ]
     },
     "metadata": {},
     "output_type": "display_data"
    }
   ],
   "source": [
    "# Run this cell without modification\n",
    "\n",
    "# Render the learned behavior\n",
    "# NOTE: The learned agent is marked by green color.\n",
    "eval_reward, eval_info = evaluate(\n",
    "    policy=pg_trainer_wb_metadrive_hard.policy,\n",
    "    num_episodes=10,\n",
    "    env_name=pg_trainer_wb_metadrive_hard.env_name,\n",
    "    render=None,\n",
    "    verbose=False\n",
    ")\n",
    "\n",
    "_, eval_info_render = evaluate(\n",
    "    policy=pg_trainer_wb_metadrive_hard.policy,\n",
    "    num_episodes=1,\n",
    "    env_name=pg_trainer_wb_metadrive_hard.env_name,\n",
    "    render=\"topdown\",  # Visualize the behaviors in top-down view\n",
    "    verbose=True\n",
    ")\n",
    "\n",
    "frames = [pygame.surfarray.array3d(f).swapaxes(0, 1) for f in eval_info_render[\"frames\"]]\n",
    "\n",
    "print(\n",
    "    \"PG agent achieves {} return and {} success rate in MetaDrive easy environment.\".format(\n",
    "        eval_reward, eval_info[\"success_rate\"]\n",
    "    )\n",
    ")\n",
    "\n",
    "animate(frames)"
   ]
  },
  {
   "cell_type": "code",
   "execution_count": 36,
   "id": "d40e97a6",
   "metadata": {},
   "outputs": [],
   "source": [
    "# Modify the config parameters, and update_network function\n",
    "\n",
    "from scipy.special import lambertw\n",
    "\n",
    "class PolicyGradientWithBaselineTrainer(PGTrainer):\n",
    "    def initialize_parameters(self):\n",
    "        # Build the actor in name of self.policy\n",
    "        super().initialize_parameters()\n",
    "\n",
    "        self.config[\"hidden_units\"] = 512           # <=== Modify the number of hidden_units in nn\n",
    "        self.config[\"gamma\"] = 0.9                  # <=== Modify gamma\n",
    "        self.config[\"clip_norm\"] = 5.0              # <=== Modify the clip_norm\n",
    "        self.config[\"learning_rate\"] = 5e-3         # <=== Modify the lr\n",
    "        \n",
    "        # TODO: Build the baseline network using PytorchModel class.\n",
    "        self.baseline = PytorchModel(self.obs_dim, 1, hidden_units=self.config[\"hidden_units\"])\n",
    "        self.baseline.to(self.device)\n",
    "\n",
    "        self.baseline_loss = nn.MSELoss()\n",
    "\n",
    "        self.baseline_optimizer = torch.optim.Adam(\n",
    "            self.baseline.parameters(),\n",
    "            lr=self.config[\"learning_rate\"]\n",
    "        )\n",
    "\n",
    "    def process_samples(self, samples):\n",
    "        # Call the original process_samples function to get advantages\n",
    "        tmp_samples, _ = super().process_samples(samples)\n",
    "        values = tmp_samples[\"advantages\"]\n",
    "        samples[\"values\"] = values  # We add q_values into samples\n",
    "\n",
    "        # Flatten the observations in all trajectories (still a numpy array)\n",
    "        obs = np.concatenate(samples[\"obs\"])\n",
    "\n",
    "        assert obs.ndim == 2\n",
    "        assert obs.shape[1] == self.obs_dim\n",
    "\n",
    "        obs = self.to_tensor(obs)\n",
    "        samples[\"flat_obs\"] = obs\n",
    "\n",
    "        # TODO: Compute the baseline by feeding observation to baseline network\n",
    "        # Hint: baselines turns out to be a numpy array with the same shape of `values`,\n",
    "        #  that is: (batch size, )\n",
    "        baselines = self.to_array(self.baseline(samples[\"flat_obs\"]).squeeze())\n",
    "\n",
    "        assert baselines.shape == values.shape\n",
    "\n",
    "        # TODO: Match the distribution of baselines to the values.\n",
    "        # Hint: We expect to see baselines.std almost equals to values.std, \n",
    "        #  and baselines.mean almost equals to values.mean.\n",
    "        baselines = (baselines - baselines.mean()) / baselines.std()\n",
    "        baselines = baselines * values.std() + values.mean()\n",
    "    \n",
    "        # Compute the advantage\n",
    "        advantages = values - baselines\n",
    "        samples[\"advantages\"] = advantages\n",
    "        process_info = {\"mean_baseline\": float(np.mean(baselines))}\n",
    "        return samples, process_info\n",
    "    \n",
    "    # ========== Modify update_network ==============\n",
    "    # include calculation of entrophy and increase the weight of entrophy when calculateing loss\n",
    "    def update_network(self, processed_samples):\n",
    "        \"\"\"Update the policy network\"\"\"\n",
    "        advantages = self.to_tensor(processed_samples[\"advantages\"])\n",
    "        flat_obs = np.concatenate(processed_samples[\"obs\"])\n",
    "        flat_act = np.concatenate(processed_samples[\"act\"])\n",
    "\n",
    "        self.network.train()\n",
    "        self.optimizer.zero_grad()\n",
    "\n",
    "        log_probs = self.compute_log_probs(flat_obs, flat_act)\n",
    "\n",
    "        assert log_probs.shape == advantages.shape, \"log_probs shape {} is not \" \\\n",
    "                                                    \"compatible with advantages {}\".format(log_probs.shape,\n",
    "                                                                                           advantages.shape)\n",
    "\n",
    "        # TODO: Compute the policy gradient loss.\n",
    "        loss = -torch.mean(log_probs * advantages)\n",
    "        \n",
    "        # ========= Entrophy regularization ==========\n",
    "        log_probs_np = log_probs.detach().cpu().numpy()\n",
    "        entrophy = lambertw(log_probs_np - 1e-8) * log_probs_np\n",
    "        entrophy = -np.mean(np.abs(entrophy))\n",
    "        loss -= entrophy * 5\n",
    "        \n",
    "        loss.backward()\n",
    "\n",
    "        # Clip the gradient\n",
    "        torch.nn.utils.clip_grad_norm_(\n",
    "            self.network.parameters(), self.config[\"clip_gradient\"]\n",
    "        )\n",
    "\n",
    "        self.optimizer.step()\n",
    "        self.network.eval()\n",
    "\n",
    "        update_info = {\n",
    "            \"policy_loss\": loss.item(),\n",
    "            \"mean_log_prob\": torch.mean(log_probs).item(),\n",
    "            \"mean_advantage\": torch.mean(advantages).item()\n",
    "        }\n",
    "        update_info.update(self.update_baseline(processed_samples))\n",
    "        return update_info\n",
    "    \n",
    "\n",
    "    def update_baseline(self, processed_samples):\n",
    "        self.baseline.train()\n",
    "        obs = processed_samples[\"flat_obs\"]\n",
    "\n",
    "        # TODO: Normalize `values` to have mean=0, std=1.\n",
    "        values = processed_samples[\"values\"]\n",
    "        values = (values - values.mean()) / values.std()\n",
    "\n",
    "        values = self.to_tensor(values[:, np.newaxis])\n",
    "\n",
    "        baselines = self.baseline(obs)\n",
    "\n",
    "        self.baseline_optimizer.zero_grad()\n",
    "        loss = self.baseline_loss(input=baselines, target=values)\n",
    "        loss.backward()\n",
    "\n",
    "        # Clip the gradient\n",
    "        torch.nn.utils.clip_grad_norm_(\n",
    "            self.baseline.parameters(), self.config[\"clip_gradient\"]\n",
    "        )\n",
    "\n",
    "        self.baseline_optimizer.step()\n",
    "        self.baseline.eval()\n",
    "        return dict(baseline_loss=loss.item())\n",
    "    \n",
    "    \n"
   ]
  },
  {
   "cell_type": "code",
   "execution_count": 45,
   "id": "3e047021",
   "metadata": {},
   "outputs": [
    {
     "name": "stderr",
     "output_type": "stream",
     "text": [
      "[INFO] Iter 0, Step 4469, episodic return is 11.51. {'iteration': 0.0, 'performance': 10.3132, 'ep_len': 893.8, 'ep_ret': 10.3132, 'episode_len': 4469.0, 'success_rate': 0.0, 'mean_baseline': 0.0, 'policy_loss': 30.8091, 'mean_log_prob': -3.2158, 'mean_advantage': -0.0, 'baseline_loss': 1.0, 'total_episodes': 5.0, 'total_timesteps': 4469.0}\n",
      "[INFO] Iter 5, Step 25577, episodic return is 40.53. {'iteration': 5.0, 'performance': 37.6982, 'ep_len': 61.7231, 'ep_ret': 37.6982, 'episode_len': 4012.0, 'success_rate': 0.0462, 'mean_baseline': -0.0, 'policy_loss': 10.1644, 'mean_log_prob': -1.2408, 'mean_advantage': 0.0, 'baseline_loss': 1.1364, 'total_episodes': 169.0, 'total_timesteps': 25577.0}\n",
      "[INFO] Iter 10, Step 45712, episodic return is 56.82. {'iteration': 10.0, 'performance': 55.9615, 'ep_len': 64.9355, 'ep_ret': 55.9615, 'episode_len': 4026.0, 'success_rate': 0.0968, 'mean_baseline': 0.0, 'policy_loss': 0.1328, 'mean_log_prob': -0.0131, 'mean_advantage': -0.0, 'baseline_loss': 0.9928, 'total_episodes': 482.0, 'total_timesteps': 45712.0}\n",
      "[INFO] Iter 10, episodic return 56.815 is greater than reward threshold 50. Congratulation! Now we exit the training process.\n"
     ]
    },
    {
     "name": "stdout",
     "output_type": "stream",
     "text": [
      "Environment is closed.\n"
     ]
    }
   ],
   "source": [
    "# Run this cell without modification\n",
    "\n",
    "env_name = \"MetaDrive-Tut-Hard-v0\"\n",
    "\n",
    "pg_trainer_wb_metadrive_hard, pg_trainer_wb_metadrive_hard_result = run(\n",
    "    PolicyGradientWithBaselineTrainer,\n",
    "    dict(\n",
    "        train_batch_size=4000,\n",
    "        normalize_advantage=True,\n",
    "        max_episode_length=1000,\n",
    "        max_iteration=5000,         \n",
    "        evaluate_interval=5,       \n",
    "        evaluate_num_episodes=10, \n",
    "        learning_rate=5e-3,      # <=== Modify the lr\n",
    "        clip_norm=5.0,           # <=== Modify the clip_norm\n",
    "        env_name=env_name\n",
    "    ),\n",
    "    reward_threshold=50  # <=== Modify the reward threshold to 50\n",
    ")\n",
    "\n",
    "pg_trainer_wb_metadrive_hard.save(\"pg_trainer_wb_metadrive_hard.pt\")"
   ]
  },
  {
   "cell_type": "code",
   "execution_count": 49,
   "id": "ca912253",
   "metadata": {},
   "outputs": [
    {
     "name": "stdout",
     "output_type": "stream",
     "text": [
      "Evaluating 1/1 episodes. We are in 1/1000 steps. Current episode reward: 0.000\n",
      "Evaluating 1/1 episodes. We are in 51/1000 steps. Current episode reward: 36.182\n",
      "PG agent achieves 55.45111762957099 return and 0.3 success rate in MetaDrive easy environment.\n"
     ]
    },
    {
     "data": {
      "text/html": [
       "<table class=\"show_videos\" style=\"border-spacing:0px;\"><tr><td style=\"padding:1px;\"><video controls width=\"1000\" height=\"1000\" style=\"object-fit:cover;\" loop autoplay muted>\n",
       "      <source src=\"data:video/mp4;base64,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\" type=\"video/mp4\"/>\n",
       "      This browser does not support the video tag.\n",
       "      </video></td></tr></table>"
      ],
      "text/plain": [
       "<IPython.core.display.HTML object>"
      ]
     },
     "metadata": {},
     "output_type": "display_data"
    }
   ],
   "source": [
    "# Run this cell without modification\n",
    "\n",
    "# Render the learned behavior\n",
    "# NOTE: The learned agent is marked by green color.\n",
    "eval_reward, eval_info = evaluate(\n",
    "    policy=pg_trainer_wb_metadrive_hard.policy,\n",
    "    num_episodes=10,\n",
    "    env_name=pg_trainer_wb_metadrive_hard.env_name,\n",
    "    render=None,\n",
    "    verbose=False\n",
    ")\n",
    "\n",
    "_, eval_info_render = evaluate(\n",
    "    policy=pg_trainer_wb_metadrive_hard.policy,\n",
    "    num_episodes=1,\n",
    "    env_name=pg_trainer_wb_metadrive_hard.env_name,\n",
    "    render=\"topdown\",  # Visualize the behaviors in top-down view\n",
    "    verbose=True\n",
    ")\n",
    "\n",
    "frames = [pygame.surfarray.array3d(f).swapaxes(0, 1) for f in eval_info_render[\"frames\"]]\n",
    "\n",
    "print(\n",
    "    \"PG agent achieves {} return and {} success rate in MetaDrive easy environment.\".format(\n",
    "        eval_reward, eval_info[\"success_rate\"]\n",
    "    )\n",
    ")\n",
    "\n",
    "animate(frames)"
   ]
  },
  {
   "cell_type": "markdown",
   "id": "705f0d58",
   "metadata": {},
   "source": [
    "### Now the success rate is bigger than 0"
   ]
  },
  {
   "cell_type": "markdown",
   "id": "bff92fb1",
   "metadata": {
    "id": "bff92fb1"
   },
   "source": [
    "------\n",
    "\n",
    "## Conclusion\n",
    "\n",
    "In this assignment, we learn how to build naive Q learning, Deep Q Network and Policy Gradient methods.\n",
    "\n",
    "Following the submission instruction in the assignment to submit your assignment. Thank you!\n",
    "\n",
    "------"
   ]
  },
  {
   "cell_type": "code",
   "execution_count": null,
   "id": "031a953c",
   "metadata": {},
   "outputs": [],
   "source": []
  }
 ],
 "metadata": {
  "colab": {
   "collapsed_sections": [],
   "provenance": []
  },
  "kernelspec": {
   "display_name": "Python 3 (ipykernel)",
   "language": "python",
   "name": "python3"
  },
  "language_info": {
   "codemirror_mode": {
    "name": "ipython",
    "version": 3
   },
   "file_extension": ".py",
   "mimetype": "text/x-python",
   "name": "python",
   "nbconvert_exporter": "python",
   "pygments_lexer": "ipython3",
   "version": "3.11.5"
  }
 },
 "nbformat": 4,
 "nbformat_minor": 5
}